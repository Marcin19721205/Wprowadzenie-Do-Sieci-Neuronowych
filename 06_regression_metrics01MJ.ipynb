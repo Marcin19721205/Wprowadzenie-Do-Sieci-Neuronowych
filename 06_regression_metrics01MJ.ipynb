{
  "nbformat": 4,
  "nbformat_minor": 0,
  "metadata": {
    "colab": {
      "provenance": [],
      "include_colab_link": true
    },
    "kernelspec": {
      "name": "python3",
      "display_name": "Python 3"
    }
  },
  "cells": [
    {
      "cell_type": "markdown",
      "metadata": {
        "id": "view-in-github",
        "colab_type": "text"
      },
      "source": [
        "<a href=\"https://colab.research.google.com/github/Marcin19721205/Wprowadzenie-Do-Sieci-Neuronowych/blob/main/06_regression_metrics01MJ.ipynb\" target=\"_parent\"><img src=\"https://colab.research.google.com/assets/colab-badge.svg\" alt=\"Open In Colab\"/></a>"
      ]
    },
    {
      "cell_type": "markdown",
      "metadata": {
        "id": "5gjFu2l9IMsj"
      },
      "source": [
        "### Metryki - Problem regresji:\n",
        "1. [Import bibliotek](#a0)\n",
        "2. [Metryki](#a1)\n",
        "    1. [Interpretacja graficzna](#a2)\n",
        "    2. [Mean Absolute Error - MAE](#a3)\n",
        "    3. [Mean Squared Error - MSE](#a4)\n",
        "    4. [Root Mean Squared Error - RMSE](#a5)\n",
        "    5. [Max Error](#a6)\n",
        "    6. [R2 score - współczynnik determinacji](#a7)\n",
        "\n",
        "    "
      ]
    },
    {
      "cell_type": "markdown",
      "metadata": {
        "id": "1Dc4DhtS7LTD"
      },
      "source": [
        "### <a name='a0'></a> 1. Import bibliotek"
      ]
    },
    {
      "cell_type": "code",
      "metadata": {
        "id": "9ZXdTGvi2zSS",
        "outputId": "6df072d1-81df-4852-b33d-dfe56df8ff0d",
        "colab": {
          "base_uri": "https://localhost:8080/"
        }
      },
      "source": [
        "%tensorflow_version 2.x"
      ],
      "execution_count": 1,
      "outputs": [
        {
          "output_type": "stream",
          "name": "stdout",
          "text": [
            "Colab only includes TensorFlow 2.x; %tensorflow_version has no effect.\n"
          ]
        }
      ]
    },
    {
      "cell_type": "code",
      "metadata": {
        "id": "qQZ7LNIt7KAY"
      },
      "source": [
        "import numpy as np\n",
        "import pandas as pd\n",
        "import plotly.express as px\n",
        "import plotly.graph_objects as go"
      ],
      "execution_count": 2,
      "outputs": []
    },
    {
      "cell_type": "markdown",
      "source": [
        "Tablica z wartościami prawdziwymi"
      ],
      "metadata": {
        "id": "HLHHV_tnm82p"
      }
    },
    {
      "cell_type": "code",
      "metadata": {
        "id": "GhNVhidb7SG7",
        "outputId": "6925d973-446f-4cda-d2c6-d28d11214c84",
        "colab": {
          "base_uri": "https://localhost:8080/"
        }
      },
      "source": [
        "y_true = 100 + 20 * np.random.randn(50)\n",
        "y_true"
      ],
      "execution_count": 8,
      "outputs": [
        {
          "output_type": "execute_result",
          "data": {
            "text/plain": [
              "array([102.8193972 ,  90.91548297, 108.91769027,  82.00389323,\n",
              "        63.59941729, 102.90107969, 121.22247283,  85.14313765,\n",
              "        71.36836444,  84.49654462, 104.11094809,  74.12500225,\n",
              "        77.25913521,  85.20347732,  85.25351953,  99.54078855,\n",
              "       111.21120104,  88.13978039,  84.69258373, 107.61168996,\n",
              "        88.37984403, 113.80375819,  79.13205154, 100.28422927,\n",
              "        78.72307907, 133.42934162,  78.93167288, 138.72614535,\n",
              "        80.29423587,  77.85728503, 113.67660273, 126.38599679,\n",
              "        87.67202726, 124.43515243, 118.08587367,  70.19710072,\n",
              "       141.74584142,  59.02176138, 110.92331176, 119.00751328,\n",
              "       115.58663625,  92.5094941 ,  75.63100931, 129.7743318 ,\n",
              "        87.73597407,  62.32802262,  85.4906375 , 125.28549479,\n",
              "        98.80393676, 132.70864281])"
            ]
          },
          "metadata": {},
          "execution_count": 8
        }
      ]
    },
    {
      "cell_type": "markdown",
      "source": [
        "Tablica estymowanych"
      ],
      "metadata": {
        "id": "lNRFa5aSnBNp"
      }
    },
    {
      "cell_type": "code",
      "metadata": {
        "id": "HuAJr61k7cJV",
        "outputId": "863dadf3-c745-4a58-f386-319be6a404e4",
        "colab": {
          "base_uri": "https://localhost:8080/"
        }
      },
      "source": [
        "y_pred = y_true + 10 * np.random.randn(50)\n",
        "y_pred"
      ],
      "execution_count": 9,
      "outputs": [
        {
          "output_type": "execute_result",
          "data": {
            "text/plain": [
              "array([115.2985187 , 108.9899999 , 107.17693775,  74.70950042,\n",
              "        61.35136428,  92.82739492, 111.45060088, 104.90046022,\n",
              "        75.27788925,  85.1835443 , 103.37368538,  63.60225549,\n",
              "        83.6464566 ,  73.47805612,  85.93811966, 122.47332912,\n",
              "       120.09405393,  95.58896371,  73.56832952, 113.96318619,\n",
              "        96.13115904, 108.99877735,  76.20105482,  97.93620173,\n",
              "        74.29880926, 137.99113658,  76.15180781, 146.33861234,\n",
              "        71.2840947 ,  66.88958983, 132.77932043, 120.68099582,\n",
              "        74.88012033, 116.85207927, 101.28191384,  67.24225284,\n",
              "       136.77884735,  69.50949626,  80.97527971, 113.39424911,\n",
              "       111.0722654 ,  99.68211431,  80.04239085, 126.04662854,\n",
              "        74.3993304 ,  53.90086399,  94.45086533, 115.42754912,\n",
              "        92.41495493, 144.65539074])"
            ]
          },
          "metadata": {},
          "execution_count": 9
        }
      ]
    },
    {
      "cell_type": "code",
      "metadata": {
        "id": "8V3ah8zL7n2P",
        "outputId": "d7d9a613-5138-4fc1-a15a-40a27da7d742",
        "colab": {
          "base_uri": "https://localhost:8080/",
          "height": 206
        }
      },
      "source": [
        "results = pd.DataFrame({'y_true': y_true, 'y_pred': y_pred}) #tworze DataFrame\n",
        "results.head()"
      ],
      "execution_count": 12,
      "outputs": [
        {
          "output_type": "execute_result",
          "data": {
            "text/plain": [
              "       y_true      y_pred\n",
              "0  102.819397  115.298519\n",
              "1   90.915483  108.990000\n",
              "2  108.917690  107.176938\n",
              "3   82.003893   74.709500\n",
              "4   63.599417   61.351364"
            ],
            "text/html": [
              "\n",
              "  <div id=\"df-91ee7695-0096-4e93-b52b-2d0d2a44d3a1\" class=\"colab-df-container\">\n",
              "    <div>\n",
              "<style scoped>\n",
              "    .dataframe tbody tr th:only-of-type {\n",
              "        vertical-align: middle;\n",
              "    }\n",
              "\n",
              "    .dataframe tbody tr th {\n",
              "        vertical-align: top;\n",
              "    }\n",
              "\n",
              "    .dataframe thead th {\n",
              "        text-align: right;\n",
              "    }\n",
              "</style>\n",
              "<table border=\"1\" class=\"dataframe\">\n",
              "  <thead>\n",
              "    <tr style=\"text-align: right;\">\n",
              "      <th></th>\n",
              "      <th>y_true</th>\n",
              "      <th>y_pred</th>\n",
              "    </tr>\n",
              "  </thead>\n",
              "  <tbody>\n",
              "    <tr>\n",
              "      <th>0</th>\n",
              "      <td>102.819397</td>\n",
              "      <td>115.298519</td>\n",
              "    </tr>\n",
              "    <tr>\n",
              "      <th>1</th>\n",
              "      <td>90.915483</td>\n",
              "      <td>108.990000</td>\n",
              "    </tr>\n",
              "    <tr>\n",
              "      <th>2</th>\n",
              "      <td>108.917690</td>\n",
              "      <td>107.176938</td>\n",
              "    </tr>\n",
              "    <tr>\n",
              "      <th>3</th>\n",
              "      <td>82.003893</td>\n",
              "      <td>74.709500</td>\n",
              "    </tr>\n",
              "    <tr>\n",
              "      <th>4</th>\n",
              "      <td>63.599417</td>\n",
              "      <td>61.351364</td>\n",
              "    </tr>\n",
              "  </tbody>\n",
              "</table>\n",
              "</div>\n",
              "    <div class=\"colab-df-buttons\">\n",
              "\n",
              "  <div class=\"colab-df-container\">\n",
              "    <button class=\"colab-df-convert\" onclick=\"convertToInteractive('df-91ee7695-0096-4e93-b52b-2d0d2a44d3a1')\"\n",
              "            title=\"Convert this dataframe to an interactive table.\"\n",
              "            style=\"display:none;\">\n",
              "\n",
              "  <svg xmlns=\"http://www.w3.org/2000/svg\" height=\"24px\" viewBox=\"0 -960 960 960\">\n",
              "    <path d=\"M120-120v-720h720v720H120Zm60-500h600v-160H180v160Zm220 220h160v-160H400v160Zm0 220h160v-160H400v160ZM180-400h160v-160H180v160Zm440 0h160v-160H620v160ZM180-180h160v-160H180v160Zm440 0h160v-160H620v160Z\"/>\n",
              "  </svg>\n",
              "    </button>\n",
              "\n",
              "  <style>\n",
              "    .colab-df-container {\n",
              "      display:flex;\n",
              "      gap: 12px;\n",
              "    }\n",
              "\n",
              "    .colab-df-convert {\n",
              "      background-color: #E8F0FE;\n",
              "      border: none;\n",
              "      border-radius: 50%;\n",
              "      cursor: pointer;\n",
              "      display: none;\n",
              "      fill: #1967D2;\n",
              "      height: 32px;\n",
              "      padding: 0 0 0 0;\n",
              "      width: 32px;\n",
              "    }\n",
              "\n",
              "    .colab-df-convert:hover {\n",
              "      background-color: #E2EBFA;\n",
              "      box-shadow: 0px 1px 2px rgba(60, 64, 67, 0.3), 0px 1px 3px 1px rgba(60, 64, 67, 0.15);\n",
              "      fill: #174EA6;\n",
              "    }\n",
              "\n",
              "    .colab-df-buttons div {\n",
              "      margin-bottom: 4px;\n",
              "    }\n",
              "\n",
              "    [theme=dark] .colab-df-convert {\n",
              "      background-color: #3B4455;\n",
              "      fill: #D2E3FC;\n",
              "    }\n",
              "\n",
              "    [theme=dark] .colab-df-convert:hover {\n",
              "      background-color: #434B5C;\n",
              "      box-shadow: 0px 1px 3px 1px rgba(0, 0, 0, 0.15);\n",
              "      filter: drop-shadow(0px 1px 2px rgba(0, 0, 0, 0.3));\n",
              "      fill: #FFFFFF;\n",
              "    }\n",
              "  </style>\n",
              "\n",
              "    <script>\n",
              "      const buttonEl =\n",
              "        document.querySelector('#df-91ee7695-0096-4e93-b52b-2d0d2a44d3a1 button.colab-df-convert');\n",
              "      buttonEl.style.display =\n",
              "        google.colab.kernel.accessAllowed ? 'block' : 'none';\n",
              "\n",
              "      async function convertToInteractive(key) {\n",
              "        const element = document.querySelector('#df-91ee7695-0096-4e93-b52b-2d0d2a44d3a1');\n",
              "        const dataTable =\n",
              "          await google.colab.kernel.invokeFunction('convertToInteractive',\n",
              "                                                    [key], {});\n",
              "        if (!dataTable) return;\n",
              "\n",
              "        const docLinkHtml = 'Like what you see? Visit the ' +\n",
              "          '<a target=\"_blank\" href=https://colab.research.google.com/notebooks/data_table.ipynb>data table notebook</a>'\n",
              "          + ' to learn more about interactive tables.';\n",
              "        element.innerHTML = '';\n",
              "        dataTable['output_type'] = 'display_data';\n",
              "        await google.colab.output.renderOutput(dataTable, element);\n",
              "        const docLink = document.createElement('div');\n",
              "        docLink.innerHTML = docLinkHtml;\n",
              "        element.appendChild(docLink);\n",
              "      }\n",
              "    </script>\n",
              "  </div>\n",
              "\n",
              "\n",
              "    <div id=\"df-b7b5d852-1dcf-43d4-9fc6-70ec066bd971\">\n",
              "      <button class=\"colab-df-quickchart\" onclick=\"quickchart('df-b7b5d852-1dcf-43d4-9fc6-70ec066bd971')\"\n",
              "                title=\"Suggest charts\"\n",
              "                style=\"display:none;\">\n",
              "\n",
              "<svg xmlns=\"http://www.w3.org/2000/svg\" height=\"24px\"viewBox=\"0 0 24 24\"\n",
              "     width=\"24px\">\n",
              "    <g>\n",
              "        <path d=\"M19 3H5c-1.1 0-2 .9-2 2v14c0 1.1.9 2 2 2h14c1.1 0 2-.9 2-2V5c0-1.1-.9-2-2-2zM9 17H7v-7h2v7zm4 0h-2V7h2v10zm4 0h-2v-4h2v4z\"/>\n",
              "    </g>\n",
              "</svg>\n",
              "      </button>\n",
              "\n",
              "<style>\n",
              "  .colab-df-quickchart {\n",
              "      --bg-color: #E8F0FE;\n",
              "      --fill-color: #1967D2;\n",
              "      --hover-bg-color: #E2EBFA;\n",
              "      --hover-fill-color: #174EA6;\n",
              "      --disabled-fill-color: #AAA;\n",
              "      --disabled-bg-color: #DDD;\n",
              "  }\n",
              "\n",
              "  [theme=dark] .colab-df-quickchart {\n",
              "      --bg-color: #3B4455;\n",
              "      --fill-color: #D2E3FC;\n",
              "      --hover-bg-color: #434B5C;\n",
              "      --hover-fill-color: #FFFFFF;\n",
              "      --disabled-bg-color: #3B4455;\n",
              "      --disabled-fill-color: #666;\n",
              "  }\n",
              "\n",
              "  .colab-df-quickchart {\n",
              "    background-color: var(--bg-color);\n",
              "    border: none;\n",
              "    border-radius: 50%;\n",
              "    cursor: pointer;\n",
              "    display: none;\n",
              "    fill: var(--fill-color);\n",
              "    height: 32px;\n",
              "    padding: 0;\n",
              "    width: 32px;\n",
              "  }\n",
              "\n",
              "  .colab-df-quickchart:hover {\n",
              "    background-color: var(--hover-bg-color);\n",
              "    box-shadow: 0 1px 2px rgba(60, 64, 67, 0.3), 0 1px 3px 1px rgba(60, 64, 67, 0.15);\n",
              "    fill: var(--button-hover-fill-color);\n",
              "  }\n",
              "\n",
              "  .colab-df-quickchart-complete:disabled,\n",
              "  .colab-df-quickchart-complete:disabled:hover {\n",
              "    background-color: var(--disabled-bg-color);\n",
              "    fill: var(--disabled-fill-color);\n",
              "    box-shadow: none;\n",
              "  }\n",
              "\n",
              "  .colab-df-spinner {\n",
              "    border: 2px solid var(--fill-color);\n",
              "    border-color: transparent;\n",
              "    border-bottom-color: var(--fill-color);\n",
              "    animation:\n",
              "      spin 1s steps(1) infinite;\n",
              "  }\n",
              "\n",
              "  @keyframes spin {\n",
              "    0% {\n",
              "      border-color: transparent;\n",
              "      border-bottom-color: var(--fill-color);\n",
              "      border-left-color: var(--fill-color);\n",
              "    }\n",
              "    20% {\n",
              "      border-color: transparent;\n",
              "      border-left-color: var(--fill-color);\n",
              "      border-top-color: var(--fill-color);\n",
              "    }\n",
              "    30% {\n",
              "      border-color: transparent;\n",
              "      border-left-color: var(--fill-color);\n",
              "      border-top-color: var(--fill-color);\n",
              "      border-right-color: var(--fill-color);\n",
              "    }\n",
              "    40% {\n",
              "      border-color: transparent;\n",
              "      border-right-color: var(--fill-color);\n",
              "      border-top-color: var(--fill-color);\n",
              "    }\n",
              "    60% {\n",
              "      border-color: transparent;\n",
              "      border-right-color: var(--fill-color);\n",
              "    }\n",
              "    80% {\n",
              "      border-color: transparent;\n",
              "      border-right-color: var(--fill-color);\n",
              "      border-bottom-color: var(--fill-color);\n",
              "    }\n",
              "    90% {\n",
              "      border-color: transparent;\n",
              "      border-bottom-color: var(--fill-color);\n",
              "    }\n",
              "  }\n",
              "</style>\n",
              "\n",
              "      <script>\n",
              "        async function quickchart(key) {\n",
              "          const quickchartButtonEl =\n",
              "            document.querySelector('#' + key + ' button');\n",
              "          quickchartButtonEl.disabled = true;  // To prevent multiple clicks.\n",
              "          quickchartButtonEl.classList.add('colab-df-spinner');\n",
              "          try {\n",
              "            const charts = await google.colab.kernel.invokeFunction(\n",
              "                'suggestCharts', [key], {});\n",
              "          } catch (error) {\n",
              "            console.error('Error during call to suggestCharts:', error);\n",
              "          }\n",
              "          quickchartButtonEl.classList.remove('colab-df-spinner');\n",
              "          quickchartButtonEl.classList.add('colab-df-quickchart-complete');\n",
              "        }\n",
              "        (() => {\n",
              "          let quickchartButtonEl =\n",
              "            document.querySelector('#df-b7b5d852-1dcf-43d4-9fc6-70ec066bd971 button');\n",
              "          quickchartButtonEl.style.display =\n",
              "            google.colab.kernel.accessAllowed ? 'block' : 'none';\n",
              "        })();\n",
              "      </script>\n",
              "    </div>\n",
              "\n",
              "    </div>\n",
              "  </div>\n"
            ],
            "application/vnd.google.colaboratory.intrinsic+json": {
              "type": "dataframe",
              "variable_name": "results",
              "summary": "{\n  \"name\": \"results\",\n  \"rows\": 50,\n  \"fields\": [\n    {\n      \"column\": \"y_true\",\n      \"properties\": {\n        \"dtype\": \"number\",\n        \"std\": 21.489969728404304,\n        \"min\": 59.02176137981175,\n        \"max\": 141.74584142098243,\n        \"num_unique_values\": 50,\n        \"samples\": [\n          85.20347732032792,\n          119.00751327703256,\n          113.67660273241034\n        ],\n        \"semantic_type\": \"\",\n        \"description\": \"\"\n      }\n    },\n    {\n      \"column\": \"y_pred\",\n      \"properties\": {\n        \"dtype\": \"number\",\n        \"std\": 23.61239203455685,\n        \"min\": 53.90086399325722,\n        \"max\": 146.33861233552594,\n        \"num_unique_values\": 50,\n        \"samples\": [\n          73.47805612403204,\n          113.39424910981137,\n          132.77932042788737\n        ],\n        \"semantic_type\": \"\",\n        \"description\": \"\"\n      }\n    }\n  ]\n}"
            }
          },
          "metadata": {},
          "execution_count": 12
        }
      ]
    },
    {
      "cell_type": "code",
      "metadata": {
        "id": "SPMt-m1e78VI",
        "outputId": "23efe5d0-a8be-4c0a-8440-7a5a9e28ba8e",
        "colab": {
          "base_uri": "https://localhost:8080/",
          "height": 206
        }
      },
      "source": [
        "results['error'] = results['y_true'] - results['y_pred']\n",
        "results.head()"
      ],
      "execution_count": 14,
      "outputs": [
        {
          "output_type": "execute_result",
          "data": {
            "text/plain": [
              "       y_true      y_pred      error\n",
              "0  102.819397  115.298519 -12.479122\n",
              "1   90.915483  108.990000 -18.074517\n",
              "2  108.917690  107.176938   1.740753\n",
              "3   82.003893   74.709500   7.294393\n",
              "4   63.599417   61.351364   2.248053"
            ],
            "text/html": [
              "\n",
              "  <div id=\"df-8be92982-1a61-432c-b6c8-2130b5b26b2e\" class=\"colab-df-container\">\n",
              "    <div>\n",
              "<style scoped>\n",
              "    .dataframe tbody tr th:only-of-type {\n",
              "        vertical-align: middle;\n",
              "    }\n",
              "\n",
              "    .dataframe tbody tr th {\n",
              "        vertical-align: top;\n",
              "    }\n",
              "\n",
              "    .dataframe thead th {\n",
              "        text-align: right;\n",
              "    }\n",
              "</style>\n",
              "<table border=\"1\" class=\"dataframe\">\n",
              "  <thead>\n",
              "    <tr style=\"text-align: right;\">\n",
              "      <th></th>\n",
              "      <th>y_true</th>\n",
              "      <th>y_pred</th>\n",
              "      <th>error</th>\n",
              "    </tr>\n",
              "  </thead>\n",
              "  <tbody>\n",
              "    <tr>\n",
              "      <th>0</th>\n",
              "      <td>102.819397</td>\n",
              "      <td>115.298519</td>\n",
              "      <td>-12.479122</td>\n",
              "    </tr>\n",
              "    <tr>\n",
              "      <th>1</th>\n",
              "      <td>90.915483</td>\n",
              "      <td>108.990000</td>\n",
              "      <td>-18.074517</td>\n",
              "    </tr>\n",
              "    <tr>\n",
              "      <th>2</th>\n",
              "      <td>108.917690</td>\n",
              "      <td>107.176938</td>\n",
              "      <td>1.740753</td>\n",
              "    </tr>\n",
              "    <tr>\n",
              "      <th>3</th>\n",
              "      <td>82.003893</td>\n",
              "      <td>74.709500</td>\n",
              "      <td>7.294393</td>\n",
              "    </tr>\n",
              "    <tr>\n",
              "      <th>4</th>\n",
              "      <td>63.599417</td>\n",
              "      <td>61.351364</td>\n",
              "      <td>2.248053</td>\n",
              "    </tr>\n",
              "  </tbody>\n",
              "</table>\n",
              "</div>\n",
              "    <div class=\"colab-df-buttons\">\n",
              "\n",
              "  <div class=\"colab-df-container\">\n",
              "    <button class=\"colab-df-convert\" onclick=\"convertToInteractive('df-8be92982-1a61-432c-b6c8-2130b5b26b2e')\"\n",
              "            title=\"Convert this dataframe to an interactive table.\"\n",
              "            style=\"display:none;\">\n",
              "\n",
              "  <svg xmlns=\"http://www.w3.org/2000/svg\" height=\"24px\" viewBox=\"0 -960 960 960\">\n",
              "    <path d=\"M120-120v-720h720v720H120Zm60-500h600v-160H180v160Zm220 220h160v-160H400v160Zm0 220h160v-160H400v160ZM180-400h160v-160H180v160Zm440 0h160v-160H620v160ZM180-180h160v-160H180v160Zm440 0h160v-160H620v160Z\"/>\n",
              "  </svg>\n",
              "    </button>\n",
              "\n",
              "  <style>\n",
              "    .colab-df-container {\n",
              "      display:flex;\n",
              "      gap: 12px;\n",
              "    }\n",
              "\n",
              "    .colab-df-convert {\n",
              "      background-color: #E8F0FE;\n",
              "      border: none;\n",
              "      border-radius: 50%;\n",
              "      cursor: pointer;\n",
              "      display: none;\n",
              "      fill: #1967D2;\n",
              "      height: 32px;\n",
              "      padding: 0 0 0 0;\n",
              "      width: 32px;\n",
              "    }\n",
              "\n",
              "    .colab-df-convert:hover {\n",
              "      background-color: #E2EBFA;\n",
              "      box-shadow: 0px 1px 2px rgba(60, 64, 67, 0.3), 0px 1px 3px 1px rgba(60, 64, 67, 0.15);\n",
              "      fill: #174EA6;\n",
              "    }\n",
              "\n",
              "    .colab-df-buttons div {\n",
              "      margin-bottom: 4px;\n",
              "    }\n",
              "\n",
              "    [theme=dark] .colab-df-convert {\n",
              "      background-color: #3B4455;\n",
              "      fill: #D2E3FC;\n",
              "    }\n",
              "\n",
              "    [theme=dark] .colab-df-convert:hover {\n",
              "      background-color: #434B5C;\n",
              "      box-shadow: 0px 1px 3px 1px rgba(0, 0, 0, 0.15);\n",
              "      filter: drop-shadow(0px 1px 2px rgba(0, 0, 0, 0.3));\n",
              "      fill: #FFFFFF;\n",
              "    }\n",
              "  </style>\n",
              "\n",
              "    <script>\n",
              "      const buttonEl =\n",
              "        document.querySelector('#df-8be92982-1a61-432c-b6c8-2130b5b26b2e button.colab-df-convert');\n",
              "      buttonEl.style.display =\n",
              "        google.colab.kernel.accessAllowed ? 'block' : 'none';\n",
              "\n",
              "      async function convertToInteractive(key) {\n",
              "        const element = document.querySelector('#df-8be92982-1a61-432c-b6c8-2130b5b26b2e');\n",
              "        const dataTable =\n",
              "          await google.colab.kernel.invokeFunction('convertToInteractive',\n",
              "                                                    [key], {});\n",
              "        if (!dataTable) return;\n",
              "\n",
              "        const docLinkHtml = 'Like what you see? Visit the ' +\n",
              "          '<a target=\"_blank\" href=https://colab.research.google.com/notebooks/data_table.ipynb>data table notebook</a>'\n",
              "          + ' to learn more about interactive tables.';\n",
              "        element.innerHTML = '';\n",
              "        dataTable['output_type'] = 'display_data';\n",
              "        await google.colab.output.renderOutput(dataTable, element);\n",
              "        const docLink = document.createElement('div');\n",
              "        docLink.innerHTML = docLinkHtml;\n",
              "        element.appendChild(docLink);\n",
              "      }\n",
              "    </script>\n",
              "  </div>\n",
              "\n",
              "\n",
              "    <div id=\"df-411e5bbe-b098-4049-8c3d-acf570cbf72d\">\n",
              "      <button class=\"colab-df-quickchart\" onclick=\"quickchart('df-411e5bbe-b098-4049-8c3d-acf570cbf72d')\"\n",
              "                title=\"Suggest charts\"\n",
              "                style=\"display:none;\">\n",
              "\n",
              "<svg xmlns=\"http://www.w3.org/2000/svg\" height=\"24px\"viewBox=\"0 0 24 24\"\n",
              "     width=\"24px\">\n",
              "    <g>\n",
              "        <path d=\"M19 3H5c-1.1 0-2 .9-2 2v14c0 1.1.9 2 2 2h14c1.1 0 2-.9 2-2V5c0-1.1-.9-2-2-2zM9 17H7v-7h2v7zm4 0h-2V7h2v10zm4 0h-2v-4h2v4z\"/>\n",
              "    </g>\n",
              "</svg>\n",
              "      </button>\n",
              "\n",
              "<style>\n",
              "  .colab-df-quickchart {\n",
              "      --bg-color: #E8F0FE;\n",
              "      --fill-color: #1967D2;\n",
              "      --hover-bg-color: #E2EBFA;\n",
              "      --hover-fill-color: #174EA6;\n",
              "      --disabled-fill-color: #AAA;\n",
              "      --disabled-bg-color: #DDD;\n",
              "  }\n",
              "\n",
              "  [theme=dark] .colab-df-quickchart {\n",
              "      --bg-color: #3B4455;\n",
              "      --fill-color: #D2E3FC;\n",
              "      --hover-bg-color: #434B5C;\n",
              "      --hover-fill-color: #FFFFFF;\n",
              "      --disabled-bg-color: #3B4455;\n",
              "      --disabled-fill-color: #666;\n",
              "  }\n",
              "\n",
              "  .colab-df-quickchart {\n",
              "    background-color: var(--bg-color);\n",
              "    border: none;\n",
              "    border-radius: 50%;\n",
              "    cursor: pointer;\n",
              "    display: none;\n",
              "    fill: var(--fill-color);\n",
              "    height: 32px;\n",
              "    padding: 0;\n",
              "    width: 32px;\n",
              "  }\n",
              "\n",
              "  .colab-df-quickchart:hover {\n",
              "    background-color: var(--hover-bg-color);\n",
              "    box-shadow: 0 1px 2px rgba(60, 64, 67, 0.3), 0 1px 3px 1px rgba(60, 64, 67, 0.15);\n",
              "    fill: var(--button-hover-fill-color);\n",
              "  }\n",
              "\n",
              "  .colab-df-quickchart-complete:disabled,\n",
              "  .colab-df-quickchart-complete:disabled:hover {\n",
              "    background-color: var(--disabled-bg-color);\n",
              "    fill: var(--disabled-fill-color);\n",
              "    box-shadow: none;\n",
              "  }\n",
              "\n",
              "  .colab-df-spinner {\n",
              "    border: 2px solid var(--fill-color);\n",
              "    border-color: transparent;\n",
              "    border-bottom-color: var(--fill-color);\n",
              "    animation:\n",
              "      spin 1s steps(1) infinite;\n",
              "  }\n",
              "\n",
              "  @keyframes spin {\n",
              "    0% {\n",
              "      border-color: transparent;\n",
              "      border-bottom-color: var(--fill-color);\n",
              "      border-left-color: var(--fill-color);\n",
              "    }\n",
              "    20% {\n",
              "      border-color: transparent;\n",
              "      border-left-color: var(--fill-color);\n",
              "      border-top-color: var(--fill-color);\n",
              "    }\n",
              "    30% {\n",
              "      border-color: transparent;\n",
              "      border-left-color: var(--fill-color);\n",
              "      border-top-color: var(--fill-color);\n",
              "      border-right-color: var(--fill-color);\n",
              "    }\n",
              "    40% {\n",
              "      border-color: transparent;\n",
              "      border-right-color: var(--fill-color);\n",
              "      border-top-color: var(--fill-color);\n",
              "    }\n",
              "    60% {\n",
              "      border-color: transparent;\n",
              "      border-right-color: var(--fill-color);\n",
              "    }\n",
              "    80% {\n",
              "      border-color: transparent;\n",
              "      border-right-color: var(--fill-color);\n",
              "      border-bottom-color: var(--fill-color);\n",
              "    }\n",
              "    90% {\n",
              "      border-color: transparent;\n",
              "      border-bottom-color: var(--fill-color);\n",
              "    }\n",
              "  }\n",
              "</style>\n",
              "\n",
              "      <script>\n",
              "        async function quickchart(key) {\n",
              "          const quickchartButtonEl =\n",
              "            document.querySelector('#' + key + ' button');\n",
              "          quickchartButtonEl.disabled = true;  // To prevent multiple clicks.\n",
              "          quickchartButtonEl.classList.add('colab-df-spinner');\n",
              "          try {\n",
              "            const charts = await google.colab.kernel.invokeFunction(\n",
              "                'suggestCharts', [key], {});\n",
              "          } catch (error) {\n",
              "            console.error('Error during call to suggestCharts:', error);\n",
              "          }\n",
              "          quickchartButtonEl.classList.remove('colab-df-spinner');\n",
              "          quickchartButtonEl.classList.add('colab-df-quickchart-complete');\n",
              "        }\n",
              "        (() => {\n",
              "          let quickchartButtonEl =\n",
              "            document.querySelector('#df-411e5bbe-b098-4049-8c3d-acf570cbf72d button');\n",
              "          quickchartButtonEl.style.display =\n",
              "            google.colab.kernel.accessAllowed ? 'block' : 'none';\n",
              "        })();\n",
              "      </script>\n",
              "    </div>\n",
              "\n",
              "    </div>\n",
              "  </div>\n"
            ],
            "application/vnd.google.colaboratory.intrinsic+json": {
              "type": "dataframe",
              "variable_name": "results",
              "summary": "{\n  \"name\": \"results\",\n  \"rows\": 50,\n  \"fields\": [\n    {\n      \"column\": \"y_true\",\n      \"properties\": {\n        \"dtype\": \"number\",\n        \"std\": 21.489969728404304,\n        \"min\": 59.02176137981175,\n        \"max\": 141.74584142098243,\n        \"num_unique_values\": 50,\n        \"samples\": [\n          85.20347732032792,\n          119.00751327703256,\n          113.67660273241034\n        ],\n        \"semantic_type\": \"\",\n        \"description\": \"\"\n      }\n    },\n    {\n      \"column\": \"y_pred\",\n      \"properties\": {\n        \"dtype\": \"number\",\n        \"std\": 23.61239203455685,\n        \"min\": 53.90086399325722,\n        \"max\": 146.33861233552594,\n        \"num_unique_values\": 50,\n        \"samples\": [\n          73.47805612403204,\n          113.39424910981137,\n          132.77932042788737\n        ],\n        \"semantic_type\": \"\",\n        \"description\": \"\"\n      }\n    },\n    {\n      \"column\": \"error\",\n      \"properties\": {\n        \"dtype\": \"number\",\n        \"std\": 10.41230905060497,\n        \"min\": -22.93254057674963,\n        \"max\": 29.948032052565296,\n        \"num_unique_values\": 50,\n        \"samples\": [\n          11.725421196295883,\n          5.613264167221189,\n          -19.102717695477025\n        ],\n        \"semantic_type\": \"\",\n        \"description\": \"\"\n      }\n    }\n  ]\n}"
            }
          },
          "metadata": {},
          "execution_count": 14
        }
      ]
    },
    {
      "cell_type": "markdown",
      "metadata": {
        "id": "JkXYHzBlCrXB"
      },
      "source": [
        "### <a name='a1'></a> 2. Metryki\n",
        "### <a name='a2'></a> 2.1 Interpretacja graficzna"
      ]
    },
    {
      "cell_type": "code",
      "metadata": {
        "id": "aFdc5zl6_bih",
        "outputId": "224dcbe0-b495-4aea-cd8f-5c687eb70649",
        "colab": {
          "base_uri": "https://localhost:8080/",
          "height": 542
        }
      },
      "source": [
        "def plot_regression_results(y_true, y_pred):\n",
        "    results = pd.DataFrame({'y_true': y_true, 'y_pred': y_pred})\n",
        "    min = results[['y_true', 'y_pred']].min().min()\n",
        "    max = results[['y_true', 'y_pred']].max().max()\n",
        "\n",
        "    fig = go.Figure(data=[go.Scatter(x=results['y_true'], y=results['y_pred'], mode='markers'),\n",
        "                    go.Scatter(x=[min, max], y=[min, max])],\n",
        "                    layout=go.Layout(showlegend=False, width=800,\n",
        "                                     xaxis_title='y_true',\n",
        "                                     yaxis_title='y_pred',\n",
        "                                     title='Regression results'))\n",
        "    fig.show()\n",
        "plot_regression_results(y_true, y_pred)"
      ],
      "execution_count": 15,
      "outputs": [
        {
          "output_type": "display_data",
          "data": {
            "text/html": [
              "<html>\n",
              "<head><meta charset=\"utf-8\" /></head>\n",
              "<body>\n",
              "    <div>            <script src=\"https://cdnjs.cloudflare.com/ajax/libs/mathjax/2.7.5/MathJax.js?config=TeX-AMS-MML_SVG\"></script><script type=\"text/javascript\">if (window.MathJax && window.MathJax.Hub && window.MathJax.Hub.Config) {window.MathJax.Hub.Config({SVG: {font: \"STIX-Web\"}});}</script>                <script type=\"text/javascript\">window.PlotlyConfig = {MathJaxConfig: 'local'};</script>\n",
              "        <script charset=\"utf-8\" src=\"https://cdn.plot.ly/plotly-2.35.2.min.js\"></script>                <div id=\"f1e20091-36fd-46dc-a6d8-a438f4a58f25\" class=\"plotly-graph-div\" style=\"height:525px; width:800px;\"></div>            <script type=\"text/javascript\">                                    window.PLOTLYENV=window.PLOTLYENV || {};                                    if (document.getElementById(\"f1e20091-36fd-46dc-a6d8-a438f4a58f25\")) {                    Plotly.newPlot(                        \"f1e20091-36fd-46dc-a6d8-a438f4a58f25\",                        [{\"mode\":\"markers\",\"x\":[102.81939719852005,90.9154829720499,108.91769026974234,82.00389323104699,63.5994172894288,102.90107969235633,121.22247283469429,85.14313765272624,71.36836444167298,84.49654461866238,104.11094808833194,74.12500224745763,77.25913520836733,85.20347732032792,85.25351952714911,99.54078854616121,111.211201036413,88.13978038662438,84.69258372924914,107.61168995900994,88.37984403375363,113.80375818605272,79.13205154478696,100.28422926937532,78.7230790720492,133.42934162050426,78.93167288173765,138.7261453470373,80.29423587298076,77.85728502560156,113.67660273241034,126.38599678783766,87.67202726387745,124.43515243283423,118.08587367181573,70.1971007246033,141.74584142098243,59.02176137981175,110.92331176047526,119.00751327703256,115.5866362470116,92.50949410478198,75.63100931217602,129.7743317976416,87.7359740661914,62.32802261768483,85.49063749698821,125.2854947942377,98.8039367605602,132.70864281278602],\"y\":[115.2985187024711,108.98999989901837,107.17693775391308,74.7095004177954,61.35136428141765,92.82739491524826,111.45060087981754,104.90046021942271,75.27788924655637,85.18354430163289,103.37368538460645,63.60225549329306,83.64645660448828,73.47805612403204,85.9381196608507,122.47332912291084,120.09405392814027,95.58896371480998,73.56832952122826,113.96318619186482,96.13115903592124,108.9987773459874,76.20105482294684,97.93620173211782,74.2988092602461,137.991136575842,76.15180781401637,146.33861233552594,71.28409469834925,66.88958982577965,132.77932042788737,120.68099582231355,74.88012032735631,116.85207927491065,101.28191384443775,67.24225283610897,136.77884735191964,69.50949626171084,80.97527970790996,113.39424910981137,111.0722653974627,99.68211430669372,80.04239084575502,126.04662853707684,74.39933040347614,53.90086399325722,94.45086533027867,115.42754911681085,92.41495492541024,144.65539073615207],\"type\":\"scatter\"},{\"x\":[53.90086399325722,146.33861233552594],\"y\":[53.90086399325722,146.33861233552594],\"type\":\"scatter\"}],                        {\"showlegend\":false,\"title\":{\"text\":\"Regression results\"},\"width\":800,\"xaxis\":{\"title\":{\"text\":\"y_true\"}},\"yaxis\":{\"title\":{\"text\":\"y_pred\"}},\"template\":{\"data\":{\"histogram2dcontour\":[{\"type\":\"histogram2dcontour\",\"colorbar\":{\"outlinewidth\":0,\"ticks\":\"\"},\"colorscale\":[[0.0,\"#0d0887\"],[0.1111111111111111,\"#46039f\"],[0.2222222222222222,\"#7201a8\"],[0.3333333333333333,\"#9c179e\"],[0.4444444444444444,\"#bd3786\"],[0.5555555555555556,\"#d8576b\"],[0.6666666666666666,\"#ed7953\"],[0.7777777777777778,\"#fb9f3a\"],[0.8888888888888888,\"#fdca26\"],[1.0,\"#f0f921\"]]}],\"choropleth\":[{\"type\":\"choropleth\",\"colorbar\":{\"outlinewidth\":0,\"ticks\":\"\"}}],\"histogram2d\":[{\"type\":\"histogram2d\",\"colorbar\":{\"outlinewidth\":0,\"ticks\":\"\"},\"colorscale\":[[0.0,\"#0d0887\"],[0.1111111111111111,\"#46039f\"],[0.2222222222222222,\"#7201a8\"],[0.3333333333333333,\"#9c179e\"],[0.4444444444444444,\"#bd3786\"],[0.5555555555555556,\"#d8576b\"],[0.6666666666666666,\"#ed7953\"],[0.7777777777777778,\"#fb9f3a\"],[0.8888888888888888,\"#fdca26\"],[1.0,\"#f0f921\"]]}],\"heatmap\":[{\"type\":\"heatmap\",\"colorbar\":{\"outlinewidth\":0,\"ticks\":\"\"},\"colorscale\":[[0.0,\"#0d0887\"],[0.1111111111111111,\"#46039f\"],[0.2222222222222222,\"#7201a8\"],[0.3333333333333333,\"#9c179e\"],[0.4444444444444444,\"#bd3786\"],[0.5555555555555556,\"#d8576b\"],[0.6666666666666666,\"#ed7953\"],[0.7777777777777778,\"#fb9f3a\"],[0.8888888888888888,\"#fdca26\"],[1.0,\"#f0f921\"]]}],\"heatmapgl\":[{\"type\":\"heatmapgl\",\"colorbar\":{\"outlinewidth\":0,\"ticks\":\"\"},\"colorscale\":[[0.0,\"#0d0887\"],[0.1111111111111111,\"#46039f\"],[0.2222222222222222,\"#7201a8\"],[0.3333333333333333,\"#9c179e\"],[0.4444444444444444,\"#bd3786\"],[0.5555555555555556,\"#d8576b\"],[0.6666666666666666,\"#ed7953\"],[0.7777777777777778,\"#fb9f3a\"],[0.8888888888888888,\"#fdca26\"],[1.0,\"#f0f921\"]]}],\"contourcarpet\":[{\"type\":\"contourcarpet\",\"colorbar\":{\"outlinewidth\":0,\"ticks\":\"\"}}],\"contour\":[{\"type\":\"contour\",\"colorbar\":{\"outlinewidth\":0,\"ticks\":\"\"},\"colorscale\":[[0.0,\"#0d0887\"],[0.1111111111111111,\"#46039f\"],[0.2222222222222222,\"#7201a8\"],[0.3333333333333333,\"#9c179e\"],[0.4444444444444444,\"#bd3786\"],[0.5555555555555556,\"#d8576b\"],[0.6666666666666666,\"#ed7953\"],[0.7777777777777778,\"#fb9f3a\"],[0.8888888888888888,\"#fdca26\"],[1.0,\"#f0f921\"]]}],\"surface\":[{\"type\":\"surface\",\"colorbar\":{\"outlinewidth\":0,\"ticks\":\"\"},\"colorscale\":[[0.0,\"#0d0887\"],[0.1111111111111111,\"#46039f\"],[0.2222222222222222,\"#7201a8\"],[0.3333333333333333,\"#9c179e\"],[0.4444444444444444,\"#bd3786\"],[0.5555555555555556,\"#d8576b\"],[0.6666666666666666,\"#ed7953\"],[0.7777777777777778,\"#fb9f3a\"],[0.8888888888888888,\"#fdca26\"],[1.0,\"#f0f921\"]]}],\"mesh3d\":[{\"type\":\"mesh3d\",\"colorbar\":{\"outlinewidth\":0,\"ticks\":\"\"}}],\"scatter\":[{\"fillpattern\":{\"fillmode\":\"overlay\",\"size\":10,\"solidity\":0.2},\"type\":\"scatter\"}],\"parcoords\":[{\"type\":\"parcoords\",\"line\":{\"colorbar\":{\"outlinewidth\":0,\"ticks\":\"\"}}}],\"scatterpolargl\":[{\"type\":\"scatterpolargl\",\"marker\":{\"colorbar\":{\"outlinewidth\":0,\"ticks\":\"\"}}}],\"bar\":[{\"error_x\":{\"color\":\"#2a3f5f\"},\"error_y\":{\"color\":\"#2a3f5f\"},\"marker\":{\"line\":{\"color\":\"#E5ECF6\",\"width\":0.5},\"pattern\":{\"fillmode\":\"overlay\",\"size\":10,\"solidity\":0.2}},\"type\":\"bar\"}],\"scattergeo\":[{\"type\":\"scattergeo\",\"marker\":{\"colorbar\":{\"outlinewidth\":0,\"ticks\":\"\"}}}],\"scatterpolar\":[{\"type\":\"scatterpolar\",\"marker\":{\"colorbar\":{\"outlinewidth\":0,\"ticks\":\"\"}}}],\"histogram\":[{\"marker\":{\"pattern\":{\"fillmode\":\"overlay\",\"size\":10,\"solidity\":0.2}},\"type\":\"histogram\"}],\"scattergl\":[{\"type\":\"scattergl\",\"marker\":{\"colorbar\":{\"outlinewidth\":0,\"ticks\":\"\"}}}],\"scatter3d\":[{\"type\":\"scatter3d\",\"line\":{\"colorbar\":{\"outlinewidth\":0,\"ticks\":\"\"}},\"marker\":{\"colorbar\":{\"outlinewidth\":0,\"ticks\":\"\"}}}],\"scattermapbox\":[{\"type\":\"scattermapbox\",\"marker\":{\"colorbar\":{\"outlinewidth\":0,\"ticks\":\"\"}}}],\"scatterternary\":[{\"type\":\"scatterternary\",\"marker\":{\"colorbar\":{\"outlinewidth\":0,\"ticks\":\"\"}}}],\"scattercarpet\":[{\"type\":\"scattercarpet\",\"marker\":{\"colorbar\":{\"outlinewidth\":0,\"ticks\":\"\"}}}],\"carpet\":[{\"aaxis\":{\"endlinecolor\":\"#2a3f5f\",\"gridcolor\":\"white\",\"linecolor\":\"white\",\"minorgridcolor\":\"white\",\"startlinecolor\":\"#2a3f5f\"},\"baxis\":{\"endlinecolor\":\"#2a3f5f\",\"gridcolor\":\"white\",\"linecolor\":\"white\",\"minorgridcolor\":\"white\",\"startlinecolor\":\"#2a3f5f\"},\"type\":\"carpet\"}],\"table\":[{\"cells\":{\"fill\":{\"color\":\"#EBF0F8\"},\"line\":{\"color\":\"white\"}},\"header\":{\"fill\":{\"color\":\"#C8D4E3\"},\"line\":{\"color\":\"white\"}},\"type\":\"table\"}],\"barpolar\":[{\"marker\":{\"line\":{\"color\":\"#E5ECF6\",\"width\":0.5},\"pattern\":{\"fillmode\":\"overlay\",\"size\":10,\"solidity\":0.2}},\"type\":\"barpolar\"}],\"pie\":[{\"automargin\":true,\"type\":\"pie\"}]},\"layout\":{\"autotypenumbers\":\"strict\",\"colorway\":[\"#636efa\",\"#EF553B\",\"#00cc96\",\"#ab63fa\",\"#FFA15A\",\"#19d3f3\",\"#FF6692\",\"#B6E880\",\"#FF97FF\",\"#FECB52\"],\"font\":{\"color\":\"#2a3f5f\"},\"hovermode\":\"closest\",\"hoverlabel\":{\"align\":\"left\"},\"paper_bgcolor\":\"white\",\"plot_bgcolor\":\"#E5ECF6\",\"polar\":{\"bgcolor\":\"#E5ECF6\",\"angularaxis\":{\"gridcolor\":\"white\",\"linecolor\":\"white\",\"ticks\":\"\"},\"radialaxis\":{\"gridcolor\":\"white\",\"linecolor\":\"white\",\"ticks\":\"\"}},\"ternary\":{\"bgcolor\":\"#E5ECF6\",\"aaxis\":{\"gridcolor\":\"white\",\"linecolor\":\"white\",\"ticks\":\"\"},\"baxis\":{\"gridcolor\":\"white\",\"linecolor\":\"white\",\"ticks\":\"\"},\"caxis\":{\"gridcolor\":\"white\",\"linecolor\":\"white\",\"ticks\":\"\"}},\"coloraxis\":{\"colorbar\":{\"outlinewidth\":0,\"ticks\":\"\"}},\"colorscale\":{\"sequential\":[[0.0,\"#0d0887\"],[0.1111111111111111,\"#46039f\"],[0.2222222222222222,\"#7201a8\"],[0.3333333333333333,\"#9c179e\"],[0.4444444444444444,\"#bd3786\"],[0.5555555555555556,\"#d8576b\"],[0.6666666666666666,\"#ed7953\"],[0.7777777777777778,\"#fb9f3a\"],[0.8888888888888888,\"#fdca26\"],[1.0,\"#f0f921\"]],\"sequentialminus\":[[0.0,\"#0d0887\"],[0.1111111111111111,\"#46039f\"],[0.2222222222222222,\"#7201a8\"],[0.3333333333333333,\"#9c179e\"],[0.4444444444444444,\"#bd3786\"],[0.5555555555555556,\"#d8576b\"],[0.6666666666666666,\"#ed7953\"],[0.7777777777777778,\"#fb9f3a\"],[0.8888888888888888,\"#fdca26\"],[1.0,\"#f0f921\"]],\"diverging\":[[0,\"#8e0152\"],[0.1,\"#c51b7d\"],[0.2,\"#de77ae\"],[0.3,\"#f1b6da\"],[0.4,\"#fde0ef\"],[0.5,\"#f7f7f7\"],[0.6,\"#e6f5d0\"],[0.7,\"#b8e186\"],[0.8,\"#7fbc41\"],[0.9,\"#4d9221\"],[1,\"#276419\"]]},\"xaxis\":{\"gridcolor\":\"white\",\"linecolor\":\"white\",\"ticks\":\"\",\"title\":{\"standoff\":15},\"zerolinecolor\":\"white\",\"automargin\":true,\"zerolinewidth\":2},\"yaxis\":{\"gridcolor\":\"white\",\"linecolor\":\"white\",\"ticks\":\"\",\"title\":{\"standoff\":15},\"zerolinecolor\":\"white\",\"automargin\":true,\"zerolinewidth\":2},\"scene\":{\"xaxis\":{\"backgroundcolor\":\"#E5ECF6\",\"gridcolor\":\"white\",\"linecolor\":\"white\",\"showbackground\":true,\"ticks\":\"\",\"zerolinecolor\":\"white\",\"gridwidth\":2},\"yaxis\":{\"backgroundcolor\":\"#E5ECF6\",\"gridcolor\":\"white\",\"linecolor\":\"white\",\"showbackground\":true,\"ticks\":\"\",\"zerolinecolor\":\"white\",\"gridwidth\":2},\"zaxis\":{\"backgroundcolor\":\"#E5ECF6\",\"gridcolor\":\"white\",\"linecolor\":\"white\",\"showbackground\":true,\"ticks\":\"\",\"zerolinecolor\":\"white\",\"gridwidth\":2}},\"shapedefaults\":{\"line\":{\"color\":\"#2a3f5f\"}},\"annotationdefaults\":{\"arrowcolor\":\"#2a3f5f\",\"arrowhead\":0,\"arrowwidth\":1},\"geo\":{\"bgcolor\":\"white\",\"landcolor\":\"#E5ECF6\",\"subunitcolor\":\"white\",\"showland\":true,\"showlakes\":true,\"lakecolor\":\"white\"},\"title\":{\"x\":0.05},\"mapbox\":{\"style\":\"light\"}}}},                        {\"responsive\": true}                    ).then(function(){\n",
              "                            \n",
              "var gd = document.getElementById('f1e20091-36fd-46dc-a6d8-a438f4a58f25');\n",
              "var x = new MutationObserver(function (mutations, observer) {{\n",
              "        var display = window.getComputedStyle(gd).display;\n",
              "        if (!display || display === 'none') {{\n",
              "            console.log([gd, 'removed!']);\n",
              "            Plotly.purge(gd);\n",
              "            observer.disconnect();\n",
              "        }}\n",
              "}});\n",
              "\n",
              "// Listen for the removal of the full notebook cells\n",
              "var notebookContainer = gd.closest('#notebook-container');\n",
              "if (notebookContainer) {{\n",
              "    x.observe(notebookContainer, {childList: true});\n",
              "}}\n",
              "\n",
              "// Listen for the clearing of the current output cell\n",
              "var outputEl = gd.closest('.output');\n",
              "if (outputEl) {{\n",
              "    x.observe(outputEl, {childList: true});\n",
              "}}\n",
              "\n",
              "                        })                };                            </script>        </div>\n",
              "</body>\n",
              "</html>"
            ]
          },
          "metadata": {}
        }
      ]
    },
    {
      "cell_type": "code",
      "metadata": {
        "id": "2j7Zs1XLDGCL",
        "outputId": "6f527aec-15b3-42d1-919b-8c5f1148c035",
        "colab": {
          "base_uri": "https://localhost:8080/",
          "height": 542
        }
      },
      "source": [
        "y_true = 100 + 20 * np.random.randn(1000)\n",
        "y_pred = y_true + 10 * np.random.randn(1000)\n",
        "results = pd.DataFrame({'y_true': y_true, 'y_pred': y_pred})\n",
        "results['error'] = results['y_true'] - results['y_pred']\n",
        "\n",
        "px.histogram(results, x='error', nbins=50, width=800)"
      ],
      "execution_count": 16,
      "outputs": [
        {
          "output_type": "display_data",
          "data": {
            "text/html": [
              "<html>\n",
              "<head><meta charset=\"utf-8\" /></head>\n",
              "<body>\n",
              "    <div>            <script src=\"https://cdnjs.cloudflare.com/ajax/libs/mathjax/2.7.5/MathJax.js?config=TeX-AMS-MML_SVG\"></script><script type=\"text/javascript\">if (window.MathJax && window.MathJax.Hub && window.MathJax.Hub.Config) {window.MathJax.Hub.Config({SVG: {font: \"STIX-Web\"}});}</script>                <script type=\"text/javascript\">window.PlotlyConfig = {MathJaxConfig: 'local'};</script>\n",
              "        <script charset=\"utf-8\" src=\"https://cdn.plot.ly/plotly-2.35.2.min.js\"></script>                <div id=\"f909dae3-ba51-4eef-b0ec-4ad3b8a9cbdb\" class=\"plotly-graph-div\" style=\"height:525px; width:800px;\"></div>            <script type=\"text/javascript\">                                    window.PLOTLYENV=window.PLOTLYENV || {};                                    if (document.getElementById(\"f909dae3-ba51-4eef-b0ec-4ad3b8a9cbdb\")) {                    Plotly.newPlot(                        \"f909dae3-ba51-4eef-b0ec-4ad3b8a9cbdb\",                        [{\"alignmentgroup\":\"True\",\"bingroup\":\"x\",\"hovertemplate\":\"error=%{x}\\u003cbr\\u003ecount=%{y}\\u003cextra\\u003e\\u003c\\u002fextra\\u003e\",\"legendgroup\":\"\",\"marker\":{\"color\":\"#636efa\",\"pattern\":{\"shape\":\"\"}},\"name\":\"\",\"nbinsx\":50,\"offsetgroup\":\"\",\"orientation\":\"v\",\"showlegend\":false,\"x\":[-8.621077005496971,-14.433554319206252,-11.8629957483747,23.362531662239164,-5.680987759568282,17.49705223241115,-4.71269965003394,4.338038000966861,-1.3477369058500699,10.757591656292348,8.06782917952117,16.758710737483185,4.798682547994204,-6.651843270999905,6.662628580162476,8.494282279389438,5.769771503961309,7.105871211553179,-13.797656769604558,-10.08784496553001,14.411466392085565,18.117566671382235,-5.637809135375562,22.98430511182893,3.6226803009721777,-5.546724481026075,1.949536305948314,6.977765189379994,2.2842412288932223,29.223674707971043,-3.35536081550741,5.099708086634905,-2.973962152338352,-19.01287009023993,9.691085027102673,-0.4700451482789276,8.443762271197798,-5.268770293886931,-8.854173144380283,5.687357088635409,-0.8665830959843106,10.092286762928154,14.239010697239777,18.84682892213145,15.48748649769756,-3.7142160336041172,-5.747746532011746,1.7553843641373135,-4.273462466204691,4.531452468575409,16.71416699611364,-6.316025305607866,-38.788207445541346,15.31844763803241,-0.6390109900675043,3.6786792359588176,-3.798434289326025,-1.058007550235601,-12.898296347595675,-2.7840078931518804,-8.65757780569919,-2.138574953074283,16.98225232327222,-10.557864583573192,-4.235959022191494,13.794595481960812,33.88119649189539,11.687772832486544,-2.770198714762998,1.0846834909843182,-5.906126038095465,1.193455663514385,-14.024763203250473,-4.536884333979771,5.3767155395314745,14.218774096338734,-25.41021387557025,-0.23295178803307692,9.078704521470158,-2.1059709504206836,-3.075570565791949,-5.581506364766369,-11.551787508567173,-8.466562692351502,-1.1217523882530145,2.1454203373583596,7.139903275850841,0.28135806026099885,1.9987137987998267,-1.7886966380074227,9.45489072810571,-8.30914912676809,1.9660191294790366,10.96992187153218,13.548553666658783,7.7085158218373095,15.719918866803482,-29.504352201271274,9.13962013237014,-7.060969541292721,0.21210359429447578,-9.044121493633781,-3.5516247152475273,2.2761201246882905,-0.2894914076128572,-7.155706328823186,3.9330376078872717,-1.0675882521008901,-1.7287864987614796,24.496126987715044,9.659364869143701,-2.172185251778643,-8.519052467563483,-18.482217380688468,-5.454404617705521,-8.152491499962537,-0.9274265709444194,4.675301497778776,15.239897634087797,6.839575832073507,-16.483036963682267,-15.31138613824045,-5.694676264050685,-12.101382151429192,-11.780596435464005,3.939685915850248,10.451823663522916,5.2154516797976385,5.055901215003374,10.968033361882632,1.9669101827099098,3.238575881739692,4.971845456705765,-0.9432711723638221,12.433263960174543,-4.025606041974839,-7.782889054010717,5.581122585808956,-14.553932200209317,-10.480130376376664,14.70796074782956,2.81119114716941,12.079361698979838,7.072462288321262,-4.625983225617162,-0.5722927876078927,6.417647343781766,25.256750279141443,-4.871020252587684,20.440118601150026,-13.66002348552145,2.221609006643476,5.49050476740814,7.991896612735175,4.5959486301161405,0.04746481912656009,-11.557762281797267,8.32595185214187,19.919327632719174,1.3040511447206313,-3.3855999141822934,-6.668850014435975,1.5184308090080236,24.26722935578146,-6.787494776870005,-3.005462331009312,-19.323246627372242,14.449387610100914,2.9696119366955713,27.150839348890514,0.4673991551523784,14.203404788719496,-9.523386000365122,1.716340705045198,-1.411293920816675,16.510296551142204,-4.508134874296729,-12.397322775020655,30.161118693859365,15.480759092078216,2.7634123459292113,8.835453860602925,-4.5296470822275126,-4.85378160628737,12.72570773786822,-16.740756853168662,15.766372948083855,-18.22702756027587,-1.4252444886412547,21.192579792291866,7.197194283379318,13.514627021955732,-8.145831162907783,-2.763937331273155,0.6319547165258967,10.10696905253019,9.384243185256992,-1.6247290345564949,-24.14668162418704,10.61797855875784,14.453834663818085,-21.30418043790958,-2.9142428579235116,-15.281325673457118,18.930297882057403,0.7035616126895263,3.623019143577963,-11.748957238093567,0.06917644268166612,6.54773307551369,-6.026075060026244,-5.158247323520314,-7.945330277722448,-1.3396746894364497,9.126654051089567,-3.8445390015435095,1.2662771151085508,-1.2968084280667256,-0.19204935672075862,11.42957530999297,3.6741781455373257,1.2485998137384087,-7.429397669818442,-24.508198429288,2.070140134363882,23.75170045865643,16.02515250008345,-12.079337248424608,0.9172426607755426,2.3884361217246237,2.3550911872542457,14.717085406439082,-9.547948654738178,-4.859294740379468,-5.069703884296786,-6.842608114218095,-3.721867471484927,-18.348214958147565,-4.015839092781249,-1.584567380802639,-15.562794217347076,1.168203306190179,1.299212727792451,13.49719675893013,-1.6254700967809157,19.064259383847883,8.97110375318158,6.649059558051562,5.401915180116234,-11.076268788120927,1.1564680385239257,-7.074246143895152,-2.2890368464108803,-16.276334121773203,-0.26617830420495636,2.8368999178313032,-23.097577491410505,18.104212218281347,-10.503942874362664,-16.51344933285948,15.479244625885485,-11.728521679954568,13.187003079801215,12.067125474566978,15.480404934983923,-9.917851302467625,1.7100004638717792,6.148651956895833,-8.990056319969426,3.3863992617747414,-8.943085688815302,-4.560945459437832,-13.87394757048635,-11.699852657292922,-6.142757051419892,-3.0805577116084777,1.3126661126576522,-6.5868195165448356,-0.19297848315648025,-1.4343779661155764,14.25785578127568,1.2294706527568167,19.40763021755101,4.915624986291405,-4.748770281964681,2.2460855752336215,12.122601465163143,-12.773756556167385,2.1587736698202633,-5.091205960053443,-10.708053263128335,-2.907094075822471,-0.6852584281727303,-10.901882910549205,14.249077077393252,5.573290870080285,3.6321353319110443,-9.602302898576013,-0.5223832011770213,-7.3858474882166405,8.49313696533369,3.877178130002676,16.76774116804671,-13.223966984528886,3.7026796778189492,4.271714089669828,-2.805939203331434,1.785811003699692,-23.998243936297683,-13.322745927793108,-1.0702468935995881,17.180656069822575,-14.226295390240395,-9.636327104468222,-9.633617501931909,-6.515613226167304,2.9565855160299748,5.2428400666616,7.340795696153464,-0.23013374160080957,-5.175814491497505,-2.7786399902562096,-10.228458788856557,13.777252775871247,21.33925337747111,14.414892207193603,-13.85687733210419,-1.0313527191834595,-2.827222985916876,13.868713621852805,11.872766172105301,10.617170272506229,-0.01828817873591504,-11.869343060965647,-9.609899133639871,9.44062656943261,0.30198162020627706,-18.639855995404133,-5.578307524533315,-5.146910667173785,1.1222078090344638,-2.9264850281864767,-4.361066157977348,-15.262594646067171,8.450026060246316,17.261851540956613,15.946562970274442,-2.7075408441643845,9.016591215398634,7.222694483837813,3.6064123704751694,1.6603627932310872,15.318356443073725,10.519720309193275,-10.713354136801229,0.6783746112833455,-0.1291985824852162,-11.537577831786635,-1.852487458522873,-10.181035020213585,-12.366575380553755,3.1150366882999947,7.822594110935313,-3.2184459190306143,10.829877892015446,-15.442089216472027,5.180727420654037,10.296901090585024,-8.294488389468938,0.4936942972481262,-2.2605126387576036,-6.125578748436027,-4.125492557118463,-7.740058933238771,8.266806858718738,7.54145646367347,8.089084872061406,-7.292553479217517,17.442599016722085,-1.1879179894255003,13.370565409950814,4.534854897174,6.269778861101059,-6.84528445645806,-5.04169434065129,3.3084432062094606,19.80410358420164,13.240630257966103,-3.0821871411659174,8.58959665763021,9.76120003583162,-4.465835488068478,10.493771293022704,1.073826363510051,5.568139200535327,1.6003481045301058,12.490036038110503,-13.010609989544776,-12.268132688223801,-0.3893303342609826,-2.08631438018179,-15.008367477616261,-7.95575729063556,-14.414630064484186,11.851367869418112,-3.1717977320334683,-0.6776804959211233,-0.6781082052586811,3.7411534905701274,12.301597249348049,-9.589313896883127,4.808149510331205,19.69432828466401,9.621530147766649,14.528668927218831,13.768192801069546,4.332992782457325,11.897875542868576,18.972440947288973,9.187456075124828,14.144891385556463,16.21449105260237,-17.636645038521323,4.236438513479854,8.567724513892486,-12.977724476965022,7.611677862872028,10.81694130397024,-0.5752207743499014,4.922653207379625,12.196387651726894,3.2530871523040474,-1.4954374799067836,-15.27509442651079,3.0003808076547216,9.845791525272688,13.051104825533919,13.449986953956056,4.352300077012373,6.059418883040266,10.130185337108472,9.316468933515665,13.756409534137802,-12.896701756238286,8.047281825791202,10.229537521391094,-9.580982459997003,9.218787180772608,2.9256690484577916,5.39393981293685,-11.339655900713154,-4.844853155341454,-1.3247933281786288,13.39605382351104,5.612929403123559,-5.477215589097412,2.06430404488313,-11.423612839995627,-22.206406889745622,-20.492724261001,2.2548811232922787,-4.607168053000862,-20.434912897661235,23.81211644552306,-15.394306271350558,0.030296844299812165,-7.044852967532165,6.503917366803833,22.92696297101118,-2.9948017750215143,2.485096903838567,3.507559429947534,-7.577438243811116,-3.1606126922906697,-7.838248431165454,14.258131091023273,-3.3521456181568396,1.4175893125448198,-5.854134091919391,-22.2294145684436,4.300415244485151,16.207969499870202,-15.59623069637037,3.2858389932950445,-5.110430983254034,-4.666355524846054,15.001865707438839,5.055562310485797,12.168281078420165,14.696672259890178,1.0959962939195123,-5.552384085254275,2.8829656546511018,-14.020979318656714,-17.557054219982874,4.063315472705256,3.853791271001967,1.2256211480251125,5.115999961887468,-5.992674387492173,1.7429747305631338,8.701113895926298,-9.339084027288294,2.6422567311090717,5.80417027446488,6.967291278048393,14.664497327997807,-1.4746245458333078,10.205779036057251,-2.155456019153391,0.22001054659942554,-18.929198342327226,-4.445616492660548,15.632857085720644,-0.7595830819199705,19.1475075867057,12.949826458665513,-8.56404335571743,15.078301626804091,-20.92305919445674,-2.431564032666998,6.535670823415295,-15.448891772479328,5.651087507116685,15.563890991346511,3.360180051121347,-22.609688184473995,0.9172784414951849,-6.632379934142563,9.654015615951039,-4.619271263964322,19.945267903293228,14.409673115083038,-4.871588206529168,14.47257283531276,5.700568597334154,10.768940899396682,11.996168358023382,-9.809621256891546,-9.746511421224767,-11.55757630929287,-2.3984138635768204,-1.4827994778620877,0.15804198366211608,8.237559894686285,17.09154548641397,-14.702461895741536,20.929496730357883,-8.663748298642659,-27.493674635786533,7.360025569005245,-7.602966693113046,-7.978169137461265,15.911217744733563,-9.826801160640827,-9.321345224344057,-11.91406173518611,3.9487388395887564,4.5992765363074,-0.6827192541825013,3.887083477448442,23.36676106272411,6.560348068982094,-18.8359738385642,-4.243019790379179,-22.610851725086263,1.9851061469458813,-7.864708826571871,21.501458561809315,-14.388284110240306,6.049222926965811,8.121237734204755,-2.634682386343698,6.8123413857020125,8.58445766566031,7.965070127375654,0.28801373506155414,-8.266184663692783,-0.19683850356790344,-2.3729492144220075,-3.3609613891618864,-18.376512139640795,2.360358390661375,-13.168975904587668,-6.717157856790806,4.2034915144198095,9.177493682464245,16.19367593979021,-0.14713863458679555,-0.48840695532030054,8.24882929475487,0.8841267703230073,8.333005253181994,-10.42309535415201,-12.506246107569496,-5.1954002788604186,22.16173067315161,0.4919006154469088,19.55260731851469,-4.921325286420341,7.31895249464457,-6.877878091741152,-7.989698084803237,3.962571063246216,9.928143540319127,-6.135948600940807,-8.232860311479499,5.074113341891589,-15.391637692644125,-4.402631638422861,-7.620806102914862,-14.347779386303372,-0.39323746490782696,-2.1631125346912228,-10.987033310457505,11.067783986311241,-0.8845780894921376,-3.575786717034518,-17.08475578927559,-18.364247820110435,7.495978238946321,-7.464088333614839,7.660340791595942,7.562005804987521,3.4856613967901353,5.238190146227595,-7.428337127218413,1.0884555648466687,24.203485472993606,2.9830256043452152,2.9726942955333016,5.102323166585478,-9.863690379569903,24.849552532246648,-18.67927442500506,0.4032997973389456,-5.2839327556929305,0.4552030658221611,9.01176019418348,13.348049989317232,8.710368326586732,10.923358905660876,7.007621193307486,-9.577342570165769,-8.272344245768835,19.622335491912054,-0.8617352660388349,-8.989511321703205,-0.2044855223494153,-26.603163180678152,1.8912582945513776,10.809804872828124,4.259037507091023,12.647764716798989,-17.119843324833795,6.306004324367393,-2.9791070438338636,-3.271411281649449,-5.3704983882548305,-15.521260152621537,8.894071173131408,9.822803063265383,8.947033659762084,15.558926931754982,9.739164618131625,7.709868426427676,6.146156298544952,7.786585044959168,-2.7601594998643293,-0.26176533225515186,-6.834506813096112,-0.3592994143347994,0.15306883713859065,-7.22377313367214,11.746157741477319,3.1704866501764,-5.292906810757415,-1.0414287170863332,-16.410702435137367,5.149726749108922,12.098752213275276,3.353600117896306,-2.8367506194754526,-32.180193966138404,-10.132109017611683,-3.2021842526833666,-2.2777684296631335,4.450552046945177,15.417159281615511,27.293879892608004,-6.271118924973521,-7.581045613765838,21.08291416930578,-12.54430094932789,17.679537318350498,-12.87827349081374,-14.327267393326125,-19.360502656297385,5.938532964004594,-2.939516383448705,1.043370159596563,-9.685050564158246,5.2442911183865135,2.5321096131727785,-5.5171465650235945,11.935909831366303,-3.0480425421925617,11.941234955340136,3.1848238510304583,5.477350812921657,-0.0016659867347073032,-2.267541834514745,-8.421737073511295,-2.2543138596323757,16.335825317746426,-3.6067616802142766,1.5708747789268642,0.6608444674075997,1.4554775508871245,11.60749637981624,11.743577320203201,-13.90105373193191,-5.36604573289145,-3.2306581684049434,20.987302341760056,16.135165600051636,-15.809460147482511,10.489665521158997,6.154143881978285,9.679058375057949,4.311484889991817,5.563534583239246,-17.741251936428583,-2.169184383095427,-7.34227417720966,12.523330189396745,-12.491614106143459,-7.472945830462535,13.32867536081502,1.0530176074316273,-1.0404395285846277,12.878649850203786,-11.903615729862892,-8.224070804011276,-3.5703389532945096,-1.494375383514324,10.372535127647822,-1.8292556550608055,-1.180978493278289,15.484605151255437,8.943670079969749,-1.3281934377671831,10.572113080708704,-1.640454165027819,1.775972113899627,12.960012851090212,-10.90553988920098,-16.469828642015415,15.74930220987541,5.57882941135388,-4.021012270731063,-0.33616964380239267,-3.902048846459934,17.0498067475188,11.980150097594333,6.389922907583454,-19.184377447142566,11.054245723227979,0.9113493050215311,-11.085750531041754,-3.627638715187139,13.697424889559557,8.296823392074117,-4.663703575320255,-0.4190158924797487,5.212218877374852,-20.218118887370636,-1.3542440330265606,3.1499385359536376,11.764891043720468,9.628865833022928,10.291373378523929,-0.0012577028923459466,-0.6010604930828265,9.061277898083034,-15.432258769380667,1.845593170822056,6.232341283618112,2.0084056922259776,-0.5428086163596078,2.331026928422716,6.601023281961034,5.370373333714127,11.302426127478341,-7.597125048429405,-7.565873228352217,8.452864600826857,-2.2158095978485193,4.492948538378528,-4.655583591661227,-5.052056107539855,-15.6054978655676,4.447502461501742,-0.6157518845928678,-6.791726863322424,-7.3375962456194515,-5.476234279531312,3.7581151315422687,3.2825317609894995,6.347964536600713,2.454097240438614,13.553421028866197,-4.167084563328459,-5.67216748128692,11.612626835538606,-5.679373029802221,1.4790163052000054,6.3201853691167,-1.583101284306565,8.769087061984749,9.952163685507514,-0.1524491633011138,-20.711539113292645,-17.57194038515661,-0.48685132509666573,10.814668190636908,-10.88403569406887,9.74204878239955,21.175889700049453,2.9883031657099934,-0.29497310095459284,9.311557769141018,12.419362970211097,-6.164782805217939,-5.079864915073443,-21.303588596376514,22.506448005322156,9.463082513382162,7.711881907533083,2.8742730083064316,6.4589931065791575,2.7090612365307294,-9.116881399234984,-7.7743691588195105,7.333283387211992,-8.08873139550478,-1.2689988267525223,1.1433231805810777,-2.5990726855915938,7.610063146563306,7.152058432030984,3.510269744519306,-6.568650815699144,-25.247795328655158,13.192813221499222,-18.360130931872988,2.9229814792698647,-17.58739865231469,-8.987621506710852,3.4288433609121682,3.636412449268562,6.380975909204295,-6.963688224657702,-3.676744791918253,5.497352997196856,-16.458643798369152,-5.540586742748147,-10.26733379034036,-6.004213513830678,-10.64855325095337,-5.131036853834303,5.869721005541265,6.987442658694391,10.895707188570967,1.7537480662388134,4.421046000955613,-1.1740678619700589,-19.82250547544676,3.8840768161347654,-15.27690107332728,-0.13044565557569854,-7.042130947045493,2.201396251538185,-12.726655305497445,12.662208279795038,4.03058581860499,-3.4134904163882993,-2.5795797178531785,-10.78525005737795,0.3210801308727014,-9.787739306171062,7.0282502226078805,-13.677629620354239,-11.764491126695674,0.2688721241638632,14.046969997921337,-1.6353347978717636,-3.9304234470942845,-6.246951472013734,12.848847912101874,-8.268787419429415,-15.006214747147865,-2.0986948957511373,16.86518672969983,0.2849496770645601,-1.2387171552773424,8.11288499351079,-7.908288766000055,-14.688446861069622,3.9530067510549713,-1.0208142917130374,-13.640383115113295,4.955027013294682,2.209531951097233,-6.497576188914806,1.4027049866108001,-17.13174075202761,-15.578680439552258,2.5154177465492467,8.163644871143717,4.243220781282744,14.414333783017696,8.5203804782399,9.582060840417228,-5.121277173059255,-0.03393506160284687,-13.832569175571777,5.016902956179578,7.106688901093705,-20.48351896536306,8.90451346150114,-1.1418043714934782,-4.523363359812436,8.404430982333992,8.54706998704063,0.6240520425104421,3.216435487551749,0.5705006733586231,6.638630229584479,-11.907612654522836,6.272821101900092,0.30090635499094276,0.8056963992565613,-11.185937319762601,-7.756775705413801,6.735528432465941,-7.3791810614790165,-2.7381104896580837,-9.946633183864265,-5.685687680134933,24.28997622294097,-2.5436112912453694,-8.501856021189255,-7.179096943271489,7.0673021971529835,10.08298544493202,13.667878761087437,12.129883596763861,2.8326677572007455,-2.890656426042767,-3.6591362156403022,-7.177475635065036,24.300678758537494,-3.5839946681387573,19.855668487943646,-3.0794982499747903,-4.141370112022869,4.693807579262369,-15.399044967445846,-0.5390231565603045,-18.927274283438948,-6.466048330615422,-23.328456847150306,-6.2915209425678285,2.449042050994322,11.951779186073551,2.631946267551001,0.8145079648252107,-0.10936610121918022,-12.617517707304103,-2.8787223719232173,5.1149015084167075,-22.49170634334041,-2.913481327272777,7.125251436452686,7.133352188390461,-4.643703290317902,23.0854660647138,-4.257827804687949,6.140283582327974,16.531903217861455,17.94260029301229,-5.524812152889339,-13.254011202240122,5.302595031108794,3.362040594921254,-17.97768790875527,12.395722951424275,10.228801440692834,-2.7645328283751383],\"xaxis\":\"x\",\"yaxis\":\"y\",\"type\":\"histogram\"}],                        {\"template\":{\"data\":{\"histogram2dcontour\":[{\"type\":\"histogram2dcontour\",\"colorbar\":{\"outlinewidth\":0,\"ticks\":\"\"},\"colorscale\":[[0.0,\"#0d0887\"],[0.1111111111111111,\"#46039f\"],[0.2222222222222222,\"#7201a8\"],[0.3333333333333333,\"#9c179e\"],[0.4444444444444444,\"#bd3786\"],[0.5555555555555556,\"#d8576b\"],[0.6666666666666666,\"#ed7953\"],[0.7777777777777778,\"#fb9f3a\"],[0.8888888888888888,\"#fdca26\"],[1.0,\"#f0f921\"]]}],\"choropleth\":[{\"type\":\"choropleth\",\"colorbar\":{\"outlinewidth\":0,\"ticks\":\"\"}}],\"histogram2d\":[{\"type\":\"histogram2d\",\"colorbar\":{\"outlinewidth\":0,\"ticks\":\"\"},\"colorscale\":[[0.0,\"#0d0887\"],[0.1111111111111111,\"#46039f\"],[0.2222222222222222,\"#7201a8\"],[0.3333333333333333,\"#9c179e\"],[0.4444444444444444,\"#bd3786\"],[0.5555555555555556,\"#d8576b\"],[0.6666666666666666,\"#ed7953\"],[0.7777777777777778,\"#fb9f3a\"],[0.8888888888888888,\"#fdca26\"],[1.0,\"#f0f921\"]]}],\"heatmap\":[{\"type\":\"heatmap\",\"colorbar\":{\"outlinewidth\":0,\"ticks\":\"\"},\"colorscale\":[[0.0,\"#0d0887\"],[0.1111111111111111,\"#46039f\"],[0.2222222222222222,\"#7201a8\"],[0.3333333333333333,\"#9c179e\"],[0.4444444444444444,\"#bd3786\"],[0.5555555555555556,\"#d8576b\"],[0.6666666666666666,\"#ed7953\"],[0.7777777777777778,\"#fb9f3a\"],[0.8888888888888888,\"#fdca26\"],[1.0,\"#f0f921\"]]}],\"heatmapgl\":[{\"type\":\"heatmapgl\",\"colorbar\":{\"outlinewidth\":0,\"ticks\":\"\"},\"colorscale\":[[0.0,\"#0d0887\"],[0.1111111111111111,\"#46039f\"],[0.2222222222222222,\"#7201a8\"],[0.3333333333333333,\"#9c179e\"],[0.4444444444444444,\"#bd3786\"],[0.5555555555555556,\"#d8576b\"],[0.6666666666666666,\"#ed7953\"],[0.7777777777777778,\"#fb9f3a\"],[0.8888888888888888,\"#fdca26\"],[1.0,\"#f0f921\"]]}],\"contourcarpet\":[{\"type\":\"contourcarpet\",\"colorbar\":{\"outlinewidth\":0,\"ticks\":\"\"}}],\"contour\":[{\"type\":\"contour\",\"colorbar\":{\"outlinewidth\":0,\"ticks\":\"\"},\"colorscale\":[[0.0,\"#0d0887\"],[0.1111111111111111,\"#46039f\"],[0.2222222222222222,\"#7201a8\"],[0.3333333333333333,\"#9c179e\"],[0.4444444444444444,\"#bd3786\"],[0.5555555555555556,\"#d8576b\"],[0.6666666666666666,\"#ed7953\"],[0.7777777777777778,\"#fb9f3a\"],[0.8888888888888888,\"#fdca26\"],[1.0,\"#f0f921\"]]}],\"surface\":[{\"type\":\"surface\",\"colorbar\":{\"outlinewidth\":0,\"ticks\":\"\"},\"colorscale\":[[0.0,\"#0d0887\"],[0.1111111111111111,\"#46039f\"],[0.2222222222222222,\"#7201a8\"],[0.3333333333333333,\"#9c179e\"],[0.4444444444444444,\"#bd3786\"],[0.5555555555555556,\"#d8576b\"],[0.6666666666666666,\"#ed7953\"],[0.7777777777777778,\"#fb9f3a\"],[0.8888888888888888,\"#fdca26\"],[1.0,\"#f0f921\"]]}],\"mesh3d\":[{\"type\":\"mesh3d\",\"colorbar\":{\"outlinewidth\":0,\"ticks\":\"\"}}],\"scatter\":[{\"fillpattern\":{\"fillmode\":\"overlay\",\"size\":10,\"solidity\":0.2},\"type\":\"scatter\"}],\"parcoords\":[{\"type\":\"parcoords\",\"line\":{\"colorbar\":{\"outlinewidth\":0,\"ticks\":\"\"}}}],\"scatterpolargl\":[{\"type\":\"scatterpolargl\",\"marker\":{\"colorbar\":{\"outlinewidth\":0,\"ticks\":\"\"}}}],\"bar\":[{\"error_x\":{\"color\":\"#2a3f5f\"},\"error_y\":{\"color\":\"#2a3f5f\"},\"marker\":{\"line\":{\"color\":\"#E5ECF6\",\"width\":0.5},\"pattern\":{\"fillmode\":\"overlay\",\"size\":10,\"solidity\":0.2}},\"type\":\"bar\"}],\"scattergeo\":[{\"type\":\"scattergeo\",\"marker\":{\"colorbar\":{\"outlinewidth\":0,\"ticks\":\"\"}}}],\"scatterpolar\":[{\"type\":\"scatterpolar\",\"marker\":{\"colorbar\":{\"outlinewidth\":0,\"ticks\":\"\"}}}],\"histogram\":[{\"marker\":{\"pattern\":{\"fillmode\":\"overlay\",\"size\":10,\"solidity\":0.2}},\"type\":\"histogram\"}],\"scattergl\":[{\"type\":\"scattergl\",\"marker\":{\"colorbar\":{\"outlinewidth\":0,\"ticks\":\"\"}}}],\"scatter3d\":[{\"type\":\"scatter3d\",\"line\":{\"colorbar\":{\"outlinewidth\":0,\"ticks\":\"\"}},\"marker\":{\"colorbar\":{\"outlinewidth\":0,\"ticks\":\"\"}}}],\"scattermapbox\":[{\"type\":\"scattermapbox\",\"marker\":{\"colorbar\":{\"outlinewidth\":0,\"ticks\":\"\"}}}],\"scatterternary\":[{\"type\":\"scatterternary\",\"marker\":{\"colorbar\":{\"outlinewidth\":0,\"ticks\":\"\"}}}],\"scattercarpet\":[{\"type\":\"scattercarpet\",\"marker\":{\"colorbar\":{\"outlinewidth\":0,\"ticks\":\"\"}}}],\"carpet\":[{\"aaxis\":{\"endlinecolor\":\"#2a3f5f\",\"gridcolor\":\"white\",\"linecolor\":\"white\",\"minorgridcolor\":\"white\",\"startlinecolor\":\"#2a3f5f\"},\"baxis\":{\"endlinecolor\":\"#2a3f5f\",\"gridcolor\":\"white\",\"linecolor\":\"white\",\"minorgridcolor\":\"white\",\"startlinecolor\":\"#2a3f5f\"},\"type\":\"carpet\"}],\"table\":[{\"cells\":{\"fill\":{\"color\":\"#EBF0F8\"},\"line\":{\"color\":\"white\"}},\"header\":{\"fill\":{\"color\":\"#C8D4E3\"},\"line\":{\"color\":\"white\"}},\"type\":\"table\"}],\"barpolar\":[{\"marker\":{\"line\":{\"color\":\"#E5ECF6\",\"width\":0.5},\"pattern\":{\"fillmode\":\"overlay\",\"size\":10,\"solidity\":0.2}},\"type\":\"barpolar\"}],\"pie\":[{\"automargin\":true,\"type\":\"pie\"}]},\"layout\":{\"autotypenumbers\":\"strict\",\"colorway\":[\"#636efa\",\"#EF553B\",\"#00cc96\",\"#ab63fa\",\"#FFA15A\",\"#19d3f3\",\"#FF6692\",\"#B6E880\",\"#FF97FF\",\"#FECB52\"],\"font\":{\"color\":\"#2a3f5f\"},\"hovermode\":\"closest\",\"hoverlabel\":{\"align\":\"left\"},\"paper_bgcolor\":\"white\",\"plot_bgcolor\":\"#E5ECF6\",\"polar\":{\"bgcolor\":\"#E5ECF6\",\"angularaxis\":{\"gridcolor\":\"white\",\"linecolor\":\"white\",\"ticks\":\"\"},\"radialaxis\":{\"gridcolor\":\"white\",\"linecolor\":\"white\",\"ticks\":\"\"}},\"ternary\":{\"bgcolor\":\"#E5ECF6\",\"aaxis\":{\"gridcolor\":\"white\",\"linecolor\":\"white\",\"ticks\":\"\"},\"baxis\":{\"gridcolor\":\"white\",\"linecolor\":\"white\",\"ticks\":\"\"},\"caxis\":{\"gridcolor\":\"white\",\"linecolor\":\"white\",\"ticks\":\"\"}},\"coloraxis\":{\"colorbar\":{\"outlinewidth\":0,\"ticks\":\"\"}},\"colorscale\":{\"sequential\":[[0.0,\"#0d0887\"],[0.1111111111111111,\"#46039f\"],[0.2222222222222222,\"#7201a8\"],[0.3333333333333333,\"#9c179e\"],[0.4444444444444444,\"#bd3786\"],[0.5555555555555556,\"#d8576b\"],[0.6666666666666666,\"#ed7953\"],[0.7777777777777778,\"#fb9f3a\"],[0.8888888888888888,\"#fdca26\"],[1.0,\"#f0f921\"]],\"sequentialminus\":[[0.0,\"#0d0887\"],[0.1111111111111111,\"#46039f\"],[0.2222222222222222,\"#7201a8\"],[0.3333333333333333,\"#9c179e\"],[0.4444444444444444,\"#bd3786\"],[0.5555555555555556,\"#d8576b\"],[0.6666666666666666,\"#ed7953\"],[0.7777777777777778,\"#fb9f3a\"],[0.8888888888888888,\"#fdca26\"],[1.0,\"#f0f921\"]],\"diverging\":[[0,\"#8e0152\"],[0.1,\"#c51b7d\"],[0.2,\"#de77ae\"],[0.3,\"#f1b6da\"],[0.4,\"#fde0ef\"],[0.5,\"#f7f7f7\"],[0.6,\"#e6f5d0\"],[0.7,\"#b8e186\"],[0.8,\"#7fbc41\"],[0.9,\"#4d9221\"],[1,\"#276419\"]]},\"xaxis\":{\"gridcolor\":\"white\",\"linecolor\":\"white\",\"ticks\":\"\",\"title\":{\"standoff\":15},\"zerolinecolor\":\"white\",\"automargin\":true,\"zerolinewidth\":2},\"yaxis\":{\"gridcolor\":\"white\",\"linecolor\":\"white\",\"ticks\":\"\",\"title\":{\"standoff\":15},\"zerolinecolor\":\"white\",\"automargin\":true,\"zerolinewidth\":2},\"scene\":{\"xaxis\":{\"backgroundcolor\":\"#E5ECF6\",\"gridcolor\":\"white\",\"linecolor\":\"white\",\"showbackground\":true,\"ticks\":\"\",\"zerolinecolor\":\"white\",\"gridwidth\":2},\"yaxis\":{\"backgroundcolor\":\"#E5ECF6\",\"gridcolor\":\"white\",\"linecolor\":\"white\",\"showbackground\":true,\"ticks\":\"\",\"zerolinecolor\":\"white\",\"gridwidth\":2},\"zaxis\":{\"backgroundcolor\":\"#E5ECF6\",\"gridcolor\":\"white\",\"linecolor\":\"white\",\"showbackground\":true,\"ticks\":\"\",\"zerolinecolor\":\"white\",\"gridwidth\":2}},\"shapedefaults\":{\"line\":{\"color\":\"#2a3f5f\"}},\"annotationdefaults\":{\"arrowcolor\":\"#2a3f5f\",\"arrowhead\":0,\"arrowwidth\":1},\"geo\":{\"bgcolor\":\"white\",\"landcolor\":\"#E5ECF6\",\"subunitcolor\":\"white\",\"showland\":true,\"showlakes\":true,\"lakecolor\":\"white\"},\"title\":{\"x\":0.05},\"mapbox\":{\"style\":\"light\"}}},\"xaxis\":{\"anchor\":\"y\",\"domain\":[0.0,1.0],\"title\":{\"text\":\"error\"}},\"yaxis\":{\"anchor\":\"x\",\"domain\":[0.0,1.0],\"title\":{\"text\":\"count\"}},\"legend\":{\"tracegroupgap\":0},\"margin\":{\"t\":60},\"barmode\":\"relative\",\"width\":800},                        {\"responsive\": true}                    ).then(function(){\n",
              "                            \n",
              "var gd = document.getElementById('f909dae3-ba51-4eef-b0ec-4ad3b8a9cbdb');\n",
              "var x = new MutationObserver(function (mutations, observer) {{\n",
              "        var display = window.getComputedStyle(gd).display;\n",
              "        if (!display || display === 'none') {{\n",
              "            console.log([gd, 'removed!']);\n",
              "            Plotly.purge(gd);\n",
              "            observer.disconnect();\n",
              "        }}\n",
              "}});\n",
              "\n",
              "// Listen for the removal of the full notebook cells\n",
              "var notebookContainer = gd.closest('#notebook-container');\n",
              "if (notebookContainer) {{\n",
              "    x.observe(notebookContainer, {childList: true});\n",
              "}}\n",
              "\n",
              "// Listen for the clearing of the current output cell\n",
              "var outputEl = gd.closest('.output');\n",
              "if (outputEl) {{\n",
              "    x.observe(outputEl, {childList: true});\n",
              "}}\n",
              "\n",
              "                        })                };                            </script>        </div>\n",
              "</body>\n",
              "</html>"
            ]
          },
          "metadata": {}
        }
      ]
    },
    {
      "cell_type": "markdown",
      "metadata": {
        "id": "ZVr1O1j3FFiM"
      },
      "source": [
        "### <a name='a3'></a> 2.2 Mean Absolute Error\n",
        "### $$MAE = \\frac{1}{n}\\sum_{i=1}^{N}|y_{true} - y_{pred}|$$"
      ]
    },
    {
      "cell_type": "code",
      "metadata": {
        "id": "4fwXpVNyFXBl",
        "outputId": "50b2806b-5e82-45be-e98b-44f0c4ba2653",
        "colab": {
          "base_uri": "https://localhost:8080/"
        }
      },
      "source": [
        "def mean_absolute_error(y_true, y_pred):\n",
        "    return abs(y_true - y_pred).sum() / len(y_true)\n",
        "\n",
        "mean_absolute_error(y_true, y_pred)"
      ],
      "execution_count": 17,
      "outputs": [
        {
          "output_type": "execute_result",
          "data": {
            "text/plain": [
              "np.float64(8.362683584167227)"
            ]
          },
          "metadata": {},
          "execution_count": 17
        }
      ]
    },
    {
      "cell_type": "code",
      "metadata": {
        "id": "MAFdk_hk2sld",
        "outputId": "15ece966-4869-49d3-80f5-2e1f93e02d22",
        "colab": {
          "base_uri": "https://localhost:8080/"
        }
      },
      "source": [
        "from sklearn.metrics import mean_absolute_error\n",
        "mean_absolute_error(y_true, y_pred)"
      ],
      "execution_count": 19,
      "outputs": [
        {
          "output_type": "execute_result",
          "data": {
            "text/plain": [
              "8.362683584167227"
            ]
          },
          "metadata": {},
          "execution_count": 19
        }
      ]
    },
    {
      "cell_type": "code",
      "metadata": {
        "id": "nOINyAyqErWz",
        "outputId": "bb88ed0f-96c7-4253-c96c-d1829e3191c4",
        "colab": {
          "base_uri": "https://localhost:8080/",
          "height": 35
        }
      },
      "source": [
        "from sklearn.metrics import mean_absolute_error\n",
        "mean_absolute_error(y_true, y_pred)"
      ],
      "execution_count": null,
      "outputs": [
        {
          "output_type": "execute_result",
          "data": {
            "text/plain": [
              "7.8227757679314625"
            ]
          },
          "metadata": {
            "tags": []
          },
          "execution_count": 11
        }
      ]
    },
    {
      "cell_type": "markdown",
      "metadata": {
        "id": "dbAtacGCGjaR"
      },
      "source": [
        "### <a name='a4'></a> 2.3 Mean Squared Error\n",
        "### $$MSE = \\frac{1}{n}\\sum_{i=1}^{N}(y_{true} - y_{pred})^{2}$$"
      ]
    },
    {
      "cell_type": "code",
      "metadata": {
        "id": "rikMpoD9E91I",
        "outputId": "82e6715e-b72c-446a-9ad4-187490c07405",
        "colab": {
          "base_uri": "https://localhost:8080/"
        }
      },
      "source": [
        "def mean_squared_error(y_true, y_pred):\n",
        "    return ((y_true - y_pred) ** 2).sum() / len(y_true)\n",
        "\n",
        "mean_squared_error(y_true, y_pred)"
      ],
      "execution_count": 20,
      "outputs": [
        {
          "output_type": "execute_result",
          "data": {
            "text/plain": [
              "np.float64(110.02409730881544)"
            ]
          },
          "metadata": {},
          "execution_count": 20
        }
      ]
    },
    {
      "cell_type": "code",
      "metadata": {
        "id": "EqFpKWU93RcM",
        "outputId": "d51576c2-aebb-4bc1-d96f-8b7232b87377",
        "colab": {
          "base_uri": "https://localhost:8080/"
        }
      },
      "source": [
        "from sklearn.metrics import mean_squared_error\n",
        "\n",
        "mean_squared_error(y_true, y_pred)"
      ],
      "execution_count": 22,
      "outputs": [
        {
          "output_type": "execute_result",
          "data": {
            "text/plain": [
              "110.02409730881544"
            ]
          },
          "metadata": {},
          "execution_count": 22
        }
      ]
    },
    {
      "cell_type": "code",
      "metadata": {
        "id": "BxQx5HFaGzi5",
        "outputId": "a7911c89-1a8f-48cf-af60-684e13565672",
        "colab": {
          "base_uri": "https://localhost:8080/"
        }
      },
      "source": [
        "from sklearn.metrics import mean_squared_error\n",
        "\n",
        "mean_squared_error(y_true, y_pred)"
      ],
      "execution_count": 23,
      "outputs": [
        {
          "output_type": "execute_result",
          "data": {
            "text/plain": [
              "110.02409730881544"
            ]
          },
          "metadata": {},
          "execution_count": 23
        }
      ]
    },
    {
      "cell_type": "markdown",
      "metadata": {
        "id": "SKJJg3jNG-xj"
      },
      "source": [
        "### <a name='a5'></a> 2.4 Root Mean Squared Error\n",
        "### $$RMSE = \\sqrt{MSE}$$"
      ]
    },
    {
      "cell_type": "code",
      "metadata": {
        "id": "ZoEokLM8G8JO",
        "outputId": "f2105d66-d00d-431e-919c-95f65be7f6dd",
        "colab": {
          "base_uri": "https://localhost:8080/"
        }
      },
      "source": [
        "def root_mean_squared_error(y_true, y_pred):\n",
        "    return np.sqrt(((y_true - y_pred) ** 2).sum() / len(y_true))\n",
        "\n",
        "root_mean_squared_error(y_true, y_pred)"
      ],
      "execution_count": 24,
      "outputs": [
        {
          "output_type": "execute_result",
          "data": {
            "text/plain": [
              "np.float64(10.489237212915697)"
            ]
          },
          "metadata": {},
          "execution_count": 24
        }
      ]
    },
    {
      "cell_type": "code",
      "metadata": {
        "id": "VEdgXl5PHdEQ",
        "outputId": "1a60b463-73a8-4264-c9b5-5dfbc6f68350",
        "colab": {
          "base_uri": "https://localhost:8080/"
        }
      },
      "source": [
        "np.sqrt(mean_squared_error(y_true, y_pred))"
      ],
      "execution_count": 25,
      "outputs": [
        {
          "output_type": "execute_result",
          "data": {
            "text/plain": [
              "np.float64(10.489237212915697)"
            ]
          },
          "metadata": {},
          "execution_count": 25
        }
      ]
    },
    {
      "cell_type": "markdown",
      "metadata": {
        "id": "wzS5t7dzIH-x"
      },
      "source": [
        "### <a name='a6'></a> 2.5 Max Error"
      ]
    },
    {
      "cell_type": "code",
      "metadata": {
        "id": "0v4d3b_FHsYO"
      },
      "source": [
        "def max_error(y_true, y_pred):\n",
        "    return abs(y_true - y_pred).max()"
      ],
      "execution_count": 26,
      "outputs": []
    },
    {
      "cell_type": "code",
      "metadata": {
        "id": "IbSGizXdH1Fc",
        "outputId": "1e5c8fff-e87b-45d7-d7f7-f283fc834a1d",
        "colab": {
          "base_uri": "https://localhost:8080/"
        }
      },
      "source": [
        "max_error(y_true, y_pred)"
      ],
      "execution_count": 27,
      "outputs": [
        {
          "output_type": "execute_result",
          "data": {
            "text/plain": [
              "np.float64(38.788207445541346)"
            ]
          },
          "metadata": {},
          "execution_count": 27
        }
      ]
    },
    {
      "cell_type": "code",
      "metadata": {
        "id": "NQPVS0cSIAsC",
        "outputId": "94fbcb98-16ac-4778-8e62-bff56a8e7ca0",
        "colab": {
          "base_uri": "https://localhost:8080/"
        }
      },
      "source": [
        "from sklearn.metrics import max_error\n",
        "\n",
        "max_error(y_true, y_pred)"
      ],
      "execution_count": 32,
      "outputs": [
        {
          "output_type": "execute_result",
          "data": {
            "text/plain": [
              "np.float64(38.788207445541346)"
            ]
          },
          "metadata": {},
          "execution_count": 32
        }
      ]
    },
    {
      "cell_type": "markdown",
      "metadata": {
        "id": "xRrH2NA5IYt9"
      },
      "source": [
        "### <a name='a7'></a> 2.6 R2 score - współczynnik determinacji\n",
        "### $$R2\\_score = 1 - \\frac{\\sum_{i=1}^{N}(y_{true} - y_{pred})^{2}}{\\sum_{i=1}^{N}(y_{true} - \\overline{y_{true}})^{2}}$$"
      ]
    },
    {
      "cell_type": "code",
      "metadata": {
        "id": "ePP8ovwPIGu0",
        "outputId": "66cfcc88-ee32-4f2a-d0fb-ffb96e0b3c25",
        "colab": {
          "base_uri": "https://localhost:8080/"
        }
      },
      "source": [
        "from sklearn.metrics import r2_score\n",
        "\n",
        "r2_score(y_true, y_pred)"
      ],
      "execution_count": 29,
      "outputs": [
        {
          "output_type": "execute_result",
          "data": {
            "text/plain": [
              "0.70478374166668"
            ]
          },
          "metadata": {},
          "execution_count": 29
        }
      ]
    },
    {
      "cell_type": "code",
      "metadata": {
        "id": "GWtiZRcPIsdP"
      },
      "source": [
        "def r2_score(y_true, y_pred):\n",
        "    numerator = ((y_true - y_pred) ** 2).sum()\n",
        "    denominator = ((y_true - y_true.mean()) ** 2).sum()\n",
        "    try:\n",
        "        r2 = 1 - numerator / denominator\n",
        "    except ZeroDivisionError:\n",
        "        print('Dzielenie przez zero')\n",
        "    return r2"
      ],
      "execution_count": 30,
      "outputs": []
    },
    {
      "cell_type": "code",
      "metadata": {
        "id": "q4LYk_8oJNTP",
        "outputId": "779a361f-76f7-438d-9be0-8e22d793518c",
        "colab": {
          "base_uri": "https://localhost:8080/"
        }
      },
      "source": [
        "r2_score(y_true, y_pred)"
      ],
      "execution_count": 31,
      "outputs": [
        {
          "output_type": "execute_result",
          "data": {
            "text/plain": [
              "np.float64(0.70478374166668)"
            ]
          },
          "metadata": {},
          "execution_count": 31
        }
      ]
    }
  ]
}