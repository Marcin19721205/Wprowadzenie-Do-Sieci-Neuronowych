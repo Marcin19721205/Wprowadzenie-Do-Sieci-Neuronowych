{
  "nbformat": 4,
  "nbformat_minor": 0,
  "metadata": {
    "colab": {
      "name": "Untitled30.ipynb",
      "provenance": [],
      "include_colab_link": true
    },
    "kernelspec": {
      "name": "python3",
      "display_name": "Python 3"
    },
    "accelerator": "GPU"
  },
  "cells": [
    {
      "cell_type": "markdown",
      "metadata": {
        "id": "view-in-github",
        "colab_type": "text"
      },
      "source": [
        "<a href=\"https://colab.research.google.com/github/krakowiakpawel9/neural-network-course/blob/master/02_basics/02_activation_functions.ipynb\" target=\"_parent\"><img src=\"https://colab.research.google.com/assets/colab-badge.svg\" alt=\"Open In Colab\"/></a>"
      ]
    },
    {
      "cell_type": "markdown",
      "metadata": {
        "id": "aJK8zEFX-rCh",
        "colab_type": "text"
      },
      "source": [
        "### Spis treści:\n",
        "1. [Funkcje aktywacji](#a0)\n",
        "    1. [Import bibliotek](#a1)\n",
        "    2. [ReLU Function - Rectified Linear Unit](#a2)\n",
        "    3. [Funkcja Sigmoid](#a3)\n",
        "    4. [Tanh Function](#a4)\n",
        "    5. [Funkcja Softmax](#a5)\n",
        "  "
      ]
    },
    {
      "cell_type": "markdown",
      "metadata": {
        "id": "9VIrbuFPxsat",
        "colab_type": "text"
      },
      "source": [
        "### <a name='a0'></a> 1. Funkcje Aktywacji\n",
        "#### <a name='a1'></a> 1.1 Import bibliotek"
      ]
    },
    {
      "cell_type": "code",
      "metadata": {
        "id": "Kl3iA-gm_j1d",
        "colab_type": "code",
        "colab": {}
      },
      "source": [
        "import numpy as np\n",
        "import pandas as pd\n",
        "import matplotlib.pyplot as plt\n",
        "import plotly.graph_objects as go\n",
        "import plotly.express as px\n",
        "import math\n",
        "\n",
        "np.set_printoptions(precision=6)"
      ],
      "execution_count": 0,
      "outputs": []
    },
    {
      "cell_type": "markdown",
      "metadata": {
        "id": "5VH4XY41_QIk",
        "colab_type": "text"
      },
      "source": [
        "#### <a name='a2'></a> 1.2 ReLU Function - Rectified Linear Unit\n",
        "####     $$f(x) = max(x, 0)$$\n"
      ]
    },
    {
      "cell_type": "code",
      "metadata": {
        "id": "g5-Jsx0ww6BH",
        "colab_type": "code",
        "colab": {}
      },
      "source": [
        "def max_relu(x):\n",
        "    return max(x, 0.0)"
      ],
      "execution_count": 0,
      "outputs": []
    },
    {
      "cell_type": "code",
      "metadata": {
        "id": "QigwpBCzyj0I",
        "colab_type": "code",
        "outputId": "b20b405b-6018-4cc4-d594-2e7c6e0c8d6c",
        "colab": {
          "base_uri": "https://localhost:8080/",
          "height": 108
        }
      },
      "source": [
        "for i in [-10., -5., 0., 5., 10.]:\n",
        "    print(max_relu(i))"
      ],
      "execution_count": 0,
      "outputs": [
        {
          "output_type": "stream",
          "text": [
            "0.0\n",
            "0.0\n",
            "0.0\n",
            "5.0\n",
            "10.0\n"
          ],
          "name": "stdout"
        }
      ]
    },
    {
      "cell_type": "code",
      "metadata": {
        "id": "vkwyQ5ga_-cR",
        "colab_type": "code",
        "outputId": "5d6dbed2-eec6-46cb-a058-e024d90126bf",
        "colab": {
          "base_uri": "https://localhost:8080/",
          "height": 926
        }
      },
      "source": [
        "data = np.random.randn(50)\n",
        "data = sorted(data)\n",
        "data"
      ],
      "execution_count": 0,
      "outputs": [
        {
          "output_type": "execute_result",
          "data": {
            "text/plain": [
              "[-2.1322131508839104,\n",
              " -1.8409273792826395,\n",
              " -1.5574892237955946,\n",
              " -1.4937644093567277,\n",
              " -1.416498658038547,\n",
              " -1.2552792738658423,\n",
              " -1.0747898781652936,\n",
              " -0.9841344791659985,\n",
              " -0.9785409805513003,\n",
              " -0.883046796936672,\n",
              " -0.8708802548118862,\n",
              " -0.762629714544661,\n",
              " -0.604736939437858,\n",
              " -0.5694557464994765,\n",
              " -0.5053398096349772,\n",
              " -0.43871371153876626,\n",
              " -0.36584740033693436,\n",
              " -0.3306003179524632,\n",
              " -0.32431115186952697,\n",
              " -0.28187337836925713,\n",
              " -0.00952326823609465,\n",
              " 0.01083186858917424,\n",
              " 0.039199844761009205,\n",
              " 0.04611735785621358,\n",
              " 0.11923207707525554,\n",
              " 0.12828857711178088,\n",
              " 0.13051856921551044,\n",
              " 0.2746065999915435,\n",
              " 0.34685073967338687,\n",
              " 0.3493138660799176,\n",
              " 0.3836628806695486,\n",
              " 0.5153994346631856,\n",
              " 0.5934172849170293,\n",
              " 0.6413015953788903,\n",
              " 0.654448826789721,\n",
              " 0.7062741669194295,\n",
              " 0.7139461430585461,\n",
              " 0.7550549454676604,\n",
              " 0.7934473243485926,\n",
              " 0.9159932006564012,\n",
              " 0.9847201435920908,\n",
              " 1.067352346036559,\n",
              " 1.0853716702575285,\n",
              " 1.21160873095605,\n",
              " 1.380914165457712,\n",
              " 1.592827349188734,\n",
              " 1.837940978597264,\n",
              " 2.02492532555451,\n",
              " 2.2033803275326242,\n",
              " 2.8924548585065972]"
            ]
          },
          "metadata": {
            "tags": []
          },
          "execution_count": 4
        }
      ]
    },
    {
      "cell_type": "code",
      "metadata": {
        "id": "DfAxh5JmAahe",
        "colab_type": "code",
        "outputId": "56fab904-22fe-499f-e877-8b762df96b7c",
        "colab": {
          "base_uri": "https://localhost:8080/",
          "height": 181
        }
      },
      "source": [
        "# wygenerowanie danych do wykresu\n",
        "max_relu_data = np.array([max_relu(x) for x in data])\n",
        "max_relu_data"
      ],
      "execution_count": 0,
      "outputs": [
        {
          "output_type": "execute_result",
          "data": {
            "text/plain": [
              "array([0.      , 0.      , 0.      , 0.      , 0.      , 0.      ,\n",
              "       0.      , 0.      , 0.      , 0.      , 0.      , 0.      ,\n",
              "       0.      , 0.      , 0.      , 0.      , 0.      , 0.      ,\n",
              "       0.      , 0.      , 0.      , 0.010832, 0.0392  , 0.046117,\n",
              "       0.119232, 0.128289, 0.130519, 0.274607, 0.346851, 0.349314,\n",
              "       0.383663, 0.515399, 0.593417, 0.641302, 0.654449, 0.706274,\n",
              "       0.713946, 0.755055, 0.793447, 0.915993, 0.98472 , 1.067352,\n",
              "       1.085372, 1.211609, 1.380914, 1.592827, 1.837941, 2.024925,\n",
              "       2.20338 , 2.892455])"
            ]
          },
          "metadata": {
            "tags": []
          },
          "execution_count": 5
        }
      ]
    },
    {
      "cell_type": "code",
      "metadata": {
        "id": "Texh_DsIAnzA",
        "colab_type": "code",
        "outputId": "b1842c99-6df5-46ae-9620-767db09f88de",
        "colab": {
          "base_uri": "https://localhost:8080/",
          "height": 198
        }
      },
      "source": [
        "df = pd.DataFrame({'data': data, 'max_relu_data': max_relu_data})\n",
        "df.head()"
      ],
      "execution_count": 0,
      "outputs": [
        {
          "output_type": "execute_result",
          "data": {
            "text/html": [
              "<div>\n",
              "<style scoped>\n",
              "    .dataframe tbody tr th:only-of-type {\n",
              "        vertical-align: middle;\n",
              "    }\n",
              "\n",
              "    .dataframe tbody tr th {\n",
              "        vertical-align: top;\n",
              "    }\n",
              "\n",
              "    .dataframe thead th {\n",
              "        text-align: right;\n",
              "    }\n",
              "</style>\n",
              "<table border=\"1\" class=\"dataframe\">\n",
              "  <thead>\n",
              "    <tr style=\"text-align: right;\">\n",
              "      <th></th>\n",
              "      <th>data</th>\n",
              "      <th>max_relu_data</th>\n",
              "    </tr>\n",
              "  </thead>\n",
              "  <tbody>\n",
              "    <tr>\n",
              "      <th>0</th>\n",
              "      <td>-2.132213</td>\n",
              "      <td>0.0</td>\n",
              "    </tr>\n",
              "    <tr>\n",
              "      <th>1</th>\n",
              "      <td>-1.840927</td>\n",
              "      <td>0.0</td>\n",
              "    </tr>\n",
              "    <tr>\n",
              "      <th>2</th>\n",
              "      <td>-1.557489</td>\n",
              "      <td>0.0</td>\n",
              "    </tr>\n",
              "    <tr>\n",
              "      <th>3</th>\n",
              "      <td>-1.493764</td>\n",
              "      <td>0.0</td>\n",
              "    </tr>\n",
              "    <tr>\n",
              "      <th>4</th>\n",
              "      <td>-1.416499</td>\n",
              "      <td>0.0</td>\n",
              "    </tr>\n",
              "  </tbody>\n",
              "</table>\n",
              "</div>"
            ],
            "text/plain": [
              "       data  max_relu_data\n",
              "0 -2.132213            0.0\n",
              "1 -1.840927            0.0\n",
              "2 -1.557489            0.0\n",
              "3 -1.493764            0.0\n",
              "4 -1.416499            0.0"
            ]
          },
          "metadata": {
            "tags": []
          },
          "execution_count": 6
        }
      ]
    },
    {
      "cell_type": "code",
      "metadata": {
        "id": "r_39ck7EBC2s",
        "colab_type": "code",
        "outputId": "d549d5bd-fa7d-4279-ba40-aada440e554e",
        "colab": {
          "base_uri": "https://localhost:8080/",
          "height": 417
        }
      },
      "source": [
        "px.line(df, x='data', y='max_relu_data', width=700, height=400, title='ReLU Function')"
      ],
      "execution_count": 0,
      "outputs": [
        {
          "output_type": "display_data",
          "data": {
            "text/html": [
              "<html>\n",
              "<head><meta charset=\"utf-8\" /></head>\n",
              "<body>\n",
              "    <div>\n",
              "            <script src=\"https://cdnjs.cloudflare.com/ajax/libs/mathjax/2.7.5/MathJax.js?config=TeX-AMS-MML_SVG\"></script><script type=\"text/javascript\">if (window.MathJax) {MathJax.Hub.Config({SVG: {font: \"STIX-Web\"}});}</script>\n",
              "                <script type=\"text/javascript\">window.PlotlyConfig = {MathJaxConfig: 'local'};</script>\n",
              "        <script src=\"https://cdn.plot.ly/plotly-latest.min.js\"></script>    \n",
              "            <div id=\"26c925d9-9383-432c-ad48-6a860bd6d5d0\" class=\"plotly-graph-div\" style=\"height:400px; width:700px;\"></div>\n",
              "            <script type=\"text/javascript\">\n",
              "                \n",
              "                    window.PLOTLYENV=window.PLOTLYENV || {};\n",
              "                    \n",
              "                if (document.getElementById(\"26c925d9-9383-432c-ad48-6a860bd6d5d0\")) {\n",
              "                    Plotly.newPlot(\n",
              "                        '26c925d9-9383-432c-ad48-6a860bd6d5d0',\n",
              "                        [{\"hoverlabel\": {\"namelength\": 0}, \"hovertemplate\": \"data=%{x}<br>max_relu_data=%{y}\", \"legendgroup\": \"\", \"line\": {\"color\": \"#636efa\", \"dash\": \"solid\"}, \"mode\": \"lines\", \"name\": \"\", \"showlegend\": false, \"type\": \"scatter\", \"x\": [-2.1322131508839104, -1.8409273792826395, -1.5574892237955946, -1.4937644093567277, -1.416498658038547, -1.2552792738658423, -1.0747898781652936, -0.9841344791659985, -0.9785409805513003, -0.883046796936672, -0.8708802548118862, -0.762629714544661, -0.604736939437858, -0.5694557464994765, -0.5053398096349772, -0.43871371153876626, -0.36584740033693436, -0.3306003179524632, -0.32431115186952697, -0.28187337836925713, -0.00952326823609465, 0.01083186858917424, 0.039199844761009205, 0.04611735785621358, 0.11923207707525554, 0.12828857711178088, 0.13051856921551044, 0.2746065999915435, 0.34685073967338687, 0.3493138660799176, 0.3836628806695486, 0.5153994346631856, 0.5934172849170293, 0.6413015953788903, 0.654448826789721, 0.7062741669194295, 0.7139461430585461, 0.7550549454676604, 0.7934473243485926, 0.9159932006564012, 0.9847201435920908, 1.067352346036559, 1.0853716702575285, 1.21160873095605, 1.380914165457712, 1.592827349188734, 1.837940978597264, 2.02492532555451, 2.2033803275326242, 2.8924548585065972], \"xaxis\": \"x\", \"y\": [0.0, 0.0, 0.0, 0.0, 0.0, 0.0, 0.0, 0.0, 0.0, 0.0, 0.0, 0.0, 0.0, 0.0, 0.0, 0.0, 0.0, 0.0, 0.0, 0.0, 0.0, 0.01083186858917424, 0.039199844761009205, 0.04611735785621358, 0.11923207707525554, 0.12828857711178088, 0.13051856921551044, 0.2746065999915435, 0.34685073967338687, 0.3493138660799176, 0.3836628806695486, 0.5153994346631856, 0.5934172849170293, 0.6413015953788903, 0.654448826789721, 0.7062741669194295, 0.7139461430585461, 0.7550549454676604, 0.7934473243485926, 0.9159932006564012, 0.9847201435920908, 1.067352346036559, 1.0853716702575285, 1.21160873095605, 1.380914165457712, 1.592827349188734, 1.837940978597264, 2.02492532555451, 2.2033803275326242, 2.8924548585065972], \"yaxis\": \"y\"}],\n",
              "                        {\"height\": 400, \"legend\": {\"tracegroupgap\": 0}, \"template\": {\"data\": {\"bar\": [{\"error_x\": {\"color\": \"#2a3f5f\"}, \"error_y\": {\"color\": \"#2a3f5f\"}, \"marker\": {\"line\": {\"color\": \"#E5ECF6\", \"width\": 0.5}}, \"type\": \"bar\"}], \"barpolar\": [{\"marker\": {\"line\": {\"color\": \"#E5ECF6\", \"width\": 0.5}}, \"type\": \"barpolar\"}], \"carpet\": [{\"aaxis\": {\"endlinecolor\": \"#2a3f5f\", \"gridcolor\": \"white\", \"linecolor\": \"white\", \"minorgridcolor\": \"white\", \"startlinecolor\": \"#2a3f5f\"}, \"baxis\": {\"endlinecolor\": \"#2a3f5f\", \"gridcolor\": \"white\", \"linecolor\": \"white\", \"minorgridcolor\": \"white\", \"startlinecolor\": \"#2a3f5f\"}, \"type\": \"carpet\"}], \"choropleth\": [{\"colorbar\": {\"outlinewidth\": 0, \"ticks\": \"\"}, \"type\": \"choropleth\"}], \"contour\": [{\"colorbar\": {\"outlinewidth\": 0, \"ticks\": \"\"}, \"colorscale\": [[0.0, \"#0d0887\"], [0.1111111111111111, \"#46039f\"], [0.2222222222222222, \"#7201a8\"], [0.3333333333333333, \"#9c179e\"], [0.4444444444444444, \"#bd3786\"], [0.5555555555555556, \"#d8576b\"], [0.6666666666666666, \"#ed7953\"], [0.7777777777777778, \"#fb9f3a\"], [0.8888888888888888, \"#fdca26\"], [1.0, \"#f0f921\"]], \"type\": \"contour\"}], \"contourcarpet\": [{\"colorbar\": {\"outlinewidth\": 0, \"ticks\": \"\"}, \"type\": \"contourcarpet\"}], \"heatmap\": [{\"colorbar\": {\"outlinewidth\": 0, \"ticks\": \"\"}, \"colorscale\": [[0.0, \"#0d0887\"], [0.1111111111111111, \"#46039f\"], [0.2222222222222222, \"#7201a8\"], [0.3333333333333333, \"#9c179e\"], [0.4444444444444444, \"#bd3786\"], [0.5555555555555556, \"#d8576b\"], [0.6666666666666666, \"#ed7953\"], [0.7777777777777778, \"#fb9f3a\"], [0.8888888888888888, \"#fdca26\"], [1.0, \"#f0f921\"]], \"type\": \"heatmap\"}], \"heatmapgl\": [{\"colorbar\": {\"outlinewidth\": 0, \"ticks\": \"\"}, \"colorscale\": [[0.0, \"#0d0887\"], [0.1111111111111111, \"#46039f\"], [0.2222222222222222, \"#7201a8\"], [0.3333333333333333, \"#9c179e\"], [0.4444444444444444, \"#bd3786\"], [0.5555555555555556, \"#d8576b\"], [0.6666666666666666, \"#ed7953\"], [0.7777777777777778, \"#fb9f3a\"], [0.8888888888888888, \"#fdca26\"], [1.0, \"#f0f921\"]], \"type\": \"heatmapgl\"}], \"histogram\": [{\"marker\": {\"colorbar\": {\"outlinewidth\": 0, \"ticks\": \"\"}}, \"type\": \"histogram\"}], \"histogram2d\": [{\"colorbar\": {\"outlinewidth\": 0, \"ticks\": \"\"}, \"colorscale\": [[0.0, \"#0d0887\"], [0.1111111111111111, \"#46039f\"], [0.2222222222222222, \"#7201a8\"], [0.3333333333333333, \"#9c179e\"], [0.4444444444444444, \"#bd3786\"], [0.5555555555555556, \"#d8576b\"], [0.6666666666666666, \"#ed7953\"], [0.7777777777777778, \"#fb9f3a\"], [0.8888888888888888, \"#fdca26\"], [1.0, \"#f0f921\"]], \"type\": \"histogram2d\"}], \"histogram2dcontour\": [{\"colorbar\": {\"outlinewidth\": 0, \"ticks\": \"\"}, \"colorscale\": [[0.0, \"#0d0887\"], [0.1111111111111111, \"#46039f\"], [0.2222222222222222, \"#7201a8\"], [0.3333333333333333, \"#9c179e\"], [0.4444444444444444, \"#bd3786\"], [0.5555555555555556, \"#d8576b\"], [0.6666666666666666, \"#ed7953\"], [0.7777777777777778, \"#fb9f3a\"], [0.8888888888888888, \"#fdca26\"], [1.0, \"#f0f921\"]], \"type\": \"histogram2dcontour\"}], \"mesh3d\": [{\"colorbar\": {\"outlinewidth\": 0, \"ticks\": \"\"}, \"type\": \"mesh3d\"}], \"parcoords\": [{\"line\": {\"colorbar\": {\"outlinewidth\": 0, \"ticks\": \"\"}}, \"type\": \"parcoords\"}], \"scatter\": [{\"marker\": {\"colorbar\": {\"outlinewidth\": 0, \"ticks\": \"\"}}, \"type\": \"scatter\"}], \"scatter3d\": [{\"line\": {\"colorbar\": {\"outlinewidth\": 0, \"ticks\": \"\"}}, \"marker\": {\"colorbar\": {\"outlinewidth\": 0, \"ticks\": \"\"}}, \"type\": \"scatter3d\"}], \"scattercarpet\": [{\"marker\": {\"colorbar\": {\"outlinewidth\": 0, \"ticks\": \"\"}}, \"type\": \"scattercarpet\"}], \"scattergeo\": [{\"marker\": {\"colorbar\": {\"outlinewidth\": 0, \"ticks\": \"\"}}, \"type\": \"scattergeo\"}], \"scattergl\": [{\"marker\": {\"colorbar\": {\"outlinewidth\": 0, \"ticks\": \"\"}}, \"type\": \"scattergl\"}], \"scattermapbox\": [{\"marker\": {\"colorbar\": {\"outlinewidth\": 0, \"ticks\": \"\"}}, \"type\": \"scattermapbox\"}], \"scatterpolar\": [{\"marker\": {\"colorbar\": {\"outlinewidth\": 0, \"ticks\": \"\"}}, \"type\": \"scatterpolar\"}], \"scatterpolargl\": [{\"marker\": {\"colorbar\": {\"outlinewidth\": 0, \"ticks\": \"\"}}, \"type\": \"scatterpolargl\"}], \"scatterternary\": [{\"marker\": {\"colorbar\": {\"outlinewidth\": 0, \"ticks\": \"\"}}, \"type\": \"scatterternary\"}], \"surface\": [{\"colorbar\": {\"outlinewidth\": 0, \"ticks\": \"\"}, \"colorscale\": [[0.0, \"#0d0887\"], [0.1111111111111111, \"#46039f\"], [0.2222222222222222, \"#7201a8\"], [0.3333333333333333, \"#9c179e\"], [0.4444444444444444, \"#bd3786\"], [0.5555555555555556, \"#d8576b\"], [0.6666666666666666, \"#ed7953\"], [0.7777777777777778, \"#fb9f3a\"], [0.8888888888888888, \"#fdca26\"], [1.0, \"#f0f921\"]], \"type\": \"surface\"}], \"table\": [{\"cells\": {\"fill\": {\"color\": \"#EBF0F8\"}, \"line\": {\"color\": \"white\"}}, \"header\": {\"fill\": {\"color\": \"#C8D4E3\"}, \"line\": {\"color\": \"white\"}}, \"type\": \"table\"}]}, \"layout\": {\"annotationdefaults\": {\"arrowcolor\": \"#2a3f5f\", \"arrowhead\": 0, \"arrowwidth\": 1}, \"colorscale\": {\"diverging\": [[0, \"#8e0152\"], [0.1, \"#c51b7d\"], [0.2, \"#de77ae\"], [0.3, \"#f1b6da\"], [0.4, \"#fde0ef\"], [0.5, \"#f7f7f7\"], [0.6, \"#e6f5d0\"], [0.7, \"#b8e186\"], [0.8, \"#7fbc41\"], [0.9, \"#4d9221\"], [1, \"#276419\"]], \"sequential\": [[0.0, \"#0d0887\"], [0.1111111111111111, \"#46039f\"], [0.2222222222222222, \"#7201a8\"], [0.3333333333333333, \"#9c179e\"], [0.4444444444444444, \"#bd3786\"], [0.5555555555555556, \"#d8576b\"], [0.6666666666666666, \"#ed7953\"], [0.7777777777777778, \"#fb9f3a\"], [0.8888888888888888, \"#fdca26\"], [1.0, \"#f0f921\"]], \"sequentialminus\": [[0.0, \"#0d0887\"], [0.1111111111111111, \"#46039f\"], [0.2222222222222222, \"#7201a8\"], [0.3333333333333333, \"#9c179e\"], [0.4444444444444444, \"#bd3786\"], [0.5555555555555556, \"#d8576b\"], [0.6666666666666666, \"#ed7953\"], [0.7777777777777778, \"#fb9f3a\"], [0.8888888888888888, \"#fdca26\"], [1.0, \"#f0f921\"]]}, \"colorway\": [\"#636efa\", \"#EF553B\", \"#00cc96\", \"#ab63fa\", \"#FFA15A\", \"#19d3f3\", \"#FF6692\", \"#B6E880\", \"#FF97FF\", \"#FECB52\"], \"font\": {\"color\": \"#2a3f5f\"}, \"geo\": {\"bgcolor\": \"white\", \"lakecolor\": \"white\", \"landcolor\": \"#E5ECF6\", \"showlakes\": true, \"showland\": true, \"subunitcolor\": \"white\"}, \"hoverlabel\": {\"align\": \"left\"}, \"hovermode\": \"closest\", \"mapbox\": {\"style\": \"light\"}, \"paper_bgcolor\": \"white\", \"plot_bgcolor\": \"#E5ECF6\", \"polar\": {\"angularaxis\": {\"gridcolor\": \"white\", \"linecolor\": \"white\", \"ticks\": \"\"}, \"bgcolor\": \"#E5ECF6\", \"radialaxis\": {\"gridcolor\": \"white\", \"linecolor\": \"white\", \"ticks\": \"\"}}, \"scene\": {\"xaxis\": {\"backgroundcolor\": \"#E5ECF6\", \"gridcolor\": \"white\", \"gridwidth\": 2, \"linecolor\": \"white\", \"showbackground\": true, \"ticks\": \"\", \"zerolinecolor\": \"white\"}, \"yaxis\": {\"backgroundcolor\": \"#E5ECF6\", \"gridcolor\": \"white\", \"gridwidth\": 2, \"linecolor\": \"white\", \"showbackground\": true, \"ticks\": \"\", \"zerolinecolor\": \"white\"}, \"zaxis\": {\"backgroundcolor\": \"#E5ECF6\", \"gridcolor\": \"white\", \"gridwidth\": 2, \"linecolor\": \"white\", \"showbackground\": true, \"ticks\": \"\", \"zerolinecolor\": \"white\"}}, \"shapedefaults\": {\"line\": {\"color\": \"#2a3f5f\"}}, \"ternary\": {\"aaxis\": {\"gridcolor\": \"white\", \"linecolor\": \"white\", \"ticks\": \"\"}, \"baxis\": {\"gridcolor\": \"white\", \"linecolor\": \"white\", \"ticks\": \"\"}, \"bgcolor\": \"#E5ECF6\", \"caxis\": {\"gridcolor\": \"white\", \"linecolor\": \"white\", \"ticks\": \"\"}}, \"title\": {\"x\": 0.05}, \"xaxis\": {\"automargin\": true, \"gridcolor\": \"white\", \"linecolor\": \"white\", \"ticks\": \"\", \"zerolinecolor\": \"white\", \"zerolinewidth\": 2}, \"yaxis\": {\"automargin\": true, \"gridcolor\": \"white\", \"linecolor\": \"white\", \"ticks\": \"\", \"zerolinecolor\": \"white\", \"zerolinewidth\": 2}}}, \"title\": {\"text\": \"ReLU Function\"}, \"width\": 700, \"xaxis\": {\"anchor\": \"y\", \"domain\": [0.0, 0.98], \"title\": {\"text\": \"data\"}}, \"yaxis\": {\"anchor\": \"x\", \"domain\": [0.0, 1.0], \"title\": {\"text\": \"max_relu_data\"}}},\n",
              "                        {\"responsive\": true}\n",
              "                    ).then(function(){\n",
              "                            \n",
              "var gd = document.getElementById('26c925d9-9383-432c-ad48-6a860bd6d5d0');\n",
              "var x = new MutationObserver(function (mutations, observer) {{\n",
              "        var display = window.getComputedStyle(gd).display;\n",
              "        if (!display || display === 'none') {{\n",
              "            console.log([gd, 'removed!']);\n",
              "            Plotly.purge(gd);\n",
              "            observer.disconnect();\n",
              "        }}\n",
              "}});\n",
              "\n",
              "// Listen for the removal of the full notebook cells\n",
              "var notebookContainer = gd.closest('#notebook-container');\n",
              "if (notebookContainer) {{\n",
              "    x.observe(notebookContainer, {childList: true});\n",
              "}}\n",
              "\n",
              "// Listen for the clearing of the current output cell\n",
              "var outputEl = gd.closest('.output');\n",
              "if (outputEl) {{\n",
              "    x.observe(outputEl, {childList: true});\n",
              "}}\n",
              "\n",
              "                        })\n",
              "                };\n",
              "                \n",
              "            </script>\n",
              "        </div>\n",
              "</body>\n",
              "</html>"
            ]
          },
          "metadata": {
            "tags": []
          }
        }
      ]
    },
    {
      "cell_type": "markdown",
      "metadata": {
        "id": "vfh9ofCB1ruM",
        "colab_type": "text"
      },
      "source": [
        "#### <a name='a3'></a> 1.3 Funkcja Sigmoid\n",
        "####    $$f(x) = \\frac{1}{1 + e^{-x}}$$"
      ]
    },
    {
      "cell_type": "code",
      "metadata": {
        "id": "VLM5thme0gr7",
        "colab_type": "code",
        "colab": {}
      },
      "source": [
        "def sigmoid(x):\n",
        "    return 1 / (1 + np.exp(-x))"
      ],
      "execution_count": 0,
      "outputs": []
    },
    {
      "cell_type": "code",
      "metadata": {
        "id": "cimu59j52An0",
        "colab_type": "code",
        "outputId": "39ffcb99-38bd-4bc3-fdd3-d2044daddb31",
        "colab": {
          "base_uri": "https://localhost:8080/",
          "height": 145
        }
      },
      "source": [
        "for i in [-5., -3., -1., 0., 1., 3., 5.]:\n",
        "    print(sigmoid(i))"
      ],
      "execution_count": 0,
      "outputs": [
        {
          "output_type": "stream",
          "text": [
            "0.0066928509242848554\n",
            "0.04742587317756678\n",
            "0.2689414213699951\n",
            "0.5\n",
            "0.7310585786300049\n",
            "0.9525741268224334\n",
            "0.9933071490757153\n"
          ],
          "name": "stdout"
        }
      ]
    },
    {
      "cell_type": "code",
      "metadata": {
        "id": "3mfVwiiQ2CxW",
        "colab_type": "code",
        "outputId": "0ab0e447-a000-4993-d637-a66f114e785a",
        "colab": {
          "base_uri": "https://localhost:8080/",
          "height": 926
        }
      },
      "source": [
        "data = 3 * np.random.randn(50)\n",
        "data = sorted(data)\n",
        "data"
      ],
      "execution_count": 0,
      "outputs": [
        {
          "output_type": "execute_result",
          "data": {
            "text/plain": [
              "[-6.552022447328177,\n",
              " -6.354996108447863,\n",
              " -6.189873087209374,\n",
              " -4.444768003438433,\n",
              " -4.257342493869493,\n",
              " -4.0296106356862245,\n",
              " -3.4564040374762035,\n",
              " -3.425384338074151,\n",
              " -3.258824772703307,\n",
              " -3.067365218525207,\n",
              " -2.7714326328351477,\n",
              " -2.6962220741505885,\n",
              " -2.3201295111156988,\n",
              " -2.272490197577597,\n",
              " -1.972404651364854,\n",
              " -1.7450527221622063,\n",
              " -1.4307989174952929,\n",
              " -1.2648368759874002,\n",
              " -1.1991444477475692,\n",
              " -1.180072373927835,\n",
              " -0.9190574532218161,\n",
              " -0.5615031735467947,\n",
              " -0.4806473620284958,\n",
              " -0.47660864012466464,\n",
              " -0.4442029262076751,\n",
              " -0.425440721959762,\n",
              " -0.37946577570536666,\n",
              " -0.2359643088877605,\n",
              " -0.19671148091906868,\n",
              " 0.11315004849573373,\n",
              " 0.33631831007521706,\n",
              " 0.5578498629103842,\n",
              " 0.7184553985053204,\n",
              " 0.7753493766015358,\n",
              " 1.150196511057524,\n",
              " 1.159882009863854,\n",
              " 1.291421914963482,\n",
              " 1.3999269775427656,\n",
              " 1.7367014573647075,\n",
              " 1.8320091554597997,\n",
              " 2.0905537838621147,\n",
              " 2.2078303144923845,\n",
              " 2.4079095336528717,\n",
              " 2.4584537601690184,\n",
              " 2.655301399471724,\n",
              " 2.9444878341442364,\n",
              " 3.23403523786538,\n",
              " 4.576736087979022,\n",
              " 4.853495757585589,\n",
              " 5.305644582806627]"
            ]
          },
          "metadata": {
            "tags": []
          },
          "execution_count": 10
        }
      ]
    },
    {
      "cell_type": "code",
      "metadata": {
        "id": "oOzcLyAzCdQk",
        "colab_type": "code",
        "outputId": "643e8a8d-b0d6-4fcf-a624-521bab23401f",
        "colab": {
          "base_uri": "https://localhost:8080/",
          "height": 926
        }
      },
      "source": [
        "sigmoid_data = [sigmoid(x) for x in sorted(data)]\n",
        "sigmoid_data"
      ],
      "execution_count": 0,
      "outputs": [
        {
          "output_type": "execute_result",
          "data": {
            "text/plain": [
              "[0.001425192116151768,\n",
              " 0.0017350264135293344,\n",
              " 0.002045892661236108,\n",
              " 0.011603604973243094,\n",
              " 0.013962179606182656,\n",
              " 0.017470602800131366,\n",
              " 0.030578450101989455,\n",
              " 0.03151149121368672,\n",
              " 0.037011073087116625,\n",
              " 0.04447366032646403,\n",
              " 0.05888756701607384,\n",
              " 0.0631966512261575,\n",
              " 0.08946950818642257,\n",
              " 0.09342708268222667,\n",
              " 0.1221308380259751,\n",
              " 0.14867228147769776,\n",
              " 0.19297423415447193,\n",
              " 0.22014237480391152,\n",
              " 0.23162744945462632,\n",
              " 0.23503918346093294,\n",
              " 0.2851499836216632,\n",
              " 0.36319972575439785,\n",
              " 0.3820992717712857,\n",
              " 0.38305326462776373,\n",
              " 0.3907399530119298,\n",
              " 0.3952155689616097,\n",
              " 0.40625575192876245,\n",
              " 0.44128112174231693,\n",
              " 0.45098009834010894,\n",
              " 0.5282573704522034,\n",
              " 0.5832959201513486,\n",
              " 0.6359548942340535,\n",
              " 0.6722667946493295,\n",
              " 0.6846769336520633,\n",
              " 0.7595468086658389,\n",
              " 0.7613112747591168,\n",
              " 0.784387765795795,\n",
              " 0.8021723007417465,\n",
              " 0.850267604426731,\n",
              " 0.8620009004888984,\n",
              " 0.889981660710615,\n",
              " 0.9009504752385972,\n",
              " 0.9174284598949561,\n",
              " 0.9211774641516757,\n",
              " 0.9343369885618611,\n",
              " 0.9500023205604279,\n",
              " 0.9620951848563779,\n",
              " 0.9898163516141829,\n",
              " 0.9922593262384053,\n",
              " 0.9950610168204721]"
            ]
          },
          "metadata": {
            "tags": []
          },
          "execution_count": 11
        }
      ]
    },
    {
      "cell_type": "code",
      "metadata": {
        "id": "u6vFMyxWCjRz",
        "colab_type": "code",
        "outputId": "ca13aae0-4ddd-4cba-dbfa-af4359822a9f",
        "colab": {
          "base_uri": "https://localhost:8080/",
          "height": 198
        }
      },
      "source": [
        "df = pd.DataFrame({'data': data, 'sigmoid_data': sigmoid_data})\n",
        "df.head()"
      ],
      "execution_count": 0,
      "outputs": [
        {
          "output_type": "execute_result",
          "data": {
            "text/html": [
              "<div>\n",
              "<style scoped>\n",
              "    .dataframe tbody tr th:only-of-type {\n",
              "        vertical-align: middle;\n",
              "    }\n",
              "\n",
              "    .dataframe tbody tr th {\n",
              "        vertical-align: top;\n",
              "    }\n",
              "\n",
              "    .dataframe thead th {\n",
              "        text-align: right;\n",
              "    }\n",
              "</style>\n",
              "<table border=\"1\" class=\"dataframe\">\n",
              "  <thead>\n",
              "    <tr style=\"text-align: right;\">\n",
              "      <th></th>\n",
              "      <th>data</th>\n",
              "      <th>sigmoid_data</th>\n",
              "    </tr>\n",
              "  </thead>\n",
              "  <tbody>\n",
              "    <tr>\n",
              "      <th>0</th>\n",
              "      <td>-6.552022</td>\n",
              "      <td>0.001425</td>\n",
              "    </tr>\n",
              "    <tr>\n",
              "      <th>1</th>\n",
              "      <td>-6.354996</td>\n",
              "      <td>0.001735</td>\n",
              "    </tr>\n",
              "    <tr>\n",
              "      <th>2</th>\n",
              "      <td>-6.189873</td>\n",
              "      <td>0.002046</td>\n",
              "    </tr>\n",
              "    <tr>\n",
              "      <th>3</th>\n",
              "      <td>-4.444768</td>\n",
              "      <td>0.011604</td>\n",
              "    </tr>\n",
              "    <tr>\n",
              "      <th>4</th>\n",
              "      <td>-4.257342</td>\n",
              "      <td>0.013962</td>\n",
              "    </tr>\n",
              "  </tbody>\n",
              "</table>\n",
              "</div>"
            ],
            "text/plain": [
              "       data  sigmoid_data\n",
              "0 -6.552022      0.001425\n",
              "1 -6.354996      0.001735\n",
              "2 -6.189873      0.002046\n",
              "3 -4.444768      0.011604\n",
              "4 -4.257342      0.013962"
            ]
          },
          "metadata": {
            "tags": []
          },
          "execution_count": 12
        }
      ]
    },
    {
      "cell_type": "code",
      "metadata": {
        "id": "8nVABhkyCUr1",
        "colab_type": "code",
        "outputId": "707ce7ee-97fd-4224-ccbc-e1d2884f58c9",
        "colab": {
          "base_uri": "https://localhost:8080/",
          "height": 417
        }
      },
      "source": [
        "px.line(df, x='data', y='sigmoid_data', width=700, height=400, title='Sigmoid Function')"
      ],
      "execution_count": 0,
      "outputs": [
        {
          "output_type": "display_data",
          "data": {
            "text/html": [
              "<html>\n",
              "<head><meta charset=\"utf-8\" /></head>\n",
              "<body>\n",
              "    <div>\n",
              "            <script src=\"https://cdnjs.cloudflare.com/ajax/libs/mathjax/2.7.5/MathJax.js?config=TeX-AMS-MML_SVG\"></script><script type=\"text/javascript\">if (window.MathJax) {MathJax.Hub.Config({SVG: {font: \"STIX-Web\"}});}</script>\n",
              "                <script type=\"text/javascript\">window.PlotlyConfig = {MathJaxConfig: 'local'};</script>\n",
              "        <script src=\"https://cdn.plot.ly/plotly-latest.min.js\"></script>    \n",
              "            <div id=\"c21b5e42-b13a-4bb3-9094-c7e3d8fd9ca0\" class=\"plotly-graph-div\" style=\"height:400px; width:700px;\"></div>\n",
              "            <script type=\"text/javascript\">\n",
              "                \n",
              "                    window.PLOTLYENV=window.PLOTLYENV || {};\n",
              "                    \n",
              "                if (document.getElementById(\"c21b5e42-b13a-4bb3-9094-c7e3d8fd9ca0\")) {\n",
              "                    Plotly.newPlot(\n",
              "                        'c21b5e42-b13a-4bb3-9094-c7e3d8fd9ca0',\n",
              "                        [{\"hoverlabel\": {\"namelength\": 0}, \"hovertemplate\": \"data=%{x}<br>sigmoid_data=%{y}\", \"legendgroup\": \"\", \"line\": {\"color\": \"#636efa\", \"dash\": \"solid\"}, \"mode\": \"lines\", \"name\": \"\", \"showlegend\": false, \"type\": \"scatter\", \"x\": [-6.552022447328177, -6.354996108447863, -6.189873087209374, -4.444768003438433, -4.257342493869493, -4.0296106356862245, -3.4564040374762035, -3.425384338074151, -3.258824772703307, -3.067365218525207, -2.7714326328351477, -2.6962220741505885, -2.3201295111156988, -2.272490197577597, -1.972404651364854, -1.7450527221622063, -1.4307989174952929, -1.2648368759874002, -1.1991444477475692, -1.180072373927835, -0.9190574532218161, -0.5615031735467947, -0.4806473620284958, -0.47660864012466464, -0.4442029262076751, -0.425440721959762, -0.37946577570536666, -0.2359643088877605, -0.19671148091906868, 0.11315004849573373, 0.33631831007521706, 0.5578498629103842, 0.7184553985053204, 0.7753493766015358, 1.150196511057524, 1.159882009863854, 1.291421914963482, 1.3999269775427656, 1.7367014573647075, 1.8320091554597997, 2.0905537838621147, 2.2078303144923845, 2.4079095336528717, 2.4584537601690184, 2.655301399471724, 2.9444878341442364, 3.23403523786538, 4.576736087979022, 4.853495757585589, 5.305644582806627], \"xaxis\": \"x\", \"y\": [0.001425192116151768, 0.0017350264135293344, 0.002045892661236108, 0.011603604973243094, 0.013962179606182656, 0.017470602800131366, 0.030578450101989455, 0.03151149121368672, 0.037011073087116625, 0.04447366032646403, 0.05888756701607384, 0.0631966512261575, 0.08946950818642257, 0.09342708268222667, 0.1221308380259751, 0.14867228147769776, 0.19297423415447193, 0.22014237480391152, 0.23162744945462632, 0.23503918346093294, 0.2851499836216632, 0.36319972575439785, 0.3820992717712857, 0.38305326462776373, 0.3907399530119298, 0.3952155689616097, 0.40625575192876245, 0.44128112174231693, 0.45098009834010894, 0.5282573704522034, 0.5832959201513486, 0.6359548942340535, 0.6722667946493295, 0.6846769336520633, 0.7595468086658389, 0.7613112747591168, 0.784387765795795, 0.8021723007417465, 0.850267604426731, 0.8620009004888984, 0.889981660710615, 0.9009504752385972, 0.9174284598949561, 0.9211774641516757, 0.9343369885618611, 0.9500023205604279, 0.9620951848563779, 0.9898163516141829, 0.9922593262384053, 0.9950610168204721], \"yaxis\": \"y\"}],\n",
              "                        {\"height\": 400, \"legend\": {\"tracegroupgap\": 0}, \"template\": {\"data\": {\"bar\": [{\"error_x\": {\"color\": \"#2a3f5f\"}, \"error_y\": {\"color\": \"#2a3f5f\"}, \"marker\": {\"line\": {\"color\": \"#E5ECF6\", \"width\": 0.5}}, \"type\": \"bar\"}], \"barpolar\": [{\"marker\": {\"line\": {\"color\": \"#E5ECF6\", \"width\": 0.5}}, \"type\": \"barpolar\"}], \"carpet\": [{\"aaxis\": {\"endlinecolor\": \"#2a3f5f\", \"gridcolor\": \"white\", \"linecolor\": \"white\", \"minorgridcolor\": \"white\", \"startlinecolor\": \"#2a3f5f\"}, \"baxis\": {\"endlinecolor\": \"#2a3f5f\", \"gridcolor\": \"white\", \"linecolor\": \"white\", \"minorgridcolor\": \"white\", \"startlinecolor\": \"#2a3f5f\"}, \"type\": \"carpet\"}], \"choropleth\": [{\"colorbar\": {\"outlinewidth\": 0, \"ticks\": \"\"}, \"type\": \"choropleth\"}], \"contour\": [{\"colorbar\": {\"outlinewidth\": 0, \"ticks\": \"\"}, \"colorscale\": [[0.0, \"#0d0887\"], [0.1111111111111111, \"#46039f\"], [0.2222222222222222, \"#7201a8\"], [0.3333333333333333, \"#9c179e\"], [0.4444444444444444, \"#bd3786\"], [0.5555555555555556, \"#d8576b\"], [0.6666666666666666, \"#ed7953\"], [0.7777777777777778, \"#fb9f3a\"], [0.8888888888888888, \"#fdca26\"], [1.0, \"#f0f921\"]], \"type\": \"contour\"}], \"contourcarpet\": [{\"colorbar\": {\"outlinewidth\": 0, \"ticks\": \"\"}, \"type\": \"contourcarpet\"}], \"heatmap\": [{\"colorbar\": {\"outlinewidth\": 0, \"ticks\": \"\"}, \"colorscale\": [[0.0, \"#0d0887\"], [0.1111111111111111, \"#46039f\"], [0.2222222222222222, \"#7201a8\"], [0.3333333333333333, \"#9c179e\"], [0.4444444444444444, \"#bd3786\"], [0.5555555555555556, \"#d8576b\"], [0.6666666666666666, \"#ed7953\"], [0.7777777777777778, \"#fb9f3a\"], [0.8888888888888888, \"#fdca26\"], [1.0, \"#f0f921\"]], \"type\": \"heatmap\"}], \"heatmapgl\": [{\"colorbar\": {\"outlinewidth\": 0, \"ticks\": \"\"}, \"colorscale\": [[0.0, \"#0d0887\"], [0.1111111111111111, \"#46039f\"], [0.2222222222222222, \"#7201a8\"], [0.3333333333333333, \"#9c179e\"], [0.4444444444444444, \"#bd3786\"], [0.5555555555555556, \"#d8576b\"], [0.6666666666666666, \"#ed7953\"], [0.7777777777777778, \"#fb9f3a\"], [0.8888888888888888, \"#fdca26\"], [1.0, \"#f0f921\"]], \"type\": \"heatmapgl\"}], \"histogram\": [{\"marker\": {\"colorbar\": {\"outlinewidth\": 0, \"ticks\": \"\"}}, \"type\": \"histogram\"}], \"histogram2d\": [{\"colorbar\": {\"outlinewidth\": 0, \"ticks\": \"\"}, \"colorscale\": [[0.0, \"#0d0887\"], [0.1111111111111111, \"#46039f\"], [0.2222222222222222, \"#7201a8\"], [0.3333333333333333, \"#9c179e\"], [0.4444444444444444, \"#bd3786\"], [0.5555555555555556, \"#d8576b\"], [0.6666666666666666, \"#ed7953\"], [0.7777777777777778, \"#fb9f3a\"], [0.8888888888888888, \"#fdca26\"], [1.0, \"#f0f921\"]], \"type\": \"histogram2d\"}], \"histogram2dcontour\": [{\"colorbar\": {\"outlinewidth\": 0, \"ticks\": \"\"}, \"colorscale\": [[0.0, \"#0d0887\"], [0.1111111111111111, \"#46039f\"], [0.2222222222222222, \"#7201a8\"], [0.3333333333333333, \"#9c179e\"], [0.4444444444444444, \"#bd3786\"], [0.5555555555555556, \"#d8576b\"], [0.6666666666666666, \"#ed7953\"], [0.7777777777777778, \"#fb9f3a\"], [0.8888888888888888, \"#fdca26\"], [1.0, \"#f0f921\"]], \"type\": \"histogram2dcontour\"}], \"mesh3d\": [{\"colorbar\": {\"outlinewidth\": 0, \"ticks\": \"\"}, \"type\": \"mesh3d\"}], \"parcoords\": [{\"line\": {\"colorbar\": {\"outlinewidth\": 0, \"ticks\": \"\"}}, \"type\": \"parcoords\"}], \"scatter\": [{\"marker\": {\"colorbar\": {\"outlinewidth\": 0, \"ticks\": \"\"}}, \"type\": \"scatter\"}], \"scatter3d\": [{\"line\": {\"colorbar\": {\"outlinewidth\": 0, \"ticks\": \"\"}}, \"marker\": {\"colorbar\": {\"outlinewidth\": 0, \"ticks\": \"\"}}, \"type\": \"scatter3d\"}], \"scattercarpet\": [{\"marker\": {\"colorbar\": {\"outlinewidth\": 0, \"ticks\": \"\"}}, \"type\": \"scattercarpet\"}], \"scattergeo\": [{\"marker\": {\"colorbar\": {\"outlinewidth\": 0, \"ticks\": \"\"}}, \"type\": \"scattergeo\"}], \"scattergl\": [{\"marker\": {\"colorbar\": {\"outlinewidth\": 0, \"ticks\": \"\"}}, \"type\": \"scattergl\"}], \"scattermapbox\": [{\"marker\": {\"colorbar\": {\"outlinewidth\": 0, \"ticks\": \"\"}}, \"type\": \"scattermapbox\"}], \"scatterpolar\": [{\"marker\": {\"colorbar\": {\"outlinewidth\": 0, \"ticks\": \"\"}}, \"type\": \"scatterpolar\"}], \"scatterpolargl\": [{\"marker\": {\"colorbar\": {\"outlinewidth\": 0, \"ticks\": \"\"}}, \"type\": \"scatterpolargl\"}], \"scatterternary\": [{\"marker\": {\"colorbar\": {\"outlinewidth\": 0, \"ticks\": \"\"}}, \"type\": \"scatterternary\"}], \"surface\": [{\"colorbar\": {\"outlinewidth\": 0, \"ticks\": \"\"}, \"colorscale\": [[0.0, \"#0d0887\"], [0.1111111111111111, \"#46039f\"], [0.2222222222222222, \"#7201a8\"], [0.3333333333333333, \"#9c179e\"], [0.4444444444444444, \"#bd3786\"], [0.5555555555555556, \"#d8576b\"], [0.6666666666666666, \"#ed7953\"], [0.7777777777777778, \"#fb9f3a\"], [0.8888888888888888, \"#fdca26\"], [1.0, \"#f0f921\"]], \"type\": \"surface\"}], \"table\": [{\"cells\": {\"fill\": {\"color\": \"#EBF0F8\"}, \"line\": {\"color\": \"white\"}}, \"header\": {\"fill\": {\"color\": \"#C8D4E3\"}, \"line\": {\"color\": \"white\"}}, \"type\": \"table\"}]}, \"layout\": {\"annotationdefaults\": {\"arrowcolor\": \"#2a3f5f\", \"arrowhead\": 0, \"arrowwidth\": 1}, \"colorscale\": {\"diverging\": [[0, \"#8e0152\"], [0.1, \"#c51b7d\"], [0.2, \"#de77ae\"], [0.3, \"#f1b6da\"], [0.4, \"#fde0ef\"], [0.5, \"#f7f7f7\"], [0.6, \"#e6f5d0\"], [0.7, \"#b8e186\"], [0.8, \"#7fbc41\"], [0.9, \"#4d9221\"], [1, \"#276419\"]], \"sequential\": [[0.0, \"#0d0887\"], [0.1111111111111111, \"#46039f\"], [0.2222222222222222, \"#7201a8\"], [0.3333333333333333, \"#9c179e\"], [0.4444444444444444, \"#bd3786\"], [0.5555555555555556, \"#d8576b\"], [0.6666666666666666, \"#ed7953\"], [0.7777777777777778, \"#fb9f3a\"], [0.8888888888888888, \"#fdca26\"], [1.0, \"#f0f921\"]], \"sequentialminus\": [[0.0, \"#0d0887\"], [0.1111111111111111, \"#46039f\"], [0.2222222222222222, \"#7201a8\"], [0.3333333333333333, \"#9c179e\"], [0.4444444444444444, \"#bd3786\"], [0.5555555555555556, \"#d8576b\"], [0.6666666666666666, \"#ed7953\"], [0.7777777777777778, \"#fb9f3a\"], [0.8888888888888888, \"#fdca26\"], [1.0, \"#f0f921\"]]}, \"colorway\": [\"#636efa\", \"#EF553B\", \"#00cc96\", \"#ab63fa\", \"#FFA15A\", \"#19d3f3\", \"#FF6692\", \"#B6E880\", \"#FF97FF\", \"#FECB52\"], \"font\": {\"color\": \"#2a3f5f\"}, \"geo\": {\"bgcolor\": \"white\", \"lakecolor\": \"white\", \"landcolor\": \"#E5ECF6\", \"showlakes\": true, \"showland\": true, \"subunitcolor\": \"white\"}, \"hoverlabel\": {\"align\": \"left\"}, \"hovermode\": \"closest\", \"mapbox\": {\"style\": \"light\"}, \"paper_bgcolor\": \"white\", \"plot_bgcolor\": \"#E5ECF6\", \"polar\": {\"angularaxis\": {\"gridcolor\": \"white\", \"linecolor\": \"white\", \"ticks\": \"\"}, \"bgcolor\": \"#E5ECF6\", \"radialaxis\": {\"gridcolor\": \"white\", \"linecolor\": \"white\", \"ticks\": \"\"}}, \"scene\": {\"xaxis\": {\"backgroundcolor\": \"#E5ECF6\", \"gridcolor\": \"white\", \"gridwidth\": 2, \"linecolor\": \"white\", \"showbackground\": true, \"ticks\": \"\", \"zerolinecolor\": \"white\"}, \"yaxis\": {\"backgroundcolor\": \"#E5ECF6\", \"gridcolor\": \"white\", \"gridwidth\": 2, \"linecolor\": \"white\", \"showbackground\": true, \"ticks\": \"\", \"zerolinecolor\": \"white\"}, \"zaxis\": {\"backgroundcolor\": \"#E5ECF6\", \"gridcolor\": \"white\", \"gridwidth\": 2, \"linecolor\": \"white\", \"showbackground\": true, \"ticks\": \"\", \"zerolinecolor\": \"white\"}}, \"shapedefaults\": {\"line\": {\"color\": \"#2a3f5f\"}}, \"ternary\": {\"aaxis\": {\"gridcolor\": \"white\", \"linecolor\": \"white\", \"ticks\": \"\"}, \"baxis\": {\"gridcolor\": \"white\", \"linecolor\": \"white\", \"ticks\": \"\"}, \"bgcolor\": \"#E5ECF6\", \"caxis\": {\"gridcolor\": \"white\", \"linecolor\": \"white\", \"ticks\": \"\"}}, \"title\": {\"x\": 0.05}, \"xaxis\": {\"automargin\": true, \"gridcolor\": \"white\", \"linecolor\": \"white\", \"ticks\": \"\", \"zerolinecolor\": \"white\", \"zerolinewidth\": 2}, \"yaxis\": {\"automargin\": true, \"gridcolor\": \"white\", \"linecolor\": \"white\", \"ticks\": \"\", \"zerolinecolor\": \"white\", \"zerolinewidth\": 2}}}, \"title\": {\"text\": \"Sigmoid Function\"}, \"width\": 700, \"xaxis\": {\"anchor\": \"y\", \"domain\": [0.0, 0.98], \"title\": {\"text\": \"data\"}}, \"yaxis\": {\"anchor\": \"x\", \"domain\": [0.0, 1.0], \"title\": {\"text\": \"sigmoid_data\"}}},\n",
              "                        {\"responsive\": true}\n",
              "                    ).then(function(){\n",
              "                            \n",
              "var gd = document.getElementById('c21b5e42-b13a-4bb3-9094-c7e3d8fd9ca0');\n",
              "var x = new MutationObserver(function (mutations, observer) {{\n",
              "        var display = window.getComputedStyle(gd).display;\n",
              "        if (!display || display === 'none') {{\n",
              "            console.log([gd, 'removed!']);\n",
              "            Plotly.purge(gd);\n",
              "            observer.disconnect();\n",
              "        }}\n",
              "}});\n",
              "\n",
              "// Listen for the removal of the full notebook cells\n",
              "var notebookContainer = gd.closest('#notebook-container');\n",
              "if (notebookContainer) {{\n",
              "    x.observe(notebookContainer, {childList: true});\n",
              "}}\n",
              "\n",
              "// Listen for the clearing of the current output cell\n",
              "var outputEl = gd.closest('.output');\n",
              "if (outputEl) {{\n",
              "    x.observe(outputEl, {childList: true});\n",
              "}}\n",
              "\n",
              "                        })\n",
              "                };\n",
              "                \n",
              "            </script>\n",
              "        </div>\n",
              "</body>\n",
              "</html>"
            ]
          },
          "metadata": {
            "tags": []
          }
        }
      ]
    },
    {
      "cell_type": "markdown",
      "metadata": {
        "id": "pptPQDGR_rDk",
        "colab_type": "text"
      },
      "source": [
        "#### <a name='a4'></a> 1.4 Tanh Function\n",
        "\n",
        "####   $$tanh (x) = \\frac{e^{x} - e^{-x}}{e^{x} + e^{-x}}$$"
      ]
    },
    {
      "cell_type": "code",
      "metadata": {
        "id": "y-hHbl9S_seo",
        "colab_type": "code",
        "colab": {}
      },
      "source": [
        "def tanh(x):\n",
        "    return (np.exp(x) - np.exp(-x)) / (np.exp(x) + np.exp(-x))"
      ],
      "execution_count": 0,
      "outputs": []
    },
    {
      "cell_type": "code",
      "metadata": {
        "id": "mCy8eQF0F7qd",
        "colab_type": "code",
        "outputId": "973af79e-d6b6-4115-f511-9be8248115e9",
        "colab": {
          "base_uri": "https://localhost:8080/",
          "height": 1000
        }
      },
      "source": [
        "data = 2 * np.random.randn(100)\n",
        "data = sorted(data)\n",
        "data"
      ],
      "execution_count": 0,
      "outputs": [
        {
          "output_type": "execute_result",
          "data": {
            "text/plain": [
              "[-5.30687768144625,\n",
              " -4.424333273346425,\n",
              " -4.05932068222098,\n",
              " -3.598116406008894,\n",
              " -3.505868035687177,\n",
              " -3.206363694684077,\n",
              " -2.9674927724154454,\n",
              " -2.96046825948187,\n",
              " -2.93873813779757,\n",
              " -2.9216021458603065,\n",
              " -2.4459182435390514,\n",
              " -2.309466433951694,\n",
              " -2.155814849526684,\n",
              " -2.1125754591093466,\n",
              " -2.100616577777817,\n",
              " -2.068327530444156,\n",
              " -2.0264400143099652,\n",
              " -1.911163989500313,\n",
              " -1.8622760134264424,\n",
              " -1.824670755808279,\n",
              " -1.7929982889492744,\n",
              " -1.721889395918945,\n",
              " -1.6521502103615298,\n",
              " -1.649366506258244,\n",
              " -1.5871376118729312,\n",
              " -1.5433465054892597,\n",
              " -1.471514063614081,\n",
              " -1.4572130051555165,\n",
              " -1.3557342245796684,\n",
              " -1.343123769966235,\n",
              " -1.2853838871091077,\n",
              " -1.2384050579364967,\n",
              " -1.147501735057078,\n",
              " -1.1057722812161241,\n",
              " -1.0790460742049468,\n",
              " -1.0635927327526766,\n",
              " -1.0464751452214394,\n",
              " -0.9968413694523837,\n",
              " -0.9403523916951254,\n",
              " -0.735542516687622,\n",
              " -0.5623754122591677,\n",
              " -0.5170515207738202,\n",
              " -0.5109479208228045,\n",
              " -0.5067960230861588,\n",
              " -0.37482399118864723,\n",
              " -0.3260913320833328,\n",
              " -0.2056394410287268,\n",
              " -0.20544262204269656,\n",
              " -0.15101112649152953,\n",
              " -0.14109865755792483,\n",
              " -0.13426023357110323,\n",
              " -0.10929421635978243,\n",
              " -0.06485913489967354,\n",
              " 0.00731096372846401,\n",
              " 0.05019267549735489,\n",
              " 0.07931926152053988,\n",
              " 0.10687748635825227,\n",
              " 0.29329646558147726,\n",
              " 0.3923561250291157,\n",
              " 0.39413098186182066,\n",
              " 0.4860094107714878,\n",
              " 0.48774509912358255,\n",
              " 0.5587285009981243,\n",
              " 0.5978782672483379,\n",
              " 0.5986138200137976,\n",
              " 0.6280233509576929,\n",
              " 0.6451861109191098,\n",
              " 0.6826877582278219,\n",
              " 0.7035493076409691,\n",
              " 0.7329122451149455,\n",
              " 0.77041270677151,\n",
              " 0.7914086889246917,\n",
              " 0.9250138106596678,\n",
              " 0.968490458800104,\n",
              " 0.9801819255226538,\n",
              " 1.0259333218835593,\n",
              " 1.0484042812688148,\n",
              " 1.095470111404013,\n",
              " 1.188450774743749,\n",
              " 1.253967373447239,\n",
              " 1.3413408898735544,\n",
              " 1.3693015479126875,\n",
              " 1.4114978537270695,\n",
              " 1.5475321866771246,\n",
              " 1.5526292228146483,\n",
              " 1.5837724861044908,\n",
              " 1.5849508551722127,\n",
              " 1.6832157716190845,\n",
              " 1.7295363364662444,\n",
              " 2.055041958887838,\n",
              " 2.200752246041391,\n",
              " 2.2284148791598186,\n",
              " 2.287546839633442,\n",
              " 2.4142256881485173,\n",
              " 2.737097289316745,\n",
              " 2.8740795908112187,\n",
              " 3.236065454245235,\n",
              " 3.2523664056939063,\n",
              " 4.253755000485809,\n",
              " 5.16171559429314]"
            ]
          },
          "metadata": {
            "tags": []
          },
          "execution_count": 15
        }
      ]
    },
    {
      "cell_type": "code",
      "metadata": {
        "id": "BQs0XUeWF_Xy",
        "colab_type": "code",
        "outputId": "50ffb93e-feeb-466c-9ff7-949402b1453a",
        "colab": {
          "base_uri": "https://localhost:8080/",
          "height": 1000
        }
      },
      "source": [
        "tanh_data = [tanh(x) for x in sorted(data)]\n",
        "tanh_data"
      ],
      "execution_count": 0,
      "outputs": [
        {
          "output_type": "execute_result",
          "data": {
            "text/plain": [
              "[-0.9999508499531251,\n",
              " -0.9997128951072136,\n",
              " -0.9994043111390971,\n",
              " -0.9985023150869613,\n",
              " -0.9981991377978088,\n",
              " -0.9967242859678614,\n",
              " -0.9947234359052511,\n",
              " -0.9946489818781817,\n",
              " -0.9944119619290511,\n",
              " -0.9942176924876409,\n",
              " -0.9850966444508327,\n",
              " -0.9804660378236028,\n",
              " -0.9735316355347627,\n",
              " -0.9711752526662858,\n",
              " -0.970487814173077,\n",
              " -0.9685500474832317,\n",
              " -0.965848745041955,\n",
              " -0.9571830722985389,\n",
              " -0.9528886988117397,\n",
              " -0.9493020659633024,\n",
              " -0.9460761001796734,\n",
              " -0.9380901366873049,\n",
              " -0.9291520923046996,\n",
              " -0.9287706400437341,\n",
              " -0.9197092980726613,\n",
              " -0.9126809907073037,\n",
              " -0.8998658839400536,\n",
              " -0.8971099523874502,\n",
              " -0.8753999773951313,\n",
              " -0.8724204978199306,\n",
              " -0.8579127659150291,\n",
              " -0.845000096704937,\n",
              " -0.8169247645530212,\n",
              " -0.8025628733982324,\n",
              " -0.7928450800670869,\n",
              " -0.7870350376005706,\n",
              " -0.7804321875467981,\n",
              " -0.7602644177824434,\n",
              " -0.7353841167161889,\n",
              " -0.626444499484768,\n",
              " -0.5097377638059992,\n",
              " -0.47542116481894375,\n",
              " -0.47068344378581395,\n",
              " -0.467445059593919,\n",
              " -0.3582039829204292,\n",
              " -0.31500430471483565,\n",
              " -0.20278898218883823,\n",
              " -0.2026002495326518,\n",
              " -0.149873597566524,\n",
              " -0.14016968497687698,\n",
              " -0.13345929162559386,\n",
              " -0.108861104328732,\n",
              " -0.06476833987537362,\n",
              " 0.007310833473780504,\n",
              " 0.050150567715791544,\n",
              " 0.07915333218117562,\n",
              " 0.10647239057500123,\n",
              " 0.28516604924327027,\n",
              " 0.37338964399242625,\n",
              " 0.3749160374301212,\n",
              " 0.4510434176282099,\n",
              " 0.4524249143355388,\n",
              " 0.5070334236418845,\n",
              " 0.5355380691068768,\n",
              " 0.536062457926408,\n",
              " 0.5566896378108792,\n",
              " 0.56842036984368,\n",
              " 0.5932639421819935,\n",
              " 0.6066158314813309,\n",
              " 0.6248437987018935,\n",
              " 0.6471693680490315,\n",
              " 0.6592063147693419,\n",
              " 0.7282606920350432,\n",
              " 0.7480401812625638,\n",
              " 0.7531446481372892,\n",
              " 0.7722721936934536,\n",
              " 0.78118520157301,\n",
              " 0.798865969256628,\n",
              " 0.8300977751008186,\n",
              " 0.8493924131049849,\n",
              " 0.8719939359794537,\n",
              " 0.8785329183924849,\n",
              " 0.887811785824683,\n",
              " 0.9133773911422343,\n",
              " 0.9142182608219679,\n",
              " 0.9191890067565356,\n",
              " 0.919371564044812,\n",
              " 0.9332776123833232,\n",
              " 0.9390011166540464,\n",
              " 0.9677168547589452,\n",
              " 0.975779155232652,\n",
              " 0.977067838034381,\n",
              " 0.9795995658093654,\n",
              " 0.984129151386893,\n",
              " 0.9916478161402756,\n",
              " 0.9936429800529782,\n",
              " 0.9969129164298933,\n",
              " 0.9970117903582257,\n",
              " 0.9995961894582526,\n",
              " 0.9999342937732639]"
            ]
          },
          "metadata": {
            "tags": []
          },
          "execution_count": 16
        }
      ]
    },
    {
      "cell_type": "code",
      "metadata": {
        "id": "UTII8B0NGFSy",
        "colab_type": "code",
        "outputId": "f97c8989-706a-40c4-d99b-2b5f435b1c7d",
        "colab": {
          "base_uri": "https://localhost:8080/",
          "height": 198
        }
      },
      "source": [
        "df = pd.DataFrame({'data': data, 'tanh_data': tanh_data})\n",
        "df.head()"
      ],
      "execution_count": 0,
      "outputs": [
        {
          "output_type": "execute_result",
          "data": {
            "text/html": [
              "<div>\n",
              "<style scoped>\n",
              "    .dataframe tbody tr th:only-of-type {\n",
              "        vertical-align: middle;\n",
              "    }\n",
              "\n",
              "    .dataframe tbody tr th {\n",
              "        vertical-align: top;\n",
              "    }\n",
              "\n",
              "    .dataframe thead th {\n",
              "        text-align: right;\n",
              "    }\n",
              "</style>\n",
              "<table border=\"1\" class=\"dataframe\">\n",
              "  <thead>\n",
              "    <tr style=\"text-align: right;\">\n",
              "      <th></th>\n",
              "      <th>data</th>\n",
              "      <th>tanh_data</th>\n",
              "    </tr>\n",
              "  </thead>\n",
              "  <tbody>\n",
              "    <tr>\n",
              "      <th>0</th>\n",
              "      <td>-5.306878</td>\n",
              "      <td>-0.999951</td>\n",
              "    </tr>\n",
              "    <tr>\n",
              "      <th>1</th>\n",
              "      <td>-4.424333</td>\n",
              "      <td>-0.999713</td>\n",
              "    </tr>\n",
              "    <tr>\n",
              "      <th>2</th>\n",
              "      <td>-4.059321</td>\n",
              "      <td>-0.999404</td>\n",
              "    </tr>\n",
              "    <tr>\n",
              "      <th>3</th>\n",
              "      <td>-3.598116</td>\n",
              "      <td>-0.998502</td>\n",
              "    </tr>\n",
              "    <tr>\n",
              "      <th>4</th>\n",
              "      <td>-3.505868</td>\n",
              "      <td>-0.998199</td>\n",
              "    </tr>\n",
              "  </tbody>\n",
              "</table>\n",
              "</div>"
            ],
            "text/plain": [
              "       data  tanh_data\n",
              "0 -5.306878  -0.999951\n",
              "1 -4.424333  -0.999713\n",
              "2 -4.059321  -0.999404\n",
              "3 -3.598116  -0.998502\n",
              "4 -3.505868  -0.998199"
            ]
          },
          "metadata": {
            "tags": []
          },
          "execution_count": 17
        }
      ]
    },
    {
      "cell_type": "code",
      "metadata": {
        "id": "l5hakU-kGIN4",
        "colab_type": "code",
        "outputId": "d6435870-3ec1-4c81-a404-6897bc44b57d",
        "colab": {
          "base_uri": "https://localhost:8080/",
          "height": 417
        }
      },
      "source": [
        "px.line(df, x='data', y='tanh_data', width=700, height=400, title='Tanh Function')"
      ],
      "execution_count": 0,
      "outputs": [
        {
          "output_type": "display_data",
          "data": {
            "text/html": [
              "<html>\n",
              "<head><meta charset=\"utf-8\" /></head>\n",
              "<body>\n",
              "    <div>\n",
              "            <script src=\"https://cdnjs.cloudflare.com/ajax/libs/mathjax/2.7.5/MathJax.js?config=TeX-AMS-MML_SVG\"></script><script type=\"text/javascript\">if (window.MathJax) {MathJax.Hub.Config({SVG: {font: \"STIX-Web\"}});}</script>\n",
              "                <script type=\"text/javascript\">window.PlotlyConfig = {MathJaxConfig: 'local'};</script>\n",
              "        <script src=\"https://cdn.plot.ly/plotly-latest.min.js\"></script>    \n",
              "            <div id=\"ec4c4556-c93c-40df-ab2d-6d89e5367329\" class=\"plotly-graph-div\" style=\"height:400px; width:700px;\"></div>\n",
              "            <script type=\"text/javascript\">\n",
              "                \n",
              "                    window.PLOTLYENV=window.PLOTLYENV || {};\n",
              "                    \n",
              "                if (document.getElementById(\"ec4c4556-c93c-40df-ab2d-6d89e5367329\")) {\n",
              "                    Plotly.newPlot(\n",
              "                        'ec4c4556-c93c-40df-ab2d-6d89e5367329',\n",
              "                        [{\"hoverlabel\": {\"namelength\": 0}, \"hovertemplate\": \"data=%{x}<br>tanh_data=%{y}\", \"legendgroup\": \"\", \"line\": {\"color\": \"#636efa\", \"dash\": \"solid\"}, \"mode\": \"lines\", \"name\": \"\", \"showlegend\": false, \"type\": \"scatter\", \"x\": [-5.30687768144625, -4.424333273346425, -4.05932068222098, -3.598116406008894, -3.505868035687177, -3.206363694684077, -2.9674927724154454, -2.96046825948187, -2.93873813779757, -2.9216021458603065, -2.4459182435390514, -2.309466433951694, -2.155814849526684, -2.1125754591093466, -2.100616577777817, -2.068327530444156, -2.0264400143099652, -1.911163989500313, -1.8622760134264424, -1.824670755808279, -1.7929982889492744, -1.721889395918945, -1.6521502103615298, -1.649366506258244, -1.5871376118729312, -1.5433465054892597, -1.471514063614081, -1.4572130051555165, -1.3557342245796684, -1.343123769966235, -1.2853838871091077, -1.2384050579364967, -1.147501735057078, -1.1057722812161241, -1.0790460742049468, -1.0635927327526766, -1.0464751452214394, -0.9968413694523837, -0.9403523916951254, -0.735542516687622, -0.5623754122591677, -0.5170515207738202, -0.5109479208228045, -0.5067960230861588, -0.37482399118864723, -0.3260913320833328, -0.2056394410287268, -0.20544262204269656, -0.15101112649152953, -0.14109865755792483, -0.13426023357110323, -0.10929421635978243, -0.06485913489967354, 0.00731096372846401, 0.05019267549735489, 0.07931926152053988, 0.10687748635825227, 0.29329646558147726, 0.3923561250291157, 0.39413098186182066, 0.4860094107714878, 0.48774509912358255, 0.5587285009981243, 0.5978782672483379, 0.5986138200137976, 0.6280233509576929, 0.6451861109191098, 0.6826877582278219, 0.7035493076409691, 0.7329122451149455, 0.77041270677151, 0.7914086889246917, 0.9250138106596678, 0.968490458800104, 0.9801819255226538, 1.0259333218835593, 1.0484042812688148, 1.095470111404013, 1.188450774743749, 1.253967373447239, 1.3413408898735544, 1.3693015479126875, 1.4114978537270695, 1.5475321866771246, 1.5526292228146483, 1.5837724861044908, 1.5849508551722127, 1.6832157716190845, 1.7295363364662444, 2.055041958887838, 2.200752246041391, 2.2284148791598186, 2.287546839633442, 2.4142256881485173, 2.737097289316745, 2.8740795908112187, 3.236065454245235, 3.2523664056939063, 4.253755000485809, 5.16171559429314], \"xaxis\": \"x\", \"y\": [-0.9999508499531251, -0.9997128951072136, -0.9994043111390971, -0.9985023150869613, -0.9981991377978088, -0.9967242859678614, -0.9947234359052511, -0.9946489818781817, -0.9944119619290511, -0.9942176924876409, -0.9850966444508327, -0.9804660378236028, -0.9735316355347627, -0.9711752526662858, -0.970487814173077, -0.9685500474832317, -0.965848745041955, -0.9571830722985389, -0.9528886988117397, -0.9493020659633024, -0.9460761001796734, -0.9380901366873049, -0.9291520923046996, -0.9287706400437341, -0.9197092980726613, -0.9126809907073037, -0.8998658839400536, -0.8971099523874502, -0.8753999773951313, -0.8724204978199306, -0.8579127659150291, -0.845000096704937, -0.8169247645530212, -0.8025628733982324, -0.7928450800670869, -0.7870350376005706, -0.7804321875467981, -0.7602644177824434, -0.7353841167161889, -0.626444499484768, -0.5097377638059992, -0.47542116481894375, -0.47068344378581395, -0.467445059593919, -0.3582039829204292, -0.31500430471483565, -0.20278898218883823, -0.2026002495326518, -0.149873597566524, -0.14016968497687698, -0.13345929162559386, -0.108861104328732, -0.06476833987537362, 0.007310833473780504, 0.050150567715791544, 0.07915333218117562, 0.10647239057500123, 0.28516604924327027, 0.37338964399242625, 0.3749160374301212, 0.4510434176282099, 0.4524249143355388, 0.5070334236418845, 0.5355380691068768, 0.536062457926408, 0.5566896378108792, 0.56842036984368, 0.5932639421819935, 0.6066158314813309, 0.6248437987018935, 0.6471693680490315, 0.6592063147693419, 0.7282606920350432, 0.7480401812625638, 0.7531446481372892, 0.7722721936934536, 0.78118520157301, 0.798865969256628, 0.8300977751008186, 0.8493924131049849, 0.8719939359794537, 0.8785329183924849, 0.887811785824683, 0.9133773911422343, 0.9142182608219679, 0.9191890067565356, 0.919371564044812, 0.9332776123833232, 0.9390011166540464, 0.9677168547589452, 0.975779155232652, 0.977067838034381, 0.9795995658093654, 0.984129151386893, 0.9916478161402756, 0.9936429800529782, 0.9969129164298933, 0.9970117903582257, 0.9995961894582526, 0.9999342937732639], \"yaxis\": \"y\"}],\n",
              "                        {\"height\": 400, \"legend\": {\"tracegroupgap\": 0}, \"template\": {\"data\": {\"bar\": [{\"error_x\": {\"color\": \"#2a3f5f\"}, \"error_y\": {\"color\": \"#2a3f5f\"}, \"marker\": {\"line\": {\"color\": \"#E5ECF6\", \"width\": 0.5}}, \"type\": \"bar\"}], \"barpolar\": [{\"marker\": {\"line\": {\"color\": \"#E5ECF6\", \"width\": 0.5}}, \"type\": \"barpolar\"}], \"carpet\": [{\"aaxis\": {\"endlinecolor\": \"#2a3f5f\", \"gridcolor\": \"white\", \"linecolor\": \"white\", \"minorgridcolor\": \"white\", \"startlinecolor\": \"#2a3f5f\"}, \"baxis\": {\"endlinecolor\": \"#2a3f5f\", \"gridcolor\": \"white\", \"linecolor\": \"white\", \"minorgridcolor\": \"white\", \"startlinecolor\": \"#2a3f5f\"}, \"type\": \"carpet\"}], \"choropleth\": [{\"colorbar\": {\"outlinewidth\": 0, \"ticks\": \"\"}, \"type\": \"choropleth\"}], \"contour\": [{\"colorbar\": {\"outlinewidth\": 0, \"ticks\": \"\"}, \"colorscale\": [[0.0, \"#0d0887\"], [0.1111111111111111, \"#46039f\"], [0.2222222222222222, \"#7201a8\"], [0.3333333333333333, \"#9c179e\"], [0.4444444444444444, \"#bd3786\"], [0.5555555555555556, \"#d8576b\"], [0.6666666666666666, \"#ed7953\"], [0.7777777777777778, \"#fb9f3a\"], [0.8888888888888888, \"#fdca26\"], [1.0, \"#f0f921\"]], \"type\": \"contour\"}], \"contourcarpet\": [{\"colorbar\": {\"outlinewidth\": 0, \"ticks\": \"\"}, \"type\": \"contourcarpet\"}], \"heatmap\": [{\"colorbar\": {\"outlinewidth\": 0, \"ticks\": \"\"}, \"colorscale\": [[0.0, \"#0d0887\"], [0.1111111111111111, \"#46039f\"], [0.2222222222222222, \"#7201a8\"], [0.3333333333333333, \"#9c179e\"], [0.4444444444444444, \"#bd3786\"], [0.5555555555555556, \"#d8576b\"], [0.6666666666666666, \"#ed7953\"], [0.7777777777777778, \"#fb9f3a\"], [0.8888888888888888, \"#fdca26\"], [1.0, \"#f0f921\"]], \"type\": \"heatmap\"}], \"heatmapgl\": [{\"colorbar\": {\"outlinewidth\": 0, \"ticks\": \"\"}, \"colorscale\": [[0.0, \"#0d0887\"], [0.1111111111111111, \"#46039f\"], [0.2222222222222222, \"#7201a8\"], [0.3333333333333333, \"#9c179e\"], [0.4444444444444444, \"#bd3786\"], [0.5555555555555556, \"#d8576b\"], [0.6666666666666666, \"#ed7953\"], [0.7777777777777778, \"#fb9f3a\"], [0.8888888888888888, \"#fdca26\"], [1.0, \"#f0f921\"]], \"type\": \"heatmapgl\"}], \"histogram\": [{\"marker\": {\"colorbar\": {\"outlinewidth\": 0, \"ticks\": \"\"}}, \"type\": \"histogram\"}], \"histogram2d\": [{\"colorbar\": {\"outlinewidth\": 0, \"ticks\": \"\"}, \"colorscale\": [[0.0, \"#0d0887\"], [0.1111111111111111, \"#46039f\"], [0.2222222222222222, \"#7201a8\"], [0.3333333333333333, \"#9c179e\"], [0.4444444444444444, \"#bd3786\"], [0.5555555555555556, \"#d8576b\"], [0.6666666666666666, \"#ed7953\"], [0.7777777777777778, \"#fb9f3a\"], [0.8888888888888888, \"#fdca26\"], [1.0, \"#f0f921\"]], \"type\": \"histogram2d\"}], \"histogram2dcontour\": [{\"colorbar\": {\"outlinewidth\": 0, \"ticks\": \"\"}, \"colorscale\": [[0.0, \"#0d0887\"], [0.1111111111111111, \"#46039f\"], [0.2222222222222222, \"#7201a8\"], [0.3333333333333333, \"#9c179e\"], [0.4444444444444444, \"#bd3786\"], [0.5555555555555556, \"#d8576b\"], [0.6666666666666666, \"#ed7953\"], [0.7777777777777778, \"#fb9f3a\"], [0.8888888888888888, \"#fdca26\"], [1.0, \"#f0f921\"]], \"type\": \"histogram2dcontour\"}], \"mesh3d\": [{\"colorbar\": {\"outlinewidth\": 0, \"ticks\": \"\"}, \"type\": \"mesh3d\"}], \"parcoords\": [{\"line\": {\"colorbar\": {\"outlinewidth\": 0, \"ticks\": \"\"}}, \"type\": \"parcoords\"}], \"scatter\": [{\"marker\": {\"colorbar\": {\"outlinewidth\": 0, \"ticks\": \"\"}}, \"type\": \"scatter\"}], \"scatter3d\": [{\"line\": {\"colorbar\": {\"outlinewidth\": 0, \"ticks\": \"\"}}, \"marker\": {\"colorbar\": {\"outlinewidth\": 0, \"ticks\": \"\"}}, \"type\": \"scatter3d\"}], \"scattercarpet\": [{\"marker\": {\"colorbar\": {\"outlinewidth\": 0, \"ticks\": \"\"}}, \"type\": \"scattercarpet\"}], \"scattergeo\": [{\"marker\": {\"colorbar\": {\"outlinewidth\": 0, \"ticks\": \"\"}}, \"type\": \"scattergeo\"}], \"scattergl\": [{\"marker\": {\"colorbar\": {\"outlinewidth\": 0, \"ticks\": \"\"}}, \"type\": \"scattergl\"}], \"scattermapbox\": [{\"marker\": {\"colorbar\": {\"outlinewidth\": 0, \"ticks\": \"\"}}, \"type\": \"scattermapbox\"}], \"scatterpolar\": [{\"marker\": {\"colorbar\": {\"outlinewidth\": 0, \"ticks\": \"\"}}, \"type\": \"scatterpolar\"}], \"scatterpolargl\": [{\"marker\": {\"colorbar\": {\"outlinewidth\": 0, \"ticks\": \"\"}}, \"type\": \"scatterpolargl\"}], \"scatterternary\": [{\"marker\": {\"colorbar\": {\"outlinewidth\": 0, \"ticks\": \"\"}}, \"type\": \"scatterternary\"}], \"surface\": [{\"colorbar\": {\"outlinewidth\": 0, \"ticks\": \"\"}, \"colorscale\": [[0.0, \"#0d0887\"], [0.1111111111111111, \"#46039f\"], [0.2222222222222222, \"#7201a8\"], [0.3333333333333333, \"#9c179e\"], [0.4444444444444444, \"#bd3786\"], [0.5555555555555556, \"#d8576b\"], [0.6666666666666666, \"#ed7953\"], [0.7777777777777778, \"#fb9f3a\"], [0.8888888888888888, \"#fdca26\"], [1.0, \"#f0f921\"]], \"type\": \"surface\"}], \"table\": [{\"cells\": {\"fill\": {\"color\": \"#EBF0F8\"}, \"line\": {\"color\": \"white\"}}, \"header\": {\"fill\": {\"color\": \"#C8D4E3\"}, \"line\": {\"color\": \"white\"}}, \"type\": \"table\"}]}, \"layout\": {\"annotationdefaults\": {\"arrowcolor\": \"#2a3f5f\", \"arrowhead\": 0, \"arrowwidth\": 1}, \"colorscale\": {\"diverging\": [[0, \"#8e0152\"], [0.1, \"#c51b7d\"], [0.2, \"#de77ae\"], [0.3, \"#f1b6da\"], [0.4, \"#fde0ef\"], [0.5, \"#f7f7f7\"], [0.6, \"#e6f5d0\"], [0.7, \"#b8e186\"], [0.8, \"#7fbc41\"], [0.9, \"#4d9221\"], [1, \"#276419\"]], \"sequential\": [[0.0, \"#0d0887\"], [0.1111111111111111, \"#46039f\"], [0.2222222222222222, \"#7201a8\"], [0.3333333333333333, \"#9c179e\"], [0.4444444444444444, \"#bd3786\"], [0.5555555555555556, \"#d8576b\"], [0.6666666666666666, \"#ed7953\"], [0.7777777777777778, \"#fb9f3a\"], [0.8888888888888888, \"#fdca26\"], [1.0, \"#f0f921\"]], \"sequentialminus\": [[0.0, \"#0d0887\"], [0.1111111111111111, \"#46039f\"], [0.2222222222222222, \"#7201a8\"], [0.3333333333333333, \"#9c179e\"], [0.4444444444444444, \"#bd3786\"], [0.5555555555555556, \"#d8576b\"], [0.6666666666666666, \"#ed7953\"], [0.7777777777777778, \"#fb9f3a\"], [0.8888888888888888, \"#fdca26\"], [1.0, \"#f0f921\"]]}, \"colorway\": [\"#636efa\", \"#EF553B\", \"#00cc96\", \"#ab63fa\", \"#FFA15A\", \"#19d3f3\", \"#FF6692\", \"#B6E880\", \"#FF97FF\", \"#FECB52\"], \"font\": {\"color\": \"#2a3f5f\"}, \"geo\": {\"bgcolor\": \"white\", \"lakecolor\": \"white\", \"landcolor\": \"#E5ECF6\", \"showlakes\": true, \"showland\": true, \"subunitcolor\": \"white\"}, \"hoverlabel\": {\"align\": \"left\"}, \"hovermode\": \"closest\", \"mapbox\": {\"style\": \"light\"}, \"paper_bgcolor\": \"white\", \"plot_bgcolor\": \"#E5ECF6\", \"polar\": {\"angularaxis\": {\"gridcolor\": \"white\", \"linecolor\": \"white\", \"ticks\": \"\"}, \"bgcolor\": \"#E5ECF6\", \"radialaxis\": {\"gridcolor\": \"white\", \"linecolor\": \"white\", \"ticks\": \"\"}}, \"scene\": {\"xaxis\": {\"backgroundcolor\": \"#E5ECF6\", \"gridcolor\": \"white\", \"gridwidth\": 2, \"linecolor\": \"white\", \"showbackground\": true, \"ticks\": \"\", \"zerolinecolor\": \"white\"}, \"yaxis\": {\"backgroundcolor\": \"#E5ECF6\", \"gridcolor\": \"white\", \"gridwidth\": 2, \"linecolor\": \"white\", \"showbackground\": true, \"ticks\": \"\", \"zerolinecolor\": \"white\"}, \"zaxis\": {\"backgroundcolor\": \"#E5ECF6\", \"gridcolor\": \"white\", \"gridwidth\": 2, \"linecolor\": \"white\", \"showbackground\": true, \"ticks\": \"\", \"zerolinecolor\": \"white\"}}, \"shapedefaults\": {\"line\": {\"color\": \"#2a3f5f\"}}, \"ternary\": {\"aaxis\": {\"gridcolor\": \"white\", \"linecolor\": \"white\", \"ticks\": \"\"}, \"baxis\": {\"gridcolor\": \"white\", \"linecolor\": \"white\", \"ticks\": \"\"}, \"bgcolor\": \"#E5ECF6\", \"caxis\": {\"gridcolor\": \"white\", \"linecolor\": \"white\", \"ticks\": \"\"}}, \"title\": {\"x\": 0.05}, \"xaxis\": {\"automargin\": true, \"gridcolor\": \"white\", \"linecolor\": \"white\", \"ticks\": \"\", \"zerolinecolor\": \"white\", \"zerolinewidth\": 2}, \"yaxis\": {\"automargin\": true, \"gridcolor\": \"white\", \"linecolor\": \"white\", \"ticks\": \"\", \"zerolinecolor\": \"white\", \"zerolinewidth\": 2}}}, \"title\": {\"text\": \"Tanh Function\"}, \"width\": 700, \"xaxis\": {\"anchor\": \"y\", \"domain\": [0.0, 0.98], \"title\": {\"text\": \"data\"}}, \"yaxis\": {\"anchor\": \"x\", \"domain\": [0.0, 1.0], \"title\": {\"text\": \"tanh_data\"}}},\n",
              "                        {\"responsive\": true}\n",
              "                    ).then(function(){\n",
              "                            \n",
              "var gd = document.getElementById('ec4c4556-c93c-40df-ab2d-6d89e5367329');\n",
              "var x = new MutationObserver(function (mutations, observer) {{\n",
              "        var display = window.getComputedStyle(gd).display;\n",
              "        if (!display || display === 'none') {{\n",
              "            console.log([gd, 'removed!']);\n",
              "            Plotly.purge(gd);\n",
              "            observer.disconnect();\n",
              "        }}\n",
              "}});\n",
              "\n",
              "// Listen for the removal of the full notebook cells\n",
              "var notebookContainer = gd.closest('#notebook-container');\n",
              "if (notebookContainer) {{\n",
              "    x.observe(notebookContainer, {childList: true});\n",
              "}}\n",
              "\n",
              "// Listen for the clearing of the current output cell\n",
              "var outputEl = gd.closest('.output');\n",
              "if (outputEl) {{\n",
              "    x.observe(outputEl, {childList: true});\n",
              "}}\n",
              "\n",
              "                        })\n",
              "                };\n",
              "                \n",
              "            </script>\n",
              "        </div>\n",
              "</body>\n",
              "</html>"
            ]
          },
          "metadata": {
            "tags": []
          }
        }
      ]
    },
    {
      "cell_type": "markdown",
      "metadata": {
        "id": "YtWKaTds3wDQ",
        "colab_type": "text"
      },
      "source": [
        "#### <a name='a5'></a> 1.5 Softmax Function\n",
        "\n",
        "####   $$S(x_i)=\\frac{e^{x_{i}}}{\\sum_{j=1}^{N}e^{x_j}},\\ \\ dla\\ i = 1,...,N$$\n",
        "\n",
        "####   $$S(x_1)=\\frac{e^{x_{1}}}{\\sum_{j=1}^{N}e^{x_j}}$$"
      ]
    },
    {
      "cell_type": "code",
      "metadata": {
        "id": "XSNZjSUH2zdt",
        "colab_type": "code",
        "colab": {}
      },
      "source": [
        "def softmax(x):\n",
        "    return np.exp(x) / np.sum(np.exp(x), axis=0)"
      ],
      "execution_count": 0,
      "outputs": []
    },
    {
      "cell_type": "code",
      "metadata": {
        "id": "BqTm6Wov7Gvs",
        "colab_type": "code",
        "outputId": "9c656748-044e-4a0f-ce98-8421559d64a0",
        "colab": {
          "base_uri": "https://localhost:8080/",
          "height": 90
        }
      },
      "source": [
        "data = np.random.randn(4, 5)\n",
        "data"
      ],
      "execution_count": 0,
      "outputs": [
        {
          "output_type": "execute_result",
          "data": {
            "text/plain": [
              "array([[-1.435648,  0.602575,  0.359666,  1.010477, -0.369008],\n",
              "       [-0.053237,  1.305064,  1.941274, -0.499689,  1.603589],\n",
              "       [ 0.459567,  0.0801  ,  1.586531, -0.310048,  0.248209],\n",
              "       [ 0.40418 , -1.679086, -0.644682,  0.605058, -0.471173]])"
            ]
          },
          "metadata": {
            "tags": []
          },
          "execution_count": 20
        }
      ]
    },
    {
      "cell_type": "code",
      "metadata": {
        "id": "lbOWiPyO7H4s",
        "colab_type": "code",
        "outputId": "5eee3d52-4932-422c-ca48-69b3557e82e2",
        "colab": {
          "base_uri": "https://localhost:8080/",
          "height": 90
        }
      },
      "source": [
        "np.exp(data)"
      ],
      "execution_count": 0,
      "outputs": [
        {
          "output_type": "execute_result",
          "data": {
            "text/plain": [
              "array([[0.237961, 1.826816, 1.43285 , 2.74691 , 0.69142 ],\n",
              "       [0.948155, 3.687924, 6.967622, 0.606719, 4.970842],\n",
              "       [1.583388, 1.083396, 4.886767, 0.733412, 1.281728],\n",
              "       [1.498073, 0.186544, 0.52483 , 1.831358, 0.62427 ]])"
            ]
          },
          "metadata": {
            "tags": []
          },
          "execution_count": 21
        }
      ]
    },
    {
      "cell_type": "code",
      "metadata": {
        "id": "HkPqUJEY7Nnt",
        "colab_type": "code",
        "outputId": "a8e2e3fa-53dc-48b4-fc0d-5e46c8b8cc2c",
        "colab": {
          "base_uri": "https://localhost:8080/",
          "height": 35
        }
      },
      "source": [
        "np.sum(np.exp(data), axis=0)"
      ],
      "execution_count": 0,
      "outputs": [
        {
          "output_type": "execute_result",
          "data": {
            "text/plain": [
              "array([ 4.267578,  6.78468 , 13.812069,  5.9184  ,  7.56826 ])"
            ]
          },
          "metadata": {
            "tags": []
          },
          "execution_count": 22
        }
      ]
    },
    {
      "cell_type": "code",
      "metadata": {
        "id": "6YO_8MP5DwCN",
        "colab_type": "code",
        "outputId": "fc0f0d25-e0b6-4410-c4c9-23c21aaa8203",
        "colab": {
          "base_uri": "https://localhost:8080/",
          "height": 90
        }
      },
      "source": [
        "np.exp(data) / np.sum(np.exp(data), axis=0)"
      ],
      "execution_count": 0,
      "outputs": [
        {
          "output_type": "execute_result",
          "data": {
            "text/plain": [
              "array([[0.05576 , 0.269256, 0.103739, 0.46413 , 0.091358],\n",
              "       [0.222176, 0.543566, 0.504459, 0.102514, 0.656801],\n",
              "       [0.371027, 0.159683, 0.353804, 0.123921, 0.169356],\n",
              "       [0.351036, 0.027495, 0.037998, 0.309435, 0.082485]])"
            ]
          },
          "metadata": {
            "tags": []
          },
          "execution_count": 23
        }
      ]
    },
    {
      "cell_type": "code",
      "metadata": {
        "id": "7fRn7uVC7fht",
        "colab_type": "code",
        "outputId": "209f0d3a-0d12-4574-efab-2c1946aceaca",
        "colab": {
          "base_uri": "https://localhost:8080/",
          "height": 90
        }
      },
      "source": [
        "results = softmax(data)\n",
        "results"
      ],
      "execution_count": 0,
      "outputs": [
        {
          "output_type": "execute_result",
          "data": {
            "text/plain": [
              "array([[0.05576 , 0.269256, 0.103739, 0.46413 , 0.091358],\n",
              "       [0.222176, 0.543566, 0.504459, 0.102514, 0.656801],\n",
              "       [0.371027, 0.159683, 0.353804, 0.123921, 0.169356],\n",
              "       [0.351036, 0.027495, 0.037998, 0.309435, 0.082485]])"
            ]
          },
          "metadata": {
            "tags": []
          },
          "execution_count": 24
        }
      ]
    },
    {
      "cell_type": "code",
      "metadata": {
        "id": "T8PzGibQ8Qvm",
        "colab_type": "code",
        "outputId": "82fdcdc4-2bf8-43ff-b841-ede21d1d7679",
        "colab": {
          "base_uri": "https://localhost:8080/",
          "height": 35
        }
      },
      "source": [
        "np.sum(results, axis=0)"
      ],
      "execution_count": 0,
      "outputs": [
        {
          "output_type": "execute_result",
          "data": {
            "text/plain": [
              "array([1., 1., 1., 1., 1.])"
            ]
          },
          "metadata": {
            "tags": []
          },
          "execution_count": 25
        }
      ]
    }
  ]
}