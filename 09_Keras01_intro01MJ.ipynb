{
  "nbformat": 4,
  "nbformat_minor": 0,
  "metadata": {
    "colab": {
      "provenance": [],
      "include_colab_link": true
    },
    "kernelspec": {
      "name": "python3",
      "display_name": "Python 3"
    }
  },
  "cells": [
    {
      "cell_type": "markdown",
      "metadata": {
        "id": "view-in-github",
        "colab_type": "text"
      },
      "source": [
        "<a href=\"https://colab.research.google.com/github/Marcin19721205/Wprowadzenie-Do-Sieci-Neuronowych/blob/main/09_Keras01_intro01MJ.ipynb\" target=\"_parent\"><img src=\"https://colab.research.google.com/assets/colab-badge.svg\" alt=\"Open In Colab\"/></a>"
      ]
    },
    {
      "cell_type": "markdown",
      "metadata": {
        "id": "tC7wD4aySZKb"
      },
      "source": [
        "#!!!!!!!!!!!!!!!!!!!!!!!!!!!!!!!!!!!!!!!!!!!!\n",
        "#NA RANDOMOWYCH DANYCH BUDOWA MODELI\n",
        "#KLASYFIKACJI BINARNEJ, WIELOKLASOWEJ I REGRESJI\n",
        "#KOMPENDIUM JAK BUDOWAĆ MODELE\n",
        "#!!!!!!!!!!!!!!!!!!!!!!!!!!!!!!!!!!!!!!!!!!!!\n",
        "\n",
        "### Model sekwencjny (Sequential Model):\n",
        "1. [Wprowadzenie - pierwszy model](#a0)\n",
        "2. [Funkcje aktywacji](#a1)\n",
        "3. [Kompilacja modelu](#a2)\n",
        "4. [Trenowanie modelu](#a3)\n",
        "5. [Przykład - klasyfikacja binarna](#a4)\n",
        "6. [Przykład - klasyfikacja wieloklasowa](#a5)\n",
        "7. [Przykład - regresja](#a6)\n",
        "\n",
        "\n",
        "\n",
        "Załadowanie biblioteki tensorflow\n"
      ]
    },
    {
      "cell_type": "code",
      "metadata": {
        "id": "3SPURJyPQOpj",
        "outputId": "beb7b65b-a0cb-4f78-d8d2-8b8c5a2e6647",
        "colab": {
          "base_uri": "https://localhost:8080/",
          "height": 55
        }
      },
      "source": [
        "%tensorflow_version 2.x\n",
        "import tensorflow as tf\n",
        "import numpy as np\n",
        "import pandas as pd\n",
        "import plotly.express as px\n",
        "tf.__version__"
      ],
      "execution_count": 1,
      "outputs": [
        {
          "output_type": "stream",
          "name": "stdout",
          "text": [
            "Colab only includes TensorFlow 2.x; %tensorflow_version has no effect.\n"
          ]
        },
        {
          "output_type": "execute_result",
          "data": {
            "text/plain": [
              "'2.19.0'"
            ],
            "application/vnd.google.colaboratory.intrinsic+json": {
              "type": "string"
            }
          },
          "metadata": {},
          "execution_count": 1
        }
      ]
    },
    {
      "cell_type": "markdown",
      "metadata": {
        "id": "x0HF8UIRTBmC"
      },
      "source": [
        "### <a name='a0'></a>Wprowadzenie - pierwszy model\n",
        "Model sekwencyjny to nic innego jak liniowy stos warstw."
      ]
    },
    {
      "cell_type": "code",
      "metadata": {
        "id": "y5qY8AQsTeGX",
        "outputId": "f7b6afb2-121f-4a4a-ca60-2056347b0a53",
        "colab": {
          "base_uri": "https://localhost:8080/"
        }
      },
      "source": [
        "# utworzenie instancji klasy Sequential\n",
        "from tensorflow.keras.models import Sequential #import klasy sekwencji\n",
        "\n",
        "model = Sequential()\n",
        "print(model)"
      ],
      "execution_count": 2,
      "outputs": [
        {
          "output_type": "stream",
          "name": "stdout",
          "text": [
            "<Sequential name=sequential, built=False>\n"
          ]
        }
      ]
    },
    {
      "cell_type": "markdown",
      "metadata": {
        "id": "yqtUKjKaTyxQ"
      },
      "source": [
        "Podstawowym elementem składowym modelu są warstwy. Aby dodać najbardziej standardową warstwę - warstwę gęsto połączoną należy użyć warstwy **Dense**. Aby dodać warstwę do modelu należy użyć metody *.add()*"
      ]
    },
    {
      "cell_type": "markdown",
      "source": [
        "Pierwszą wartswę okręslamy z iloscią danych wejściowych (tu 10)"
      ],
      "metadata": {
        "id": "75lEgdl3LD6h"
      }
    },
    {
      "cell_type": "code",
      "metadata": {
        "id": "CiMQRZUMTv8f",
        "colab": {
          "base_uri": "https://localhost:8080/"
        },
        "outputId": "f3552b80-c5f9-49ae-9d72-2146345b61eb"
      },
      "source": [
        "from tensorflow.keras.layers import Dense #import klasy dense\n",
        "\n",
        "model.add(Dense(units=4, input_shape=(10,))) #dodanie warstwy do modelu (units - liczba neuronów w warstwie),input_shapre= rozmaiar danych wejsciowych - 10 kolumn - 10 cech charakterystycznych"
      ],
      "execution_count": 3,
      "outputs": [
        {
          "output_type": "stream",
          "name": "stderr",
          "text": [
            "/usr/local/lib/python3.12/dist-packages/keras/src/layers/core/dense.py:93: UserWarning: Do not pass an `input_shape`/`input_dim` argument to a layer. When using Sequential models, prefer using an `Input(shape)` object as the first layer in the model instead.\n",
            "  super().__init__(activity_regularizer=activity_regularizer, **kwargs)\n"
          ]
        }
      ]
    },
    {
      "cell_type": "markdown",
      "metadata": {
        "id": "s4q14zW-XOU4"
      },
      "source": [
        "Wyświetlenie podsumowania modelu: metoda *.summary()*"
      ]
    },
    {
      "cell_type": "markdown",
      "source": [
        "input = 10 + 1 input layer = 11 * 4 neurony (units) = 44 parametry"
      ],
      "metadata": {
        "id": "Ve5-CsL9Kz8a"
      }
    },
    {
      "cell_type": "code",
      "metadata": {
        "id": "HAReYZ98UXtC",
        "outputId": "6663a88d-838c-4d17-e83e-ad588a2ffcda",
        "colab": {
          "base_uri": "https://localhost:8080/",
          "height": 167
        }
      },
      "source": [
        "model.summary()"
      ],
      "execution_count": 4,
      "outputs": [
        {
          "output_type": "display_data",
          "data": {
            "text/plain": [
              "\u001b[1mModel: \"sequential\"\u001b[0m\n"
            ],
            "text/html": [
              "<pre style=\"white-space:pre;overflow-x:auto;line-height:normal;font-family:Menlo,'DejaVu Sans Mono',consolas,'Courier New',monospace\"><span style=\"font-weight: bold\">Model: \"sequential\"</span>\n",
              "</pre>\n"
            ]
          },
          "metadata": {}
        },
        {
          "output_type": "display_data",
          "data": {
            "text/plain": [
              "┏━━━━━━━━━━━━━━━━━━━━━━━━━━━━━━━━━┳━━━━━━━━━━━━━━━━━━━━━━━━┳━━━━━━━━━━━━━━━┓\n",
              "┃\u001b[1m \u001b[0m\u001b[1mLayer (type)                   \u001b[0m\u001b[1m \u001b[0m┃\u001b[1m \u001b[0m\u001b[1mOutput Shape          \u001b[0m\u001b[1m \u001b[0m┃\u001b[1m \u001b[0m\u001b[1m      Param #\u001b[0m\u001b[1m \u001b[0m┃\n",
              "┡━━━━━━━━━━━━━━━━━━━━━━━━━━━━━━━━━╇━━━━━━━━━━━━━━━━━━━━━━━━╇━━━━━━━━━━━━━━━┩\n",
              "│ dense (\u001b[38;5;33mDense\u001b[0m)                   │ (\u001b[38;5;45mNone\u001b[0m, \u001b[38;5;34m4\u001b[0m)              │            \u001b[38;5;34m44\u001b[0m │\n",
              "└─────────────────────────────────┴────────────────────────┴───────────────┘\n"
            ],
            "text/html": [
              "<pre style=\"white-space:pre;overflow-x:auto;line-height:normal;font-family:Menlo,'DejaVu Sans Mono',consolas,'Courier New',monospace\">┏━━━━━━━━━━━━━━━━━━━━━━━━━━━━━━━━━┳━━━━━━━━━━━━━━━━━━━━━━━━┳━━━━━━━━━━━━━━━┓\n",
              "┃<span style=\"font-weight: bold\"> Layer (type)                    </span>┃<span style=\"font-weight: bold\"> Output Shape           </span>┃<span style=\"font-weight: bold\">       Param # </span>┃\n",
              "┡━━━━━━━━━━━━━━━━━━━━━━━━━━━━━━━━━╇━━━━━━━━━━━━━━━━━━━━━━━━╇━━━━━━━━━━━━━━━┩\n",
              "│ dense (<span style=\"color: #0087ff; text-decoration-color: #0087ff\">Dense</span>)                   │ (<span style=\"color: #00d7ff; text-decoration-color: #00d7ff\">None</span>, <span style=\"color: #00af00; text-decoration-color: #00af00\">4</span>)              │            <span style=\"color: #00af00; text-decoration-color: #00af00\">44</span> │\n",
              "└─────────────────────────────────┴────────────────────────┴───────────────┘\n",
              "</pre>\n"
            ]
          },
          "metadata": {}
        },
        {
          "output_type": "display_data",
          "data": {
            "text/plain": [
              "\u001b[1m Total params: \u001b[0m\u001b[38;5;34m44\u001b[0m (176.00 B)\n"
            ],
            "text/html": [
              "<pre style=\"white-space:pre;overflow-x:auto;line-height:normal;font-family:Menlo,'DejaVu Sans Mono',consolas,'Courier New',monospace\"><span style=\"font-weight: bold\"> Total params: </span><span style=\"color: #00af00; text-decoration-color: #00af00\">44</span> (176.00 B)\n",
              "</pre>\n"
            ]
          },
          "metadata": {}
        },
        {
          "output_type": "display_data",
          "data": {
            "text/plain": [
              "\u001b[1m Trainable params: \u001b[0m\u001b[38;5;34m44\u001b[0m (176.00 B)\n"
            ],
            "text/html": [
              "<pre style=\"white-space:pre;overflow-x:auto;line-height:normal;font-family:Menlo,'DejaVu Sans Mono',consolas,'Courier New',monospace\"><span style=\"font-weight: bold\"> Trainable params: </span><span style=\"color: #00af00; text-decoration-color: #00af00\">44</span> (176.00 B)\n",
              "</pre>\n"
            ]
          },
          "metadata": {}
        },
        {
          "output_type": "display_data",
          "data": {
            "text/plain": [
              "\u001b[1m Non-trainable params: \u001b[0m\u001b[38;5;34m0\u001b[0m (0.00 B)\n"
            ],
            "text/html": [
              "<pre style=\"white-space:pre;overflow-x:auto;line-height:normal;font-family:Menlo,'DejaVu Sans Mono',consolas,'Courier New',monospace\"><span style=\"font-weight: bold\"> Non-trainable params: </span><span style=\"color: #00af00; text-decoration-color: #00af00\">0</span> (0.00 B)\n",
              "</pre>\n"
            ]
          },
          "metadata": {}
        }
      ]
    },
    {
      "cell_type": "markdown",
      "metadata": {
        "id": "izZi_Eu2Xjcl"
      },
      "source": [
        "Dodanie kolejnej warstwy"
      ]
    },
    {
      "cell_type": "markdown",
      "source": [
        "Do kulejnych wartw nie musimy już dodawać danycg wejściowych - tylko ilość neuronów"
      ],
      "metadata": {
        "id": "eKrv7qV_LL6d"
      }
    },
    {
      "cell_type": "code",
      "metadata": {
        "id": "HD17lS82Uk7Y",
        "outputId": "91852a66-56e8-4448-d77e-85cb224031db",
        "colab": {
          "base_uri": "https://localhost:8080/",
          "height": 200
        }
      },
      "source": [
        "model.add(Dense(units=2))\n",
        "\n",
        "model.summary()"
      ],
      "execution_count": 5,
      "outputs": [
        {
          "output_type": "display_data",
          "data": {
            "text/plain": [
              "\u001b[1mModel: \"sequential\"\u001b[0m\n"
            ],
            "text/html": [
              "<pre style=\"white-space:pre;overflow-x:auto;line-height:normal;font-family:Menlo,'DejaVu Sans Mono',consolas,'Courier New',monospace\"><span style=\"font-weight: bold\">Model: \"sequential\"</span>\n",
              "</pre>\n"
            ]
          },
          "metadata": {}
        },
        {
          "output_type": "display_data",
          "data": {
            "text/plain": [
              "┏━━━━━━━━━━━━━━━━━━━━━━━━━━━━━━━━━┳━━━━━━━━━━━━━━━━━━━━━━━━┳━━━━━━━━━━━━━━━┓\n",
              "┃\u001b[1m \u001b[0m\u001b[1mLayer (type)                   \u001b[0m\u001b[1m \u001b[0m┃\u001b[1m \u001b[0m\u001b[1mOutput Shape          \u001b[0m\u001b[1m \u001b[0m┃\u001b[1m \u001b[0m\u001b[1m      Param #\u001b[0m\u001b[1m \u001b[0m┃\n",
              "┡━━━━━━━━━━━━━━━━━━━━━━━━━━━━━━━━━╇━━━━━━━━━━━━━━━━━━━━━━━━╇━━━━━━━━━━━━━━━┩\n",
              "│ dense (\u001b[38;5;33mDense\u001b[0m)                   │ (\u001b[38;5;45mNone\u001b[0m, \u001b[38;5;34m4\u001b[0m)              │            \u001b[38;5;34m44\u001b[0m │\n",
              "├─────────────────────────────────┼────────────────────────┼───────────────┤\n",
              "│ dense_1 (\u001b[38;5;33mDense\u001b[0m)                 │ (\u001b[38;5;45mNone\u001b[0m, \u001b[38;5;34m2\u001b[0m)              │            \u001b[38;5;34m10\u001b[0m │\n",
              "└─────────────────────────────────┴────────────────────────┴───────────────┘\n"
            ],
            "text/html": [
              "<pre style=\"white-space:pre;overflow-x:auto;line-height:normal;font-family:Menlo,'DejaVu Sans Mono',consolas,'Courier New',monospace\">┏━━━━━━━━━━━━━━━━━━━━━━━━━━━━━━━━━┳━━━━━━━━━━━━━━━━━━━━━━━━┳━━━━━━━━━━━━━━━┓\n",
              "┃<span style=\"font-weight: bold\"> Layer (type)                    </span>┃<span style=\"font-weight: bold\"> Output Shape           </span>┃<span style=\"font-weight: bold\">       Param # </span>┃\n",
              "┡━━━━━━━━━━━━━━━━━━━━━━━━━━━━━━━━━╇━━━━━━━━━━━━━━━━━━━━━━━━╇━━━━━━━━━━━━━━━┩\n",
              "│ dense (<span style=\"color: #0087ff; text-decoration-color: #0087ff\">Dense</span>)                   │ (<span style=\"color: #00d7ff; text-decoration-color: #00d7ff\">None</span>, <span style=\"color: #00af00; text-decoration-color: #00af00\">4</span>)              │            <span style=\"color: #00af00; text-decoration-color: #00af00\">44</span> │\n",
              "├─────────────────────────────────┼────────────────────────┼───────────────┤\n",
              "│ dense_1 (<span style=\"color: #0087ff; text-decoration-color: #0087ff\">Dense</span>)                 │ (<span style=\"color: #00d7ff; text-decoration-color: #00d7ff\">None</span>, <span style=\"color: #00af00; text-decoration-color: #00af00\">2</span>)              │            <span style=\"color: #00af00; text-decoration-color: #00af00\">10</span> │\n",
              "└─────────────────────────────────┴────────────────────────┴───────────────┘\n",
              "</pre>\n"
            ]
          },
          "metadata": {}
        },
        {
          "output_type": "display_data",
          "data": {
            "text/plain": [
              "\u001b[1m Total params: \u001b[0m\u001b[38;5;34m54\u001b[0m (216.00 B)\n"
            ],
            "text/html": [
              "<pre style=\"white-space:pre;overflow-x:auto;line-height:normal;font-family:Menlo,'DejaVu Sans Mono',consolas,'Courier New',monospace\"><span style=\"font-weight: bold\"> Total params: </span><span style=\"color: #00af00; text-decoration-color: #00af00\">54</span> (216.00 B)\n",
              "</pre>\n"
            ]
          },
          "metadata": {}
        },
        {
          "output_type": "display_data",
          "data": {
            "text/plain": [
              "\u001b[1m Trainable params: \u001b[0m\u001b[38;5;34m54\u001b[0m (216.00 B)\n"
            ],
            "text/html": [
              "<pre style=\"white-space:pre;overflow-x:auto;line-height:normal;font-family:Menlo,'DejaVu Sans Mono',consolas,'Courier New',monospace\"><span style=\"font-weight: bold\"> Trainable params: </span><span style=\"color: #00af00; text-decoration-color: #00af00\">54</span> (216.00 B)\n",
              "</pre>\n"
            ]
          },
          "metadata": {}
        },
        {
          "output_type": "display_data",
          "data": {
            "text/plain": [
              "\u001b[1m Non-trainable params: \u001b[0m\u001b[38;5;34m0\u001b[0m (0.00 B)\n"
            ],
            "text/html": [
              "<pre style=\"white-space:pre;overflow-x:auto;line-height:normal;font-family:Menlo,'DejaVu Sans Mono',consolas,'Courier New',monospace\"><span style=\"font-weight: bold\"> Non-trainable params: </span><span style=\"color: #00af00; text-decoration-color: #00af00\">0</span> (0.00 B)\n",
              "</pre>\n"
            ]
          },
          "metadata": {}
        }
      ]
    },
    {
      "cell_type": "markdown",
      "metadata": {
        "id": "yh_gui1wZCH2"
      },
      "source": [
        "### <a name='a1'></a>Funkcje aktywacji\n",
        "Istotnym elemenem sieci neuronowych jest dobór odpowiednich funkcji aktywacji. Funkcje aktywacji jak sama nazwa wskazuje są odpowiedzialne za aktywowanie odpowiednich neuronów podczas procesu uczenia.\n",
        "\n",
        "Jeżeli nie określimy podczas dodawania warstwy funkcji aktywacji, domyślnie stosowana jest liniowa funkcja aktywacji, tzn. $a(x)=x$\n",
        "\n",
        "Warstwa z liniową funkcją aktywacji może uczyć się tylko liniowych przekształceń danych wejściowych. Dlatego stosuje się różne funkcje aktywacji aby rozwiazywać problemy nieliniowe.\n",
        "\n",
        "[Keras: Funkcje aktywacji](https://keras.io/activations/)"
      ]
    },
    {
      "cell_type": "markdown",
      "source": [
        "Import funkcji liniowej - zwraca to samo y=x"
      ],
      "metadata": {
        "id": "cu6ueCfsMh1T"
      }
    },
    {
      "cell_type": "code",
      "metadata": {
        "id": "obfM5ho7ZmMy",
        "outputId": "52fadad7-68fd-4fe7-8243-799ffb5c5d40",
        "colab": {
          "base_uri": "https://localhost:8080/",
          "height": 206
        }
      },
      "source": [
        "from tensorflow.keras.activations import linear\n",
        "\n",
        "random_data = sorted(np.random.randn(200))\n",
        "data = pd.DataFrame({'data': random_data, 'linear': linear(random_data)})\n",
        "data.head()"
      ],
      "execution_count": 6,
      "outputs": [
        {
          "output_type": "execute_result",
          "data": {
            "text/plain": [
              "       data    linear\n",
              "0 -2.691765 -2.691765\n",
              "1 -2.273767 -2.273767\n",
              "2 -2.098545 -2.098545\n",
              "3 -2.083074 -2.083074\n",
              "4 -2.034557 -2.034557"
            ],
            "text/html": [
              "\n",
              "  <div id=\"df-6eeaec5f-75fd-4b35-ad1d-db2a2a03fc38\" class=\"colab-df-container\">\n",
              "    <div>\n",
              "<style scoped>\n",
              "    .dataframe tbody tr th:only-of-type {\n",
              "        vertical-align: middle;\n",
              "    }\n",
              "\n",
              "    .dataframe tbody tr th {\n",
              "        vertical-align: top;\n",
              "    }\n",
              "\n",
              "    .dataframe thead th {\n",
              "        text-align: right;\n",
              "    }\n",
              "</style>\n",
              "<table border=\"1\" class=\"dataframe\">\n",
              "  <thead>\n",
              "    <tr style=\"text-align: right;\">\n",
              "      <th></th>\n",
              "      <th>data</th>\n",
              "      <th>linear</th>\n",
              "    </tr>\n",
              "  </thead>\n",
              "  <tbody>\n",
              "    <tr>\n",
              "      <th>0</th>\n",
              "      <td>-2.691765</td>\n",
              "      <td>-2.691765</td>\n",
              "    </tr>\n",
              "    <tr>\n",
              "      <th>1</th>\n",
              "      <td>-2.273767</td>\n",
              "      <td>-2.273767</td>\n",
              "    </tr>\n",
              "    <tr>\n",
              "      <th>2</th>\n",
              "      <td>-2.098545</td>\n",
              "      <td>-2.098545</td>\n",
              "    </tr>\n",
              "    <tr>\n",
              "      <th>3</th>\n",
              "      <td>-2.083074</td>\n",
              "      <td>-2.083074</td>\n",
              "    </tr>\n",
              "    <tr>\n",
              "      <th>4</th>\n",
              "      <td>-2.034557</td>\n",
              "      <td>-2.034557</td>\n",
              "    </tr>\n",
              "  </tbody>\n",
              "</table>\n",
              "</div>\n",
              "    <div class=\"colab-df-buttons\">\n",
              "\n",
              "  <div class=\"colab-df-container\">\n",
              "    <button class=\"colab-df-convert\" onclick=\"convertToInteractive('df-6eeaec5f-75fd-4b35-ad1d-db2a2a03fc38')\"\n",
              "            title=\"Convert this dataframe to an interactive table.\"\n",
              "            style=\"display:none;\">\n",
              "\n",
              "  <svg xmlns=\"http://www.w3.org/2000/svg\" height=\"24px\" viewBox=\"0 -960 960 960\">\n",
              "    <path d=\"M120-120v-720h720v720H120Zm60-500h600v-160H180v160Zm220 220h160v-160H400v160Zm0 220h160v-160H400v160ZM180-400h160v-160H180v160Zm440 0h160v-160H620v160ZM180-180h160v-160H180v160Zm440 0h160v-160H620v160Z\"/>\n",
              "  </svg>\n",
              "    </button>\n",
              "\n",
              "  <style>\n",
              "    .colab-df-container {\n",
              "      display:flex;\n",
              "      gap: 12px;\n",
              "    }\n",
              "\n",
              "    .colab-df-convert {\n",
              "      background-color: #E8F0FE;\n",
              "      border: none;\n",
              "      border-radius: 50%;\n",
              "      cursor: pointer;\n",
              "      display: none;\n",
              "      fill: #1967D2;\n",
              "      height: 32px;\n",
              "      padding: 0 0 0 0;\n",
              "      width: 32px;\n",
              "    }\n",
              "\n",
              "    .colab-df-convert:hover {\n",
              "      background-color: #E2EBFA;\n",
              "      box-shadow: 0px 1px 2px rgba(60, 64, 67, 0.3), 0px 1px 3px 1px rgba(60, 64, 67, 0.15);\n",
              "      fill: #174EA6;\n",
              "    }\n",
              "\n",
              "    .colab-df-buttons div {\n",
              "      margin-bottom: 4px;\n",
              "    }\n",
              "\n",
              "    [theme=dark] .colab-df-convert {\n",
              "      background-color: #3B4455;\n",
              "      fill: #D2E3FC;\n",
              "    }\n",
              "\n",
              "    [theme=dark] .colab-df-convert:hover {\n",
              "      background-color: #434B5C;\n",
              "      box-shadow: 0px 1px 3px 1px rgba(0, 0, 0, 0.15);\n",
              "      filter: drop-shadow(0px 1px 2px rgba(0, 0, 0, 0.3));\n",
              "      fill: #FFFFFF;\n",
              "    }\n",
              "  </style>\n",
              "\n",
              "    <script>\n",
              "      const buttonEl =\n",
              "        document.querySelector('#df-6eeaec5f-75fd-4b35-ad1d-db2a2a03fc38 button.colab-df-convert');\n",
              "      buttonEl.style.display =\n",
              "        google.colab.kernel.accessAllowed ? 'block' : 'none';\n",
              "\n",
              "      async function convertToInteractive(key) {\n",
              "        const element = document.querySelector('#df-6eeaec5f-75fd-4b35-ad1d-db2a2a03fc38');\n",
              "        const dataTable =\n",
              "          await google.colab.kernel.invokeFunction('convertToInteractive',\n",
              "                                                    [key], {});\n",
              "        if (!dataTable) return;\n",
              "\n",
              "        const docLinkHtml = 'Like what you see? Visit the ' +\n",
              "          '<a target=\"_blank\" href=https://colab.research.google.com/notebooks/data_table.ipynb>data table notebook</a>'\n",
              "          + ' to learn more about interactive tables.';\n",
              "        element.innerHTML = '';\n",
              "        dataTable['output_type'] = 'display_data';\n",
              "        await google.colab.output.renderOutput(dataTable, element);\n",
              "        const docLink = document.createElement('div');\n",
              "        docLink.innerHTML = docLinkHtml;\n",
              "        element.appendChild(docLink);\n",
              "      }\n",
              "    </script>\n",
              "  </div>\n",
              "\n",
              "\n",
              "    <div id=\"df-3fd9f6aa-b8e3-4234-bedc-02b0122d159a\">\n",
              "      <button class=\"colab-df-quickchart\" onclick=\"quickchart('df-3fd9f6aa-b8e3-4234-bedc-02b0122d159a')\"\n",
              "                title=\"Suggest charts\"\n",
              "                style=\"display:none;\">\n",
              "\n",
              "<svg xmlns=\"http://www.w3.org/2000/svg\" height=\"24px\"viewBox=\"0 0 24 24\"\n",
              "     width=\"24px\">\n",
              "    <g>\n",
              "        <path d=\"M19 3H5c-1.1 0-2 .9-2 2v14c0 1.1.9 2 2 2h14c1.1 0 2-.9 2-2V5c0-1.1-.9-2-2-2zM9 17H7v-7h2v7zm4 0h-2V7h2v10zm4 0h-2v-4h2v4z\"/>\n",
              "    </g>\n",
              "</svg>\n",
              "      </button>\n",
              "\n",
              "<style>\n",
              "  .colab-df-quickchart {\n",
              "      --bg-color: #E8F0FE;\n",
              "      --fill-color: #1967D2;\n",
              "      --hover-bg-color: #E2EBFA;\n",
              "      --hover-fill-color: #174EA6;\n",
              "      --disabled-fill-color: #AAA;\n",
              "      --disabled-bg-color: #DDD;\n",
              "  }\n",
              "\n",
              "  [theme=dark] .colab-df-quickchart {\n",
              "      --bg-color: #3B4455;\n",
              "      --fill-color: #D2E3FC;\n",
              "      --hover-bg-color: #434B5C;\n",
              "      --hover-fill-color: #FFFFFF;\n",
              "      --disabled-bg-color: #3B4455;\n",
              "      --disabled-fill-color: #666;\n",
              "  }\n",
              "\n",
              "  .colab-df-quickchart {\n",
              "    background-color: var(--bg-color);\n",
              "    border: none;\n",
              "    border-radius: 50%;\n",
              "    cursor: pointer;\n",
              "    display: none;\n",
              "    fill: var(--fill-color);\n",
              "    height: 32px;\n",
              "    padding: 0;\n",
              "    width: 32px;\n",
              "  }\n",
              "\n",
              "  .colab-df-quickchart:hover {\n",
              "    background-color: var(--hover-bg-color);\n",
              "    box-shadow: 0 1px 2px rgba(60, 64, 67, 0.3), 0 1px 3px 1px rgba(60, 64, 67, 0.15);\n",
              "    fill: var(--button-hover-fill-color);\n",
              "  }\n",
              "\n",
              "  .colab-df-quickchart-complete:disabled,\n",
              "  .colab-df-quickchart-complete:disabled:hover {\n",
              "    background-color: var(--disabled-bg-color);\n",
              "    fill: var(--disabled-fill-color);\n",
              "    box-shadow: none;\n",
              "  }\n",
              "\n",
              "  .colab-df-spinner {\n",
              "    border: 2px solid var(--fill-color);\n",
              "    border-color: transparent;\n",
              "    border-bottom-color: var(--fill-color);\n",
              "    animation:\n",
              "      spin 1s steps(1) infinite;\n",
              "  }\n",
              "\n",
              "  @keyframes spin {\n",
              "    0% {\n",
              "      border-color: transparent;\n",
              "      border-bottom-color: var(--fill-color);\n",
              "      border-left-color: var(--fill-color);\n",
              "    }\n",
              "    20% {\n",
              "      border-color: transparent;\n",
              "      border-left-color: var(--fill-color);\n",
              "      border-top-color: var(--fill-color);\n",
              "    }\n",
              "    30% {\n",
              "      border-color: transparent;\n",
              "      border-left-color: var(--fill-color);\n",
              "      border-top-color: var(--fill-color);\n",
              "      border-right-color: var(--fill-color);\n",
              "    }\n",
              "    40% {\n",
              "      border-color: transparent;\n",
              "      border-right-color: var(--fill-color);\n",
              "      border-top-color: var(--fill-color);\n",
              "    }\n",
              "    60% {\n",
              "      border-color: transparent;\n",
              "      border-right-color: var(--fill-color);\n",
              "    }\n",
              "    80% {\n",
              "      border-color: transparent;\n",
              "      border-right-color: var(--fill-color);\n",
              "      border-bottom-color: var(--fill-color);\n",
              "    }\n",
              "    90% {\n",
              "      border-color: transparent;\n",
              "      border-bottom-color: var(--fill-color);\n",
              "    }\n",
              "  }\n",
              "</style>\n",
              "\n",
              "      <script>\n",
              "        async function quickchart(key) {\n",
              "          const quickchartButtonEl =\n",
              "            document.querySelector('#' + key + ' button');\n",
              "          quickchartButtonEl.disabled = true;  // To prevent multiple clicks.\n",
              "          quickchartButtonEl.classList.add('colab-df-spinner');\n",
              "          try {\n",
              "            const charts = await google.colab.kernel.invokeFunction(\n",
              "                'suggestCharts', [key], {});\n",
              "          } catch (error) {\n",
              "            console.error('Error during call to suggestCharts:', error);\n",
              "          }\n",
              "          quickchartButtonEl.classList.remove('colab-df-spinner');\n",
              "          quickchartButtonEl.classList.add('colab-df-quickchart-complete');\n",
              "        }\n",
              "        (() => {\n",
              "          let quickchartButtonEl =\n",
              "            document.querySelector('#df-3fd9f6aa-b8e3-4234-bedc-02b0122d159a button');\n",
              "          quickchartButtonEl.style.display =\n",
              "            google.colab.kernel.accessAllowed ? 'block' : 'none';\n",
              "        })();\n",
              "      </script>\n",
              "    </div>\n",
              "\n",
              "    </div>\n",
              "  </div>\n"
            ],
            "application/vnd.google.colaboratory.intrinsic+json": {
              "type": "dataframe",
              "variable_name": "data",
              "summary": "{\n  \"name\": \"data\",\n  \"rows\": 200,\n  \"fields\": [\n    {\n      \"column\": \"data\",\n      \"properties\": {\n        \"dtype\": \"number\",\n        \"std\": 1.0132129662175284,\n        \"min\": -2.6917650272577194,\n        \"max\": 3.0182144953490044,\n        \"num_unique_values\": 200,\n        \"samples\": [\n          -0.14367891698176358,\n          -1.6598813645281478,\n          -1.2572657228083282\n        ],\n        \"semantic_type\": \"\",\n        \"description\": \"\"\n      }\n    },\n    {\n      \"column\": \"linear\",\n      \"properties\": {\n        \"dtype\": \"number\",\n        \"std\": 1.0132129662175284,\n        \"min\": -2.6917650272577194,\n        \"max\": 3.0182144953490044,\n        \"num_unique_values\": 200,\n        \"samples\": [\n          -0.14367891698176358,\n          -1.6598813645281478,\n          -1.2572657228083282\n        ],\n        \"semantic_type\": \"\",\n        \"description\": \"\"\n      }\n    }\n  ]\n}"
            }
          },
          "metadata": {},
          "execution_count": 6
        }
      ]
    },
    {
      "cell_type": "code",
      "metadata": {
        "id": "SsbhlfGgesjV",
        "outputId": "e8ba3269-85c1-4872-9bda-a679a4a51034",
        "colab": {
          "base_uri": "https://localhost:8080/",
          "height": 542
        }
      },
      "source": [
        "px.line(data, x='data', y='linear', width=800, range_y=[-2, 2])"
      ],
      "execution_count": 7,
      "outputs": [
        {
          "output_type": "display_data",
          "data": {
            "text/html": [
              "<html>\n",
              "<head><meta charset=\"utf-8\" /></head>\n",
              "<body>\n",
              "    <div>            <script src=\"https://cdnjs.cloudflare.com/ajax/libs/mathjax/2.7.5/MathJax.js?config=TeX-AMS-MML_SVG\"></script><script type=\"text/javascript\">if (window.MathJax && window.MathJax.Hub && window.MathJax.Hub.Config) {window.MathJax.Hub.Config({SVG: {font: \"STIX-Web\"}});}</script>                <script type=\"text/javascript\">window.PlotlyConfig = {MathJaxConfig: 'local'};</script>\n",
              "        <script charset=\"utf-8\" src=\"https://cdn.plot.ly/plotly-2.35.2.min.js\"></script>                <div id=\"55158328-7dfb-44de-9ed4-c24e6fd7f5f3\" class=\"plotly-graph-div\" style=\"height:525px; width:800px;\"></div>            <script type=\"text/javascript\">                                    window.PLOTLYENV=window.PLOTLYENV || {};                                    if (document.getElementById(\"55158328-7dfb-44de-9ed4-c24e6fd7f5f3\")) {                    Plotly.newPlot(                        \"55158328-7dfb-44de-9ed4-c24e6fd7f5f3\",                        [{\"hovertemplate\":\"data=%{x}\\u003cbr\\u003elinear=%{y}\\u003cextra\\u003e\\u003c\\u002fextra\\u003e\",\"legendgroup\":\"\",\"line\":{\"color\":\"#636efa\",\"dash\":\"solid\"},\"marker\":{\"symbol\":\"circle\"},\"mode\":\"lines\",\"name\":\"\",\"orientation\":\"v\",\"showlegend\":false,\"x\":[-2.6917650272577194,-2.273767078855922,-2.0985448349751654,-2.0830743320477323,-2.0345574082565574,-1.9946359070141975,-1.9789564145051672,-1.9654505947061653,-1.9511209218913976,-1.9467406793723123,-1.9027944768491727,-1.8461064328519907,-1.7984996165403162,-1.7849943692618115,-1.6611339636042333,-1.6598813645281478,-1.603638575934901,-1.549435991891942,-1.4732131124810952,-1.4229027381300254,-1.3999143499445577,-1.3918620782745312,-1.382477398554032,-1.3808125973986791,-1.3508692947637215,-1.3362333413111525,-1.329816466349905,-1.3256557653891428,-1.3107945684198783,-1.3072620437068903,-1.2572657228083282,-1.2495650640554412,-1.211665815560881,-1.2003426876619252,-1.183133353288884,-1.1770154458905238,-1.1735989422014375,-1.0753498850988543,-1.0687063489760353,-1.066979052885883,-1.0043623807232362,-0.9916989513363971,-0.9540569789761263,-0.9485725723819842,-0.9418386880580482,-0.932073549100358,-0.9237216099267888,-0.9130522114317937,-0.8876542870406684,-0.8788200917710116,-0.836495935242438,-0.8116293276615255,-0.8065417430636015,-0.7911142058189222,-0.784168214619147,-0.7443498820321276,-0.6931496511626826,-0.6828341956981947,-0.6419384134232714,-0.6181153140693454,-0.6124450339822423,-0.5970517902661224,-0.5448897754174534,-0.5446705719470306,-0.5283614101118592,-0.5148209629158663,-0.5071262793795245,-0.4945286801135359,-0.48934917899805347,-0.47701778824768065,-0.46803830425365556,-0.4506584052625584,-0.4415295075483052,-0.437126606596554,-0.43142570339516784,-0.4308410361396343,-0.4218574214890968,-0.4141622596858143,-0.37779447615257256,-0.3468352874453344,-0.3219666124160021,-0.31293995296727767,-0.2822930786980452,-0.2815886456308699,-0.27361979354440213,-0.2427256386953731,-0.2405950667159387,-0.21925588736485857,-0.21732747288925988,-0.21689155086068712,-0.20129437290293867,-0.19886670216802912,-0.1761297090649528,-0.16324666402845897,-0.16023835040437184,-0.14367891698176358,-0.14244818312085214,-0.10233682474902352,-0.09717264129860564,-0.09003826976334292,-0.08583305742999409,-0.08176413854087623,-0.058324687489194726,-0.04337985035476196,-0.041942401586047895,-0.011058074109618043,0.006249130363606537,0.021049528051830763,0.023104522835033364,0.045935803033204194,0.07361347381108846,0.07716028175723687,0.07813377986777544,0.08098973140561883,0.11441986907378736,0.12284288400791069,0.1283569746042959,0.1287686144286258,0.13428819655911536,0.13666550723409643,0.1448108872681174,0.15798177981469236,0.1604409941037501,0.16107822318241036,0.16492615585147838,0.1733232600682447,0.1733286638662388,0.19100324658184023,0.20170456801525422,0.24843389730306878,0.26892695434666897,0.26964060687062447,0.27889865292242766,0.30707312098565565,0.30785626871824456,0.3158102594858183,0.36946542427803597,0.37040786527666913,0.37641007528711173,0.4046869380379067,0.40469564057531676,0.42282723095428465,0.43090668431255325,0.4428131591648468,0.45621747588396866,0.4658389839284849,0.47627620538535737,0.5072666338167231,0.5244737711919316,0.5318617330154312,0.5346719148171979,0.5377532838181527,0.5586028194959644,0.5593289977568667,0.5685579524107504,0.573007462775055,0.5902600939858688,0.606025477867747,0.6078885147376203,0.6109758205103927,0.6181610705140823,0.6302153682780656,0.6429644015231222,0.6436528351579306,0.6558862662123457,0.6608590981438756,0.6876784307653573,0.7521637552994546,0.7700180197999668,0.7779433262139729,0.7807374652144384,0.7809813111530463,0.8879599618247457,0.9524878843487184,0.9593893709212385,0.9913521851059492,0.996913499123333,0.9973704020930753,1.0251631686704368,1.0730011014734593,1.1353219157795005,1.1511531282926635,1.170244575305026,1.1730815967598753,1.1878764894586986,1.2405330657467526,1.4465314000725529,1.46565973728362,1.4921962364811787,1.5552526764058896,1.5572383032840678,1.6528103238427003,1.6880181701359083,1.9312033451591775,1.9966947028927444,2.013740166968325,2.2422981630433028,2.3110374914813483,2.4570023531785417,3.0182144953490044],\"xaxis\":\"x\",\"y\":[-2.6917650272577194,-2.273767078855922,-2.0985448349751654,-2.0830743320477323,-2.0345574082565574,-1.9946359070141975,-1.9789564145051672,-1.9654505947061653,-1.9511209218913976,-1.9467406793723123,-1.9027944768491727,-1.8461064328519907,-1.7984996165403162,-1.7849943692618115,-1.6611339636042333,-1.6598813645281478,-1.603638575934901,-1.549435991891942,-1.4732131124810952,-1.4229027381300254,-1.3999143499445577,-1.3918620782745312,-1.382477398554032,-1.3808125973986791,-1.3508692947637215,-1.3362333413111525,-1.329816466349905,-1.3256557653891428,-1.3107945684198783,-1.3072620437068903,-1.2572657228083282,-1.2495650640554412,-1.211665815560881,-1.2003426876619252,-1.183133353288884,-1.1770154458905238,-1.1735989422014375,-1.0753498850988543,-1.0687063489760353,-1.066979052885883,-1.0043623807232362,-0.9916989513363971,-0.9540569789761263,-0.9485725723819842,-0.9418386880580482,-0.932073549100358,-0.9237216099267888,-0.9130522114317937,-0.8876542870406684,-0.8788200917710116,-0.836495935242438,-0.8116293276615255,-0.8065417430636015,-0.7911142058189222,-0.784168214619147,-0.7443498820321276,-0.6931496511626826,-0.6828341956981947,-0.6419384134232714,-0.6181153140693454,-0.6124450339822423,-0.5970517902661224,-0.5448897754174534,-0.5446705719470306,-0.5283614101118592,-0.5148209629158663,-0.5071262793795245,-0.4945286801135359,-0.48934917899805347,-0.47701778824768065,-0.46803830425365556,-0.4506584052625584,-0.4415295075483052,-0.437126606596554,-0.43142570339516784,-0.4308410361396343,-0.4218574214890968,-0.4141622596858143,-0.37779447615257256,-0.3468352874453344,-0.3219666124160021,-0.31293995296727767,-0.2822930786980452,-0.2815886456308699,-0.27361979354440213,-0.2427256386953731,-0.2405950667159387,-0.21925588736485857,-0.21732747288925988,-0.21689155086068712,-0.20129437290293867,-0.19886670216802912,-0.1761297090649528,-0.16324666402845897,-0.16023835040437184,-0.14367891698176358,-0.14244818312085214,-0.10233682474902352,-0.09717264129860564,-0.09003826976334292,-0.08583305742999409,-0.08176413854087623,-0.058324687489194726,-0.04337985035476196,-0.041942401586047895,-0.011058074109618043,0.006249130363606537,0.021049528051830763,0.023104522835033364,0.045935803033204194,0.07361347381108846,0.07716028175723687,0.07813377986777544,0.08098973140561883,0.11441986907378736,0.12284288400791069,0.1283569746042959,0.1287686144286258,0.13428819655911536,0.13666550723409643,0.1448108872681174,0.15798177981469236,0.1604409941037501,0.16107822318241036,0.16492615585147838,0.1733232600682447,0.1733286638662388,0.19100324658184023,0.20170456801525422,0.24843389730306878,0.26892695434666897,0.26964060687062447,0.27889865292242766,0.30707312098565565,0.30785626871824456,0.3158102594858183,0.36946542427803597,0.37040786527666913,0.37641007528711173,0.4046869380379067,0.40469564057531676,0.42282723095428465,0.43090668431255325,0.4428131591648468,0.45621747588396866,0.4658389839284849,0.47627620538535737,0.5072666338167231,0.5244737711919316,0.5318617330154312,0.5346719148171979,0.5377532838181527,0.5586028194959644,0.5593289977568667,0.5685579524107504,0.573007462775055,0.5902600939858688,0.606025477867747,0.6078885147376203,0.6109758205103927,0.6181610705140823,0.6302153682780656,0.6429644015231222,0.6436528351579306,0.6558862662123457,0.6608590981438756,0.6876784307653573,0.7521637552994546,0.7700180197999668,0.7779433262139729,0.7807374652144384,0.7809813111530463,0.8879599618247457,0.9524878843487184,0.9593893709212385,0.9913521851059492,0.996913499123333,0.9973704020930753,1.0251631686704368,1.0730011014734593,1.1353219157795005,1.1511531282926635,1.170244575305026,1.1730815967598753,1.1878764894586986,1.2405330657467526,1.4465314000725529,1.46565973728362,1.4921962364811787,1.5552526764058896,1.5572383032840678,1.6528103238427003,1.6880181701359083,1.9312033451591775,1.9966947028927444,2.013740166968325,2.2422981630433028,2.3110374914813483,2.4570023531785417,3.0182144953490044],\"yaxis\":\"y\",\"type\":\"scatter\"}],                        {\"template\":{\"data\":{\"histogram2dcontour\":[{\"type\":\"histogram2dcontour\",\"colorbar\":{\"outlinewidth\":0,\"ticks\":\"\"},\"colorscale\":[[0.0,\"#0d0887\"],[0.1111111111111111,\"#46039f\"],[0.2222222222222222,\"#7201a8\"],[0.3333333333333333,\"#9c179e\"],[0.4444444444444444,\"#bd3786\"],[0.5555555555555556,\"#d8576b\"],[0.6666666666666666,\"#ed7953\"],[0.7777777777777778,\"#fb9f3a\"],[0.8888888888888888,\"#fdca26\"],[1.0,\"#f0f921\"]]}],\"choropleth\":[{\"type\":\"choropleth\",\"colorbar\":{\"outlinewidth\":0,\"ticks\":\"\"}}],\"histogram2d\":[{\"type\":\"histogram2d\",\"colorbar\":{\"outlinewidth\":0,\"ticks\":\"\"},\"colorscale\":[[0.0,\"#0d0887\"],[0.1111111111111111,\"#46039f\"],[0.2222222222222222,\"#7201a8\"],[0.3333333333333333,\"#9c179e\"],[0.4444444444444444,\"#bd3786\"],[0.5555555555555556,\"#d8576b\"],[0.6666666666666666,\"#ed7953\"],[0.7777777777777778,\"#fb9f3a\"],[0.8888888888888888,\"#fdca26\"],[1.0,\"#f0f921\"]]}],\"heatmap\":[{\"type\":\"heatmap\",\"colorbar\":{\"outlinewidth\":0,\"ticks\":\"\"},\"colorscale\":[[0.0,\"#0d0887\"],[0.1111111111111111,\"#46039f\"],[0.2222222222222222,\"#7201a8\"],[0.3333333333333333,\"#9c179e\"],[0.4444444444444444,\"#bd3786\"],[0.5555555555555556,\"#d8576b\"],[0.6666666666666666,\"#ed7953\"],[0.7777777777777778,\"#fb9f3a\"],[0.8888888888888888,\"#fdca26\"],[1.0,\"#f0f921\"]]}],\"heatmapgl\":[{\"type\":\"heatmapgl\",\"colorbar\":{\"outlinewidth\":0,\"ticks\":\"\"},\"colorscale\":[[0.0,\"#0d0887\"],[0.1111111111111111,\"#46039f\"],[0.2222222222222222,\"#7201a8\"],[0.3333333333333333,\"#9c179e\"],[0.4444444444444444,\"#bd3786\"],[0.5555555555555556,\"#d8576b\"],[0.6666666666666666,\"#ed7953\"],[0.7777777777777778,\"#fb9f3a\"],[0.8888888888888888,\"#fdca26\"],[1.0,\"#f0f921\"]]}],\"contourcarpet\":[{\"type\":\"contourcarpet\",\"colorbar\":{\"outlinewidth\":0,\"ticks\":\"\"}}],\"contour\":[{\"type\":\"contour\",\"colorbar\":{\"outlinewidth\":0,\"ticks\":\"\"},\"colorscale\":[[0.0,\"#0d0887\"],[0.1111111111111111,\"#46039f\"],[0.2222222222222222,\"#7201a8\"],[0.3333333333333333,\"#9c179e\"],[0.4444444444444444,\"#bd3786\"],[0.5555555555555556,\"#d8576b\"],[0.6666666666666666,\"#ed7953\"],[0.7777777777777778,\"#fb9f3a\"],[0.8888888888888888,\"#fdca26\"],[1.0,\"#f0f921\"]]}],\"surface\":[{\"type\":\"surface\",\"colorbar\":{\"outlinewidth\":0,\"ticks\":\"\"},\"colorscale\":[[0.0,\"#0d0887\"],[0.1111111111111111,\"#46039f\"],[0.2222222222222222,\"#7201a8\"],[0.3333333333333333,\"#9c179e\"],[0.4444444444444444,\"#bd3786\"],[0.5555555555555556,\"#d8576b\"],[0.6666666666666666,\"#ed7953\"],[0.7777777777777778,\"#fb9f3a\"],[0.8888888888888888,\"#fdca26\"],[1.0,\"#f0f921\"]]}],\"mesh3d\":[{\"type\":\"mesh3d\",\"colorbar\":{\"outlinewidth\":0,\"ticks\":\"\"}}],\"scatter\":[{\"fillpattern\":{\"fillmode\":\"overlay\",\"size\":10,\"solidity\":0.2},\"type\":\"scatter\"}],\"parcoords\":[{\"type\":\"parcoords\",\"line\":{\"colorbar\":{\"outlinewidth\":0,\"ticks\":\"\"}}}],\"scatterpolargl\":[{\"type\":\"scatterpolargl\",\"marker\":{\"colorbar\":{\"outlinewidth\":0,\"ticks\":\"\"}}}],\"bar\":[{\"error_x\":{\"color\":\"#2a3f5f\"},\"error_y\":{\"color\":\"#2a3f5f\"},\"marker\":{\"line\":{\"color\":\"#E5ECF6\",\"width\":0.5},\"pattern\":{\"fillmode\":\"overlay\",\"size\":10,\"solidity\":0.2}},\"type\":\"bar\"}],\"scattergeo\":[{\"type\":\"scattergeo\",\"marker\":{\"colorbar\":{\"outlinewidth\":0,\"ticks\":\"\"}}}],\"scatterpolar\":[{\"type\":\"scatterpolar\",\"marker\":{\"colorbar\":{\"outlinewidth\":0,\"ticks\":\"\"}}}],\"histogram\":[{\"marker\":{\"pattern\":{\"fillmode\":\"overlay\",\"size\":10,\"solidity\":0.2}},\"type\":\"histogram\"}],\"scattergl\":[{\"type\":\"scattergl\",\"marker\":{\"colorbar\":{\"outlinewidth\":0,\"ticks\":\"\"}}}],\"scatter3d\":[{\"type\":\"scatter3d\",\"line\":{\"colorbar\":{\"outlinewidth\":0,\"ticks\":\"\"}},\"marker\":{\"colorbar\":{\"outlinewidth\":0,\"ticks\":\"\"}}}],\"scattermapbox\":[{\"type\":\"scattermapbox\",\"marker\":{\"colorbar\":{\"outlinewidth\":0,\"ticks\":\"\"}}}],\"scatterternary\":[{\"type\":\"scatterternary\",\"marker\":{\"colorbar\":{\"outlinewidth\":0,\"ticks\":\"\"}}}],\"scattercarpet\":[{\"type\":\"scattercarpet\",\"marker\":{\"colorbar\":{\"outlinewidth\":0,\"ticks\":\"\"}}}],\"carpet\":[{\"aaxis\":{\"endlinecolor\":\"#2a3f5f\",\"gridcolor\":\"white\",\"linecolor\":\"white\",\"minorgridcolor\":\"white\",\"startlinecolor\":\"#2a3f5f\"},\"baxis\":{\"endlinecolor\":\"#2a3f5f\",\"gridcolor\":\"white\",\"linecolor\":\"white\",\"minorgridcolor\":\"white\",\"startlinecolor\":\"#2a3f5f\"},\"type\":\"carpet\"}],\"table\":[{\"cells\":{\"fill\":{\"color\":\"#EBF0F8\"},\"line\":{\"color\":\"white\"}},\"header\":{\"fill\":{\"color\":\"#C8D4E3\"},\"line\":{\"color\":\"white\"}},\"type\":\"table\"}],\"barpolar\":[{\"marker\":{\"line\":{\"color\":\"#E5ECF6\",\"width\":0.5},\"pattern\":{\"fillmode\":\"overlay\",\"size\":10,\"solidity\":0.2}},\"type\":\"barpolar\"}],\"pie\":[{\"automargin\":true,\"type\":\"pie\"}]},\"layout\":{\"autotypenumbers\":\"strict\",\"colorway\":[\"#636efa\",\"#EF553B\",\"#00cc96\",\"#ab63fa\",\"#FFA15A\",\"#19d3f3\",\"#FF6692\",\"#B6E880\",\"#FF97FF\",\"#FECB52\"],\"font\":{\"color\":\"#2a3f5f\"},\"hovermode\":\"closest\",\"hoverlabel\":{\"align\":\"left\"},\"paper_bgcolor\":\"white\",\"plot_bgcolor\":\"#E5ECF6\",\"polar\":{\"bgcolor\":\"#E5ECF6\",\"angularaxis\":{\"gridcolor\":\"white\",\"linecolor\":\"white\",\"ticks\":\"\"},\"radialaxis\":{\"gridcolor\":\"white\",\"linecolor\":\"white\",\"ticks\":\"\"}},\"ternary\":{\"bgcolor\":\"#E5ECF6\",\"aaxis\":{\"gridcolor\":\"white\",\"linecolor\":\"white\",\"ticks\":\"\"},\"baxis\":{\"gridcolor\":\"white\",\"linecolor\":\"white\",\"ticks\":\"\"},\"caxis\":{\"gridcolor\":\"white\",\"linecolor\":\"white\",\"ticks\":\"\"}},\"coloraxis\":{\"colorbar\":{\"outlinewidth\":0,\"ticks\":\"\"}},\"colorscale\":{\"sequential\":[[0.0,\"#0d0887\"],[0.1111111111111111,\"#46039f\"],[0.2222222222222222,\"#7201a8\"],[0.3333333333333333,\"#9c179e\"],[0.4444444444444444,\"#bd3786\"],[0.5555555555555556,\"#d8576b\"],[0.6666666666666666,\"#ed7953\"],[0.7777777777777778,\"#fb9f3a\"],[0.8888888888888888,\"#fdca26\"],[1.0,\"#f0f921\"]],\"sequentialminus\":[[0.0,\"#0d0887\"],[0.1111111111111111,\"#46039f\"],[0.2222222222222222,\"#7201a8\"],[0.3333333333333333,\"#9c179e\"],[0.4444444444444444,\"#bd3786\"],[0.5555555555555556,\"#d8576b\"],[0.6666666666666666,\"#ed7953\"],[0.7777777777777778,\"#fb9f3a\"],[0.8888888888888888,\"#fdca26\"],[1.0,\"#f0f921\"]],\"diverging\":[[0,\"#8e0152\"],[0.1,\"#c51b7d\"],[0.2,\"#de77ae\"],[0.3,\"#f1b6da\"],[0.4,\"#fde0ef\"],[0.5,\"#f7f7f7\"],[0.6,\"#e6f5d0\"],[0.7,\"#b8e186\"],[0.8,\"#7fbc41\"],[0.9,\"#4d9221\"],[1,\"#276419\"]]},\"xaxis\":{\"gridcolor\":\"white\",\"linecolor\":\"white\",\"ticks\":\"\",\"title\":{\"standoff\":15},\"zerolinecolor\":\"white\",\"automargin\":true,\"zerolinewidth\":2},\"yaxis\":{\"gridcolor\":\"white\",\"linecolor\":\"white\",\"ticks\":\"\",\"title\":{\"standoff\":15},\"zerolinecolor\":\"white\",\"automargin\":true,\"zerolinewidth\":2},\"scene\":{\"xaxis\":{\"backgroundcolor\":\"#E5ECF6\",\"gridcolor\":\"white\",\"linecolor\":\"white\",\"showbackground\":true,\"ticks\":\"\",\"zerolinecolor\":\"white\",\"gridwidth\":2},\"yaxis\":{\"backgroundcolor\":\"#E5ECF6\",\"gridcolor\":\"white\",\"linecolor\":\"white\",\"showbackground\":true,\"ticks\":\"\",\"zerolinecolor\":\"white\",\"gridwidth\":2},\"zaxis\":{\"backgroundcolor\":\"#E5ECF6\",\"gridcolor\":\"white\",\"linecolor\":\"white\",\"showbackground\":true,\"ticks\":\"\",\"zerolinecolor\":\"white\",\"gridwidth\":2}},\"shapedefaults\":{\"line\":{\"color\":\"#2a3f5f\"}},\"annotationdefaults\":{\"arrowcolor\":\"#2a3f5f\",\"arrowhead\":0,\"arrowwidth\":1},\"geo\":{\"bgcolor\":\"white\",\"landcolor\":\"#E5ECF6\",\"subunitcolor\":\"white\",\"showland\":true,\"showlakes\":true,\"lakecolor\":\"white\"},\"title\":{\"x\":0.05},\"mapbox\":{\"style\":\"light\"}}},\"xaxis\":{\"anchor\":\"y\",\"domain\":[0.0,1.0],\"title\":{\"text\":\"data\"}},\"yaxis\":{\"anchor\":\"x\",\"domain\":[0.0,1.0],\"title\":{\"text\":\"linear\"},\"range\":[-2,2]},\"legend\":{\"tracegroupgap\":0},\"margin\":{\"t\":60},\"width\":800},                        {\"responsive\": true}                    ).then(function(){\n",
              "                            \n",
              "var gd = document.getElementById('55158328-7dfb-44de-9ed4-c24e6fd7f5f3');\n",
              "var x = new MutationObserver(function (mutations, observer) {{\n",
              "        var display = window.getComputedStyle(gd).display;\n",
              "        if (!display || display === 'none') {{\n",
              "            console.log([gd, 'removed!']);\n",
              "            Plotly.purge(gd);\n",
              "            observer.disconnect();\n",
              "        }}\n",
              "}});\n",
              "\n",
              "// Listen for the removal of the full notebook cells\n",
              "var notebookContainer = gd.closest('#notebook-container');\n",
              "if (notebookContainer) {{\n",
              "    x.observe(notebookContainer, {childList: true});\n",
              "}}\n",
              "\n",
              "// Listen for the clearing of the current output cell\n",
              "var outputEl = gd.closest('.output');\n",
              "if (outputEl) {{\n",
              "    x.observe(outputEl, {childList: true});\n",
              "}}\n",
              "\n",
              "                        })                };                            </script>        </div>\n",
              "</body>\n",
              "</html>"
            ]
          },
          "metadata": {}
        }
      ]
    },
    {
      "cell_type": "markdown",
      "source": [
        "Import funkcji sigmoid"
      ],
      "metadata": {
        "id": "7-BE3tLOMnVK"
      }
    },
    {
      "cell_type": "code",
      "metadata": {
        "id": "xGsRlPQde7Qc",
        "outputId": "39a4282a-d6ee-4a0f-c043-4fdf422a072b",
        "colab": {
          "base_uri": "https://localhost:8080/",
          "height": 206
        }
      },
      "source": [
        "from tensorflow.keras.activations import sigmoid\n",
        "\n",
        "data = pd.DataFrame({'data': random_data, 'sigmoid': sigmoid(random_data)})\n",
        "data.head()"
      ],
      "execution_count": 8,
      "outputs": [
        {
          "output_type": "execute_result",
          "data": {
            "text/plain": [
              "       data   sigmoid\n",
              "0 -2.691765  0.063461\n",
              "1 -2.273767  0.093319\n",
              "2 -2.098545  0.109238\n",
              "3 -2.083074  0.110753\n",
              "4 -2.034557  0.115622"
            ],
            "text/html": [
              "\n",
              "  <div id=\"df-318fa5c4-04bc-473f-ae1d-ef8256c07c1b\" class=\"colab-df-container\">\n",
              "    <div>\n",
              "<style scoped>\n",
              "    .dataframe tbody tr th:only-of-type {\n",
              "        vertical-align: middle;\n",
              "    }\n",
              "\n",
              "    .dataframe tbody tr th {\n",
              "        vertical-align: top;\n",
              "    }\n",
              "\n",
              "    .dataframe thead th {\n",
              "        text-align: right;\n",
              "    }\n",
              "</style>\n",
              "<table border=\"1\" class=\"dataframe\">\n",
              "  <thead>\n",
              "    <tr style=\"text-align: right;\">\n",
              "      <th></th>\n",
              "      <th>data</th>\n",
              "      <th>sigmoid</th>\n",
              "    </tr>\n",
              "  </thead>\n",
              "  <tbody>\n",
              "    <tr>\n",
              "      <th>0</th>\n",
              "      <td>-2.691765</td>\n",
              "      <td>0.063461</td>\n",
              "    </tr>\n",
              "    <tr>\n",
              "      <th>1</th>\n",
              "      <td>-2.273767</td>\n",
              "      <td>0.093319</td>\n",
              "    </tr>\n",
              "    <tr>\n",
              "      <th>2</th>\n",
              "      <td>-2.098545</td>\n",
              "      <td>0.109238</td>\n",
              "    </tr>\n",
              "    <tr>\n",
              "      <th>3</th>\n",
              "      <td>-2.083074</td>\n",
              "      <td>0.110753</td>\n",
              "    </tr>\n",
              "    <tr>\n",
              "      <th>4</th>\n",
              "      <td>-2.034557</td>\n",
              "      <td>0.115622</td>\n",
              "    </tr>\n",
              "  </tbody>\n",
              "</table>\n",
              "</div>\n",
              "    <div class=\"colab-df-buttons\">\n",
              "\n",
              "  <div class=\"colab-df-container\">\n",
              "    <button class=\"colab-df-convert\" onclick=\"convertToInteractive('df-318fa5c4-04bc-473f-ae1d-ef8256c07c1b')\"\n",
              "            title=\"Convert this dataframe to an interactive table.\"\n",
              "            style=\"display:none;\">\n",
              "\n",
              "  <svg xmlns=\"http://www.w3.org/2000/svg\" height=\"24px\" viewBox=\"0 -960 960 960\">\n",
              "    <path d=\"M120-120v-720h720v720H120Zm60-500h600v-160H180v160Zm220 220h160v-160H400v160Zm0 220h160v-160H400v160ZM180-400h160v-160H180v160Zm440 0h160v-160H620v160ZM180-180h160v-160H180v160Zm440 0h160v-160H620v160Z\"/>\n",
              "  </svg>\n",
              "    </button>\n",
              "\n",
              "  <style>\n",
              "    .colab-df-container {\n",
              "      display:flex;\n",
              "      gap: 12px;\n",
              "    }\n",
              "\n",
              "    .colab-df-convert {\n",
              "      background-color: #E8F0FE;\n",
              "      border: none;\n",
              "      border-radius: 50%;\n",
              "      cursor: pointer;\n",
              "      display: none;\n",
              "      fill: #1967D2;\n",
              "      height: 32px;\n",
              "      padding: 0 0 0 0;\n",
              "      width: 32px;\n",
              "    }\n",
              "\n",
              "    .colab-df-convert:hover {\n",
              "      background-color: #E2EBFA;\n",
              "      box-shadow: 0px 1px 2px rgba(60, 64, 67, 0.3), 0px 1px 3px 1px rgba(60, 64, 67, 0.15);\n",
              "      fill: #174EA6;\n",
              "    }\n",
              "\n",
              "    .colab-df-buttons div {\n",
              "      margin-bottom: 4px;\n",
              "    }\n",
              "\n",
              "    [theme=dark] .colab-df-convert {\n",
              "      background-color: #3B4455;\n",
              "      fill: #D2E3FC;\n",
              "    }\n",
              "\n",
              "    [theme=dark] .colab-df-convert:hover {\n",
              "      background-color: #434B5C;\n",
              "      box-shadow: 0px 1px 3px 1px rgba(0, 0, 0, 0.15);\n",
              "      filter: drop-shadow(0px 1px 2px rgba(0, 0, 0, 0.3));\n",
              "      fill: #FFFFFF;\n",
              "    }\n",
              "  </style>\n",
              "\n",
              "    <script>\n",
              "      const buttonEl =\n",
              "        document.querySelector('#df-318fa5c4-04bc-473f-ae1d-ef8256c07c1b button.colab-df-convert');\n",
              "      buttonEl.style.display =\n",
              "        google.colab.kernel.accessAllowed ? 'block' : 'none';\n",
              "\n",
              "      async function convertToInteractive(key) {\n",
              "        const element = document.querySelector('#df-318fa5c4-04bc-473f-ae1d-ef8256c07c1b');\n",
              "        const dataTable =\n",
              "          await google.colab.kernel.invokeFunction('convertToInteractive',\n",
              "                                                    [key], {});\n",
              "        if (!dataTable) return;\n",
              "\n",
              "        const docLinkHtml = 'Like what you see? Visit the ' +\n",
              "          '<a target=\"_blank\" href=https://colab.research.google.com/notebooks/data_table.ipynb>data table notebook</a>'\n",
              "          + ' to learn more about interactive tables.';\n",
              "        element.innerHTML = '';\n",
              "        dataTable['output_type'] = 'display_data';\n",
              "        await google.colab.output.renderOutput(dataTable, element);\n",
              "        const docLink = document.createElement('div');\n",
              "        docLink.innerHTML = docLinkHtml;\n",
              "        element.appendChild(docLink);\n",
              "      }\n",
              "    </script>\n",
              "  </div>\n",
              "\n",
              "\n",
              "    <div id=\"df-1546de84-bbbd-4519-be20-17c465eca45b\">\n",
              "      <button class=\"colab-df-quickchart\" onclick=\"quickchart('df-1546de84-bbbd-4519-be20-17c465eca45b')\"\n",
              "                title=\"Suggest charts\"\n",
              "                style=\"display:none;\">\n",
              "\n",
              "<svg xmlns=\"http://www.w3.org/2000/svg\" height=\"24px\"viewBox=\"0 0 24 24\"\n",
              "     width=\"24px\">\n",
              "    <g>\n",
              "        <path d=\"M19 3H5c-1.1 0-2 .9-2 2v14c0 1.1.9 2 2 2h14c1.1 0 2-.9 2-2V5c0-1.1-.9-2-2-2zM9 17H7v-7h2v7zm4 0h-2V7h2v10zm4 0h-2v-4h2v4z\"/>\n",
              "    </g>\n",
              "</svg>\n",
              "      </button>\n",
              "\n",
              "<style>\n",
              "  .colab-df-quickchart {\n",
              "      --bg-color: #E8F0FE;\n",
              "      --fill-color: #1967D2;\n",
              "      --hover-bg-color: #E2EBFA;\n",
              "      --hover-fill-color: #174EA6;\n",
              "      --disabled-fill-color: #AAA;\n",
              "      --disabled-bg-color: #DDD;\n",
              "  }\n",
              "\n",
              "  [theme=dark] .colab-df-quickchart {\n",
              "      --bg-color: #3B4455;\n",
              "      --fill-color: #D2E3FC;\n",
              "      --hover-bg-color: #434B5C;\n",
              "      --hover-fill-color: #FFFFFF;\n",
              "      --disabled-bg-color: #3B4455;\n",
              "      --disabled-fill-color: #666;\n",
              "  }\n",
              "\n",
              "  .colab-df-quickchart {\n",
              "    background-color: var(--bg-color);\n",
              "    border: none;\n",
              "    border-radius: 50%;\n",
              "    cursor: pointer;\n",
              "    display: none;\n",
              "    fill: var(--fill-color);\n",
              "    height: 32px;\n",
              "    padding: 0;\n",
              "    width: 32px;\n",
              "  }\n",
              "\n",
              "  .colab-df-quickchart:hover {\n",
              "    background-color: var(--hover-bg-color);\n",
              "    box-shadow: 0 1px 2px rgba(60, 64, 67, 0.3), 0 1px 3px 1px rgba(60, 64, 67, 0.15);\n",
              "    fill: var(--button-hover-fill-color);\n",
              "  }\n",
              "\n",
              "  .colab-df-quickchart-complete:disabled,\n",
              "  .colab-df-quickchart-complete:disabled:hover {\n",
              "    background-color: var(--disabled-bg-color);\n",
              "    fill: var(--disabled-fill-color);\n",
              "    box-shadow: none;\n",
              "  }\n",
              "\n",
              "  .colab-df-spinner {\n",
              "    border: 2px solid var(--fill-color);\n",
              "    border-color: transparent;\n",
              "    border-bottom-color: var(--fill-color);\n",
              "    animation:\n",
              "      spin 1s steps(1) infinite;\n",
              "  }\n",
              "\n",
              "  @keyframes spin {\n",
              "    0% {\n",
              "      border-color: transparent;\n",
              "      border-bottom-color: var(--fill-color);\n",
              "      border-left-color: var(--fill-color);\n",
              "    }\n",
              "    20% {\n",
              "      border-color: transparent;\n",
              "      border-left-color: var(--fill-color);\n",
              "      border-top-color: var(--fill-color);\n",
              "    }\n",
              "    30% {\n",
              "      border-color: transparent;\n",
              "      border-left-color: var(--fill-color);\n",
              "      border-top-color: var(--fill-color);\n",
              "      border-right-color: var(--fill-color);\n",
              "    }\n",
              "    40% {\n",
              "      border-color: transparent;\n",
              "      border-right-color: var(--fill-color);\n",
              "      border-top-color: var(--fill-color);\n",
              "    }\n",
              "    60% {\n",
              "      border-color: transparent;\n",
              "      border-right-color: var(--fill-color);\n",
              "    }\n",
              "    80% {\n",
              "      border-color: transparent;\n",
              "      border-right-color: var(--fill-color);\n",
              "      border-bottom-color: var(--fill-color);\n",
              "    }\n",
              "    90% {\n",
              "      border-color: transparent;\n",
              "      border-bottom-color: var(--fill-color);\n",
              "    }\n",
              "  }\n",
              "</style>\n",
              "\n",
              "      <script>\n",
              "        async function quickchart(key) {\n",
              "          const quickchartButtonEl =\n",
              "            document.querySelector('#' + key + ' button');\n",
              "          quickchartButtonEl.disabled = true;  // To prevent multiple clicks.\n",
              "          quickchartButtonEl.classList.add('colab-df-spinner');\n",
              "          try {\n",
              "            const charts = await google.colab.kernel.invokeFunction(\n",
              "                'suggestCharts', [key], {});\n",
              "          } catch (error) {\n",
              "            console.error('Error during call to suggestCharts:', error);\n",
              "          }\n",
              "          quickchartButtonEl.classList.remove('colab-df-spinner');\n",
              "          quickchartButtonEl.classList.add('colab-df-quickchart-complete');\n",
              "        }\n",
              "        (() => {\n",
              "          let quickchartButtonEl =\n",
              "            document.querySelector('#df-1546de84-bbbd-4519-be20-17c465eca45b button');\n",
              "          quickchartButtonEl.style.display =\n",
              "            google.colab.kernel.accessAllowed ? 'block' : 'none';\n",
              "        })();\n",
              "      </script>\n",
              "    </div>\n",
              "\n",
              "    </div>\n",
              "  </div>\n"
            ],
            "application/vnd.google.colaboratory.intrinsic+json": {
              "type": "dataframe",
              "variable_name": "data",
              "summary": "{\n  \"name\": \"data\",\n  \"rows\": 200,\n  \"fields\": [\n    {\n      \"column\": \"data\",\n      \"properties\": {\n        \"dtype\": \"number\",\n        \"std\": 1.0132129662175284,\n        \"min\": -2.6917650272577194,\n        \"max\": 3.0182144953490044,\n        \"num_unique_values\": 200,\n        \"samples\": [\n          -0.14367891698176358,\n          -1.6598813645281478,\n          -1.2572657228083282\n        ],\n        \"semantic_type\": \"\",\n        \"description\": \"\"\n      }\n    },\n    {\n      \"column\": \"sigmoid\",\n      \"properties\": {\n        \"dtype\": \"number\",\n        \"std\": 0.20902545241296824,\n        \"min\": 0.06346103531500176,\n        \"max\": 0.9533902467073108,\n        \"num_unique_values\": 200,\n        \"samples\": [\n          0.46414193626125666,\n          0.15977792298697932,\n          0.22144494189871025\n        ],\n        \"semantic_type\": \"\",\n        \"description\": \"\"\n      }\n    }\n  ]\n}"
            }
          },
          "metadata": {},
          "execution_count": 8
        }
      ]
    },
    {
      "cell_type": "markdown",
      "source": [
        "Zwraca wartości 0 => 1"
      ],
      "metadata": {
        "id": "iX69UkBlMzwO"
      }
    },
    {
      "cell_type": "code",
      "metadata": {
        "id": "DbWCwhXifvXx",
        "outputId": "ca67523a-ae65-45e7-dfb1-0423b752a8bb",
        "colab": {
          "base_uri": "https://localhost:8080/",
          "height": 542
        }
      },
      "source": [
        "px.line(data, x='data', y='sigmoid', width=800, range_y=[-0.5, 1.5])"
      ],
      "execution_count": 9,
      "outputs": [
        {
          "output_type": "display_data",
          "data": {
            "text/html": [
              "<html>\n",
              "<head><meta charset=\"utf-8\" /></head>\n",
              "<body>\n",
              "    <div>            <script src=\"https://cdnjs.cloudflare.com/ajax/libs/mathjax/2.7.5/MathJax.js?config=TeX-AMS-MML_SVG\"></script><script type=\"text/javascript\">if (window.MathJax && window.MathJax.Hub && window.MathJax.Hub.Config) {window.MathJax.Hub.Config({SVG: {font: \"STIX-Web\"}});}</script>                <script type=\"text/javascript\">window.PlotlyConfig = {MathJaxConfig: 'local'};</script>\n",
              "        <script charset=\"utf-8\" src=\"https://cdn.plot.ly/plotly-2.35.2.min.js\"></script>                <div id=\"80a0f178-5369-4472-b98c-7f932185aac4\" class=\"plotly-graph-div\" style=\"height:525px; width:800px;\"></div>            <script type=\"text/javascript\">                                    window.PLOTLYENV=window.PLOTLYENV || {};                                    if (document.getElementById(\"80a0f178-5369-4472-b98c-7f932185aac4\")) {                    Plotly.newPlot(                        \"80a0f178-5369-4472-b98c-7f932185aac4\",                        [{\"hovertemplate\":\"data=%{x}\\u003cbr\\u003esigmoid=%{y}\\u003cextra\\u003e\\u003c\\u002fextra\\u003e\",\"legendgroup\":\"\",\"line\":{\"color\":\"#636efa\",\"dash\":\"solid\"},\"marker\":{\"symbol\":\"circle\"},\"mode\":\"lines\",\"name\":\"\",\"orientation\":\"v\",\"showlegend\":false,\"x\":[-2.6917650272577194,-2.273767078855922,-2.0985448349751654,-2.0830743320477323,-2.0345574082565574,-1.9946359070141975,-1.9789564145051672,-1.9654505947061653,-1.9511209218913976,-1.9467406793723123,-1.9027944768491727,-1.8461064328519907,-1.7984996165403162,-1.7849943692618115,-1.6611339636042333,-1.6598813645281478,-1.603638575934901,-1.549435991891942,-1.4732131124810952,-1.4229027381300254,-1.3999143499445577,-1.3918620782745312,-1.382477398554032,-1.3808125973986791,-1.3508692947637215,-1.3362333413111525,-1.329816466349905,-1.3256557653891428,-1.3107945684198783,-1.3072620437068903,-1.2572657228083282,-1.2495650640554412,-1.211665815560881,-1.2003426876619252,-1.183133353288884,-1.1770154458905238,-1.1735989422014375,-1.0753498850988543,-1.0687063489760353,-1.066979052885883,-1.0043623807232362,-0.9916989513363971,-0.9540569789761263,-0.9485725723819842,-0.9418386880580482,-0.932073549100358,-0.9237216099267888,-0.9130522114317937,-0.8876542870406684,-0.8788200917710116,-0.836495935242438,-0.8116293276615255,-0.8065417430636015,-0.7911142058189222,-0.784168214619147,-0.7443498820321276,-0.6931496511626826,-0.6828341956981947,-0.6419384134232714,-0.6181153140693454,-0.6124450339822423,-0.5970517902661224,-0.5448897754174534,-0.5446705719470306,-0.5283614101118592,-0.5148209629158663,-0.5071262793795245,-0.4945286801135359,-0.48934917899805347,-0.47701778824768065,-0.46803830425365556,-0.4506584052625584,-0.4415295075483052,-0.437126606596554,-0.43142570339516784,-0.4308410361396343,-0.4218574214890968,-0.4141622596858143,-0.37779447615257256,-0.3468352874453344,-0.3219666124160021,-0.31293995296727767,-0.2822930786980452,-0.2815886456308699,-0.27361979354440213,-0.2427256386953731,-0.2405950667159387,-0.21925588736485857,-0.21732747288925988,-0.21689155086068712,-0.20129437290293867,-0.19886670216802912,-0.1761297090649528,-0.16324666402845897,-0.16023835040437184,-0.14367891698176358,-0.14244818312085214,-0.10233682474902352,-0.09717264129860564,-0.09003826976334292,-0.08583305742999409,-0.08176413854087623,-0.058324687489194726,-0.04337985035476196,-0.041942401586047895,-0.011058074109618043,0.006249130363606537,0.021049528051830763,0.023104522835033364,0.045935803033204194,0.07361347381108846,0.07716028175723687,0.07813377986777544,0.08098973140561883,0.11441986907378736,0.12284288400791069,0.1283569746042959,0.1287686144286258,0.13428819655911536,0.13666550723409643,0.1448108872681174,0.15798177981469236,0.1604409941037501,0.16107822318241036,0.16492615585147838,0.1733232600682447,0.1733286638662388,0.19100324658184023,0.20170456801525422,0.24843389730306878,0.26892695434666897,0.26964060687062447,0.27889865292242766,0.30707312098565565,0.30785626871824456,0.3158102594858183,0.36946542427803597,0.37040786527666913,0.37641007528711173,0.4046869380379067,0.40469564057531676,0.42282723095428465,0.43090668431255325,0.4428131591648468,0.45621747588396866,0.4658389839284849,0.47627620538535737,0.5072666338167231,0.5244737711919316,0.5318617330154312,0.5346719148171979,0.5377532838181527,0.5586028194959644,0.5593289977568667,0.5685579524107504,0.573007462775055,0.5902600939858688,0.606025477867747,0.6078885147376203,0.6109758205103927,0.6181610705140823,0.6302153682780656,0.6429644015231222,0.6436528351579306,0.6558862662123457,0.6608590981438756,0.6876784307653573,0.7521637552994546,0.7700180197999668,0.7779433262139729,0.7807374652144384,0.7809813111530463,0.8879599618247457,0.9524878843487184,0.9593893709212385,0.9913521851059492,0.996913499123333,0.9973704020930753,1.0251631686704368,1.0730011014734593,1.1353219157795005,1.1511531282926635,1.170244575305026,1.1730815967598753,1.1878764894586986,1.2405330657467526,1.4465314000725529,1.46565973728362,1.4921962364811787,1.5552526764058896,1.5572383032840678,1.6528103238427003,1.6880181701359083,1.9312033451591775,1.9966947028927444,2.013740166968325,2.2422981630433028,2.3110374914813483,2.4570023531785417,3.0182144953490044],\"xaxis\":\"x\",\"y\":[0.06346103531500176,0.09331898893169613,0.10923833600334115,0.11075282356611078,0.1156220935871269,0.1197672687760875,0.12143012867859872,0.12287837780577643,0.12443118449624074,0.12490918903477062,0.1297925215399957,0.13633069485084576,0.14203380375161564,0.1436875255714647,0.15960983454574337,0.15977792298697932,0.16747368787000938,0.1751677433853055,0.1864547278805608,0.19420692911736434,0.19782970316346019,0.1991106530423907,0.20061141339082791,0.20087852475498105,0.20572828908308471,0.2081301666489945,0.20918972545126507,0.2098788604908414,0.2123539144489063,0.21294536394352226,0.22144494189871025,0.22277543739974623,0.229406436806695,0.23141425988088027,0.23448927875677605,0.23558925128604932,0.2362050747469075,0.25438701597275215,0.2556491786618856,0.2559780091638069,0.2680845902774528,0.27057663358948464,0.27806966309675313,0.2791719797876362,0.2805290858315324,0.28250422576770284,0.2842001978853246,0.2863756666531435,0.29159413733235007,0.2934223445337613,0.3022732933651064,0.3075434045694904,0.3086279184708648,0.3119294779053974,0.31342223641853356,0.32205367760002657,0.33333278431072894,0.3356290333198539,0.344808489932212,0.35021021507916494,0.35150165456589194,0.35501848698340804,0.36705083081731177,0.3671017586419939,0.3708991441269329,0.3740640610559478,0.37586743396845407,0.3788273081390382,0.3800468964331383,0.38295657795490057,0.3850806556529317,0.3892042357085305,0.3913765786299382,0.39242585395908997,0.39378593820009106,0.39392551779695695,0.3960723710294321,0.39791451054874716,0.40665895254064405,0.4141500654189478,0.4201965442455153,0.4223972923853256,0.42989168715327064,0.43006434152756534,0.43201865773484427,0.4396147696439774,0.4401397111100201,0.44540456762838904,0.4458809733066162,0.4459886795944878,0.4498456446518059,0.4504465284959176,0.4560810506876747,0.45927872722434576,0.4600259081462935,0.46414193626125666,0.4644480507187036,0.4744380986978567,0.47572593736801966,0.477505627123524,0.47855490009109125,0.479570345754014,0.48542296020381576,0.4891567377725355,0.48951593649160413,0.49723550964292584,0.5015622775067814,0.5052621877157276,0.5057758737717927,0.5114819318291862,0.5183950623858918,0.5192805055116531,0.5195235135728115,0.520236372628852,0.5285738002750834,0.5306721595024797,0.5320452588877504,0.5321477447781172,0.533521688663129,0.5341132975144783,0.5361395893648452,0.5394135047141366,0.5400244285605812,0.5401827109757068,0.541138332139866,0.5432226649855353,0.5432240058393518,0.5476061679335134,0.5502558702072423,0.561790992174982,0.5668294548804703,0.5670046723495712,0.5692761933746365,0.5761706828711681,0.5763619145850717,0.5783028423099684,0.5913297997790513,0.5915575293854147,0.5930069657891778,0.5998132246582653,0.5998153135902093,0.6041595830744869,0.6060901554772902,0.6089291457370376,0.612116473601481,0.6143984280435,0.6168681701903905,0.6241654913605099,0.628193287178023,0.62991722686142,0.6305721011784207,0.6312896196870391,0.6361291980803653,0.6362972690991988,0.638430363654409,0.6394568414817053,0.6434248211066865,0.6470336276314819,0.6474589934210756,0.6481633677832036,0.6498001973242322,0.6525382946920045,0.6554232598594298,0.6555787215566393,0.6583356907027796,0.6594533465201241,0.6654502832833591,0.6796499877209633,0.6835247917680233,0.6852366844671678,0.6858390328080634,0.6858915704126906,0.7084690009669935,0.7216152363181465,0.7229995303542083,0.7293549214770121,0.730451303121669,0.7305412542782752,0.7359771012367559,0.7451672232755501,0.756819702069907,0.7597214775076752,0.7631892210176949,0.7637015770670316,0.7663610609556625,0.775656788447768,0.809464039010047,0.8123967909358889,0.8164076868471767,0.8256710871986601,0.8259567102460426,0.8392705120702901,0.843963352134324,0.873382552168891,0.8804496059553261,0.8822321760517693,0.9039841168433531,0.9097870431839125,0.9210720137090526,0.9533902467073108],\"yaxis\":\"y\",\"type\":\"scatter\"}],                        {\"template\":{\"data\":{\"histogram2dcontour\":[{\"type\":\"histogram2dcontour\",\"colorbar\":{\"outlinewidth\":0,\"ticks\":\"\"},\"colorscale\":[[0.0,\"#0d0887\"],[0.1111111111111111,\"#46039f\"],[0.2222222222222222,\"#7201a8\"],[0.3333333333333333,\"#9c179e\"],[0.4444444444444444,\"#bd3786\"],[0.5555555555555556,\"#d8576b\"],[0.6666666666666666,\"#ed7953\"],[0.7777777777777778,\"#fb9f3a\"],[0.8888888888888888,\"#fdca26\"],[1.0,\"#f0f921\"]]}],\"choropleth\":[{\"type\":\"choropleth\",\"colorbar\":{\"outlinewidth\":0,\"ticks\":\"\"}}],\"histogram2d\":[{\"type\":\"histogram2d\",\"colorbar\":{\"outlinewidth\":0,\"ticks\":\"\"},\"colorscale\":[[0.0,\"#0d0887\"],[0.1111111111111111,\"#46039f\"],[0.2222222222222222,\"#7201a8\"],[0.3333333333333333,\"#9c179e\"],[0.4444444444444444,\"#bd3786\"],[0.5555555555555556,\"#d8576b\"],[0.6666666666666666,\"#ed7953\"],[0.7777777777777778,\"#fb9f3a\"],[0.8888888888888888,\"#fdca26\"],[1.0,\"#f0f921\"]]}],\"heatmap\":[{\"type\":\"heatmap\",\"colorbar\":{\"outlinewidth\":0,\"ticks\":\"\"},\"colorscale\":[[0.0,\"#0d0887\"],[0.1111111111111111,\"#46039f\"],[0.2222222222222222,\"#7201a8\"],[0.3333333333333333,\"#9c179e\"],[0.4444444444444444,\"#bd3786\"],[0.5555555555555556,\"#d8576b\"],[0.6666666666666666,\"#ed7953\"],[0.7777777777777778,\"#fb9f3a\"],[0.8888888888888888,\"#fdca26\"],[1.0,\"#f0f921\"]]}],\"heatmapgl\":[{\"type\":\"heatmapgl\",\"colorbar\":{\"outlinewidth\":0,\"ticks\":\"\"},\"colorscale\":[[0.0,\"#0d0887\"],[0.1111111111111111,\"#46039f\"],[0.2222222222222222,\"#7201a8\"],[0.3333333333333333,\"#9c179e\"],[0.4444444444444444,\"#bd3786\"],[0.5555555555555556,\"#d8576b\"],[0.6666666666666666,\"#ed7953\"],[0.7777777777777778,\"#fb9f3a\"],[0.8888888888888888,\"#fdca26\"],[1.0,\"#f0f921\"]]}],\"contourcarpet\":[{\"type\":\"contourcarpet\",\"colorbar\":{\"outlinewidth\":0,\"ticks\":\"\"}}],\"contour\":[{\"type\":\"contour\",\"colorbar\":{\"outlinewidth\":0,\"ticks\":\"\"},\"colorscale\":[[0.0,\"#0d0887\"],[0.1111111111111111,\"#46039f\"],[0.2222222222222222,\"#7201a8\"],[0.3333333333333333,\"#9c179e\"],[0.4444444444444444,\"#bd3786\"],[0.5555555555555556,\"#d8576b\"],[0.6666666666666666,\"#ed7953\"],[0.7777777777777778,\"#fb9f3a\"],[0.8888888888888888,\"#fdca26\"],[1.0,\"#f0f921\"]]}],\"surface\":[{\"type\":\"surface\",\"colorbar\":{\"outlinewidth\":0,\"ticks\":\"\"},\"colorscale\":[[0.0,\"#0d0887\"],[0.1111111111111111,\"#46039f\"],[0.2222222222222222,\"#7201a8\"],[0.3333333333333333,\"#9c179e\"],[0.4444444444444444,\"#bd3786\"],[0.5555555555555556,\"#d8576b\"],[0.6666666666666666,\"#ed7953\"],[0.7777777777777778,\"#fb9f3a\"],[0.8888888888888888,\"#fdca26\"],[1.0,\"#f0f921\"]]}],\"mesh3d\":[{\"type\":\"mesh3d\",\"colorbar\":{\"outlinewidth\":0,\"ticks\":\"\"}}],\"scatter\":[{\"fillpattern\":{\"fillmode\":\"overlay\",\"size\":10,\"solidity\":0.2},\"type\":\"scatter\"}],\"parcoords\":[{\"type\":\"parcoords\",\"line\":{\"colorbar\":{\"outlinewidth\":0,\"ticks\":\"\"}}}],\"scatterpolargl\":[{\"type\":\"scatterpolargl\",\"marker\":{\"colorbar\":{\"outlinewidth\":0,\"ticks\":\"\"}}}],\"bar\":[{\"error_x\":{\"color\":\"#2a3f5f\"},\"error_y\":{\"color\":\"#2a3f5f\"},\"marker\":{\"line\":{\"color\":\"#E5ECF6\",\"width\":0.5},\"pattern\":{\"fillmode\":\"overlay\",\"size\":10,\"solidity\":0.2}},\"type\":\"bar\"}],\"scattergeo\":[{\"type\":\"scattergeo\",\"marker\":{\"colorbar\":{\"outlinewidth\":0,\"ticks\":\"\"}}}],\"scatterpolar\":[{\"type\":\"scatterpolar\",\"marker\":{\"colorbar\":{\"outlinewidth\":0,\"ticks\":\"\"}}}],\"histogram\":[{\"marker\":{\"pattern\":{\"fillmode\":\"overlay\",\"size\":10,\"solidity\":0.2}},\"type\":\"histogram\"}],\"scattergl\":[{\"type\":\"scattergl\",\"marker\":{\"colorbar\":{\"outlinewidth\":0,\"ticks\":\"\"}}}],\"scatter3d\":[{\"type\":\"scatter3d\",\"line\":{\"colorbar\":{\"outlinewidth\":0,\"ticks\":\"\"}},\"marker\":{\"colorbar\":{\"outlinewidth\":0,\"ticks\":\"\"}}}],\"scattermapbox\":[{\"type\":\"scattermapbox\",\"marker\":{\"colorbar\":{\"outlinewidth\":0,\"ticks\":\"\"}}}],\"scatterternary\":[{\"type\":\"scatterternary\",\"marker\":{\"colorbar\":{\"outlinewidth\":0,\"ticks\":\"\"}}}],\"scattercarpet\":[{\"type\":\"scattercarpet\",\"marker\":{\"colorbar\":{\"outlinewidth\":0,\"ticks\":\"\"}}}],\"carpet\":[{\"aaxis\":{\"endlinecolor\":\"#2a3f5f\",\"gridcolor\":\"white\",\"linecolor\":\"white\",\"minorgridcolor\":\"white\",\"startlinecolor\":\"#2a3f5f\"},\"baxis\":{\"endlinecolor\":\"#2a3f5f\",\"gridcolor\":\"white\",\"linecolor\":\"white\",\"minorgridcolor\":\"white\",\"startlinecolor\":\"#2a3f5f\"},\"type\":\"carpet\"}],\"table\":[{\"cells\":{\"fill\":{\"color\":\"#EBF0F8\"},\"line\":{\"color\":\"white\"}},\"header\":{\"fill\":{\"color\":\"#C8D4E3\"},\"line\":{\"color\":\"white\"}},\"type\":\"table\"}],\"barpolar\":[{\"marker\":{\"line\":{\"color\":\"#E5ECF6\",\"width\":0.5},\"pattern\":{\"fillmode\":\"overlay\",\"size\":10,\"solidity\":0.2}},\"type\":\"barpolar\"}],\"pie\":[{\"automargin\":true,\"type\":\"pie\"}]},\"layout\":{\"autotypenumbers\":\"strict\",\"colorway\":[\"#636efa\",\"#EF553B\",\"#00cc96\",\"#ab63fa\",\"#FFA15A\",\"#19d3f3\",\"#FF6692\",\"#B6E880\",\"#FF97FF\",\"#FECB52\"],\"font\":{\"color\":\"#2a3f5f\"},\"hovermode\":\"closest\",\"hoverlabel\":{\"align\":\"left\"},\"paper_bgcolor\":\"white\",\"plot_bgcolor\":\"#E5ECF6\",\"polar\":{\"bgcolor\":\"#E5ECF6\",\"angularaxis\":{\"gridcolor\":\"white\",\"linecolor\":\"white\",\"ticks\":\"\"},\"radialaxis\":{\"gridcolor\":\"white\",\"linecolor\":\"white\",\"ticks\":\"\"}},\"ternary\":{\"bgcolor\":\"#E5ECF6\",\"aaxis\":{\"gridcolor\":\"white\",\"linecolor\":\"white\",\"ticks\":\"\"},\"baxis\":{\"gridcolor\":\"white\",\"linecolor\":\"white\",\"ticks\":\"\"},\"caxis\":{\"gridcolor\":\"white\",\"linecolor\":\"white\",\"ticks\":\"\"}},\"coloraxis\":{\"colorbar\":{\"outlinewidth\":0,\"ticks\":\"\"}},\"colorscale\":{\"sequential\":[[0.0,\"#0d0887\"],[0.1111111111111111,\"#46039f\"],[0.2222222222222222,\"#7201a8\"],[0.3333333333333333,\"#9c179e\"],[0.4444444444444444,\"#bd3786\"],[0.5555555555555556,\"#d8576b\"],[0.6666666666666666,\"#ed7953\"],[0.7777777777777778,\"#fb9f3a\"],[0.8888888888888888,\"#fdca26\"],[1.0,\"#f0f921\"]],\"sequentialminus\":[[0.0,\"#0d0887\"],[0.1111111111111111,\"#46039f\"],[0.2222222222222222,\"#7201a8\"],[0.3333333333333333,\"#9c179e\"],[0.4444444444444444,\"#bd3786\"],[0.5555555555555556,\"#d8576b\"],[0.6666666666666666,\"#ed7953\"],[0.7777777777777778,\"#fb9f3a\"],[0.8888888888888888,\"#fdca26\"],[1.0,\"#f0f921\"]],\"diverging\":[[0,\"#8e0152\"],[0.1,\"#c51b7d\"],[0.2,\"#de77ae\"],[0.3,\"#f1b6da\"],[0.4,\"#fde0ef\"],[0.5,\"#f7f7f7\"],[0.6,\"#e6f5d0\"],[0.7,\"#b8e186\"],[0.8,\"#7fbc41\"],[0.9,\"#4d9221\"],[1,\"#276419\"]]},\"xaxis\":{\"gridcolor\":\"white\",\"linecolor\":\"white\",\"ticks\":\"\",\"title\":{\"standoff\":15},\"zerolinecolor\":\"white\",\"automargin\":true,\"zerolinewidth\":2},\"yaxis\":{\"gridcolor\":\"white\",\"linecolor\":\"white\",\"ticks\":\"\",\"title\":{\"standoff\":15},\"zerolinecolor\":\"white\",\"automargin\":true,\"zerolinewidth\":2},\"scene\":{\"xaxis\":{\"backgroundcolor\":\"#E5ECF6\",\"gridcolor\":\"white\",\"linecolor\":\"white\",\"showbackground\":true,\"ticks\":\"\",\"zerolinecolor\":\"white\",\"gridwidth\":2},\"yaxis\":{\"backgroundcolor\":\"#E5ECF6\",\"gridcolor\":\"white\",\"linecolor\":\"white\",\"showbackground\":true,\"ticks\":\"\",\"zerolinecolor\":\"white\",\"gridwidth\":2},\"zaxis\":{\"backgroundcolor\":\"#E5ECF6\",\"gridcolor\":\"white\",\"linecolor\":\"white\",\"showbackground\":true,\"ticks\":\"\",\"zerolinecolor\":\"white\",\"gridwidth\":2}},\"shapedefaults\":{\"line\":{\"color\":\"#2a3f5f\"}},\"annotationdefaults\":{\"arrowcolor\":\"#2a3f5f\",\"arrowhead\":0,\"arrowwidth\":1},\"geo\":{\"bgcolor\":\"white\",\"landcolor\":\"#E5ECF6\",\"subunitcolor\":\"white\",\"showland\":true,\"showlakes\":true,\"lakecolor\":\"white\"},\"title\":{\"x\":0.05},\"mapbox\":{\"style\":\"light\"}}},\"xaxis\":{\"anchor\":\"y\",\"domain\":[0.0,1.0],\"title\":{\"text\":\"data\"}},\"yaxis\":{\"anchor\":\"x\",\"domain\":[0.0,1.0],\"title\":{\"text\":\"sigmoid\"},\"range\":[-0.5,1.5]},\"legend\":{\"tracegroupgap\":0},\"margin\":{\"t\":60},\"width\":800},                        {\"responsive\": true}                    ).then(function(){\n",
              "                            \n",
              "var gd = document.getElementById('80a0f178-5369-4472-b98c-7f932185aac4');\n",
              "var x = new MutationObserver(function (mutations, observer) {{\n",
              "        var display = window.getComputedStyle(gd).display;\n",
              "        if (!display || display === 'none') {{\n",
              "            console.log([gd, 'removed!']);\n",
              "            Plotly.purge(gd);\n",
              "            observer.disconnect();\n",
              "        }}\n",
              "}});\n",
              "\n",
              "// Listen for the removal of the full notebook cells\n",
              "var notebookContainer = gd.closest('#notebook-container');\n",
              "if (notebookContainer) {{\n",
              "    x.observe(notebookContainer, {childList: true});\n",
              "}}\n",
              "\n",
              "// Listen for the clearing of the current output cell\n",
              "var outputEl = gd.closest('.output');\n",
              "if (outputEl) {{\n",
              "    x.observe(outputEl, {childList: true});\n",
              "}}\n",
              "\n",
              "                        })                };                            </script>        </div>\n",
              "</body>\n",
              "</html>"
            ]
          },
          "metadata": {}
        }
      ]
    },
    {
      "cell_type": "markdown",
      "source": [
        "Import relu - zeruje wartości ujemne"
      ],
      "metadata": {
        "id": "_WpSMMdDM4Xo"
      }
    },
    {
      "cell_type": "code",
      "metadata": {
        "id": "bX8_Bg2OfyLi",
        "outputId": "4ed13439-d5be-4ea9-f8d8-4cfc4cea6ee3",
        "colab": {
          "base_uri": "https://localhost:8080/",
          "height": 206
        }
      },
      "source": [
        "from tensorflow.keras.activations import relu\n",
        "\n",
        "data = pd.DataFrame({'data': random_data, 'relu': relu(random_data)})\n",
        "data.head()"
      ],
      "execution_count": 10,
      "outputs": [
        {
          "output_type": "execute_result",
          "data": {
            "text/plain": [
              "       data  relu\n",
              "0 -2.691765   0.0\n",
              "1 -2.273767   0.0\n",
              "2 -2.098545   0.0\n",
              "3 -2.083074   0.0\n",
              "4 -2.034557   0.0"
            ],
            "text/html": [
              "\n",
              "  <div id=\"df-9889ad98-8b29-4baf-b8da-4766a407555e\" class=\"colab-df-container\">\n",
              "    <div>\n",
              "<style scoped>\n",
              "    .dataframe tbody tr th:only-of-type {\n",
              "        vertical-align: middle;\n",
              "    }\n",
              "\n",
              "    .dataframe tbody tr th {\n",
              "        vertical-align: top;\n",
              "    }\n",
              "\n",
              "    .dataframe thead th {\n",
              "        text-align: right;\n",
              "    }\n",
              "</style>\n",
              "<table border=\"1\" class=\"dataframe\">\n",
              "  <thead>\n",
              "    <tr style=\"text-align: right;\">\n",
              "      <th></th>\n",
              "      <th>data</th>\n",
              "      <th>relu</th>\n",
              "    </tr>\n",
              "  </thead>\n",
              "  <tbody>\n",
              "    <tr>\n",
              "      <th>0</th>\n",
              "      <td>-2.691765</td>\n",
              "      <td>0.0</td>\n",
              "    </tr>\n",
              "    <tr>\n",
              "      <th>1</th>\n",
              "      <td>-2.273767</td>\n",
              "      <td>0.0</td>\n",
              "    </tr>\n",
              "    <tr>\n",
              "      <th>2</th>\n",
              "      <td>-2.098545</td>\n",
              "      <td>0.0</td>\n",
              "    </tr>\n",
              "    <tr>\n",
              "      <th>3</th>\n",
              "      <td>-2.083074</td>\n",
              "      <td>0.0</td>\n",
              "    </tr>\n",
              "    <tr>\n",
              "      <th>4</th>\n",
              "      <td>-2.034557</td>\n",
              "      <td>0.0</td>\n",
              "    </tr>\n",
              "  </tbody>\n",
              "</table>\n",
              "</div>\n",
              "    <div class=\"colab-df-buttons\">\n",
              "\n",
              "  <div class=\"colab-df-container\">\n",
              "    <button class=\"colab-df-convert\" onclick=\"convertToInteractive('df-9889ad98-8b29-4baf-b8da-4766a407555e')\"\n",
              "            title=\"Convert this dataframe to an interactive table.\"\n",
              "            style=\"display:none;\">\n",
              "\n",
              "  <svg xmlns=\"http://www.w3.org/2000/svg\" height=\"24px\" viewBox=\"0 -960 960 960\">\n",
              "    <path d=\"M120-120v-720h720v720H120Zm60-500h600v-160H180v160Zm220 220h160v-160H400v160Zm0 220h160v-160H400v160ZM180-400h160v-160H180v160Zm440 0h160v-160H620v160ZM180-180h160v-160H180v160Zm440 0h160v-160H620v160Z\"/>\n",
              "  </svg>\n",
              "    </button>\n",
              "\n",
              "  <style>\n",
              "    .colab-df-container {\n",
              "      display:flex;\n",
              "      gap: 12px;\n",
              "    }\n",
              "\n",
              "    .colab-df-convert {\n",
              "      background-color: #E8F0FE;\n",
              "      border: none;\n",
              "      border-radius: 50%;\n",
              "      cursor: pointer;\n",
              "      display: none;\n",
              "      fill: #1967D2;\n",
              "      height: 32px;\n",
              "      padding: 0 0 0 0;\n",
              "      width: 32px;\n",
              "    }\n",
              "\n",
              "    .colab-df-convert:hover {\n",
              "      background-color: #E2EBFA;\n",
              "      box-shadow: 0px 1px 2px rgba(60, 64, 67, 0.3), 0px 1px 3px 1px rgba(60, 64, 67, 0.15);\n",
              "      fill: #174EA6;\n",
              "    }\n",
              "\n",
              "    .colab-df-buttons div {\n",
              "      margin-bottom: 4px;\n",
              "    }\n",
              "\n",
              "    [theme=dark] .colab-df-convert {\n",
              "      background-color: #3B4455;\n",
              "      fill: #D2E3FC;\n",
              "    }\n",
              "\n",
              "    [theme=dark] .colab-df-convert:hover {\n",
              "      background-color: #434B5C;\n",
              "      box-shadow: 0px 1px 3px 1px rgba(0, 0, 0, 0.15);\n",
              "      filter: drop-shadow(0px 1px 2px rgba(0, 0, 0, 0.3));\n",
              "      fill: #FFFFFF;\n",
              "    }\n",
              "  </style>\n",
              "\n",
              "    <script>\n",
              "      const buttonEl =\n",
              "        document.querySelector('#df-9889ad98-8b29-4baf-b8da-4766a407555e button.colab-df-convert');\n",
              "      buttonEl.style.display =\n",
              "        google.colab.kernel.accessAllowed ? 'block' : 'none';\n",
              "\n",
              "      async function convertToInteractive(key) {\n",
              "        const element = document.querySelector('#df-9889ad98-8b29-4baf-b8da-4766a407555e');\n",
              "        const dataTable =\n",
              "          await google.colab.kernel.invokeFunction('convertToInteractive',\n",
              "                                                    [key], {});\n",
              "        if (!dataTable) return;\n",
              "\n",
              "        const docLinkHtml = 'Like what you see? Visit the ' +\n",
              "          '<a target=\"_blank\" href=https://colab.research.google.com/notebooks/data_table.ipynb>data table notebook</a>'\n",
              "          + ' to learn more about interactive tables.';\n",
              "        element.innerHTML = '';\n",
              "        dataTable['output_type'] = 'display_data';\n",
              "        await google.colab.output.renderOutput(dataTable, element);\n",
              "        const docLink = document.createElement('div');\n",
              "        docLink.innerHTML = docLinkHtml;\n",
              "        element.appendChild(docLink);\n",
              "      }\n",
              "    </script>\n",
              "  </div>\n",
              "\n",
              "\n",
              "    <div id=\"df-a7d601fe-0c46-4243-806d-8174d8865c55\">\n",
              "      <button class=\"colab-df-quickchart\" onclick=\"quickchart('df-a7d601fe-0c46-4243-806d-8174d8865c55')\"\n",
              "                title=\"Suggest charts\"\n",
              "                style=\"display:none;\">\n",
              "\n",
              "<svg xmlns=\"http://www.w3.org/2000/svg\" height=\"24px\"viewBox=\"0 0 24 24\"\n",
              "     width=\"24px\">\n",
              "    <g>\n",
              "        <path d=\"M19 3H5c-1.1 0-2 .9-2 2v14c0 1.1.9 2 2 2h14c1.1 0 2-.9 2-2V5c0-1.1-.9-2-2-2zM9 17H7v-7h2v7zm4 0h-2V7h2v10zm4 0h-2v-4h2v4z\"/>\n",
              "    </g>\n",
              "</svg>\n",
              "      </button>\n",
              "\n",
              "<style>\n",
              "  .colab-df-quickchart {\n",
              "      --bg-color: #E8F0FE;\n",
              "      --fill-color: #1967D2;\n",
              "      --hover-bg-color: #E2EBFA;\n",
              "      --hover-fill-color: #174EA6;\n",
              "      --disabled-fill-color: #AAA;\n",
              "      --disabled-bg-color: #DDD;\n",
              "  }\n",
              "\n",
              "  [theme=dark] .colab-df-quickchart {\n",
              "      --bg-color: #3B4455;\n",
              "      --fill-color: #D2E3FC;\n",
              "      --hover-bg-color: #434B5C;\n",
              "      --hover-fill-color: #FFFFFF;\n",
              "      --disabled-bg-color: #3B4455;\n",
              "      --disabled-fill-color: #666;\n",
              "  }\n",
              "\n",
              "  .colab-df-quickchart {\n",
              "    background-color: var(--bg-color);\n",
              "    border: none;\n",
              "    border-radius: 50%;\n",
              "    cursor: pointer;\n",
              "    display: none;\n",
              "    fill: var(--fill-color);\n",
              "    height: 32px;\n",
              "    padding: 0;\n",
              "    width: 32px;\n",
              "  }\n",
              "\n",
              "  .colab-df-quickchart:hover {\n",
              "    background-color: var(--hover-bg-color);\n",
              "    box-shadow: 0 1px 2px rgba(60, 64, 67, 0.3), 0 1px 3px 1px rgba(60, 64, 67, 0.15);\n",
              "    fill: var(--button-hover-fill-color);\n",
              "  }\n",
              "\n",
              "  .colab-df-quickchart-complete:disabled,\n",
              "  .colab-df-quickchart-complete:disabled:hover {\n",
              "    background-color: var(--disabled-bg-color);\n",
              "    fill: var(--disabled-fill-color);\n",
              "    box-shadow: none;\n",
              "  }\n",
              "\n",
              "  .colab-df-spinner {\n",
              "    border: 2px solid var(--fill-color);\n",
              "    border-color: transparent;\n",
              "    border-bottom-color: var(--fill-color);\n",
              "    animation:\n",
              "      spin 1s steps(1) infinite;\n",
              "  }\n",
              "\n",
              "  @keyframes spin {\n",
              "    0% {\n",
              "      border-color: transparent;\n",
              "      border-bottom-color: var(--fill-color);\n",
              "      border-left-color: var(--fill-color);\n",
              "    }\n",
              "    20% {\n",
              "      border-color: transparent;\n",
              "      border-left-color: var(--fill-color);\n",
              "      border-top-color: var(--fill-color);\n",
              "    }\n",
              "    30% {\n",
              "      border-color: transparent;\n",
              "      border-left-color: var(--fill-color);\n",
              "      border-top-color: var(--fill-color);\n",
              "      border-right-color: var(--fill-color);\n",
              "    }\n",
              "    40% {\n",
              "      border-color: transparent;\n",
              "      border-right-color: var(--fill-color);\n",
              "      border-top-color: var(--fill-color);\n",
              "    }\n",
              "    60% {\n",
              "      border-color: transparent;\n",
              "      border-right-color: var(--fill-color);\n",
              "    }\n",
              "    80% {\n",
              "      border-color: transparent;\n",
              "      border-right-color: var(--fill-color);\n",
              "      border-bottom-color: var(--fill-color);\n",
              "    }\n",
              "    90% {\n",
              "      border-color: transparent;\n",
              "      border-bottom-color: var(--fill-color);\n",
              "    }\n",
              "  }\n",
              "</style>\n",
              "\n",
              "      <script>\n",
              "        async function quickchart(key) {\n",
              "          const quickchartButtonEl =\n",
              "            document.querySelector('#' + key + ' button');\n",
              "          quickchartButtonEl.disabled = true;  // To prevent multiple clicks.\n",
              "          quickchartButtonEl.classList.add('colab-df-spinner');\n",
              "          try {\n",
              "            const charts = await google.colab.kernel.invokeFunction(\n",
              "                'suggestCharts', [key], {});\n",
              "          } catch (error) {\n",
              "            console.error('Error during call to suggestCharts:', error);\n",
              "          }\n",
              "          quickchartButtonEl.classList.remove('colab-df-spinner');\n",
              "          quickchartButtonEl.classList.add('colab-df-quickchart-complete');\n",
              "        }\n",
              "        (() => {\n",
              "          let quickchartButtonEl =\n",
              "            document.querySelector('#df-a7d601fe-0c46-4243-806d-8174d8865c55 button');\n",
              "          quickchartButtonEl.style.display =\n",
              "            google.colab.kernel.accessAllowed ? 'block' : 'none';\n",
              "        })();\n",
              "      </script>\n",
              "    </div>\n",
              "\n",
              "    </div>\n",
              "  </div>\n"
            ],
            "application/vnd.google.colaboratory.intrinsic+json": {
              "type": "dataframe",
              "variable_name": "data",
              "summary": "{\n  \"name\": \"data\",\n  \"rows\": 200,\n  \"fields\": [\n    {\n      \"column\": \"data\",\n      \"properties\": {\n        \"dtype\": \"number\",\n        \"std\": 1.0132129662175284,\n        \"min\": -2.6917650272577194,\n        \"max\": 3.0182144953490044,\n        \"num_unique_values\": 200,\n        \"samples\": [\n          -0.14367891698176358,\n          -1.6598813645281478,\n          -1.2572657228083282\n        ],\n        \"semantic_type\": \"\",\n        \"description\": \"\"\n      }\n    },\n    {\n      \"column\": \"relu\",\n      \"properties\": {\n        \"dtype\": \"number\",\n        \"std\": 0.5533786668511779,\n        \"min\": 0.0,\n        \"max\": 3.0182144953490044,\n        \"num_unique_values\": 95,\n        \"samples\": [\n          0.9524878843487184,\n          0.19100324658184023,\n          0.9973704020930753\n        ],\n        \"semantic_type\": \"\",\n        \"description\": \"\"\n      }\n    }\n  ]\n}"
            }
          },
          "metadata": {},
          "execution_count": 10
        }
      ]
    },
    {
      "cell_type": "code",
      "metadata": {
        "id": "vXV-1MECgWyz",
        "outputId": "be8ec800-2640-40b8-e608-a3f215f1e3e7",
        "colab": {
          "base_uri": "https://localhost:8080/",
          "height": 542
        }
      },
      "source": [
        "px.line(data, x='data', y='relu', width=800, range_y=[-0.5, 1.5])"
      ],
      "execution_count": 11,
      "outputs": [
        {
          "output_type": "display_data",
          "data": {
            "text/html": [
              "<html>\n",
              "<head><meta charset=\"utf-8\" /></head>\n",
              "<body>\n",
              "    <div>            <script src=\"https://cdnjs.cloudflare.com/ajax/libs/mathjax/2.7.5/MathJax.js?config=TeX-AMS-MML_SVG\"></script><script type=\"text/javascript\">if (window.MathJax && window.MathJax.Hub && window.MathJax.Hub.Config) {window.MathJax.Hub.Config({SVG: {font: \"STIX-Web\"}});}</script>                <script type=\"text/javascript\">window.PlotlyConfig = {MathJaxConfig: 'local'};</script>\n",
              "        <script charset=\"utf-8\" src=\"https://cdn.plot.ly/plotly-2.35.2.min.js\"></script>                <div id=\"1f16db14-a237-46c9-ac59-6d54a6c644eb\" class=\"plotly-graph-div\" style=\"height:525px; width:800px;\"></div>            <script type=\"text/javascript\">                                    window.PLOTLYENV=window.PLOTLYENV || {};                                    if (document.getElementById(\"1f16db14-a237-46c9-ac59-6d54a6c644eb\")) {                    Plotly.newPlot(                        \"1f16db14-a237-46c9-ac59-6d54a6c644eb\",                        [{\"hovertemplate\":\"data=%{x}\\u003cbr\\u003erelu=%{y}\\u003cextra\\u003e\\u003c\\u002fextra\\u003e\",\"legendgroup\":\"\",\"line\":{\"color\":\"#636efa\",\"dash\":\"solid\"},\"marker\":{\"symbol\":\"circle\"},\"mode\":\"lines\",\"name\":\"\",\"orientation\":\"v\",\"showlegend\":false,\"x\":[-2.6917650272577194,-2.273767078855922,-2.0985448349751654,-2.0830743320477323,-2.0345574082565574,-1.9946359070141975,-1.9789564145051672,-1.9654505947061653,-1.9511209218913976,-1.9467406793723123,-1.9027944768491727,-1.8461064328519907,-1.7984996165403162,-1.7849943692618115,-1.6611339636042333,-1.6598813645281478,-1.603638575934901,-1.549435991891942,-1.4732131124810952,-1.4229027381300254,-1.3999143499445577,-1.3918620782745312,-1.382477398554032,-1.3808125973986791,-1.3508692947637215,-1.3362333413111525,-1.329816466349905,-1.3256557653891428,-1.3107945684198783,-1.3072620437068903,-1.2572657228083282,-1.2495650640554412,-1.211665815560881,-1.2003426876619252,-1.183133353288884,-1.1770154458905238,-1.1735989422014375,-1.0753498850988543,-1.0687063489760353,-1.066979052885883,-1.0043623807232362,-0.9916989513363971,-0.9540569789761263,-0.9485725723819842,-0.9418386880580482,-0.932073549100358,-0.9237216099267888,-0.9130522114317937,-0.8876542870406684,-0.8788200917710116,-0.836495935242438,-0.8116293276615255,-0.8065417430636015,-0.7911142058189222,-0.784168214619147,-0.7443498820321276,-0.6931496511626826,-0.6828341956981947,-0.6419384134232714,-0.6181153140693454,-0.6124450339822423,-0.5970517902661224,-0.5448897754174534,-0.5446705719470306,-0.5283614101118592,-0.5148209629158663,-0.5071262793795245,-0.4945286801135359,-0.48934917899805347,-0.47701778824768065,-0.46803830425365556,-0.4506584052625584,-0.4415295075483052,-0.437126606596554,-0.43142570339516784,-0.4308410361396343,-0.4218574214890968,-0.4141622596858143,-0.37779447615257256,-0.3468352874453344,-0.3219666124160021,-0.31293995296727767,-0.2822930786980452,-0.2815886456308699,-0.27361979354440213,-0.2427256386953731,-0.2405950667159387,-0.21925588736485857,-0.21732747288925988,-0.21689155086068712,-0.20129437290293867,-0.19886670216802912,-0.1761297090649528,-0.16324666402845897,-0.16023835040437184,-0.14367891698176358,-0.14244818312085214,-0.10233682474902352,-0.09717264129860564,-0.09003826976334292,-0.08583305742999409,-0.08176413854087623,-0.058324687489194726,-0.04337985035476196,-0.041942401586047895,-0.011058074109618043,0.006249130363606537,0.021049528051830763,0.023104522835033364,0.045935803033204194,0.07361347381108846,0.07716028175723687,0.07813377986777544,0.08098973140561883,0.11441986907378736,0.12284288400791069,0.1283569746042959,0.1287686144286258,0.13428819655911536,0.13666550723409643,0.1448108872681174,0.15798177981469236,0.1604409941037501,0.16107822318241036,0.16492615585147838,0.1733232600682447,0.1733286638662388,0.19100324658184023,0.20170456801525422,0.24843389730306878,0.26892695434666897,0.26964060687062447,0.27889865292242766,0.30707312098565565,0.30785626871824456,0.3158102594858183,0.36946542427803597,0.37040786527666913,0.37641007528711173,0.4046869380379067,0.40469564057531676,0.42282723095428465,0.43090668431255325,0.4428131591648468,0.45621747588396866,0.4658389839284849,0.47627620538535737,0.5072666338167231,0.5244737711919316,0.5318617330154312,0.5346719148171979,0.5377532838181527,0.5586028194959644,0.5593289977568667,0.5685579524107504,0.573007462775055,0.5902600939858688,0.606025477867747,0.6078885147376203,0.6109758205103927,0.6181610705140823,0.6302153682780656,0.6429644015231222,0.6436528351579306,0.6558862662123457,0.6608590981438756,0.6876784307653573,0.7521637552994546,0.7700180197999668,0.7779433262139729,0.7807374652144384,0.7809813111530463,0.8879599618247457,0.9524878843487184,0.9593893709212385,0.9913521851059492,0.996913499123333,0.9973704020930753,1.0251631686704368,1.0730011014734593,1.1353219157795005,1.1511531282926635,1.170244575305026,1.1730815967598753,1.1878764894586986,1.2405330657467526,1.4465314000725529,1.46565973728362,1.4921962364811787,1.5552526764058896,1.5572383032840678,1.6528103238427003,1.6880181701359083,1.9312033451591775,1.9966947028927444,2.013740166968325,2.2422981630433028,2.3110374914813483,2.4570023531785417,3.0182144953490044],\"xaxis\":\"x\",\"y\":[0.0,0.0,0.0,0.0,0.0,0.0,0.0,0.0,0.0,0.0,0.0,0.0,0.0,0.0,0.0,0.0,0.0,0.0,0.0,0.0,0.0,0.0,0.0,0.0,0.0,0.0,0.0,0.0,0.0,0.0,0.0,0.0,0.0,0.0,0.0,0.0,0.0,0.0,0.0,0.0,0.0,0.0,0.0,0.0,0.0,0.0,0.0,0.0,0.0,0.0,0.0,0.0,0.0,0.0,0.0,0.0,0.0,0.0,0.0,0.0,0.0,0.0,0.0,0.0,0.0,0.0,0.0,0.0,0.0,0.0,0.0,0.0,0.0,0.0,0.0,0.0,0.0,0.0,0.0,0.0,0.0,0.0,0.0,0.0,0.0,0.0,0.0,0.0,0.0,0.0,0.0,0.0,0.0,0.0,0.0,0.0,0.0,0.0,0.0,0.0,0.0,0.0,0.0,0.0,0.0,0.0,0.006249130363606537,0.021049528051830763,0.023104522835033364,0.045935803033204194,0.07361347381108846,0.07716028175723687,0.07813377986777544,0.08098973140561883,0.11441986907378736,0.12284288400791069,0.1283569746042959,0.1287686144286258,0.13428819655911536,0.13666550723409643,0.1448108872681174,0.15798177981469236,0.1604409941037501,0.16107822318241036,0.16492615585147838,0.1733232600682447,0.1733286638662388,0.19100324658184023,0.20170456801525422,0.24843389730306878,0.26892695434666897,0.26964060687062447,0.27889865292242766,0.30707312098565565,0.30785626871824456,0.3158102594858183,0.36946542427803597,0.37040786527666913,0.37641007528711173,0.4046869380379067,0.40469564057531676,0.42282723095428465,0.43090668431255325,0.4428131591648468,0.45621747588396866,0.4658389839284849,0.47627620538535737,0.5072666338167231,0.5244737711919316,0.5318617330154312,0.5346719148171979,0.5377532838181527,0.5586028194959644,0.5593289977568667,0.5685579524107504,0.573007462775055,0.5902600939858688,0.606025477867747,0.6078885147376203,0.6109758205103927,0.6181610705140823,0.6302153682780656,0.6429644015231222,0.6436528351579306,0.6558862662123457,0.6608590981438756,0.6876784307653573,0.7521637552994546,0.7700180197999668,0.7779433262139729,0.7807374652144384,0.7809813111530463,0.8879599618247457,0.9524878843487184,0.9593893709212385,0.9913521851059492,0.996913499123333,0.9973704020930753,1.0251631686704368,1.0730011014734593,1.1353219157795005,1.1511531282926635,1.170244575305026,1.1730815967598753,1.1878764894586986,1.2405330657467526,1.4465314000725529,1.46565973728362,1.4921962364811787,1.5552526764058896,1.5572383032840678,1.6528103238427003,1.6880181701359083,1.9312033451591775,1.9966947028927444,2.013740166968325,2.2422981630433028,2.3110374914813483,2.4570023531785417,3.0182144953490044],\"yaxis\":\"y\",\"type\":\"scatter\"}],                        {\"template\":{\"data\":{\"histogram2dcontour\":[{\"type\":\"histogram2dcontour\",\"colorbar\":{\"outlinewidth\":0,\"ticks\":\"\"},\"colorscale\":[[0.0,\"#0d0887\"],[0.1111111111111111,\"#46039f\"],[0.2222222222222222,\"#7201a8\"],[0.3333333333333333,\"#9c179e\"],[0.4444444444444444,\"#bd3786\"],[0.5555555555555556,\"#d8576b\"],[0.6666666666666666,\"#ed7953\"],[0.7777777777777778,\"#fb9f3a\"],[0.8888888888888888,\"#fdca26\"],[1.0,\"#f0f921\"]]}],\"choropleth\":[{\"type\":\"choropleth\",\"colorbar\":{\"outlinewidth\":0,\"ticks\":\"\"}}],\"histogram2d\":[{\"type\":\"histogram2d\",\"colorbar\":{\"outlinewidth\":0,\"ticks\":\"\"},\"colorscale\":[[0.0,\"#0d0887\"],[0.1111111111111111,\"#46039f\"],[0.2222222222222222,\"#7201a8\"],[0.3333333333333333,\"#9c179e\"],[0.4444444444444444,\"#bd3786\"],[0.5555555555555556,\"#d8576b\"],[0.6666666666666666,\"#ed7953\"],[0.7777777777777778,\"#fb9f3a\"],[0.8888888888888888,\"#fdca26\"],[1.0,\"#f0f921\"]]}],\"heatmap\":[{\"type\":\"heatmap\",\"colorbar\":{\"outlinewidth\":0,\"ticks\":\"\"},\"colorscale\":[[0.0,\"#0d0887\"],[0.1111111111111111,\"#46039f\"],[0.2222222222222222,\"#7201a8\"],[0.3333333333333333,\"#9c179e\"],[0.4444444444444444,\"#bd3786\"],[0.5555555555555556,\"#d8576b\"],[0.6666666666666666,\"#ed7953\"],[0.7777777777777778,\"#fb9f3a\"],[0.8888888888888888,\"#fdca26\"],[1.0,\"#f0f921\"]]}],\"heatmapgl\":[{\"type\":\"heatmapgl\",\"colorbar\":{\"outlinewidth\":0,\"ticks\":\"\"},\"colorscale\":[[0.0,\"#0d0887\"],[0.1111111111111111,\"#46039f\"],[0.2222222222222222,\"#7201a8\"],[0.3333333333333333,\"#9c179e\"],[0.4444444444444444,\"#bd3786\"],[0.5555555555555556,\"#d8576b\"],[0.6666666666666666,\"#ed7953\"],[0.7777777777777778,\"#fb9f3a\"],[0.8888888888888888,\"#fdca26\"],[1.0,\"#f0f921\"]]}],\"contourcarpet\":[{\"type\":\"contourcarpet\",\"colorbar\":{\"outlinewidth\":0,\"ticks\":\"\"}}],\"contour\":[{\"type\":\"contour\",\"colorbar\":{\"outlinewidth\":0,\"ticks\":\"\"},\"colorscale\":[[0.0,\"#0d0887\"],[0.1111111111111111,\"#46039f\"],[0.2222222222222222,\"#7201a8\"],[0.3333333333333333,\"#9c179e\"],[0.4444444444444444,\"#bd3786\"],[0.5555555555555556,\"#d8576b\"],[0.6666666666666666,\"#ed7953\"],[0.7777777777777778,\"#fb9f3a\"],[0.8888888888888888,\"#fdca26\"],[1.0,\"#f0f921\"]]}],\"surface\":[{\"type\":\"surface\",\"colorbar\":{\"outlinewidth\":0,\"ticks\":\"\"},\"colorscale\":[[0.0,\"#0d0887\"],[0.1111111111111111,\"#46039f\"],[0.2222222222222222,\"#7201a8\"],[0.3333333333333333,\"#9c179e\"],[0.4444444444444444,\"#bd3786\"],[0.5555555555555556,\"#d8576b\"],[0.6666666666666666,\"#ed7953\"],[0.7777777777777778,\"#fb9f3a\"],[0.8888888888888888,\"#fdca26\"],[1.0,\"#f0f921\"]]}],\"mesh3d\":[{\"type\":\"mesh3d\",\"colorbar\":{\"outlinewidth\":0,\"ticks\":\"\"}}],\"scatter\":[{\"fillpattern\":{\"fillmode\":\"overlay\",\"size\":10,\"solidity\":0.2},\"type\":\"scatter\"}],\"parcoords\":[{\"type\":\"parcoords\",\"line\":{\"colorbar\":{\"outlinewidth\":0,\"ticks\":\"\"}}}],\"scatterpolargl\":[{\"type\":\"scatterpolargl\",\"marker\":{\"colorbar\":{\"outlinewidth\":0,\"ticks\":\"\"}}}],\"bar\":[{\"error_x\":{\"color\":\"#2a3f5f\"},\"error_y\":{\"color\":\"#2a3f5f\"},\"marker\":{\"line\":{\"color\":\"#E5ECF6\",\"width\":0.5},\"pattern\":{\"fillmode\":\"overlay\",\"size\":10,\"solidity\":0.2}},\"type\":\"bar\"}],\"scattergeo\":[{\"type\":\"scattergeo\",\"marker\":{\"colorbar\":{\"outlinewidth\":0,\"ticks\":\"\"}}}],\"scatterpolar\":[{\"type\":\"scatterpolar\",\"marker\":{\"colorbar\":{\"outlinewidth\":0,\"ticks\":\"\"}}}],\"histogram\":[{\"marker\":{\"pattern\":{\"fillmode\":\"overlay\",\"size\":10,\"solidity\":0.2}},\"type\":\"histogram\"}],\"scattergl\":[{\"type\":\"scattergl\",\"marker\":{\"colorbar\":{\"outlinewidth\":0,\"ticks\":\"\"}}}],\"scatter3d\":[{\"type\":\"scatter3d\",\"line\":{\"colorbar\":{\"outlinewidth\":0,\"ticks\":\"\"}},\"marker\":{\"colorbar\":{\"outlinewidth\":0,\"ticks\":\"\"}}}],\"scattermapbox\":[{\"type\":\"scattermapbox\",\"marker\":{\"colorbar\":{\"outlinewidth\":0,\"ticks\":\"\"}}}],\"scatterternary\":[{\"type\":\"scatterternary\",\"marker\":{\"colorbar\":{\"outlinewidth\":0,\"ticks\":\"\"}}}],\"scattercarpet\":[{\"type\":\"scattercarpet\",\"marker\":{\"colorbar\":{\"outlinewidth\":0,\"ticks\":\"\"}}}],\"carpet\":[{\"aaxis\":{\"endlinecolor\":\"#2a3f5f\",\"gridcolor\":\"white\",\"linecolor\":\"white\",\"minorgridcolor\":\"white\",\"startlinecolor\":\"#2a3f5f\"},\"baxis\":{\"endlinecolor\":\"#2a3f5f\",\"gridcolor\":\"white\",\"linecolor\":\"white\",\"minorgridcolor\":\"white\",\"startlinecolor\":\"#2a3f5f\"},\"type\":\"carpet\"}],\"table\":[{\"cells\":{\"fill\":{\"color\":\"#EBF0F8\"},\"line\":{\"color\":\"white\"}},\"header\":{\"fill\":{\"color\":\"#C8D4E3\"},\"line\":{\"color\":\"white\"}},\"type\":\"table\"}],\"barpolar\":[{\"marker\":{\"line\":{\"color\":\"#E5ECF6\",\"width\":0.5},\"pattern\":{\"fillmode\":\"overlay\",\"size\":10,\"solidity\":0.2}},\"type\":\"barpolar\"}],\"pie\":[{\"automargin\":true,\"type\":\"pie\"}]},\"layout\":{\"autotypenumbers\":\"strict\",\"colorway\":[\"#636efa\",\"#EF553B\",\"#00cc96\",\"#ab63fa\",\"#FFA15A\",\"#19d3f3\",\"#FF6692\",\"#B6E880\",\"#FF97FF\",\"#FECB52\"],\"font\":{\"color\":\"#2a3f5f\"},\"hovermode\":\"closest\",\"hoverlabel\":{\"align\":\"left\"},\"paper_bgcolor\":\"white\",\"plot_bgcolor\":\"#E5ECF6\",\"polar\":{\"bgcolor\":\"#E5ECF6\",\"angularaxis\":{\"gridcolor\":\"white\",\"linecolor\":\"white\",\"ticks\":\"\"},\"radialaxis\":{\"gridcolor\":\"white\",\"linecolor\":\"white\",\"ticks\":\"\"}},\"ternary\":{\"bgcolor\":\"#E5ECF6\",\"aaxis\":{\"gridcolor\":\"white\",\"linecolor\":\"white\",\"ticks\":\"\"},\"baxis\":{\"gridcolor\":\"white\",\"linecolor\":\"white\",\"ticks\":\"\"},\"caxis\":{\"gridcolor\":\"white\",\"linecolor\":\"white\",\"ticks\":\"\"}},\"coloraxis\":{\"colorbar\":{\"outlinewidth\":0,\"ticks\":\"\"}},\"colorscale\":{\"sequential\":[[0.0,\"#0d0887\"],[0.1111111111111111,\"#46039f\"],[0.2222222222222222,\"#7201a8\"],[0.3333333333333333,\"#9c179e\"],[0.4444444444444444,\"#bd3786\"],[0.5555555555555556,\"#d8576b\"],[0.6666666666666666,\"#ed7953\"],[0.7777777777777778,\"#fb9f3a\"],[0.8888888888888888,\"#fdca26\"],[1.0,\"#f0f921\"]],\"sequentialminus\":[[0.0,\"#0d0887\"],[0.1111111111111111,\"#46039f\"],[0.2222222222222222,\"#7201a8\"],[0.3333333333333333,\"#9c179e\"],[0.4444444444444444,\"#bd3786\"],[0.5555555555555556,\"#d8576b\"],[0.6666666666666666,\"#ed7953\"],[0.7777777777777778,\"#fb9f3a\"],[0.8888888888888888,\"#fdca26\"],[1.0,\"#f0f921\"]],\"diverging\":[[0,\"#8e0152\"],[0.1,\"#c51b7d\"],[0.2,\"#de77ae\"],[0.3,\"#f1b6da\"],[0.4,\"#fde0ef\"],[0.5,\"#f7f7f7\"],[0.6,\"#e6f5d0\"],[0.7,\"#b8e186\"],[0.8,\"#7fbc41\"],[0.9,\"#4d9221\"],[1,\"#276419\"]]},\"xaxis\":{\"gridcolor\":\"white\",\"linecolor\":\"white\",\"ticks\":\"\",\"title\":{\"standoff\":15},\"zerolinecolor\":\"white\",\"automargin\":true,\"zerolinewidth\":2},\"yaxis\":{\"gridcolor\":\"white\",\"linecolor\":\"white\",\"ticks\":\"\",\"title\":{\"standoff\":15},\"zerolinecolor\":\"white\",\"automargin\":true,\"zerolinewidth\":2},\"scene\":{\"xaxis\":{\"backgroundcolor\":\"#E5ECF6\",\"gridcolor\":\"white\",\"linecolor\":\"white\",\"showbackground\":true,\"ticks\":\"\",\"zerolinecolor\":\"white\",\"gridwidth\":2},\"yaxis\":{\"backgroundcolor\":\"#E5ECF6\",\"gridcolor\":\"white\",\"linecolor\":\"white\",\"showbackground\":true,\"ticks\":\"\",\"zerolinecolor\":\"white\",\"gridwidth\":2},\"zaxis\":{\"backgroundcolor\":\"#E5ECF6\",\"gridcolor\":\"white\",\"linecolor\":\"white\",\"showbackground\":true,\"ticks\":\"\",\"zerolinecolor\":\"white\",\"gridwidth\":2}},\"shapedefaults\":{\"line\":{\"color\":\"#2a3f5f\"}},\"annotationdefaults\":{\"arrowcolor\":\"#2a3f5f\",\"arrowhead\":0,\"arrowwidth\":1},\"geo\":{\"bgcolor\":\"white\",\"landcolor\":\"#E5ECF6\",\"subunitcolor\":\"white\",\"showland\":true,\"showlakes\":true,\"lakecolor\":\"white\"},\"title\":{\"x\":0.05},\"mapbox\":{\"style\":\"light\"}}},\"xaxis\":{\"anchor\":\"y\",\"domain\":[0.0,1.0],\"title\":{\"text\":\"data\"}},\"yaxis\":{\"anchor\":\"x\",\"domain\":[0.0,1.0],\"title\":{\"text\":\"relu\"},\"range\":[-0.5,1.5]},\"legend\":{\"tracegroupgap\":0},\"margin\":{\"t\":60},\"width\":800},                        {\"responsive\": true}                    ).then(function(){\n",
              "                            \n",
              "var gd = document.getElementById('1f16db14-a237-46c9-ac59-6d54a6c644eb');\n",
              "var x = new MutationObserver(function (mutations, observer) {{\n",
              "        var display = window.getComputedStyle(gd).display;\n",
              "        if (!display || display === 'none') {{\n",
              "            console.log([gd, 'removed!']);\n",
              "            Plotly.purge(gd);\n",
              "            observer.disconnect();\n",
              "        }}\n",
              "}});\n",
              "\n",
              "// Listen for the removal of the full notebook cells\n",
              "var notebookContainer = gd.closest('#notebook-container');\n",
              "if (notebookContainer) {{\n",
              "    x.observe(notebookContainer, {childList: true});\n",
              "}}\n",
              "\n",
              "// Listen for the clearing of the current output cell\n",
              "var outputEl = gd.closest('.output');\n",
              "if (outputEl) {{\n",
              "    x.observe(outputEl, {childList: true});\n",
              "}}\n",
              "\n",
              "                        })                };                            </script>        </div>\n",
              "</body>\n",
              "</html>"
            ]
          },
          "metadata": {}
        }
      ]
    },
    {
      "cell_type": "markdown",
      "source": [
        "import tanh. zwraca -1 / 1"
      ],
      "metadata": {
        "id": "VYUOChHTM_HX"
      }
    },
    {
      "cell_type": "code",
      "metadata": {
        "id": "5AF9VX1OgZNg",
        "outputId": "2378af2a-80a6-40bf-f515-9930cdf57444",
        "colab": {
          "base_uri": "https://localhost:8080/",
          "height": 206
        }
      },
      "source": [
        "from tensorflow.keras.activations import tanh\n",
        "\n",
        "data = pd.DataFrame({'data': random_data, 'tanh': tanh(random_data)})\n",
        "data.head()"
      ],
      "execution_count": 12,
      "outputs": [
        {
          "output_type": "execute_result",
          "data": {
            "text/plain": [
              "       data      tanh\n",
              "0 -2.691765 -0.990859\n",
              "1 -2.273767 -0.979035\n",
              "2 -2.098545 -0.970367\n",
              "3 -2.083074 -0.969450\n",
              "4 -2.034557 -0.966389"
            ],
            "text/html": [
              "\n",
              "  <div id=\"df-853e5b0c-f13d-4065-baf0-a5349e8a05ea\" class=\"colab-df-container\">\n",
              "    <div>\n",
              "<style scoped>\n",
              "    .dataframe tbody tr th:only-of-type {\n",
              "        vertical-align: middle;\n",
              "    }\n",
              "\n",
              "    .dataframe tbody tr th {\n",
              "        vertical-align: top;\n",
              "    }\n",
              "\n",
              "    .dataframe thead th {\n",
              "        text-align: right;\n",
              "    }\n",
              "</style>\n",
              "<table border=\"1\" class=\"dataframe\">\n",
              "  <thead>\n",
              "    <tr style=\"text-align: right;\">\n",
              "      <th></th>\n",
              "      <th>data</th>\n",
              "      <th>tanh</th>\n",
              "    </tr>\n",
              "  </thead>\n",
              "  <tbody>\n",
              "    <tr>\n",
              "      <th>0</th>\n",
              "      <td>-2.691765</td>\n",
              "      <td>-0.990859</td>\n",
              "    </tr>\n",
              "    <tr>\n",
              "      <th>1</th>\n",
              "      <td>-2.273767</td>\n",
              "      <td>-0.979035</td>\n",
              "    </tr>\n",
              "    <tr>\n",
              "      <th>2</th>\n",
              "      <td>-2.098545</td>\n",
              "      <td>-0.970367</td>\n",
              "    </tr>\n",
              "    <tr>\n",
              "      <th>3</th>\n",
              "      <td>-2.083074</td>\n",
              "      <td>-0.969450</td>\n",
              "    </tr>\n",
              "    <tr>\n",
              "      <th>4</th>\n",
              "      <td>-2.034557</td>\n",
              "      <td>-0.966389</td>\n",
              "    </tr>\n",
              "  </tbody>\n",
              "</table>\n",
              "</div>\n",
              "    <div class=\"colab-df-buttons\">\n",
              "\n",
              "  <div class=\"colab-df-container\">\n",
              "    <button class=\"colab-df-convert\" onclick=\"convertToInteractive('df-853e5b0c-f13d-4065-baf0-a5349e8a05ea')\"\n",
              "            title=\"Convert this dataframe to an interactive table.\"\n",
              "            style=\"display:none;\">\n",
              "\n",
              "  <svg xmlns=\"http://www.w3.org/2000/svg\" height=\"24px\" viewBox=\"0 -960 960 960\">\n",
              "    <path d=\"M120-120v-720h720v720H120Zm60-500h600v-160H180v160Zm220 220h160v-160H400v160Zm0 220h160v-160H400v160ZM180-400h160v-160H180v160Zm440 0h160v-160H620v160ZM180-180h160v-160H180v160Zm440 0h160v-160H620v160Z\"/>\n",
              "  </svg>\n",
              "    </button>\n",
              "\n",
              "  <style>\n",
              "    .colab-df-container {\n",
              "      display:flex;\n",
              "      gap: 12px;\n",
              "    }\n",
              "\n",
              "    .colab-df-convert {\n",
              "      background-color: #E8F0FE;\n",
              "      border: none;\n",
              "      border-radius: 50%;\n",
              "      cursor: pointer;\n",
              "      display: none;\n",
              "      fill: #1967D2;\n",
              "      height: 32px;\n",
              "      padding: 0 0 0 0;\n",
              "      width: 32px;\n",
              "    }\n",
              "\n",
              "    .colab-df-convert:hover {\n",
              "      background-color: #E2EBFA;\n",
              "      box-shadow: 0px 1px 2px rgba(60, 64, 67, 0.3), 0px 1px 3px 1px rgba(60, 64, 67, 0.15);\n",
              "      fill: #174EA6;\n",
              "    }\n",
              "\n",
              "    .colab-df-buttons div {\n",
              "      margin-bottom: 4px;\n",
              "    }\n",
              "\n",
              "    [theme=dark] .colab-df-convert {\n",
              "      background-color: #3B4455;\n",
              "      fill: #D2E3FC;\n",
              "    }\n",
              "\n",
              "    [theme=dark] .colab-df-convert:hover {\n",
              "      background-color: #434B5C;\n",
              "      box-shadow: 0px 1px 3px 1px rgba(0, 0, 0, 0.15);\n",
              "      filter: drop-shadow(0px 1px 2px rgba(0, 0, 0, 0.3));\n",
              "      fill: #FFFFFF;\n",
              "    }\n",
              "  </style>\n",
              "\n",
              "    <script>\n",
              "      const buttonEl =\n",
              "        document.querySelector('#df-853e5b0c-f13d-4065-baf0-a5349e8a05ea button.colab-df-convert');\n",
              "      buttonEl.style.display =\n",
              "        google.colab.kernel.accessAllowed ? 'block' : 'none';\n",
              "\n",
              "      async function convertToInteractive(key) {\n",
              "        const element = document.querySelector('#df-853e5b0c-f13d-4065-baf0-a5349e8a05ea');\n",
              "        const dataTable =\n",
              "          await google.colab.kernel.invokeFunction('convertToInteractive',\n",
              "                                                    [key], {});\n",
              "        if (!dataTable) return;\n",
              "\n",
              "        const docLinkHtml = 'Like what you see? Visit the ' +\n",
              "          '<a target=\"_blank\" href=https://colab.research.google.com/notebooks/data_table.ipynb>data table notebook</a>'\n",
              "          + ' to learn more about interactive tables.';\n",
              "        element.innerHTML = '';\n",
              "        dataTable['output_type'] = 'display_data';\n",
              "        await google.colab.output.renderOutput(dataTable, element);\n",
              "        const docLink = document.createElement('div');\n",
              "        docLink.innerHTML = docLinkHtml;\n",
              "        element.appendChild(docLink);\n",
              "      }\n",
              "    </script>\n",
              "  </div>\n",
              "\n",
              "\n",
              "    <div id=\"df-15d1dbbb-c307-4f52-8a6c-f2123a5868ca\">\n",
              "      <button class=\"colab-df-quickchart\" onclick=\"quickchart('df-15d1dbbb-c307-4f52-8a6c-f2123a5868ca')\"\n",
              "                title=\"Suggest charts\"\n",
              "                style=\"display:none;\">\n",
              "\n",
              "<svg xmlns=\"http://www.w3.org/2000/svg\" height=\"24px\"viewBox=\"0 0 24 24\"\n",
              "     width=\"24px\">\n",
              "    <g>\n",
              "        <path d=\"M19 3H5c-1.1 0-2 .9-2 2v14c0 1.1.9 2 2 2h14c1.1 0 2-.9 2-2V5c0-1.1-.9-2-2-2zM9 17H7v-7h2v7zm4 0h-2V7h2v10zm4 0h-2v-4h2v4z\"/>\n",
              "    </g>\n",
              "</svg>\n",
              "      </button>\n",
              "\n",
              "<style>\n",
              "  .colab-df-quickchart {\n",
              "      --bg-color: #E8F0FE;\n",
              "      --fill-color: #1967D2;\n",
              "      --hover-bg-color: #E2EBFA;\n",
              "      --hover-fill-color: #174EA6;\n",
              "      --disabled-fill-color: #AAA;\n",
              "      --disabled-bg-color: #DDD;\n",
              "  }\n",
              "\n",
              "  [theme=dark] .colab-df-quickchart {\n",
              "      --bg-color: #3B4455;\n",
              "      --fill-color: #D2E3FC;\n",
              "      --hover-bg-color: #434B5C;\n",
              "      --hover-fill-color: #FFFFFF;\n",
              "      --disabled-bg-color: #3B4455;\n",
              "      --disabled-fill-color: #666;\n",
              "  }\n",
              "\n",
              "  .colab-df-quickchart {\n",
              "    background-color: var(--bg-color);\n",
              "    border: none;\n",
              "    border-radius: 50%;\n",
              "    cursor: pointer;\n",
              "    display: none;\n",
              "    fill: var(--fill-color);\n",
              "    height: 32px;\n",
              "    padding: 0;\n",
              "    width: 32px;\n",
              "  }\n",
              "\n",
              "  .colab-df-quickchart:hover {\n",
              "    background-color: var(--hover-bg-color);\n",
              "    box-shadow: 0 1px 2px rgba(60, 64, 67, 0.3), 0 1px 3px 1px rgba(60, 64, 67, 0.15);\n",
              "    fill: var(--button-hover-fill-color);\n",
              "  }\n",
              "\n",
              "  .colab-df-quickchart-complete:disabled,\n",
              "  .colab-df-quickchart-complete:disabled:hover {\n",
              "    background-color: var(--disabled-bg-color);\n",
              "    fill: var(--disabled-fill-color);\n",
              "    box-shadow: none;\n",
              "  }\n",
              "\n",
              "  .colab-df-spinner {\n",
              "    border: 2px solid var(--fill-color);\n",
              "    border-color: transparent;\n",
              "    border-bottom-color: var(--fill-color);\n",
              "    animation:\n",
              "      spin 1s steps(1) infinite;\n",
              "  }\n",
              "\n",
              "  @keyframes spin {\n",
              "    0% {\n",
              "      border-color: transparent;\n",
              "      border-bottom-color: var(--fill-color);\n",
              "      border-left-color: var(--fill-color);\n",
              "    }\n",
              "    20% {\n",
              "      border-color: transparent;\n",
              "      border-left-color: var(--fill-color);\n",
              "      border-top-color: var(--fill-color);\n",
              "    }\n",
              "    30% {\n",
              "      border-color: transparent;\n",
              "      border-left-color: var(--fill-color);\n",
              "      border-top-color: var(--fill-color);\n",
              "      border-right-color: var(--fill-color);\n",
              "    }\n",
              "    40% {\n",
              "      border-color: transparent;\n",
              "      border-right-color: var(--fill-color);\n",
              "      border-top-color: var(--fill-color);\n",
              "    }\n",
              "    60% {\n",
              "      border-color: transparent;\n",
              "      border-right-color: var(--fill-color);\n",
              "    }\n",
              "    80% {\n",
              "      border-color: transparent;\n",
              "      border-right-color: var(--fill-color);\n",
              "      border-bottom-color: var(--fill-color);\n",
              "    }\n",
              "    90% {\n",
              "      border-color: transparent;\n",
              "      border-bottom-color: var(--fill-color);\n",
              "    }\n",
              "  }\n",
              "</style>\n",
              "\n",
              "      <script>\n",
              "        async function quickchart(key) {\n",
              "          const quickchartButtonEl =\n",
              "            document.querySelector('#' + key + ' button');\n",
              "          quickchartButtonEl.disabled = true;  // To prevent multiple clicks.\n",
              "          quickchartButtonEl.classList.add('colab-df-spinner');\n",
              "          try {\n",
              "            const charts = await google.colab.kernel.invokeFunction(\n",
              "                'suggestCharts', [key], {});\n",
              "          } catch (error) {\n",
              "            console.error('Error during call to suggestCharts:', error);\n",
              "          }\n",
              "          quickchartButtonEl.classList.remove('colab-df-spinner');\n",
              "          quickchartButtonEl.classList.add('colab-df-quickchart-complete');\n",
              "        }\n",
              "        (() => {\n",
              "          let quickchartButtonEl =\n",
              "            document.querySelector('#df-15d1dbbb-c307-4f52-8a6c-f2123a5868ca button');\n",
              "          quickchartButtonEl.style.display =\n",
              "            google.colab.kernel.accessAllowed ? 'block' : 'none';\n",
              "        })();\n",
              "      </script>\n",
              "    </div>\n",
              "\n",
              "    </div>\n",
              "  </div>\n"
            ],
            "application/vnd.google.colaboratory.intrinsic+json": {
              "type": "dataframe",
              "variable_name": "data",
              "summary": "{\n  \"name\": \"data\",\n  \"rows\": 200,\n  \"fields\": [\n    {\n      \"column\": \"data\",\n      \"properties\": {\n        \"dtype\": \"number\",\n        \"std\": 1.0132129662175284,\n        \"min\": -2.6917650272577194,\n        \"max\": 3.0182144953490044,\n        \"num_unique_values\": 200,\n        \"samples\": [\n          -0.14367891698176358,\n          -1.6598813645281478,\n          -1.2572657228083282\n        ],\n        \"semantic_type\": \"\",\n        \"description\": \"\"\n      }\n    },\n    {\n      \"column\": \"tanh\",\n      \"properties\": {\n        \"dtype\": \"number\",\n        \"std\": 0.6219286565697337,\n        \"min\": -0.9908588030936094,\n        \"max\": 0.9952312403394428,\n        \"num_unique_values\": 200,\n        \"samples\": [\n          -0.14269832849228636,\n          -0.9302012014503013,\n          -0.8503085407536503\n        ],\n        \"semantic_type\": \"\",\n        \"description\": \"\"\n      }\n    }\n  ]\n}"
            }
          },
          "metadata": {},
          "execution_count": 12
        }
      ]
    },
    {
      "cell_type": "code",
      "metadata": {
        "id": "60dxCfJpghZR",
        "outputId": "ebbbe14a-f9ae-4240-a500-851b72bf2416",
        "colab": {
          "base_uri": "https://localhost:8080/",
          "height": 542
        }
      },
      "source": [
        "px.line(data, x='data', y='tanh', width=800, range_y=[-1.5, 1.5])"
      ],
      "execution_count": 13,
      "outputs": [
        {
          "output_type": "display_data",
          "data": {
            "text/html": [
              "<html>\n",
              "<head><meta charset=\"utf-8\" /></head>\n",
              "<body>\n",
              "    <div>            <script src=\"https://cdnjs.cloudflare.com/ajax/libs/mathjax/2.7.5/MathJax.js?config=TeX-AMS-MML_SVG\"></script><script type=\"text/javascript\">if (window.MathJax && window.MathJax.Hub && window.MathJax.Hub.Config) {window.MathJax.Hub.Config({SVG: {font: \"STIX-Web\"}});}</script>                <script type=\"text/javascript\">window.PlotlyConfig = {MathJaxConfig: 'local'};</script>\n",
              "        <script charset=\"utf-8\" src=\"https://cdn.plot.ly/plotly-2.35.2.min.js\"></script>                <div id=\"cffbbf07-b26d-48cc-be06-767e3a26da45\" class=\"plotly-graph-div\" style=\"height:525px; width:800px;\"></div>            <script type=\"text/javascript\">                                    window.PLOTLYENV=window.PLOTLYENV || {};                                    if (document.getElementById(\"cffbbf07-b26d-48cc-be06-767e3a26da45\")) {                    Plotly.newPlot(                        \"cffbbf07-b26d-48cc-be06-767e3a26da45\",                        [{\"hovertemplate\":\"data=%{x}\\u003cbr\\u003etanh=%{y}\\u003cextra\\u003e\\u003c\\u002fextra\\u003e\",\"legendgroup\":\"\",\"line\":{\"color\":\"#636efa\",\"dash\":\"solid\"},\"marker\":{\"symbol\":\"circle\"},\"mode\":\"lines\",\"name\":\"\",\"orientation\":\"v\",\"showlegend\":false,\"x\":[-2.6917650272577194,-2.273767078855922,-2.0985448349751654,-2.0830743320477323,-2.0345574082565574,-1.9946359070141975,-1.9789564145051672,-1.9654505947061653,-1.9511209218913976,-1.9467406793723123,-1.9027944768491727,-1.8461064328519907,-1.7984996165403162,-1.7849943692618115,-1.6611339636042333,-1.6598813645281478,-1.603638575934901,-1.549435991891942,-1.4732131124810952,-1.4229027381300254,-1.3999143499445577,-1.3918620782745312,-1.382477398554032,-1.3808125973986791,-1.3508692947637215,-1.3362333413111525,-1.329816466349905,-1.3256557653891428,-1.3107945684198783,-1.3072620437068903,-1.2572657228083282,-1.2495650640554412,-1.211665815560881,-1.2003426876619252,-1.183133353288884,-1.1770154458905238,-1.1735989422014375,-1.0753498850988543,-1.0687063489760353,-1.066979052885883,-1.0043623807232362,-0.9916989513363971,-0.9540569789761263,-0.9485725723819842,-0.9418386880580482,-0.932073549100358,-0.9237216099267888,-0.9130522114317937,-0.8876542870406684,-0.8788200917710116,-0.836495935242438,-0.8116293276615255,-0.8065417430636015,-0.7911142058189222,-0.784168214619147,-0.7443498820321276,-0.6931496511626826,-0.6828341956981947,-0.6419384134232714,-0.6181153140693454,-0.6124450339822423,-0.5970517902661224,-0.5448897754174534,-0.5446705719470306,-0.5283614101118592,-0.5148209629158663,-0.5071262793795245,-0.4945286801135359,-0.48934917899805347,-0.47701778824768065,-0.46803830425365556,-0.4506584052625584,-0.4415295075483052,-0.437126606596554,-0.43142570339516784,-0.4308410361396343,-0.4218574214890968,-0.4141622596858143,-0.37779447615257256,-0.3468352874453344,-0.3219666124160021,-0.31293995296727767,-0.2822930786980452,-0.2815886456308699,-0.27361979354440213,-0.2427256386953731,-0.2405950667159387,-0.21925588736485857,-0.21732747288925988,-0.21689155086068712,-0.20129437290293867,-0.19886670216802912,-0.1761297090649528,-0.16324666402845897,-0.16023835040437184,-0.14367891698176358,-0.14244818312085214,-0.10233682474902352,-0.09717264129860564,-0.09003826976334292,-0.08583305742999409,-0.08176413854087623,-0.058324687489194726,-0.04337985035476196,-0.041942401586047895,-0.011058074109618043,0.006249130363606537,0.021049528051830763,0.023104522835033364,0.045935803033204194,0.07361347381108846,0.07716028175723687,0.07813377986777544,0.08098973140561883,0.11441986907378736,0.12284288400791069,0.1283569746042959,0.1287686144286258,0.13428819655911536,0.13666550723409643,0.1448108872681174,0.15798177981469236,0.1604409941037501,0.16107822318241036,0.16492615585147838,0.1733232600682447,0.1733286638662388,0.19100324658184023,0.20170456801525422,0.24843389730306878,0.26892695434666897,0.26964060687062447,0.27889865292242766,0.30707312098565565,0.30785626871824456,0.3158102594858183,0.36946542427803597,0.37040786527666913,0.37641007528711173,0.4046869380379067,0.40469564057531676,0.42282723095428465,0.43090668431255325,0.4428131591648468,0.45621747588396866,0.4658389839284849,0.47627620538535737,0.5072666338167231,0.5244737711919316,0.5318617330154312,0.5346719148171979,0.5377532838181527,0.5586028194959644,0.5593289977568667,0.5685579524107504,0.573007462775055,0.5902600939858688,0.606025477867747,0.6078885147376203,0.6109758205103927,0.6181610705140823,0.6302153682780656,0.6429644015231222,0.6436528351579306,0.6558862662123457,0.6608590981438756,0.6876784307653573,0.7521637552994546,0.7700180197999668,0.7779433262139729,0.7807374652144384,0.7809813111530463,0.8879599618247457,0.9524878843487184,0.9593893709212385,0.9913521851059492,0.996913499123333,0.9973704020930753,1.0251631686704368,1.0730011014734593,1.1353219157795005,1.1511531282926635,1.170244575305026,1.1730815967598753,1.1878764894586986,1.2405330657467526,1.4465314000725529,1.46565973728362,1.4921962364811787,1.5552526764058896,1.5572383032840678,1.6528103238427003,1.6880181701359083,1.9312033451591775,1.9966947028927444,2.013740166968325,2.2422981630433028,2.3110374914813483,2.4570023531785417,3.0182144953490044],\"xaxis\":\"x\",\"y\":[-0.9908588030936094,-0.9790354959544257,-0.9703670927299569,-0.9694501129561045,-0.9663894648253107,-0.9636466362239242,-0.9625102764394818,-0.9615035742833647,-0.9604064875217806,-0.9600650616876174,-0.956476054882133,-0.9513779003963104,-0.9466504146530589,-0.9452297782003426,-0.9303697622786989,-0.9302012014503013,-0.9222144255808312,-0.9136923830161184,-0.9001886196134322,-0.8902029141686901,-0.8853331333282176,-0.8835798901424313,-0.8815048099599806,-0.8811330986034265,-0.8742583124365961,-0.8707645669940354,-0.8692044693406553,-0.8681835600035037,-0.864476322900269,-0.8635809917045738,-0.8503085407536503,-0.8481616324459608,-0.8371784835567546,-0.8337591037444501,-0.8284370737399385,-0.8265081829068301,-0.825422485253624,-0.7914682993144888,-0.7889733386673067,-0.7883203587721996,-0.7634201656763322,-0.7580858293448121,-0.7416142250837106,-0.7391361420742864,-0.7360658934843964,-0.7315591884727679,-0.727653256285948,-0.7225939968185024,-0.7102332052458178,-0.7058277268897202,-0.6839486152482305,-0.6704880960874231,-0.6676780958258418,-0.6590397678443262,-0.6550926475343304,-0.6317660681473003,-0.6000015811834081,-0.5933588309677862,-0.56621795093618,-0.5498144382019162,-0.5458459309364927,-0.534948365694737,-0.496680414637795,-0.4965152688084374,-0.48412754810805236,-0.47369293959634706,-0.46770311342742477,-0.45780338628480405,-0.4536997315614267,-0.4438520808012525,-0.43661293959977654,-0.4224400648112622,-0.41491144577013644,-0.41125986369072626,-0.4065121009569106,-0.4060239352174372,-0.39849405513399283,-0.39200108349718193,-0.36079056484798494,-0.33356593274036533,-0.31128405890863237,-0.30310931476805414,-0.2750260462167718,-0.2743747699232025,-0.2669898346035217,-0.23806857128238185,-0.23605773607619657,-0.21580871875701987,-0.21396935390018354,-0.2135533508635583,-0.1986189498070028,-0.19628592908178685,-0.1743307489770935,-0.16181181144368434,-0.15888084678743353,-0.14269832849228636,-0.1414924446618969,-0.10198106309722281,-0.09686794049640363,-0.08979574606127241,-0.08562289040017956,-0.08158241651908794,-0.0582586416488898,-0.04335265992226618,-0.041917824344400514,-0.011057623400865435,0.006249049018634309,0.021046419709305694,0.023100412501798114,0.04590352059852985,0.07348079231529057,0.07700751560030104,0.07797516786640826,0.08081311514904596,0.1139231453954638,0.12222867616496717,0.12765667370419778,0.1280615840524489,0.13348675645162633,0.13582096137451277,0.1438070691106961,0.15668045392494873,0.15907836876472545,0.15969940913205227,0.16344688314056283,0.17160826653336597,0.17161351118790322,0.18871390677803518,0.199012930811753,0.24344593892860597,0.26262608225804,0.2632903877930657,0.2718854526630202,0.29777206953869756,0.2984856104240077,0.30571363818164693,0.35352403605325977,0.35434841658080346,0.35958577021050875,0.38395213008517526,0.38395954967635826,0.3993095458561115,0.4060787594707845,0.41597354856419194,0.42699634132650804,0.4348311695225109,0.44325639726384264,0.46781275866621413,0.4811454944486921,0.4868029225164538,0.4889442206827965,0.49128540305646395,0.5069400467539329,0.5074794071137844,0.5142994444103703,0.5175645484989738,0.5300826441088019,0.5413232816803357,0.5426390626939193,0.5448136392391806,0.5498463618571141,0.5582004955349291,0.566914599460846,0.5673815935869441,0.5756192270625675,0.57893485514523,0.5964885130716188,0.6364380444716018,0.6469399285140977,0.6515246436333982,0.6531297880618991,0.6532695922924758,0.7103846552454003,0.74090729736793,0.7440043712643921,0.7579383088555692,0.7602948546912702,0.7604875787295149,0.7719611782794927,0.790589212992769,0.8128328310306989,0.818135724261611,0.824350559360471,0.8252575483693759,0.8299191230183414,0.8456075601531345,0.8950048780422716,0.8987462632637397,0.9037280589631626,0.9146480132362983,0.9149719137412179,0.9292422589154671,0.9338943188847342,0.958830560111898,0.9637933124922681,0.9649855842906586,0.9776888209913003,0.9805267227758626,0.9854210084255329,0.9952312403394428],\"yaxis\":\"y\",\"type\":\"scatter\"}],                        {\"template\":{\"data\":{\"histogram2dcontour\":[{\"type\":\"histogram2dcontour\",\"colorbar\":{\"outlinewidth\":0,\"ticks\":\"\"},\"colorscale\":[[0.0,\"#0d0887\"],[0.1111111111111111,\"#46039f\"],[0.2222222222222222,\"#7201a8\"],[0.3333333333333333,\"#9c179e\"],[0.4444444444444444,\"#bd3786\"],[0.5555555555555556,\"#d8576b\"],[0.6666666666666666,\"#ed7953\"],[0.7777777777777778,\"#fb9f3a\"],[0.8888888888888888,\"#fdca26\"],[1.0,\"#f0f921\"]]}],\"choropleth\":[{\"type\":\"choropleth\",\"colorbar\":{\"outlinewidth\":0,\"ticks\":\"\"}}],\"histogram2d\":[{\"type\":\"histogram2d\",\"colorbar\":{\"outlinewidth\":0,\"ticks\":\"\"},\"colorscale\":[[0.0,\"#0d0887\"],[0.1111111111111111,\"#46039f\"],[0.2222222222222222,\"#7201a8\"],[0.3333333333333333,\"#9c179e\"],[0.4444444444444444,\"#bd3786\"],[0.5555555555555556,\"#d8576b\"],[0.6666666666666666,\"#ed7953\"],[0.7777777777777778,\"#fb9f3a\"],[0.8888888888888888,\"#fdca26\"],[1.0,\"#f0f921\"]]}],\"heatmap\":[{\"type\":\"heatmap\",\"colorbar\":{\"outlinewidth\":0,\"ticks\":\"\"},\"colorscale\":[[0.0,\"#0d0887\"],[0.1111111111111111,\"#46039f\"],[0.2222222222222222,\"#7201a8\"],[0.3333333333333333,\"#9c179e\"],[0.4444444444444444,\"#bd3786\"],[0.5555555555555556,\"#d8576b\"],[0.6666666666666666,\"#ed7953\"],[0.7777777777777778,\"#fb9f3a\"],[0.8888888888888888,\"#fdca26\"],[1.0,\"#f0f921\"]]}],\"heatmapgl\":[{\"type\":\"heatmapgl\",\"colorbar\":{\"outlinewidth\":0,\"ticks\":\"\"},\"colorscale\":[[0.0,\"#0d0887\"],[0.1111111111111111,\"#46039f\"],[0.2222222222222222,\"#7201a8\"],[0.3333333333333333,\"#9c179e\"],[0.4444444444444444,\"#bd3786\"],[0.5555555555555556,\"#d8576b\"],[0.6666666666666666,\"#ed7953\"],[0.7777777777777778,\"#fb9f3a\"],[0.8888888888888888,\"#fdca26\"],[1.0,\"#f0f921\"]]}],\"contourcarpet\":[{\"type\":\"contourcarpet\",\"colorbar\":{\"outlinewidth\":0,\"ticks\":\"\"}}],\"contour\":[{\"type\":\"contour\",\"colorbar\":{\"outlinewidth\":0,\"ticks\":\"\"},\"colorscale\":[[0.0,\"#0d0887\"],[0.1111111111111111,\"#46039f\"],[0.2222222222222222,\"#7201a8\"],[0.3333333333333333,\"#9c179e\"],[0.4444444444444444,\"#bd3786\"],[0.5555555555555556,\"#d8576b\"],[0.6666666666666666,\"#ed7953\"],[0.7777777777777778,\"#fb9f3a\"],[0.8888888888888888,\"#fdca26\"],[1.0,\"#f0f921\"]]}],\"surface\":[{\"type\":\"surface\",\"colorbar\":{\"outlinewidth\":0,\"ticks\":\"\"},\"colorscale\":[[0.0,\"#0d0887\"],[0.1111111111111111,\"#46039f\"],[0.2222222222222222,\"#7201a8\"],[0.3333333333333333,\"#9c179e\"],[0.4444444444444444,\"#bd3786\"],[0.5555555555555556,\"#d8576b\"],[0.6666666666666666,\"#ed7953\"],[0.7777777777777778,\"#fb9f3a\"],[0.8888888888888888,\"#fdca26\"],[1.0,\"#f0f921\"]]}],\"mesh3d\":[{\"type\":\"mesh3d\",\"colorbar\":{\"outlinewidth\":0,\"ticks\":\"\"}}],\"scatter\":[{\"fillpattern\":{\"fillmode\":\"overlay\",\"size\":10,\"solidity\":0.2},\"type\":\"scatter\"}],\"parcoords\":[{\"type\":\"parcoords\",\"line\":{\"colorbar\":{\"outlinewidth\":0,\"ticks\":\"\"}}}],\"scatterpolargl\":[{\"type\":\"scatterpolargl\",\"marker\":{\"colorbar\":{\"outlinewidth\":0,\"ticks\":\"\"}}}],\"bar\":[{\"error_x\":{\"color\":\"#2a3f5f\"},\"error_y\":{\"color\":\"#2a3f5f\"},\"marker\":{\"line\":{\"color\":\"#E5ECF6\",\"width\":0.5},\"pattern\":{\"fillmode\":\"overlay\",\"size\":10,\"solidity\":0.2}},\"type\":\"bar\"}],\"scattergeo\":[{\"type\":\"scattergeo\",\"marker\":{\"colorbar\":{\"outlinewidth\":0,\"ticks\":\"\"}}}],\"scatterpolar\":[{\"type\":\"scatterpolar\",\"marker\":{\"colorbar\":{\"outlinewidth\":0,\"ticks\":\"\"}}}],\"histogram\":[{\"marker\":{\"pattern\":{\"fillmode\":\"overlay\",\"size\":10,\"solidity\":0.2}},\"type\":\"histogram\"}],\"scattergl\":[{\"type\":\"scattergl\",\"marker\":{\"colorbar\":{\"outlinewidth\":0,\"ticks\":\"\"}}}],\"scatter3d\":[{\"type\":\"scatter3d\",\"line\":{\"colorbar\":{\"outlinewidth\":0,\"ticks\":\"\"}},\"marker\":{\"colorbar\":{\"outlinewidth\":0,\"ticks\":\"\"}}}],\"scattermapbox\":[{\"type\":\"scattermapbox\",\"marker\":{\"colorbar\":{\"outlinewidth\":0,\"ticks\":\"\"}}}],\"scatterternary\":[{\"type\":\"scatterternary\",\"marker\":{\"colorbar\":{\"outlinewidth\":0,\"ticks\":\"\"}}}],\"scattercarpet\":[{\"type\":\"scattercarpet\",\"marker\":{\"colorbar\":{\"outlinewidth\":0,\"ticks\":\"\"}}}],\"carpet\":[{\"aaxis\":{\"endlinecolor\":\"#2a3f5f\",\"gridcolor\":\"white\",\"linecolor\":\"white\",\"minorgridcolor\":\"white\",\"startlinecolor\":\"#2a3f5f\"},\"baxis\":{\"endlinecolor\":\"#2a3f5f\",\"gridcolor\":\"white\",\"linecolor\":\"white\",\"minorgridcolor\":\"white\",\"startlinecolor\":\"#2a3f5f\"},\"type\":\"carpet\"}],\"table\":[{\"cells\":{\"fill\":{\"color\":\"#EBF0F8\"},\"line\":{\"color\":\"white\"}},\"header\":{\"fill\":{\"color\":\"#C8D4E3\"},\"line\":{\"color\":\"white\"}},\"type\":\"table\"}],\"barpolar\":[{\"marker\":{\"line\":{\"color\":\"#E5ECF6\",\"width\":0.5},\"pattern\":{\"fillmode\":\"overlay\",\"size\":10,\"solidity\":0.2}},\"type\":\"barpolar\"}],\"pie\":[{\"automargin\":true,\"type\":\"pie\"}]},\"layout\":{\"autotypenumbers\":\"strict\",\"colorway\":[\"#636efa\",\"#EF553B\",\"#00cc96\",\"#ab63fa\",\"#FFA15A\",\"#19d3f3\",\"#FF6692\",\"#B6E880\",\"#FF97FF\",\"#FECB52\"],\"font\":{\"color\":\"#2a3f5f\"},\"hovermode\":\"closest\",\"hoverlabel\":{\"align\":\"left\"},\"paper_bgcolor\":\"white\",\"plot_bgcolor\":\"#E5ECF6\",\"polar\":{\"bgcolor\":\"#E5ECF6\",\"angularaxis\":{\"gridcolor\":\"white\",\"linecolor\":\"white\",\"ticks\":\"\"},\"radialaxis\":{\"gridcolor\":\"white\",\"linecolor\":\"white\",\"ticks\":\"\"}},\"ternary\":{\"bgcolor\":\"#E5ECF6\",\"aaxis\":{\"gridcolor\":\"white\",\"linecolor\":\"white\",\"ticks\":\"\"},\"baxis\":{\"gridcolor\":\"white\",\"linecolor\":\"white\",\"ticks\":\"\"},\"caxis\":{\"gridcolor\":\"white\",\"linecolor\":\"white\",\"ticks\":\"\"}},\"coloraxis\":{\"colorbar\":{\"outlinewidth\":0,\"ticks\":\"\"}},\"colorscale\":{\"sequential\":[[0.0,\"#0d0887\"],[0.1111111111111111,\"#46039f\"],[0.2222222222222222,\"#7201a8\"],[0.3333333333333333,\"#9c179e\"],[0.4444444444444444,\"#bd3786\"],[0.5555555555555556,\"#d8576b\"],[0.6666666666666666,\"#ed7953\"],[0.7777777777777778,\"#fb9f3a\"],[0.8888888888888888,\"#fdca26\"],[1.0,\"#f0f921\"]],\"sequentialminus\":[[0.0,\"#0d0887\"],[0.1111111111111111,\"#46039f\"],[0.2222222222222222,\"#7201a8\"],[0.3333333333333333,\"#9c179e\"],[0.4444444444444444,\"#bd3786\"],[0.5555555555555556,\"#d8576b\"],[0.6666666666666666,\"#ed7953\"],[0.7777777777777778,\"#fb9f3a\"],[0.8888888888888888,\"#fdca26\"],[1.0,\"#f0f921\"]],\"diverging\":[[0,\"#8e0152\"],[0.1,\"#c51b7d\"],[0.2,\"#de77ae\"],[0.3,\"#f1b6da\"],[0.4,\"#fde0ef\"],[0.5,\"#f7f7f7\"],[0.6,\"#e6f5d0\"],[0.7,\"#b8e186\"],[0.8,\"#7fbc41\"],[0.9,\"#4d9221\"],[1,\"#276419\"]]},\"xaxis\":{\"gridcolor\":\"white\",\"linecolor\":\"white\",\"ticks\":\"\",\"title\":{\"standoff\":15},\"zerolinecolor\":\"white\",\"automargin\":true,\"zerolinewidth\":2},\"yaxis\":{\"gridcolor\":\"white\",\"linecolor\":\"white\",\"ticks\":\"\",\"title\":{\"standoff\":15},\"zerolinecolor\":\"white\",\"automargin\":true,\"zerolinewidth\":2},\"scene\":{\"xaxis\":{\"backgroundcolor\":\"#E5ECF6\",\"gridcolor\":\"white\",\"linecolor\":\"white\",\"showbackground\":true,\"ticks\":\"\",\"zerolinecolor\":\"white\",\"gridwidth\":2},\"yaxis\":{\"backgroundcolor\":\"#E5ECF6\",\"gridcolor\":\"white\",\"linecolor\":\"white\",\"showbackground\":true,\"ticks\":\"\",\"zerolinecolor\":\"white\",\"gridwidth\":2},\"zaxis\":{\"backgroundcolor\":\"#E5ECF6\",\"gridcolor\":\"white\",\"linecolor\":\"white\",\"showbackground\":true,\"ticks\":\"\",\"zerolinecolor\":\"white\",\"gridwidth\":2}},\"shapedefaults\":{\"line\":{\"color\":\"#2a3f5f\"}},\"annotationdefaults\":{\"arrowcolor\":\"#2a3f5f\",\"arrowhead\":0,\"arrowwidth\":1},\"geo\":{\"bgcolor\":\"white\",\"landcolor\":\"#E5ECF6\",\"subunitcolor\":\"white\",\"showland\":true,\"showlakes\":true,\"lakecolor\":\"white\"},\"title\":{\"x\":0.05},\"mapbox\":{\"style\":\"light\"}}},\"xaxis\":{\"anchor\":\"y\",\"domain\":[0.0,1.0],\"title\":{\"text\":\"data\"}},\"yaxis\":{\"anchor\":\"x\",\"domain\":[0.0,1.0],\"title\":{\"text\":\"tanh\"},\"range\":[-1.5,1.5]},\"legend\":{\"tracegroupgap\":0},\"margin\":{\"t\":60},\"width\":800},                        {\"responsive\": true}                    ).then(function(){\n",
              "                            \n",
              "var gd = document.getElementById('cffbbf07-b26d-48cc-be06-767e3a26da45');\n",
              "var x = new MutationObserver(function (mutations, observer) {{\n",
              "        var display = window.getComputedStyle(gd).display;\n",
              "        if (!display || display === 'none') {{\n",
              "            console.log([gd, 'removed!']);\n",
              "            Plotly.purge(gd);\n",
              "            observer.disconnect();\n",
              "        }}\n",
              "}});\n",
              "\n",
              "// Listen for the removal of the full notebook cells\n",
              "var notebookContainer = gd.closest('#notebook-container');\n",
              "if (notebookContainer) {{\n",
              "    x.observe(notebookContainer, {childList: true});\n",
              "}}\n",
              "\n",
              "// Listen for the clearing of the current output cell\n",
              "var outputEl = gd.closest('.output');\n",
              "if (outputEl) {{\n",
              "    x.observe(outputEl, {childList: true});\n",
              "}}\n",
              "\n",
              "                        })                };                            </script>        </div>\n",
              "</body>\n",
              "</html>"
            ]
          },
          "metadata": {}
        }
      ]
    },
    {
      "cell_type": "markdown",
      "source": [
        "#budowa modelu sequential"
      ],
      "metadata": {
        "id": "PhpsPrsiNOgR"
      }
    },
    {
      "cell_type": "markdown",
      "source": [
        "tworzenie warstw z zdeniowanymi funkcjami aktywacji"
      ],
      "metadata": {
        "id": "k9-HrhPPN6tO"
      }
    },
    {
      "cell_type": "code",
      "metadata": {
        "id": "hUCtW1HMgjkV",
        "outputId": "24f8bf8e-4262-4820-83ef-ff4daab12e61",
        "colab": {
          "base_uri": "https://localhost:8080/",
          "height": 274
        }
      },
      "source": [
        "model = Sequential()\n",
        "model.add(Dense(units=8, activation='relu', input_shape=(10,)))\n",
        "model.add(Dense(units=1, activation='sigmoid')) #output modelu\n",
        "model.summary()"
      ],
      "execution_count": 14,
      "outputs": [
        {
          "output_type": "stream",
          "name": "stderr",
          "text": [
            "/usr/local/lib/python3.12/dist-packages/keras/src/layers/core/dense.py:93: UserWarning:\n",
            "\n",
            "Do not pass an `input_shape`/`input_dim` argument to a layer. When using Sequential models, prefer using an `Input(shape)` object as the first layer in the model instead.\n",
            "\n"
          ]
        },
        {
          "output_type": "display_data",
          "data": {
            "text/plain": [
              "\u001b[1mModel: \"sequential_1\"\u001b[0m\n"
            ],
            "text/html": [
              "<pre style=\"white-space:pre;overflow-x:auto;line-height:normal;font-family:Menlo,'DejaVu Sans Mono',consolas,'Courier New',monospace\"><span style=\"font-weight: bold\">Model: \"sequential_1\"</span>\n",
              "</pre>\n"
            ]
          },
          "metadata": {}
        },
        {
          "output_type": "display_data",
          "data": {
            "text/plain": [
              "┏━━━━━━━━━━━━━━━━━━━━━━━━━━━━━━━━━┳━━━━━━━━━━━━━━━━━━━━━━━━┳━━━━━━━━━━━━━━━┓\n",
              "┃\u001b[1m \u001b[0m\u001b[1mLayer (type)                   \u001b[0m\u001b[1m \u001b[0m┃\u001b[1m \u001b[0m\u001b[1mOutput Shape          \u001b[0m\u001b[1m \u001b[0m┃\u001b[1m \u001b[0m\u001b[1m      Param #\u001b[0m\u001b[1m \u001b[0m┃\n",
              "┡━━━━━━━━━━━━━━━━━━━━━━━━━━━━━━━━━╇━━━━━━━━━━━━━━━━━━━━━━━━╇━━━━━━━━━━━━━━━┩\n",
              "│ dense_2 (\u001b[38;5;33mDense\u001b[0m)                 │ (\u001b[38;5;45mNone\u001b[0m, \u001b[38;5;34m8\u001b[0m)              │            \u001b[38;5;34m88\u001b[0m │\n",
              "├─────────────────────────────────┼────────────────────────┼───────────────┤\n",
              "│ dense_3 (\u001b[38;5;33mDense\u001b[0m)                 │ (\u001b[38;5;45mNone\u001b[0m, \u001b[38;5;34m1\u001b[0m)              │             \u001b[38;5;34m9\u001b[0m │\n",
              "└─────────────────────────────────┴────────────────────────┴───────────────┘\n"
            ],
            "text/html": [
              "<pre style=\"white-space:pre;overflow-x:auto;line-height:normal;font-family:Menlo,'DejaVu Sans Mono',consolas,'Courier New',monospace\">┏━━━━━━━━━━━━━━━━━━━━━━━━━━━━━━━━━┳━━━━━━━━━━━━━━━━━━━━━━━━┳━━━━━━━━━━━━━━━┓\n",
              "┃<span style=\"font-weight: bold\"> Layer (type)                    </span>┃<span style=\"font-weight: bold\"> Output Shape           </span>┃<span style=\"font-weight: bold\">       Param # </span>┃\n",
              "┡━━━━━━━━━━━━━━━━━━━━━━━━━━━━━━━━━╇━━━━━━━━━━━━━━━━━━━━━━━━╇━━━━━━━━━━━━━━━┩\n",
              "│ dense_2 (<span style=\"color: #0087ff; text-decoration-color: #0087ff\">Dense</span>)                 │ (<span style=\"color: #00d7ff; text-decoration-color: #00d7ff\">None</span>, <span style=\"color: #00af00; text-decoration-color: #00af00\">8</span>)              │            <span style=\"color: #00af00; text-decoration-color: #00af00\">88</span> │\n",
              "├─────────────────────────────────┼────────────────────────┼───────────────┤\n",
              "│ dense_3 (<span style=\"color: #0087ff; text-decoration-color: #0087ff\">Dense</span>)                 │ (<span style=\"color: #00d7ff; text-decoration-color: #00d7ff\">None</span>, <span style=\"color: #00af00; text-decoration-color: #00af00\">1</span>)              │             <span style=\"color: #00af00; text-decoration-color: #00af00\">9</span> │\n",
              "└─────────────────────────────────┴────────────────────────┴───────────────┘\n",
              "</pre>\n"
            ]
          },
          "metadata": {}
        },
        {
          "output_type": "display_data",
          "data": {
            "text/plain": [
              "\u001b[1m Total params: \u001b[0m\u001b[38;5;34m97\u001b[0m (388.00 B)\n"
            ],
            "text/html": [
              "<pre style=\"white-space:pre;overflow-x:auto;line-height:normal;font-family:Menlo,'DejaVu Sans Mono',consolas,'Courier New',monospace\"><span style=\"font-weight: bold\"> Total params: </span><span style=\"color: #00af00; text-decoration-color: #00af00\">97</span> (388.00 B)\n",
              "</pre>\n"
            ]
          },
          "metadata": {}
        },
        {
          "output_type": "display_data",
          "data": {
            "text/plain": [
              "\u001b[1m Trainable params: \u001b[0m\u001b[38;5;34m97\u001b[0m (388.00 B)\n"
            ],
            "text/html": [
              "<pre style=\"white-space:pre;overflow-x:auto;line-height:normal;font-family:Menlo,'DejaVu Sans Mono',consolas,'Courier New',monospace\"><span style=\"font-weight: bold\"> Trainable params: </span><span style=\"color: #00af00; text-decoration-color: #00af00\">97</span> (388.00 B)\n",
              "</pre>\n"
            ]
          },
          "metadata": {}
        },
        {
          "output_type": "display_data",
          "data": {
            "text/plain": [
              "\u001b[1m Non-trainable params: \u001b[0m\u001b[38;5;34m0\u001b[0m (0.00 B)\n"
            ],
            "text/html": [
              "<pre style=\"white-space:pre;overflow-x:auto;line-height:normal;font-family:Menlo,'DejaVu Sans Mono',consolas,'Courier New',monospace\"><span style=\"font-weight: bold\"> Non-trainable params: </span><span style=\"color: #00af00; text-decoration-color: #00af00\">0</span> (0.00 B)\n",
              "</pre>\n"
            ]
          },
          "metadata": {}
        }
      ]
    },
    {
      "cell_type": "markdown",
      "metadata": {
        "id": "NNWU1zbwimbx"
      },
      "source": [
        "### <a name='a2'></a>Kompilacja modelu\n",
        "Przed rozpoczęciem trenowania sieci należy odpowiednio skonfigurować proces uczenia. W tym kroku określamy:\n",
        "* rodzaj optymalizatora ([Keras - Optymalizatory](https://keras.io/optimizers/))\n",
        "* funkcję straty ([Keras - Funkcje Straty](https://keras.io/losses/))\n",
        "* metryki, które będziemy obserwować podczas trenowania sieci ([Keras - Metryki](https://keras.io/metrics/))"
      ]
    },
    {
      "cell_type": "markdown",
      "source": [
        "# Ważne do koplilacji w zależności od klasy wybieramy optymalizator oraz inną funkcję STRATY"
      ],
      "metadata": {
        "id": "Zo7UNxU3PI6G"
      }
    },
    {
      "cell_type": "code",
      "metadata": {
        "id": "oBRtQd7diI0e"
      },
      "source": [
        "# klasyfikacja binarna\n",
        "model.compile(optimizer='rmsprop',\n",
        "              loss='binary_crossentropy',\n",
        "              metrics=['accuracy'])\n",
        "\n",
        "# klasyfikacja wieloklasowa\n",
        "model.compile(optimizer='rmsprop',\n",
        "              loss='categorical_crossentropy',\n",
        "              metrics=['accuracy'])\n",
        "\n",
        "# regresja\n",
        "model.compile(optimizer='rmsprop',\n",
        "              loss='mse')"
      ],
      "execution_count": 16,
      "outputs": []
    },
    {
      "cell_type": "markdown",
      "metadata": {
        "id": "TqsJw4K-knNP"
      },
      "source": [
        "### <a name='a3'></a>Trenowanie modelu\n",
        "Za dane wejściowe do modelu należy przekazać Numpy arrays:\n",
        "* **epochs** - krotność przejścia danych przez sieć w procesie uczenia\n",
        "* **batch_size** - rozmiar wsadu po którym następuje aktualizacja wag\n",
        "* **validation_split** - część danych treningowych, które zostaną wykorzystane jako zbiór walidacyjny\n",
        "* **validation_data** - (x_val, y_val) - dane wykorzystane do walidacji modelu"
      ]
    },
    {
      "cell_type": "code",
      "metadata": {
        "id": "HBn1AzzGkS2h"
      },
      "source": [
        "# model.fit(data, labels, epochs=10, batch_size=32)\n",
        "# model.fit(data, labels, epochs=10, batch_size=32, validation_split=0.2)\n",
        "# model.fit(data, labels, epochs=10, batch_size=32, validation_data=(x_val, y_val))"
      ],
      "execution_count": 17,
      "outputs": []
    },
    {
      "cell_type": "markdown",
      "metadata": {
        "id": "8fmOZzNywvx6"
      },
      "source": [
        "### <a name='a4'></a> Przykład - klasyfikacja binarna"
      ]
    },
    {
      "cell_type": "markdown",
      "source": [
        "Wygenerowanie losowych danych"
      ],
      "metadata": {
        "id": "CQqyge3OP4O8"
      }
    },
    {
      "cell_type": "code",
      "metadata": {
        "id": "gELP58XdwKSj",
        "outputId": "4ca11ecf-9156-4d89-b31f-85ff4f396707",
        "colab": {
          "base_uri": "https://localhost:8080/"
        }
      },
      "source": [
        "data = np.random.randn(1000, 150) #1000 wierszy, 150 kolumn\n",
        "labels = np.random.randint(2, size=(1000, 1)) #1000 wierszy, jedna kolumna, dane bool - losuje dane 0-1\n",
        "\n",
        "print(data.shape)\n",
        "print(labels.shape)"
      ],
      "execution_count": 50,
      "outputs": [
        {
          "output_type": "stream",
          "name": "stdout",
          "text": [
            "(1000, 150)\n",
            "(1000, 1)\n"
          ]
        }
      ]
    },
    {
      "cell_type": "code",
      "metadata": {
        "id": "B_ItRZ5EwcdR",
        "outputId": "52eaf233-6939-4107-9132-d9af3cc4c21d",
        "colab": {
          "base_uri": "https://localhost:8080/"
        }
      },
      "source": [
        "data[:3]"
      ],
      "execution_count": 51,
      "outputs": [
        {
          "output_type": "execute_result",
          "data": {
            "text/plain": [
              "array([[-1.19831256e+00,  1.91847582e-01,  9.85233688e-01,\n",
              "         1.88702570e+00, -1.02869381e+00,  4.29328389e-01,\n",
              "         1.17973524e+00,  1.88555042e+00, -1.31676552e+00,\n",
              "         1.17346672e+00, -8.65552980e-01, -7.49789480e-01,\n",
              "        -3.62116588e-01, -3.26214086e-01,  9.49924110e-01,\n",
              "        -1.17799057e-01, -1.41985324e+00,  6.73361976e-01,\n",
              "        -1.85787190e-01,  1.20118971e+00,  6.22234258e-01,\n",
              "        -2.98690837e-01, -1.97778428e-01,  1.21466040e+00,\n",
              "         4.61088400e-01,  6.30710144e-01, -1.17633452e+00,\n",
              "         2.30943541e-01,  7.20010437e-01,  1.11544313e+00,\n",
              "        -2.12493892e-02,  1.88401942e+00,  1.44051529e+00,\n",
              "         1.89804674e+00,  5.82858157e-01,  1.23078072e+00,\n",
              "         7.64826174e-02,  3.77568456e-01, -5.28843555e-01,\n",
              "         8.30214950e-01, -4.61802153e-01, -7.27666192e-02,\n",
              "        -8.80950865e-01,  3.37709237e-01, -9.40524827e-01,\n",
              "        -7.87384496e-01,  1.22875060e-01, -1.26141675e-01,\n",
              "         6.49586630e-01,  6.08674992e-01, -9.05704534e-01,\n",
              "        -1.47847888e+00,  1.20490929e+00, -7.53219218e-01,\n",
              "         3.28227115e-01,  1.30418517e-01,  7.12641431e-01,\n",
              "        -6.47242583e-02, -1.12472116e+00,  6.30079099e-01,\n",
              "        -4.61649066e-01,  1.47897845e+00,  7.64413987e-01,\n",
              "        -1.70780207e+00,  1.87830791e+00,  3.48599960e-01,\n",
              "        -1.47324225e+00,  1.14183203e+00, -5.60270115e-01,\n",
              "        -1.57522665e+00, -1.17528200e+00, -1.06877822e+00,\n",
              "        -2.98249712e-01,  9.23666882e-01, -9.61136307e-02,\n",
              "         6.33838122e-01, -4.64851756e-01,  1.07821219e+00,\n",
              "        -3.91591082e-01,  1.18887430e+00, -9.53531202e-01,\n",
              "        -1.33035453e+00, -2.04928752e-01,  4.89718445e-01,\n",
              "        -8.37970352e-02, -3.26992618e-01, -2.54277778e-01,\n",
              "        -8.46423861e-01, -4.95142053e-01,  4.01177880e-01,\n",
              "        -5.97770667e-03,  6.79418922e-01,  6.00634918e-01,\n",
              "         5.88598604e-01, -5.01579484e-01,  1.62707682e+00,\n",
              "        -4.88470700e-01,  5.74370767e-01,  5.28153230e-02,\n",
              "         7.22233523e-01,  4.79334348e-01,  4.05624010e-01,\n",
              "        -8.31817779e-01,  2.64015692e-01, -2.19138607e-01,\n",
              "         4.16841349e-01, -1.22108248e+00,  2.74357300e-01,\n",
              "        -5.07689764e-03,  7.68402792e-01, -5.90471183e-01,\n",
              "         6.31161914e-02, -2.17767175e-01, -1.80088698e-01,\n",
              "         5.69894463e-01,  1.69152590e+00,  4.70822195e-01,\n",
              "        -4.92791865e-01, -2.19001443e+00, -6.49256128e-01,\n",
              "        -3.39024603e-01,  6.78420885e-02,  7.80562477e-01,\n",
              "         1.21761965e+00, -1.05065979e+00,  1.38011750e+00,\n",
              "        -3.32843751e-01,  1.42114181e+00, -8.39818264e-01,\n",
              "         1.79014299e-01,  5.18136773e-01,  1.35413123e+00,\n",
              "         1.38453503e+00, -4.33663438e-01,  1.95808655e-01,\n",
              "         7.46771909e-01, -1.19911250e+00,  7.31912365e-01,\n",
              "        -7.15684899e-02, -1.17550724e+00, -2.37869764e-01,\n",
              "         1.06748196e+00, -4.16318894e-01,  6.47253707e-01,\n",
              "         1.40844382e+00, -1.87691455e+00, -2.30816032e-02,\n",
              "         4.58631510e-02,  4.27006324e-01,  1.36767058e+00],\n",
              "       [-1.71964403e+00, -4.58976811e-01,  3.86875520e-02,\n",
              "         1.15958743e+00, -2.16098383e-01, -6.90517549e-01,\n",
              "         6.65162017e-01, -1.65842827e+00,  1.09018463e+00,\n",
              "        -1.16932085e+00, -5.57366221e-01, -8.73170861e-01,\n",
              "         2.74986617e-01,  3.96625254e-01, -4.55714218e-02,\n",
              "        -9.25872758e-01, -1.14101986e+00, -2.51344620e+00,\n",
              "         4.72202340e-01, -3.98393267e-01, -1.84438747e+00,\n",
              "         1.52792215e+00,  7.01457354e-01,  6.96713032e-01,\n",
              "         1.84895562e+00,  9.21654518e-01, -6.95952956e-01,\n",
              "         1.49578118e+00,  5.66159965e-01,  8.75686421e-01,\n",
              "         6.09489706e-01,  1.38793066e+00, -9.29558348e-01,\n",
              "         2.60584942e+00, -1.06764580e+00,  5.40463789e-01,\n",
              "         6.57150372e-01, -2.35454212e+00,  1.49785767e+00,\n",
              "        -4.11026370e-01, -1.26181201e+00,  8.40538315e-01,\n",
              "        -1.47162085e-01, -3.10689344e-01,  8.14894948e-01,\n",
              "         1.79419601e+00, -1.34142164e+00,  1.58289276e+00,\n",
              "         7.90237739e-01, -3.45860352e-01,  1.31144127e+00,\n",
              "        -9.49283351e-01,  7.22983579e-01,  8.49462371e-01,\n",
              "        -2.64885421e-01, -3.25138084e-01,  1.35127057e-01,\n",
              "         9.27507255e-01,  1.75272290e+00,  4.36653586e-01,\n",
              "        -4.67693061e-01,  1.90723079e+00, -6.12097945e-01,\n",
              "        -9.81935551e-02, -1.23328772e+00,  1.56335608e+00,\n",
              "        -1.50308799e+00, -8.82875718e-01, -4.45499735e-01,\n",
              "         6.92764912e-01, -5.68022257e-01, -6.61136992e-02,\n",
              "        -1.09386950e+00,  4.26160327e-01,  2.22009382e-01,\n",
              "         1.49405456e+00, -8.49051130e-01,  1.38927843e+00,\n",
              "        -9.69109419e-01, -1.74593935e+00,  2.47322509e-01,\n",
              "         3.16691424e-01, -3.92921933e-01, -4.93268941e-01,\n",
              "         5.41230020e-01, -4.13169230e-01,  9.13835000e-01,\n",
              "        -1.54782987e+00, -1.90985452e-01,  2.47770141e-02,\n",
              "        -4.36966879e-01, -1.68711939e-01, -1.54237565e-01,\n",
              "         3.32348646e-01,  6.45825566e-01, -7.84539655e-01,\n",
              "        -1.30196877e-01,  9.07386680e-01,  9.76169658e-01,\n",
              "         9.25761627e-01, -1.05662575e-01, -1.01480924e-01,\n",
              "         2.96148246e-01,  8.84511997e-01, -3.28273038e-01,\n",
              "        -7.87478255e-02, -1.65832136e-01,  4.49429841e-01,\n",
              "        -1.80248109e-01,  4.91611550e-01, -2.70968252e-01,\n",
              "         2.70127378e+00, -1.64153570e+00,  2.26637733e-01,\n",
              "         1.24204833e+00,  7.33354188e-01,  1.16961885e+00,\n",
              "         4.65471745e-01,  3.50801749e-01, -4.61075560e-01,\n",
              "         4.71466166e-01, -8.58564475e-01, -4.41721717e-01,\n",
              "        -1.19242619e+00,  7.14497706e-01,  5.71591642e-01,\n",
              "        -3.34610289e-01, -4.30692922e-01, -9.45094776e-01,\n",
              "         9.30885470e-01, -3.06261622e-01, -5.70387663e-01,\n",
              "        -1.77206937e-01, -1.71024199e+00, -6.11334950e-01,\n",
              "         9.13268921e-01,  8.01598686e-02, -2.55587191e+00,\n",
              "        -1.45291493e+00, -1.35932030e+00, -9.48213852e-01,\n",
              "        -1.56887180e+00, -2.29952080e+00,  1.75484847e-01,\n",
              "         2.79867223e-01, -3.74381508e-01, -8.30744549e-01,\n",
              "         4.29051718e-01,  6.85251238e-01,  7.23713315e-01],\n",
              "       [-1.66171752e+00, -1.35858802e-01, -4.23949070e-01,\n",
              "        -1.99374243e-03, -1.58858615e+00, -1.07645249e+00,\n",
              "        -1.04567493e+00, -6.50669134e-02, -1.32791051e+00,\n",
              "        -8.93804429e-02,  1.36472335e+00, -5.67018056e-01,\n",
              "         1.43187772e+00,  4.04053419e-01, -9.21815051e-01,\n",
              "        -2.93999837e-01, -9.66967922e-01,  1.02499869e+00,\n",
              "        -2.67773431e+00, -5.27295253e-01,  4.65995839e-01,\n",
              "         3.90933337e-01, -2.38778483e-01,  1.28974975e-01,\n",
              "        -1.52402910e+00,  2.43937031e-01,  1.06219656e+00,\n",
              "         1.53623725e+00, -2.14626532e-01,  3.20879526e-01,\n",
              "         3.47795744e-01, -1.27657198e+00,  5.43714402e-01,\n",
              "         1.06645256e+00, -1.84032048e+00, -6.35940216e-01,\n",
              "        -3.16029270e-01,  1.29153344e-01,  2.57357066e-01,\n",
              "        -6.29266368e-01, -2.00447912e+00,  3.71632685e-01,\n",
              "        -5.43541088e-01,  1.30429447e+00, -9.24515314e-01,\n",
              "        -1.20821623e+00, -1.57481111e+00,  1.23108485e+00,\n",
              "        -1.22133735e+00,  8.96949570e-01,  1.12585249e+00,\n",
              "        -2.26607073e+00, -3.89151881e-01, -3.08759652e-01,\n",
              "         5.35641523e-01, -1.71025225e-01, -4.73090384e-01,\n",
              "         4.23118860e-01, -6.81756959e-01,  1.17994229e-01,\n",
              "         1.94336696e+00,  9.15483108e-01,  3.70822334e-01,\n",
              "         5.77293388e-01,  3.59259244e-01, -1.20495503e+00,\n",
              "         5.49273231e-01,  5.73389215e-02, -2.69113746e-01,\n",
              "         1.44350350e+00,  9.02215563e-02, -8.55575448e-01,\n",
              "         1.85186045e+00,  7.40792295e-01, -1.26098412e+00,\n",
              "        -1.11295297e-01, -7.95871804e-01, -2.66867626e-01,\n",
              "         5.67709044e-01,  1.30870156e-01,  1.80340944e+00,\n",
              "         4.60020894e-01,  8.67879525e-01,  3.56130402e-01,\n",
              "         1.03259058e+00, -1.19506167e-01,  1.92523756e+00,\n",
              "         1.10600452e-03, -4.88545053e-01,  1.44821098e+00,\n",
              "         7.57282597e-01, -1.09750522e+00,  6.78240337e-02,\n",
              "         1.42429342e+00,  4.50225318e-01,  1.10552691e+00,\n",
              "         2.87557907e-01,  2.33125521e-01,  1.16262237e+00,\n",
              "         2.65912329e-01, -1.47107232e+00, -1.28378213e-01,\n",
              "        -1.32133791e+00, -1.09405771e+00, -3.44645286e-01,\n",
              "        -1.52063433e-01,  2.17592779e-01, -1.60355924e-01,\n",
              "         2.34455753e+00,  4.43684456e-01, -1.58168395e+00,\n",
              "         3.79222381e-01, -9.02555064e-01, -1.03334727e+00,\n",
              "         9.98691569e-01,  1.69739408e-01, -4.56424940e-01,\n",
              "         3.27390002e-01,  3.38147490e-01, -1.69085161e-03,\n",
              "         9.03402195e-01,  9.41929323e-01,  5.49219004e-01,\n",
              "        -1.56620097e+00,  1.34500553e-01,  9.16709569e-01,\n",
              "         2.43152210e-02,  2.20489205e+00,  1.39804685e+00,\n",
              "        -2.01530937e+00, -6.91573386e-01,  2.11281640e+00,\n",
              "         1.20682816e+00,  3.49951849e-01, -3.02651824e-01,\n",
              "         6.81747497e-01,  5.21797881e-01,  2.52208588e-01,\n",
              "        -8.70181823e-01, -4.15890029e-01, -3.61348848e-01,\n",
              "        -6.74267235e-02, -1.29800061e+00,  5.79149924e-01,\n",
              "        -4.63214822e-02,  1.05631046e-01,  4.81775480e-01,\n",
              "         6.69122068e-01,  1.17166394e+00, -1.03607259e+00]])"
            ]
          },
          "metadata": {},
          "execution_count": 51
        }
      ]
    },
    {
      "cell_type": "code",
      "metadata": {
        "id": "2AKkBXaZwmNq",
        "outputId": "a7bcb711-c3b3-4531-ff31-f8454352d2d1",
        "colab": {
          "base_uri": "https://localhost:8080/"
        }
      },
      "source": [
        "labels[:10]"
      ],
      "execution_count": 52,
      "outputs": [
        {
          "output_type": "execute_result",
          "data": {
            "text/plain": [
              "array([[0],\n",
              "       [1],\n",
              "       [0],\n",
              "       [0],\n",
              "       [1],\n",
              "       [1],\n",
              "       [0],\n",
              "       [1],\n",
              "       [1],\n",
              "       [0]])"
            ]
          },
          "metadata": {},
          "execution_count": 52
        }
      ]
    },
    {
      "cell_type": "markdown",
      "source": [
        "Budowa modelu"
      ],
      "metadata": {
        "id": "_5InodYqRR3p"
      }
    },
    {
      "cell_type": "code",
      "metadata": {
        "id": "3YmwwLjZwpvE",
        "outputId": "4c4e9bca-860e-48a9-f93d-6bc209480edb",
        "colab": {
          "base_uri": "https://localhost:8080/"
        }
      },
      "source": [
        "model = Sequential()\n",
        "model.add(Dense(units=32, activation='relu', input_shape=(150,))) #warstwa ukryta, 32 neurony\n",
        "model.add(Dense(1, activation='sigmoid')) #wyjście signmoid\n",
        "\n",
        "model.compile(optimizer='rmsprop',\n",
        "              loss='binary_crossentropy',\n",
        "              metrics=['accuracy'])\n",
        "\n",
        "model.fit(data, labels, epochs=20) #uczenie nadzorowane, przekazujemy labele"
      ],
      "execution_count": 53,
      "outputs": [
        {
          "output_type": "stream",
          "name": "stdout",
          "text": [
            "Epoch 1/20\n"
          ]
        },
        {
          "output_type": "stream",
          "name": "stderr",
          "text": [
            "/usr/local/lib/python3.12/dist-packages/keras/src/layers/core/dense.py:93: UserWarning:\n",
            "\n",
            "Do not pass an `input_shape`/`input_dim` argument to a layer. When using Sequential models, prefer using an `Input(shape)` object as the first layer in the model instead.\n",
            "\n"
          ]
        },
        {
          "output_type": "stream",
          "name": "stdout",
          "text": [
            "\u001b[1m32/32\u001b[0m \u001b[32m━━━━━━━━━━━━━━━━━━━━\u001b[0m\u001b[37m\u001b[0m \u001b[1m1s\u001b[0m 2ms/step - accuracy: 0.4963 - loss: 0.8308\n",
            "Epoch 2/20\n",
            "\u001b[1m32/32\u001b[0m \u001b[32m━━━━━━━━━━━━━━━━━━━━\u001b[0m\u001b[37m\u001b[0m \u001b[1m0s\u001b[0m 3ms/step - accuracy: 0.5754 - loss: 0.7074\n",
            "Epoch 3/20\n",
            "\u001b[1m32/32\u001b[0m \u001b[32m━━━━━━━━━━━━━━━━━━━━\u001b[0m\u001b[37m\u001b[0m \u001b[1m0s\u001b[0m 3ms/step - accuracy: 0.6069 - loss: 0.6573\n",
            "Epoch 4/20\n",
            "\u001b[1m32/32\u001b[0m \u001b[32m━━━━━━━━━━━━━━━━━━━━\u001b[0m\u001b[37m\u001b[0m \u001b[1m0s\u001b[0m 2ms/step - accuracy: 0.6632 - loss: 0.6174\n",
            "Epoch 5/20\n",
            "\u001b[1m32/32\u001b[0m \u001b[32m━━━━━━━━━━━━━━━━━━━━\u001b[0m\u001b[37m\u001b[0m \u001b[1m0s\u001b[0m 3ms/step - accuracy: 0.6994 - loss: 0.5947\n",
            "Epoch 6/20\n",
            "\u001b[1m32/32\u001b[0m \u001b[32m━━━━━━━━━━━━━━━━━━━━\u001b[0m\u001b[37m\u001b[0m \u001b[1m0s\u001b[0m 3ms/step - accuracy: 0.7324 - loss: 0.5523\n",
            "Epoch 7/20\n",
            "\u001b[1m32/32\u001b[0m \u001b[32m━━━━━━━━━━━━━━━━━━━━\u001b[0m\u001b[37m\u001b[0m \u001b[1m0s\u001b[0m 3ms/step - accuracy: 0.7554 - loss: 0.5358\n",
            "Epoch 8/20\n",
            "\u001b[1m32/32\u001b[0m \u001b[32m━━━━━━━━━━━━━━━━━━━━\u001b[0m\u001b[37m\u001b[0m \u001b[1m0s\u001b[0m 3ms/step - accuracy: 0.7863 - loss: 0.5082\n",
            "Epoch 9/20\n",
            "\u001b[1m32/32\u001b[0m \u001b[32m━━━━━━━━━━━━━━━━━━━━\u001b[0m\u001b[37m\u001b[0m \u001b[1m0s\u001b[0m 3ms/step - accuracy: 0.7986 - loss: 0.4798\n",
            "Epoch 10/20\n",
            "\u001b[1m32/32\u001b[0m \u001b[32m━━━━━━━━━━━━━━━━━━━━\u001b[0m\u001b[37m\u001b[0m \u001b[1m0s\u001b[0m 3ms/step - accuracy: 0.8361 - loss: 0.4577\n",
            "Epoch 11/20\n",
            "\u001b[1m32/32\u001b[0m \u001b[32m━━━━━━━━━━━━━━━━━━━━\u001b[0m\u001b[37m\u001b[0m \u001b[1m0s\u001b[0m 3ms/step - accuracy: 0.8145 - loss: 0.4465\n",
            "Epoch 12/20\n",
            "\u001b[1m32/32\u001b[0m \u001b[32m━━━━━━━━━━━━━━━━━━━━\u001b[0m\u001b[37m\u001b[0m \u001b[1m0s\u001b[0m 3ms/step - accuracy: 0.8410 - loss: 0.4329\n",
            "Epoch 13/20\n",
            "\u001b[1m32/32\u001b[0m \u001b[32m━━━━━━━━━━━━━━━━━━━━\u001b[0m\u001b[37m\u001b[0m \u001b[1m0s\u001b[0m 3ms/step - accuracy: 0.8777 - loss: 0.4002\n",
            "Epoch 14/20\n",
            "\u001b[1m32/32\u001b[0m \u001b[32m━━━━━━━━━━━━━━━━━━━━\u001b[0m\u001b[37m\u001b[0m \u001b[1m0s\u001b[0m 3ms/step - accuracy: 0.9058 - loss: 0.3812\n",
            "Epoch 15/20\n",
            "\u001b[1m32/32\u001b[0m \u001b[32m━━━━━━━━━━━━━━━━━━━━\u001b[0m\u001b[37m\u001b[0m \u001b[1m0s\u001b[0m 3ms/step - accuracy: 0.9202 - loss: 0.3550\n",
            "Epoch 16/20\n",
            "\u001b[1m32/32\u001b[0m \u001b[32m━━━━━━━━━━━━━━━━━━━━\u001b[0m\u001b[37m\u001b[0m \u001b[1m0s\u001b[0m 3ms/step - accuracy: 0.9166 - loss: 0.3469\n",
            "Epoch 17/20\n",
            "\u001b[1m32/32\u001b[0m \u001b[32m━━━━━━━━━━━━━━━━━━━━\u001b[0m\u001b[37m\u001b[0m \u001b[1m0s\u001b[0m 2ms/step - accuracy: 0.9390 - loss: 0.3158\n",
            "Epoch 18/20\n",
            "\u001b[1m32/32\u001b[0m \u001b[32m━━━━━━━━━━━━━━━━━━━━\u001b[0m\u001b[37m\u001b[0m \u001b[1m0s\u001b[0m 3ms/step - accuracy: 0.9546 - loss: 0.2979\n",
            "Epoch 19/20\n",
            "\u001b[1m32/32\u001b[0m \u001b[32m━━━━━━━━━━━━━━━━━━━━\u001b[0m\u001b[37m\u001b[0m \u001b[1m0s\u001b[0m 3ms/step - accuracy: 0.9642 - loss: 0.2849\n",
            "Epoch 20/20\n",
            "\u001b[1m32/32\u001b[0m \u001b[32m━━━━━━━━━━━━━━━━━━━━\u001b[0m\u001b[37m\u001b[0m \u001b[1m0s\u001b[0m 3ms/step - accuracy: 0.9792 - loss: 0.2536\n"
          ]
        },
        {
          "output_type": "execute_result",
          "data": {
            "text/plain": [
              "<keras.src.callbacks.history.History at 0x7eb4c0a3f080>"
            ]
          },
          "metadata": {},
          "execution_count": 53
        }
      ]
    },
    {
      "cell_type": "code",
      "metadata": {
        "id": "5X_mtwLfy2d9",
        "outputId": "f98e6fd2-d0f0-4f3c-a1c4-593058c3d882",
        "colab": {
          "base_uri": "https://localhost:8080/"
        }
      },
      "source": [
        "model = Sequential()\n",
        "model.add(Dense(units=32, activation='relu', input_shape=(150,)))\n",
        "model.add(Dense(1, activation='sigmoid'))\n",
        "\n",
        "model.compile(optimizer='rmsprop',\n",
        "              loss='binary_crossentropy',\n",
        "              metrics=['accuracy'])\n",
        "\n",
        "model.fit(data, labels, epochs=20, batch_size=30) #tu dodatkow przekazujemy batch_size - Wagi będą aktualizowane co 30 próbek"
      ],
      "execution_count": 54,
      "outputs": [
        {
          "output_type": "stream",
          "name": "stdout",
          "text": [
            "Epoch 1/20\n",
            "\u001b[1m34/34\u001b[0m \u001b[32m━━━━━━━━━━━━━━━━━━━━\u001b[0m\u001b[37m\u001b[0m \u001b[1m1s\u001b[0m 2ms/step - accuracy: 0.4987 - loss: 0.8718\n",
            "Epoch 2/20\n",
            "\u001b[1m34/34\u001b[0m \u001b[32m━━━━━━━━━━━━━━━━━━━━\u001b[0m\u001b[37m\u001b[0m \u001b[1m0s\u001b[0m 3ms/step - accuracy: 0.5361 - loss: 0.7576\n",
            "Epoch 3/20\n",
            "\u001b[1m34/34\u001b[0m \u001b[32m━━━━━━━━━━━━━━━━━━━━\u001b[0m\u001b[37m\u001b[0m \u001b[1m0s\u001b[0m 3ms/step - accuracy: 0.5992 - loss: 0.6615\n",
            "Epoch 4/20\n",
            "\u001b[1m34/34\u001b[0m \u001b[32m━━━━━━━━━━━━━━━━━━━━\u001b[0m\u001b[37m\u001b[0m \u001b[1m0s\u001b[0m 2ms/step - accuracy: 0.7036 - loss: 0.5892\n",
            "Epoch 5/20\n",
            "\u001b[1m34/34\u001b[0m \u001b[32m━━━━━━━━━━━━━━━━━━━━\u001b[0m\u001b[37m\u001b[0m \u001b[1m0s\u001b[0m 3ms/step - accuracy: 0.7231 - loss: 0.5620\n",
            "Epoch 6/20\n",
            "\u001b[1m34/34\u001b[0m \u001b[32m━━━━━━━━━━━━━━━━━━━━\u001b[0m\u001b[37m\u001b[0m \u001b[1m0s\u001b[0m 3ms/step - accuracy: 0.7699 - loss: 0.5365\n",
            "Epoch 7/20\n",
            "\u001b[1m34/34\u001b[0m \u001b[32m━━━━━━━━━━━━━━━━━━━━\u001b[0m\u001b[37m\u001b[0m \u001b[1m0s\u001b[0m 2ms/step - accuracy: 0.8096 - loss: 0.5032\n",
            "Epoch 8/20\n",
            "\u001b[1m34/34\u001b[0m \u001b[32m━━━━━━━━━━━━━━━━━━━━\u001b[0m\u001b[37m\u001b[0m \u001b[1m0s\u001b[0m 3ms/step - accuracy: 0.8190 - loss: 0.4845\n",
            "Epoch 9/20\n",
            "\u001b[1m34/34\u001b[0m \u001b[32m━━━━━━━━━━━━━━━━━━━━\u001b[0m\u001b[37m\u001b[0m \u001b[1m0s\u001b[0m 3ms/step - accuracy: 0.8266 - loss: 0.4718\n",
            "Epoch 10/20\n",
            "\u001b[1m34/34\u001b[0m \u001b[32m━━━━━━━━━━━━━━━━━━━━\u001b[0m\u001b[37m\u001b[0m \u001b[1m0s\u001b[0m 2ms/step - accuracy: 0.8544 - loss: 0.4324\n",
            "Epoch 11/20\n",
            "\u001b[1m34/34\u001b[0m \u001b[32m━━━━━━━━━━━━━━━━━━━━\u001b[0m\u001b[37m\u001b[0m \u001b[1m0s\u001b[0m 2ms/step - accuracy: 0.8695 - loss: 0.4155\n",
            "Epoch 12/20\n",
            "\u001b[1m34/34\u001b[0m \u001b[32m━━━━━━━━━━━━━━━━━━━━\u001b[0m\u001b[37m\u001b[0m \u001b[1m0s\u001b[0m 3ms/step - accuracy: 0.8899 - loss: 0.3858\n",
            "Epoch 13/20\n",
            "\u001b[1m34/34\u001b[0m \u001b[32m━━━━━━━━━━━━━━━━━━━━\u001b[0m\u001b[37m\u001b[0m \u001b[1m0s\u001b[0m 2ms/step - accuracy: 0.9048 - loss: 0.3739\n",
            "Epoch 14/20\n",
            "\u001b[1m34/34\u001b[0m \u001b[32m━━━━━━━━━━━━━━━━━━━━\u001b[0m\u001b[37m\u001b[0m \u001b[1m0s\u001b[0m 3ms/step - accuracy: 0.9222 - loss: 0.3470\n",
            "Epoch 15/20\n",
            "\u001b[1m34/34\u001b[0m \u001b[32m━━━━━━━━━━━━━━━━━━━━\u001b[0m\u001b[37m\u001b[0m \u001b[1m0s\u001b[0m 3ms/step - accuracy: 0.9189 - loss: 0.3238\n",
            "Epoch 16/20\n",
            "\u001b[1m34/34\u001b[0m \u001b[32m━━━━━━━━━━━━━━━━━━━━\u001b[0m\u001b[37m\u001b[0m \u001b[1m0s\u001b[0m 3ms/step - accuracy: 0.9499 - loss: 0.3007\n",
            "Epoch 17/20\n",
            "\u001b[1m34/34\u001b[0m \u001b[32m━━━━━━━━━━━━━━━━━━━━\u001b[0m\u001b[37m\u001b[0m \u001b[1m0s\u001b[0m 3ms/step - accuracy: 0.9544 - loss: 0.2832\n",
            "Epoch 18/20\n",
            "\u001b[1m34/34\u001b[0m \u001b[32m━━━━━━━━━━━━━━━━━━━━\u001b[0m\u001b[37m\u001b[0m \u001b[1m0s\u001b[0m 3ms/step - accuracy: 0.9647 - loss: 0.2651\n",
            "Epoch 19/20\n",
            "\u001b[1m34/34\u001b[0m \u001b[32m━━━━━━━━━━━━━━━━━━━━\u001b[0m\u001b[37m\u001b[0m \u001b[1m0s\u001b[0m 3ms/step - accuracy: 0.9732 - loss: 0.2393\n",
            "Epoch 20/20\n",
            "\u001b[1m34/34\u001b[0m \u001b[32m━━━━━━━━━━━━━━━━━━━━\u001b[0m\u001b[37m\u001b[0m \u001b[1m0s\u001b[0m 2ms/step - accuracy: 0.9887 - loss: 0.2264\n"
          ]
        },
        {
          "output_type": "execute_result",
          "data": {
            "text/plain": [
              "<keras.src.callbacks.history.History at 0x7eb4c1895fa0>"
            ]
          },
          "metadata": {},
          "execution_count": 54
        }
      ]
    },
    {
      "cell_type": "markdown",
      "source": [],
      "metadata": {
        "id": "MgBzczpjSxD2"
      }
    },
    {
      "cell_type": "code",
      "metadata": {
        "id": "xj5leE1dxK0-",
        "outputId": "8f4b72bb-9a93-4b9c-9d1b-3f6541f0b3be",
        "colab": {
          "base_uri": "https://localhost:8080/"
        }
      },
      "source": [
        "model = Sequential()\n",
        "model.add(Dense(units=32, activation='relu', input_shape=(150,)))\n",
        "model.add(Dense(1, activation='sigmoid'))\n",
        "\n",
        "model.compile(optimizer='rmsprop',\n",
        "              loss='binary_crossentropy',\n",
        "              metrics=['accuracy'])\n",
        "\n",
        "model.fit(data, labels, epochs=20, batch_size=32, validation_split=0.2) #przekazujemy także validation split"
      ],
      "execution_count": 55,
      "outputs": [
        {
          "output_type": "stream",
          "name": "stdout",
          "text": [
            "Epoch 1/20\n",
            "\u001b[1m25/25\u001b[0m \u001b[32m━━━━━━━━━━━━━━━━━━━━\u001b[0m\u001b[37m\u001b[0m \u001b[1m1s\u001b[0m 11ms/step - accuracy: 0.5017 - loss: 0.8001 - val_accuracy: 0.5150 - val_loss: 0.7593\n",
            "Epoch 2/20\n",
            "\u001b[1m25/25\u001b[0m \u001b[32m━━━━━━━━━━━━━━━━━━━━\u001b[0m\u001b[37m\u001b[0m \u001b[1m0s\u001b[0m 5ms/step - accuracy: 0.5424 - loss: 0.7121 - val_accuracy: 0.4950 - val_loss: 0.7526\n",
            "Epoch 3/20\n",
            "\u001b[1m25/25\u001b[0m \u001b[32m━━━━━━━━━━━━━━━━━━━━\u001b[0m\u001b[37m\u001b[0m \u001b[1m0s\u001b[0m 6ms/step - accuracy: 0.6015 - loss: 0.6677 - val_accuracy: 0.4950 - val_loss: 0.7513\n",
            "Epoch 4/20\n",
            "\u001b[1m25/25\u001b[0m \u001b[32m━━━━━━━━━━━━━━━━━━━━\u001b[0m\u001b[37m\u001b[0m \u001b[1m0s\u001b[0m 4ms/step - accuracy: 0.6320 - loss: 0.6327 - val_accuracy: 0.5100 - val_loss: 0.7507\n",
            "Epoch 5/20\n",
            "\u001b[1m25/25\u001b[0m \u001b[32m━━━━━━━━━━━━━━━━━━━━\u001b[0m\u001b[37m\u001b[0m \u001b[1m0s\u001b[0m 5ms/step - accuracy: 0.6653 - loss: 0.5905 - val_accuracy: 0.5050 - val_loss: 0.7541\n",
            "Epoch 6/20\n",
            "\u001b[1m25/25\u001b[0m \u001b[32m━━━━━━━━━━━━━━━━━━━━\u001b[0m\u001b[37m\u001b[0m \u001b[1m0s\u001b[0m 5ms/step - accuracy: 0.6990 - loss: 0.5784 - val_accuracy: 0.5000 - val_loss: 0.7568\n",
            "Epoch 7/20\n",
            "\u001b[1m25/25\u001b[0m \u001b[32m━━━━━━━━━━━━━━━━━━━━\u001b[0m\u001b[37m\u001b[0m \u001b[1m0s\u001b[0m 5ms/step - accuracy: 0.7653 - loss: 0.5375 - val_accuracy: 0.5200 - val_loss: 0.7636\n",
            "Epoch 8/20\n",
            "\u001b[1m25/25\u001b[0m \u001b[32m━━━━━━━━━━━━━━━━━━━━\u001b[0m\u001b[37m\u001b[0m \u001b[1m0s\u001b[0m 5ms/step - accuracy: 0.8050 - loss: 0.5157 - val_accuracy: 0.5050 - val_loss: 0.7733\n",
            "Epoch 9/20\n",
            "\u001b[1m25/25\u001b[0m \u001b[32m━━━━━━━━━━━━━━━━━━━━\u001b[0m\u001b[37m\u001b[0m \u001b[1m0s\u001b[0m 4ms/step - accuracy: 0.7832 - loss: 0.5037 - val_accuracy: 0.5050 - val_loss: 0.7822\n",
            "Epoch 10/20\n",
            "\u001b[1m25/25\u001b[0m \u001b[32m━━━━━━━━━━━━━━━━━━━━\u001b[0m\u001b[37m\u001b[0m \u001b[1m0s\u001b[0m 4ms/step - accuracy: 0.8140 - loss: 0.4824 - val_accuracy: 0.4850 - val_loss: 0.7928\n",
            "Epoch 11/20\n",
            "\u001b[1m25/25\u001b[0m \u001b[32m━━━━━━━━━━━━━━━━━━━━\u001b[0m\u001b[37m\u001b[0m \u001b[1m0s\u001b[0m 5ms/step - accuracy: 0.8340 - loss: 0.4570 - val_accuracy: 0.4700 - val_loss: 0.8032\n",
            "Epoch 12/20\n",
            "\u001b[1m25/25\u001b[0m \u001b[32m━━━━━━━━━━━━━━━━━━━━\u001b[0m\u001b[37m\u001b[0m \u001b[1m0s\u001b[0m 4ms/step - accuracy: 0.8522 - loss: 0.4444 - val_accuracy: 0.4750 - val_loss: 0.8121\n",
            "Epoch 13/20\n",
            "\u001b[1m25/25\u001b[0m \u001b[32m━━━━━━━━━━━━━━━━━━━━\u001b[0m\u001b[37m\u001b[0m \u001b[1m0s\u001b[0m 5ms/step - accuracy: 0.8717 - loss: 0.4262 - val_accuracy: 0.4850 - val_loss: 0.8248\n",
            "Epoch 14/20\n",
            "\u001b[1m25/25\u001b[0m \u001b[32m━━━━━━━━━━━━━━━━━━━━\u001b[0m\u001b[37m\u001b[0m \u001b[1m0s\u001b[0m 5ms/step - accuracy: 0.8972 - loss: 0.3881 - val_accuracy: 0.4750 - val_loss: 0.8369\n",
            "Epoch 15/20\n",
            "\u001b[1m25/25\u001b[0m \u001b[32m━━━━━━━━━━━━━━━━━━━━\u001b[0m\u001b[37m\u001b[0m \u001b[1m0s\u001b[0m 4ms/step - accuracy: 0.9038 - loss: 0.3596 - val_accuracy: 0.4800 - val_loss: 0.8484\n",
            "Epoch 16/20\n",
            "\u001b[1m25/25\u001b[0m \u001b[32m━━━━━━━━━━━━━━━━━━━━\u001b[0m\u001b[37m\u001b[0m \u001b[1m0s\u001b[0m 4ms/step - accuracy: 0.9265 - loss: 0.3386 - val_accuracy: 0.4850 - val_loss: 0.8594\n",
            "Epoch 17/20\n",
            "\u001b[1m25/25\u001b[0m \u001b[32m━━━━━━━━━━━━━━━━━━━━\u001b[0m\u001b[37m\u001b[0m \u001b[1m0s\u001b[0m 4ms/step - accuracy: 0.9468 - loss: 0.3229 - val_accuracy: 0.4850 - val_loss: 0.8733\n",
            "Epoch 18/20\n",
            "\u001b[1m25/25\u001b[0m \u001b[32m━━━━━━━━━━━━━━━━━━━━\u001b[0m\u001b[37m\u001b[0m \u001b[1m0s\u001b[0m 5ms/step - accuracy: 0.9406 - loss: 0.3128 - val_accuracy: 0.4850 - val_loss: 0.8856\n",
            "Epoch 19/20\n",
            "\u001b[1m25/25\u001b[0m \u001b[32m━━━━━━━━━━━━━━━━━━━━\u001b[0m\u001b[37m\u001b[0m \u001b[1m0s\u001b[0m 4ms/step - accuracy: 0.9649 - loss: 0.2853 - val_accuracy: 0.4750 - val_loss: 0.8996\n",
            "Epoch 20/20\n",
            "\u001b[1m25/25\u001b[0m \u001b[32m━━━━━━━━━━━━━━━━━━━━\u001b[0m\u001b[37m\u001b[0m \u001b[1m0s\u001b[0m 5ms/step - accuracy: 0.9688 - loss: 0.2628 - val_accuracy: 0.4850 - val_loss: 0.9116\n"
          ]
        },
        {
          "output_type": "execute_result",
          "data": {
            "text/plain": [
              "<keras.src.callbacks.history.History at 0x7eb4c12ac860>"
            ]
          },
          "metadata": {},
          "execution_count": 55
        }
      ]
    },
    {
      "cell_type": "code",
      "metadata": {
        "id": "N8O4byzjzHJC",
        "outputId": "0a2d29b0-7a8b-443b-d1f5-785230cc3d98",
        "colab": {
          "base_uri": "https://localhost:8080/"
        }
      },
      "source": [
        "model = Sequential()\n",
        "model.add(Dense(units=32, activation='relu', input_shape=(150,)))\n",
        "model.add(Dense(1, activation='sigmoid'))\n",
        "\n",
        "model.compile(optimizer='rmsprop',\n",
        "              loss='binary_crossentropy',\n",
        "              metrics=['accuracy'])\n",
        "\n",
        "model.fit(data, labels, epochs=20, batch_size=32, validation_split=0.2, verbose=1) # verbose pokazuje progres"
      ],
      "execution_count": 56,
      "outputs": [
        {
          "output_type": "stream",
          "name": "stdout",
          "text": [
            "Epoch 1/20\n",
            "\u001b[1m25/25\u001b[0m \u001b[32m━━━━━━━━━━━━━━━━━━━━\u001b[0m\u001b[37m\u001b[0m \u001b[1m1s\u001b[0m 11ms/step - accuracy: 0.5012 - loss: 0.7960 - val_accuracy: 0.4750 - val_loss: 0.8382\n",
            "Epoch 2/20\n",
            "\u001b[1m25/25\u001b[0m \u001b[32m━━━━━━━━━━━━━━━━━━━━\u001b[0m\u001b[37m\u001b[0m \u001b[1m0s\u001b[0m 5ms/step - accuracy: 0.5719 - loss: 0.7038 - val_accuracy: 0.4750 - val_loss: 0.8213\n",
            "Epoch 3/20\n",
            "\u001b[1m25/25\u001b[0m \u001b[32m━━━━━━━━━━━━━━━━━━━━\u001b[0m\u001b[37m\u001b[0m \u001b[1m0s\u001b[0m 5ms/step - accuracy: 0.6114 - loss: 0.6564 - val_accuracy: 0.5050 - val_loss: 0.8162\n",
            "Epoch 4/20\n",
            "\u001b[1m25/25\u001b[0m \u001b[32m━━━━━━━━━━━━━━━━━━━━\u001b[0m\u001b[37m\u001b[0m \u001b[1m0s\u001b[0m 5ms/step - accuracy: 0.7005 - loss: 0.5954 - val_accuracy: 0.5150 - val_loss: 0.8152\n",
            "Epoch 5/20\n",
            "\u001b[1m25/25\u001b[0m \u001b[32m━━━━━━━━━━━━━━━━━━━━\u001b[0m\u001b[37m\u001b[0m \u001b[1m0s\u001b[0m 4ms/step - accuracy: 0.7241 - loss: 0.5805 - val_accuracy: 0.5150 - val_loss: 0.8189\n",
            "Epoch 6/20\n",
            "\u001b[1m25/25\u001b[0m \u001b[32m━━━━━━━━━━━━━━━━━━━━\u001b[0m\u001b[37m\u001b[0m \u001b[1m0s\u001b[0m 8ms/step - accuracy: 0.7440 - loss: 0.5624 - val_accuracy: 0.5000 - val_loss: 0.8256\n",
            "Epoch 7/20\n",
            "\u001b[1m25/25\u001b[0m \u001b[32m━━━━━━━━━━━━━━━━━━━━\u001b[0m\u001b[37m\u001b[0m \u001b[1m0s\u001b[0m 6ms/step - accuracy: 0.7738 - loss: 0.5130 - val_accuracy: 0.4900 - val_loss: 0.8342\n",
            "Epoch 8/20\n",
            "\u001b[1m25/25\u001b[0m \u001b[32m━━━━━━━━━━━━━━━━━━━━\u001b[0m\u001b[37m\u001b[0m \u001b[1m0s\u001b[0m 8ms/step - accuracy: 0.8165 - loss: 0.4972 - val_accuracy: 0.4800 - val_loss: 0.8453\n",
            "Epoch 9/20\n",
            "\u001b[1m25/25\u001b[0m \u001b[32m━━━━━━━━━━━━━━━━━━━━\u001b[0m\u001b[37m\u001b[0m \u001b[1m0s\u001b[0m 7ms/step - accuracy: 0.8297 - loss: 0.4696 - val_accuracy: 0.5000 - val_loss: 0.8551\n",
            "Epoch 10/20\n",
            "\u001b[1m25/25\u001b[0m \u001b[32m━━━━━━━━━━━━━━━━━━━━\u001b[0m\u001b[37m\u001b[0m \u001b[1m0s\u001b[0m 7ms/step - accuracy: 0.8328 - loss: 0.4468 - val_accuracy: 0.4900 - val_loss: 0.8677\n",
            "Epoch 11/20\n",
            "\u001b[1m25/25\u001b[0m \u001b[32m━━━━━━━━━━━━━━━━━━━━\u001b[0m\u001b[37m\u001b[0m \u001b[1m0s\u001b[0m 7ms/step - accuracy: 0.8898 - loss: 0.4113 - val_accuracy: 0.5000 - val_loss: 0.8802\n",
            "Epoch 12/20\n",
            "\u001b[1m25/25\u001b[0m \u001b[32m━━━━━━━━━━━━━━━━━━━━\u001b[0m\u001b[37m\u001b[0m \u001b[1m0s\u001b[0m 8ms/step - accuracy: 0.8775 - loss: 0.4177 - val_accuracy: 0.5000 - val_loss: 0.8927\n",
            "Epoch 13/20\n",
            "\u001b[1m25/25\u001b[0m \u001b[32m━━━━━━━━━━━━━━━━━━━━\u001b[0m\u001b[37m\u001b[0m \u001b[1m0s\u001b[0m 7ms/step - accuracy: 0.9110 - loss: 0.3749 - val_accuracy: 0.4900 - val_loss: 0.9065\n",
            "Epoch 14/20\n",
            "\u001b[1m25/25\u001b[0m \u001b[32m━━━━━━━━━━━━━━━━━━━━\u001b[0m\u001b[37m\u001b[0m \u001b[1m0s\u001b[0m 4ms/step - accuracy: 0.9265 - loss: 0.3565 - val_accuracy: 0.5050 - val_loss: 0.9223\n",
            "Epoch 15/20\n",
            "\u001b[1m25/25\u001b[0m \u001b[32m━━━━━━━━━━━━━━━━━━━━\u001b[0m\u001b[37m\u001b[0m \u001b[1m0s\u001b[0m 4ms/step - accuracy: 0.9311 - loss: 0.3332 - val_accuracy: 0.4850 - val_loss: 0.9376\n",
            "Epoch 16/20\n",
            "\u001b[1m25/25\u001b[0m \u001b[32m━━━━━━━━━━━━━━━━━━━━\u001b[0m\u001b[37m\u001b[0m \u001b[1m0s\u001b[0m 4ms/step - accuracy: 0.9456 - loss: 0.3132 - val_accuracy: 0.4950 - val_loss: 0.9507\n",
            "Epoch 17/20\n",
            "\u001b[1m25/25\u001b[0m \u001b[32m━━━━━━━━━━━━━━━━━━━━\u001b[0m\u001b[37m\u001b[0m \u001b[1m0s\u001b[0m 4ms/step - accuracy: 0.9521 - loss: 0.3000 - val_accuracy: 0.4900 - val_loss: 0.9675\n",
            "Epoch 18/20\n",
            "\u001b[1m25/25\u001b[0m \u001b[32m━━━━━━━━━━━━━━━━━━━━\u001b[0m\u001b[37m\u001b[0m \u001b[1m0s\u001b[0m 5ms/step - accuracy: 0.9530 - loss: 0.2781 - val_accuracy: 0.4850 - val_loss: 0.9862\n",
            "Epoch 19/20\n",
            "\u001b[1m25/25\u001b[0m \u001b[32m━━━━━━━━━━━━━━━━━━━━\u001b[0m\u001b[37m\u001b[0m \u001b[1m0s\u001b[0m 4ms/step - accuracy: 0.9720 - loss: 0.2606 - val_accuracy: 0.4900 - val_loss: 1.0061\n",
            "Epoch 20/20\n",
            "\u001b[1m25/25\u001b[0m \u001b[32m━━━━━━━━━━━━━━━━━━━━\u001b[0m\u001b[37m\u001b[0m \u001b[1m0s\u001b[0m 4ms/step - accuracy: 0.9732 - loss: 0.2468 - val_accuracy: 0.4800 - val_loss: 1.0228\n"
          ]
        },
        {
          "output_type": "execute_result",
          "data": {
            "text/plain": [
              "<keras.src.callbacks.history.History at 0x7eb4b3f32de0>"
            ]
          },
          "metadata": {},
          "execution_count": 56
        }
      ]
    },
    {
      "cell_type": "markdown",
      "source": [
        "Można wyniki treningu wpisać do zmiennej - tutaj history"
      ],
      "metadata": {
        "id": "YEQlB6jeXJcr"
      }
    },
    {
      "cell_type": "code",
      "metadata": {
        "id": "suJlatlYzQOD"
      },
      "source": [
        "model = Sequential()\n",
        "model.add(Dense(units=32, activation='relu', input_shape=(150,)))\n",
        "model.add(Dense(1, activation='sigmoid'))\n",
        "\n",
        "model.compile(optimizer='rmsprop',\n",
        "              loss='binary_crossentropy',\n",
        "              metrics=['accuracy'])\n",
        "\n",
        "history = model.fit(data, labels, epochs=20, batch_size=32, validation_split=0.2, verbose=0)"
      ],
      "execution_count": 57,
      "outputs": []
    },
    {
      "cell_type": "code",
      "metadata": {
        "id": "InFcS0sgzkf6",
        "outputId": "9b4608de-3399-4b30-dcd5-d020f5235701",
        "colab": {
          "base_uri": "https://localhost:8080/"
        }
      },
      "source": [
        "metrics = history.history\n",
        "metrics.keys()"
      ],
      "execution_count": 58,
      "outputs": [
        {
          "output_type": "execute_result",
          "data": {
            "text/plain": [
              "dict_keys(['accuracy', 'loss', 'val_accuracy', 'val_loss'])"
            ]
          },
          "metadata": {},
          "execution_count": 58
        }
      ]
    },
    {
      "cell_type": "code",
      "metadata": {
        "id": "d9bUtGmXzzoY",
        "outputId": "0747feed-b5e5-421d-b2c1-dbd2f53b0b9a",
        "colab": {
          "base_uri": "https://localhost:8080/"
        }
      },
      "source": [
        "model = Sequential()\n",
        "model.add(Dense(units=32, activation='relu', input_shape=(150,)))\n",
        "model.add(Dense(1, activation='sigmoid'))\n",
        "\n",
        "model.compile(optimizer='rmsprop',\n",
        "              loss='binary_crossentropy',\n",
        "              metrics=['accuracy'])\n",
        "\n",
        "history = model.fit(data, labels, epochs=20, batch_size=32, validation_split=0.2, verbose=1)"
      ],
      "execution_count": 59,
      "outputs": [
        {
          "output_type": "stream",
          "name": "stdout",
          "text": [
            "Epoch 1/20\n",
            "\u001b[1m25/25\u001b[0m \u001b[32m━━━━━━━━━━━━━━━━━━━━\u001b[0m\u001b[37m\u001b[0m \u001b[1m1s\u001b[0m 11ms/step - accuracy: 0.5145 - loss: 0.7793 - val_accuracy: 0.4600 - val_loss: 0.7989\n",
            "Epoch 2/20\n",
            "\u001b[1m25/25\u001b[0m \u001b[32m━━━━━━━━━━━━━━━━━━━━\u001b[0m\u001b[37m\u001b[0m \u001b[1m0s\u001b[0m 5ms/step - accuracy: 0.5570 - loss: 0.7037 - val_accuracy: 0.4650 - val_loss: 0.7898\n",
            "Epoch 3/20\n",
            "\u001b[1m25/25\u001b[0m \u001b[32m━━━━━━━━━━━━━━━━━━━━\u001b[0m\u001b[37m\u001b[0m \u001b[1m0s\u001b[0m 5ms/step - accuracy: 0.6170 - loss: 0.6652 - val_accuracy: 0.4700 - val_loss: 0.7880\n",
            "Epoch 4/20\n",
            "\u001b[1m25/25\u001b[0m \u001b[32m━━━━━━━━━━━━━━━━━━━━\u001b[0m\u001b[37m\u001b[0m \u001b[1m0s\u001b[0m 4ms/step - accuracy: 0.6245 - loss: 0.6337 - val_accuracy: 0.4800 - val_loss: 0.7893\n",
            "Epoch 5/20\n",
            "\u001b[1m25/25\u001b[0m \u001b[32m━━━━━━━━━━━━━━━━━━━━\u001b[0m\u001b[37m\u001b[0m \u001b[1m0s\u001b[0m 4ms/step - accuracy: 0.6956 - loss: 0.5964 - val_accuracy: 0.4700 - val_loss: 0.7928\n",
            "Epoch 6/20\n",
            "\u001b[1m25/25\u001b[0m \u001b[32m━━━━━━━━━━━━━━━━━━━━\u001b[0m\u001b[37m\u001b[0m \u001b[1m0s\u001b[0m 5ms/step - accuracy: 0.7241 - loss: 0.5689 - val_accuracy: 0.4650 - val_loss: 0.7984\n",
            "Epoch 7/20\n",
            "\u001b[1m25/25\u001b[0m \u001b[32m━━━━━━━━━━━━━━━━━━━━\u001b[0m\u001b[37m\u001b[0m \u001b[1m0s\u001b[0m 4ms/step - accuracy: 0.7592 - loss: 0.5405 - val_accuracy: 0.4550 - val_loss: 0.8062\n",
            "Epoch 8/20\n",
            "\u001b[1m25/25\u001b[0m \u001b[32m━━━━━━━━━━━━━━━━━━━━\u001b[0m\u001b[37m\u001b[0m \u001b[1m0s\u001b[0m 5ms/step - accuracy: 0.7833 - loss: 0.5102 - val_accuracy: 0.4500 - val_loss: 0.8170\n",
            "Epoch 9/20\n",
            "\u001b[1m25/25\u001b[0m \u001b[32m━━━━━━━━━━━━━━━━━━━━\u001b[0m\u001b[37m\u001b[0m \u001b[1m0s\u001b[0m 5ms/step - accuracy: 0.8291 - loss: 0.4950 - val_accuracy: 0.4400 - val_loss: 0.8255\n",
            "Epoch 10/20\n",
            "\u001b[1m25/25\u001b[0m \u001b[32m━━━━━━━━━━━━━━━━━━━━\u001b[0m\u001b[37m\u001b[0m \u001b[1m0s\u001b[0m 5ms/step - accuracy: 0.8258 - loss: 0.4658 - val_accuracy: 0.4350 - val_loss: 0.8340\n",
            "Epoch 11/20\n",
            "\u001b[1m25/25\u001b[0m \u001b[32m━━━━━━━━━━━━━━━━━━━━\u001b[0m\u001b[37m\u001b[0m \u001b[1m0s\u001b[0m 5ms/step - accuracy: 0.8320 - loss: 0.4567 - val_accuracy: 0.4350 - val_loss: 0.8434\n",
            "Epoch 12/20\n",
            "\u001b[1m25/25\u001b[0m \u001b[32m━━━━━━━━━━━━━━━━━━━━\u001b[0m\u001b[37m\u001b[0m \u001b[1m0s\u001b[0m 5ms/step - accuracy: 0.8557 - loss: 0.4284 - val_accuracy: 0.4450 - val_loss: 0.8530\n",
            "Epoch 13/20\n",
            "\u001b[1m25/25\u001b[0m \u001b[32m━━━━━━━━━━━━━━━━━━━━\u001b[0m\u001b[37m\u001b[0m \u001b[1m0s\u001b[0m 6ms/step - accuracy: 0.9020 - loss: 0.3858 - val_accuracy: 0.4400 - val_loss: 0.8633\n",
            "Epoch 14/20\n",
            "\u001b[1m25/25\u001b[0m \u001b[32m━━━━━━━━━━━━━━━━━━━━\u001b[0m\u001b[37m\u001b[0m \u001b[1m0s\u001b[0m 5ms/step - accuracy: 0.9115 - loss: 0.3704 - val_accuracy: 0.4400 - val_loss: 0.8750\n",
            "Epoch 15/20\n",
            "\u001b[1m25/25\u001b[0m \u001b[32m━━━━━━━━━━━━━━━━━━━━\u001b[0m\u001b[37m\u001b[0m \u001b[1m0s\u001b[0m 5ms/step - accuracy: 0.9191 - loss: 0.3555 - val_accuracy: 0.4450 - val_loss: 0.8884\n",
            "Epoch 16/20\n",
            "\u001b[1m25/25\u001b[0m \u001b[32m━━━━━━━━━━━━━━━━━━━━\u001b[0m\u001b[37m\u001b[0m \u001b[1m0s\u001b[0m 5ms/step - accuracy: 0.9328 - loss: 0.3358 - val_accuracy: 0.4500 - val_loss: 0.9022\n",
            "Epoch 17/20\n",
            "\u001b[1m25/25\u001b[0m \u001b[32m━━━━━━━━━━━━━━━━━━━━\u001b[0m\u001b[37m\u001b[0m \u001b[1m0s\u001b[0m 4ms/step - accuracy: 0.9497 - loss: 0.3089 - val_accuracy: 0.4400 - val_loss: 0.9154\n",
            "Epoch 18/20\n",
            "\u001b[1m25/25\u001b[0m \u001b[32m━━━━━━━━━━━━━━━━━━━━\u001b[0m\u001b[37m\u001b[0m \u001b[1m0s\u001b[0m 5ms/step - accuracy: 0.9713 - loss: 0.2950 - val_accuracy: 0.4350 - val_loss: 0.9285\n",
            "Epoch 19/20\n",
            "\u001b[1m25/25\u001b[0m \u001b[32m━━━━━━━━━━━━━━━━━━━━\u001b[0m\u001b[37m\u001b[0m \u001b[1m0s\u001b[0m 4ms/step - accuracy: 0.9761 - loss: 0.2722 - val_accuracy: 0.4350 - val_loss: 0.9417\n",
            "Epoch 20/20\n",
            "\u001b[1m25/25\u001b[0m \u001b[32m━━━━━━━━━━━━━━━━━━━━\u001b[0m\u001b[37m\u001b[0m \u001b[1m0s\u001b[0m 5ms/step - accuracy: 0.9731 - loss: 0.2534 - val_accuracy: 0.4200 - val_loss: 0.9531\n"
          ]
        }
      ]
    },
    {
      "cell_type": "markdown",
      "source": [
        "Tworzymy dane testowe data i labels - ten sam format"
      ],
      "metadata": {
        "id": "E5FvlPxiXj5h"
      }
    },
    {
      "cell_type": "code",
      "metadata": {
        "id": "b1xtUueg0Tr9"
      },
      "source": [
        "test_data = np.random.randn(50, 150)\n",
        "test_labels = np.random.randint(2, size=(50, 1))"
      ],
      "execution_count": 60,
      "outputs": []
    },
    {
      "cell_type": "code",
      "metadata": {
        "id": "MIODWVx90nDf",
        "outputId": "c9c5a7d2-aa30-4e85-f4ff-ad5f487e14ff",
        "colab": {
          "base_uri": "https://localhost:8080/"
        }
      },
      "source": [
        "model.predict(test_data)"
      ],
      "execution_count": 61,
      "outputs": [
        {
          "output_type": "stream",
          "name": "stdout",
          "text": [
            "\u001b[1m2/2\u001b[0m \u001b[32m━━━━━━━━━━━━━━━━━━━━\u001b[0m\u001b[37m\u001b[0m \u001b[1m0s\u001b[0m 42ms/step\n"
          ]
        },
        {
          "output_type": "execute_result",
          "data": {
            "text/plain": [
              "array([[0.5176579 ],\n",
              "       [0.72738415],\n",
              "       [0.2416259 ],\n",
              "       [0.42400897],\n",
              "       [0.28414565],\n",
              "       [0.5316012 ],\n",
              "       [0.07691874],\n",
              "       [0.37702462],\n",
              "       [0.35337025],\n",
              "       [0.41530585],\n",
              "       [0.8312159 ],\n",
              "       [0.38344297],\n",
              "       [0.44895124],\n",
              "       [0.08576816],\n",
              "       [0.96122366],\n",
              "       [0.14982547],\n",
              "       [0.37017328],\n",
              "       [0.4015764 ],\n",
              "       [0.638196  ],\n",
              "       [0.8559392 ],\n",
              "       [0.18938239],\n",
              "       [0.17753978],\n",
              "       [0.8398963 ],\n",
              "       [0.6364577 ],\n",
              "       [0.37056443],\n",
              "       [0.5177213 ],\n",
              "       [0.5778607 ],\n",
              "       [0.6090212 ],\n",
              "       [0.430974  ],\n",
              "       [0.21640408],\n",
              "       [0.37032083],\n",
              "       [0.22284526],\n",
              "       [0.524522  ],\n",
              "       [0.763474  ],\n",
              "       [0.73906267],\n",
              "       [0.3342198 ],\n",
              "       [0.78140414],\n",
              "       [0.8168702 ],\n",
              "       [0.11789402],\n",
              "       [0.562659  ],\n",
              "       [0.3598535 ],\n",
              "       [0.90319645],\n",
              "       [0.73954546],\n",
              "       [0.20453988],\n",
              "       [0.3356318 ],\n",
              "       [0.94940174],\n",
              "       [0.5868678 ],\n",
              "       [0.05354601],\n",
              "       [0.7976563 ],\n",
              "       [0.7218114 ]], dtype=float32)"
            ]
          },
          "metadata": {},
          "execution_count": 61
        }
      ]
    },
    {
      "cell_type": "code",
      "metadata": {
        "id": "Pkv50Web0usG",
        "outputId": "e1d32732-d050-446a-c061-ff14ce5e9bd2",
        "colab": {
          "base_uri": "https://localhost:8080/"
        }
      },
      "source": [
        "# model.predict_proba(test_data) # predict_proba is deprecated\n",
        "model.predict(test_data) # Use predict for probabilities with sigmoid/softmax output"
      ],
      "execution_count": 62,
      "outputs": [
        {
          "output_type": "stream",
          "name": "stdout",
          "text": [
            "\u001b[1m2/2\u001b[0m \u001b[32m━━━━━━━━━━━━━━━━━━━━\u001b[0m\u001b[37m\u001b[0m \u001b[1m0s\u001b[0m 19ms/step\n"
          ]
        },
        {
          "output_type": "execute_result",
          "data": {
            "text/plain": [
              "array([[0.5176579 ],\n",
              "       [0.72738415],\n",
              "       [0.2416259 ],\n",
              "       [0.42400897],\n",
              "       [0.28414565],\n",
              "       [0.5316012 ],\n",
              "       [0.07691874],\n",
              "       [0.37702462],\n",
              "       [0.35337025],\n",
              "       [0.41530585],\n",
              "       [0.8312159 ],\n",
              "       [0.38344297],\n",
              "       [0.44895124],\n",
              "       [0.08576816],\n",
              "       [0.96122366],\n",
              "       [0.14982547],\n",
              "       [0.37017328],\n",
              "       [0.4015764 ],\n",
              "       [0.638196  ],\n",
              "       [0.8559392 ],\n",
              "       [0.18938239],\n",
              "       [0.17753978],\n",
              "       [0.8398963 ],\n",
              "       [0.6364577 ],\n",
              "       [0.37056443],\n",
              "       [0.5177213 ],\n",
              "       [0.5778607 ],\n",
              "       [0.6090212 ],\n",
              "       [0.430974  ],\n",
              "       [0.21640408],\n",
              "       [0.37032083],\n",
              "       [0.22284526],\n",
              "       [0.524522  ],\n",
              "       [0.763474  ],\n",
              "       [0.73906267],\n",
              "       [0.3342198 ],\n",
              "       [0.78140414],\n",
              "       [0.8168702 ],\n",
              "       [0.11789402],\n",
              "       [0.562659  ],\n",
              "       [0.3598535 ],\n",
              "       [0.90319645],\n",
              "       [0.73954546],\n",
              "       [0.20453988],\n",
              "       [0.3356318 ],\n",
              "       [0.94940174],\n",
              "       [0.5868678 ],\n",
              "       [0.05354601],\n",
              "       [0.7976563 ],\n",
              "       [0.7218114 ]], dtype=float32)"
            ]
          },
          "metadata": {},
          "execution_count": 62
        }
      ]
    },
    {
      "cell_type": "code",
      "metadata": {
        "id": "c142k6Ev14k5",
        "outputId": "d983b0b9-fd48-4f0f-8c35-f9d5dc656077",
        "colab": {
          "base_uri": "https://localhost:8080/"
        }
      },
      "source": [
        "# model.predict_classes(test_data) # predict_classes is deprecated\n",
        "\n",
        "# Get predicted probabilities\n",
        "predictions = model.predict(test_data)\n",
        "\n",
        "# Convert probabilities to class labels (0 or 1) using a threshold of 0.5\n",
        "predicted_classes = (predictions > 0.5).astype(int)\n",
        "\n",
        "print(predicted_classes)"
      ],
      "execution_count": 63,
      "outputs": [
        {
          "output_type": "stream",
          "name": "stdout",
          "text": [
            "\u001b[1m2/2\u001b[0m \u001b[32m━━━━━━━━━━━━━━━━━━━━\u001b[0m\u001b[37m\u001b[0m \u001b[1m0s\u001b[0m 21ms/step\n",
            "[[1]\n",
            " [1]\n",
            " [0]\n",
            " [0]\n",
            " [0]\n",
            " [1]\n",
            " [0]\n",
            " [0]\n",
            " [0]\n",
            " [0]\n",
            " [1]\n",
            " [0]\n",
            " [0]\n",
            " [0]\n",
            " [1]\n",
            " [0]\n",
            " [0]\n",
            " [0]\n",
            " [1]\n",
            " [1]\n",
            " [0]\n",
            " [0]\n",
            " [1]\n",
            " [1]\n",
            " [0]\n",
            " [1]\n",
            " [1]\n",
            " [1]\n",
            " [0]\n",
            " [0]\n",
            " [0]\n",
            " [0]\n",
            " [1]\n",
            " [1]\n",
            " [1]\n",
            " [0]\n",
            " [1]\n",
            " [1]\n",
            " [0]\n",
            " [1]\n",
            " [0]\n",
            " [1]\n",
            " [1]\n",
            " [0]\n",
            " [0]\n",
            " [1]\n",
            " [1]\n",
            " [0]\n",
            " [1]\n",
            " [1]]\n"
          ]
        }
      ]
    },
    {
      "cell_type": "code",
      "metadata": {
        "id": "AOIhjKe418cH"
      },
      "source": [],
      "execution_count": null,
      "outputs": []
    },
    {
      "cell_type": "markdown",
      "metadata": {
        "id": "AZymszuI28k-"
      },
      "source": [
        "### <a name='a5'></a> Przykład - klasyfikacja wieloklasowa"
      ]
    },
    {
      "cell_type": "code",
      "metadata": {
        "id": "tWIc_gVG2-_L"
      },
      "source": [
        "data = np.random.random((1000, 150))\n",
        "labels = np.random.randint(10, size=(1000, 1)) # losuje liczby 0-9"
      ],
      "execution_count": 68,
      "outputs": []
    },
    {
      "cell_type": "code",
      "metadata": {
        "id": "fnKrv8Mk3HSs",
        "outputId": "495fb8f4-461b-40b3-877f-1f77dac36648",
        "colab": {
          "base_uri": "https://localhost:8080/"
        }
      },
      "source": [
        "print(data.shape)\n",
        "print(labels.shape)"
      ],
      "execution_count": 69,
      "outputs": [
        {
          "output_type": "stream",
          "name": "stdout",
          "text": [
            "(1000, 150)\n",
            "(1000, 1)\n"
          ]
        }
      ]
    },
    {
      "cell_type": "code",
      "metadata": {
        "id": "GEY2kQdz3Fi2",
        "outputId": "89918e8d-f701-4ed7-804a-3d064b0eb233",
        "colab": {
          "base_uri": "https://localhost:8080/"
        }
      },
      "source": [
        "data[:3]"
      ],
      "execution_count": 70,
      "outputs": [
        {
          "output_type": "execute_result",
          "data": {
            "text/plain": [
              "array([[0.3513965 , 0.61279205, 0.08619084, 0.41001743, 0.82001929,\n",
              "        0.53417036, 0.79167815, 0.40194803, 0.72466283, 0.81637022,\n",
              "        0.7547209 , 0.30308792, 0.33352473, 0.81236363, 0.33121041,\n",
              "        0.83387152, 0.60748599, 0.02253105, 0.371695  , 0.86901103,\n",
              "        0.76670792, 0.92907069, 0.08190063, 0.69836023, 0.35659522,\n",
              "        0.72602423, 0.94799554, 0.66251318, 0.86727478, 0.75337873,\n",
              "        0.63689746, 0.74262569, 0.91926051, 0.14180005, 0.59069894,\n",
              "        0.17185716, 0.1153576 , 0.63902648, 0.8474414 , 0.96400037,\n",
              "        0.95172125, 0.00498662, 0.95987424, 0.49199232, 0.18906955,\n",
              "        0.0977191 , 0.51488863, 0.93311132, 0.65195779, 0.39397156,\n",
              "        0.29822292, 0.97393299, 0.31407738, 0.05846822, 0.62367805,\n",
              "        0.0824014 , 0.4131831 , 0.35661925, 0.18134631, 0.68403884,\n",
              "        0.86220339, 0.58447458, 0.99729047, 0.5782906 , 0.26968674,\n",
              "        0.87379698, 0.66754586, 0.41013714, 0.19656457, 0.8981708 ,\n",
              "        0.05453576, 0.23746517, 0.35467217, 0.86631382, 0.06657201,\n",
              "        0.20428448, 0.09496959, 0.07533854, 0.5527017 , 0.95414881,\n",
              "        0.45114257, 0.88147511, 0.25109019, 0.74822661, 0.8539078 ,\n",
              "        0.18579207, 0.76467788, 0.19343405, 0.41205871, 0.60641207,\n",
              "        0.97722179, 0.13880071, 0.75679049, 0.34496987, 0.87486119,\n",
              "        0.81695482, 0.53850157, 0.88882945, 0.88032327, 0.33639076,\n",
              "        0.93142443, 0.04263858, 0.27176025, 0.80065676, 0.12005515,\n",
              "        0.77420205, 0.54644231, 0.01879692, 0.70645965, 0.79268173,\n",
              "        0.89593318, 0.02784057, 0.08711918, 0.19507836, 0.39646073,\n",
              "        0.16856049, 0.63531561, 0.10286135, 0.21955105, 0.90813499,\n",
              "        0.49420176, 0.03313521, 0.47408155, 0.21868189, 0.26240164,\n",
              "        0.21750308, 0.30949289, 0.31312855, 0.1832577 , 0.83868596,\n",
              "        0.42998033, 0.61300671, 0.80918652, 0.01358034, 0.30703349,\n",
              "        0.10017413, 0.75259688, 0.58410494, 0.91920713, 0.22136558,\n",
              "        0.3794245 , 0.44037757, 0.29997468, 0.79381836, 0.44951113,\n",
              "        0.23168112, 0.88433044, 0.77429373, 0.74988518, 0.37888698],\n",
              "       [0.27379968, 0.52113761, 0.05154647, 0.55920892, 0.74583828,\n",
              "        0.31159273, 0.2750753 , 0.06880013, 0.0823312 , 0.91601882,\n",
              "        0.98641512, 0.41979355, 0.644341  , 0.10385339, 0.08086597,\n",
              "        0.89292399, 0.67146049, 0.85882215, 0.3991535 , 0.12602334,\n",
              "        0.5179538 , 0.38821806, 0.49709572, 0.06202377, 0.44300294,\n",
              "        0.79258982, 0.97264129, 0.66594576, 0.61247938, 0.76499431,\n",
              "        0.69954831, 0.37751529, 0.79658273, 0.07160995, 0.77572159,\n",
              "        0.74273772, 0.08085221, 0.5190504 , 0.29741468, 0.45236366,\n",
              "        0.6070958 , 0.51983299, 0.35161721, 0.17587836, 0.54311901,\n",
              "        0.67487281, 0.07276969, 0.26182719, 0.02089681, 0.75370658,\n",
              "        0.68034635, 0.32366452, 0.93486455, 0.16811123, 0.47650453,\n",
              "        0.85026861, 0.6570941 , 0.11961777, 0.84440715, 0.81944481,\n",
              "        0.04592579, 0.79710836, 0.12739828, 0.4577118 , 0.39623543,\n",
              "        0.47440593, 0.96518543, 0.48571533, 0.48994069, 0.53263394,\n",
              "        0.23614589, 0.16946388, 0.29268054, 0.55662229, 0.98219841,\n",
              "        0.76209623, 0.30013783, 0.73472448, 0.415142  , 0.6185907 ,\n",
              "        0.23722653, 0.69193641, 0.97429724, 0.38741619, 0.46145743,\n",
              "        0.97464817, 0.61695882, 0.29056273, 0.02311315, 0.05835807,\n",
              "        0.43633969, 0.60348219, 0.32719665, 0.45242616, 0.08846781,\n",
              "        0.5848208 , 0.01384008, 0.87223475, 0.4875844 , 0.23930544,\n",
              "        0.3460388 , 0.62526417, 0.92319887, 0.79498415, 0.46918221,\n",
              "        0.603748  , 0.66517648, 0.73287222, 0.18394903, 0.86706141,\n",
              "        0.85312944, 0.79653028, 0.0757258 , 0.33403445, 0.28875617,\n",
              "        0.37183366, 0.53818762, 0.85225743, 0.25278366, 0.45228021,\n",
              "        0.99360727, 0.8410333 , 0.06651674, 0.49524093, 0.75081774,\n",
              "        0.3082201 , 0.99911269, 0.09206052, 0.17617351, 0.41868623,\n",
              "        0.69628038, 0.75834328, 0.98911604, 0.81557086, 0.06589215,\n",
              "        0.83233531, 0.23876248, 0.16049812, 0.13352179, 0.81478191,\n",
              "        0.70599379, 0.76175886, 0.80788009, 0.0813951 , 0.02650666,\n",
              "        0.92641754, 0.52115823, 0.59229934, 0.8932519 , 0.79379691],\n",
              "       [0.10202107, 0.85237611, 0.55338945, 0.17073063, 0.20643057,\n",
              "        0.52300749, 0.58276071, 0.86490297, 0.31313558, 0.43741518,\n",
              "        0.5378638 , 0.6235731 , 0.2254617 , 0.68462779, 0.36845527,\n",
              "        0.01170103, 0.44023532, 0.25670674, 0.95245533, 0.09767949,\n",
              "        0.01989707, 0.82115722, 0.72687958, 0.28054393, 0.38490323,\n",
              "        0.73101729, 0.33575044, 0.00148188, 0.84133273, 0.60133448,\n",
              "        0.83383887, 0.93991461, 0.90533399, 0.630129  , 0.2914448 ,\n",
              "        0.22536971, 0.4620765 , 0.80068942, 0.93745503, 0.70894034,\n",
              "        0.86766645, 0.63416431, 0.74362665, 0.18517189, 0.0473763 ,\n",
              "        0.91852242, 0.67221719, 0.03791291, 0.88980172, 0.76926131,\n",
              "        0.91787413, 0.16265228, 0.41433917, 0.43997056, 0.94990248,\n",
              "        0.74643242, 0.75020928, 0.12167961, 0.81385724, 0.96420807,\n",
              "        0.49427239, 0.64557512, 0.51586064, 0.93569878, 0.23320117,\n",
              "        0.90658569, 0.61251196, 0.69056764, 0.71017649, 0.86270009,\n",
              "        0.23542465, 0.44576753, 0.87811608, 0.93191936, 0.9119875 ,\n",
              "        0.43889735, 0.17212668, 0.0862578 , 0.48737909, 0.13403875,\n",
              "        0.99081417, 0.20393706, 0.18983721, 0.0036616 , 0.15015594,\n",
              "        0.51307758, 0.99888714, 0.78528367, 0.84382486, 0.91162318,\n",
              "        0.59218137, 0.47816849, 0.87715541, 0.09589786, 0.21685686,\n",
              "        0.22751985, 0.884109  , 0.21393411, 0.50827842, 0.50315839,\n",
              "        0.36667362, 0.14990346, 0.98877214, 0.27698194, 0.95336869,\n",
              "        0.92492846, 0.7090576 , 0.53035832, 0.14310934, 0.24031773,\n",
              "        0.74846622, 0.9824307 , 0.84505362, 0.69431657, 0.20106281,\n",
              "        0.87486472, 0.41025014, 0.68641787, 0.70487632, 0.14642177,\n",
              "        0.46129713, 0.09995345, 0.57357821, 0.65097384, 0.32280232,\n",
              "        0.14903482, 0.68233557, 0.54378801, 0.05717039, 0.57696437,\n",
              "        0.73972113, 0.89582649, 0.88815575, 0.24170133, 0.71912969,\n",
              "        0.42587114, 0.43213585, 0.21527707, 0.56994526, 0.04665501,\n",
              "        0.51394036, 0.7857079 , 0.78572194, 0.60812705, 0.16164824,\n",
              "        0.91319529, 0.00167481, 0.44924522, 0.31611434, 0.83574525]])"
            ]
          },
          "metadata": {},
          "execution_count": 70
        }
      ]
    },
    {
      "cell_type": "code",
      "metadata": {
        "id": "-UM9ArPU3GZm",
        "outputId": "5d47f074-8c78-493f-c95d-472aafd26474",
        "colab": {
          "base_uri": "https://localhost:8080/"
        }
      },
      "source": [
        "labels[:10]"
      ],
      "execution_count": 71,
      "outputs": [
        {
          "output_type": "execute_result",
          "data": {
            "text/plain": [
              "array([[4],\n",
              "       [0],\n",
              "       [8],\n",
              "       [9],\n",
              "       [5],\n",
              "       [6],\n",
              "       [6],\n",
              "       [3],\n",
              "       [5],\n",
              "       [3]])"
            ]
          },
          "metadata": {},
          "execution_count": 71
        }
      ]
    },
    {
      "cell_type": "markdown",
      "source": [
        "konwersja labeli na macierz odpowiadaącą ilością klas\n",
        "\n"
      ],
      "metadata": {
        "id": "ExwFL5BxZ2Pn"
      }
    },
    {
      "cell_type": "code",
      "metadata": {
        "id": "llauNV3D3OFK",
        "outputId": "586b70d3-4bd2-49ea-d43c-beba4eb5a5d8",
        "colab": {
          "base_uri": "https://localhost:8080/"
        }
      },
      "source": [
        "from tensorflow.keras.utils import to_categorical\n",
        "labels = to_categorical(labels, num_classes=10)\n",
        "labels"
      ],
      "execution_count": 72,
      "outputs": [
        {
          "output_type": "execute_result",
          "data": {
            "text/plain": [
              "array([[0., 0., 0., ..., 0., 0., 0.],\n",
              "       [1., 0., 0., ..., 0., 0., 0.],\n",
              "       [0., 0., 0., ..., 0., 1., 0.],\n",
              "       ...,\n",
              "       [0., 1., 0., ..., 0., 0., 0.],\n",
              "       [0., 0., 0., ..., 0., 0., 0.],\n",
              "       [1., 0., 0., ..., 0., 0., 0.]])"
            ]
          },
          "metadata": {},
          "execution_count": 72
        }
      ]
    },
    {
      "cell_type": "markdown",
      "source": [
        "wświetl wiersz"
      ],
      "metadata": {
        "id": "NNdHRroaaL3u"
      }
    },
    {
      "cell_type": "code",
      "metadata": {
        "id": "vORrZXRz7HUp",
        "outputId": "5626ffe5-e780-4009-c131-144452bb171d",
        "colab": {
          "base_uri": "https://localhost:8080/"
        }
      },
      "source": [
        "labels[0]"
      ],
      "execution_count": 74,
      "outputs": [
        {
          "output_type": "execute_result",
          "data": {
            "text/plain": [
              "array([0., 0., 0., 0., 1., 0., 0., 0., 0., 0.])"
            ]
          },
          "metadata": {},
          "execution_count": 74
        }
      ]
    },
    {
      "cell_type": "markdown",
      "source": [
        "Tworzenie modelu, na wyjściu podajemy ile klas, tyle neuronów"
      ],
      "metadata": {
        "id": "AC1cUi_Rai3C"
      }
    },
    {
      "cell_type": "code",
      "metadata": {
        "id": "k03Mdkup5yZ1",
        "outputId": "50b89e10-88fe-426e-bafc-216bca0f41bf",
        "colab": {
          "base_uri": "https://localhost:8080/"
        }
      },
      "source": [
        "model = Sequential()\n",
        "model.add(Dense(units=32, activation='relu', input_shape=(150,)))\n",
        "model.add(Dense(units=10, activation='softmax')) #dla wieloklasowych dajemy softmax\n",
        "\n",
        "model.compile(optimizer='rmsprop',\n",
        "              loss='categorical_crossentropy',\n",
        "              metrics=['accuracy'])\n",
        "\n",
        "model.fit(data, labels, batch_size=32, epochs=30, validation_split=0.2)"
      ],
      "execution_count": 76,
      "outputs": [
        {
          "output_type": "stream",
          "name": "stdout",
          "text": [
            "Epoch 1/30\n",
            "\u001b[1m25/25\u001b[0m \u001b[32m━━━━━━━━━━━━━━━━━━━━\u001b[0m\u001b[37m\u001b[0m \u001b[1m1s\u001b[0m 12ms/step - accuracy: 0.0746 - loss: 2.3747 - val_accuracy: 0.0600 - val_loss: 2.3596\n",
            "Epoch 2/30\n",
            "\u001b[1m25/25\u001b[0m \u001b[32m━━━━━━━━━━━━━━━━━━━━\u001b[0m\u001b[37m\u001b[0m \u001b[1m0s\u001b[0m 5ms/step - accuracy: 0.1294 - loss: 2.3070 - val_accuracy: 0.0850 - val_loss: 2.3392\n",
            "Epoch 3/30\n",
            "\u001b[1m25/25\u001b[0m \u001b[32m━━━━━━━━━━━━━━━━━━━━\u001b[0m\u001b[37m\u001b[0m \u001b[1m0s\u001b[0m 5ms/step - accuracy: 0.1132 - loss: 2.3029 - val_accuracy: 0.0800 - val_loss: 2.3523\n",
            "Epoch 4/30\n",
            "\u001b[1m25/25\u001b[0m \u001b[32m━━━━━━━━━━━━━━━━━━━━\u001b[0m\u001b[37m\u001b[0m \u001b[1m0s\u001b[0m 5ms/step - accuracy: 0.1367 - loss: 2.2751 - val_accuracy: 0.0950 - val_loss: 2.3382\n",
            "Epoch 5/30\n",
            "\u001b[1m25/25\u001b[0m \u001b[32m━━━━━━━━━━━━━━━━━━━━\u001b[0m\u001b[37m\u001b[0m \u001b[1m0s\u001b[0m 5ms/step - accuracy: 0.1486 - loss: 2.2730 - val_accuracy: 0.0750 - val_loss: 2.3520\n",
            "Epoch 6/30\n",
            "\u001b[1m25/25\u001b[0m \u001b[32m━━━━━━━━━━━━━━━━━━━━\u001b[0m\u001b[37m\u001b[0m \u001b[1m0s\u001b[0m 5ms/step - accuracy: 0.1494 - loss: 2.2457 - val_accuracy: 0.0750 - val_loss: 2.3495\n",
            "Epoch 7/30\n",
            "\u001b[1m25/25\u001b[0m \u001b[32m━━━━━━━━━━━━━━━━━━━━\u001b[0m\u001b[37m\u001b[0m \u001b[1m0s\u001b[0m 5ms/step - accuracy: 0.1523 - loss: 2.2376 - val_accuracy: 0.0850 - val_loss: 2.3447\n",
            "Epoch 8/30\n",
            "\u001b[1m25/25\u001b[0m \u001b[32m━━━━━━━━━━━━━━━━━━━━\u001b[0m\u001b[37m\u001b[0m \u001b[1m0s\u001b[0m 5ms/step - accuracy: 0.1455 - loss: 2.2503 - val_accuracy: 0.0900 - val_loss: 2.3523\n",
            "Epoch 9/30\n",
            "\u001b[1m25/25\u001b[0m \u001b[32m━━━━━━━━━━━━━━━━━━━━\u001b[0m\u001b[37m\u001b[0m \u001b[1m0s\u001b[0m 6ms/step - accuracy: 0.1884 - loss: 2.2028 - val_accuracy: 0.0900 - val_loss: 2.3529\n",
            "Epoch 10/30\n",
            "\u001b[1m25/25\u001b[0m \u001b[32m━━━━━━━━━━━━━━━━━━━━\u001b[0m\u001b[37m\u001b[0m \u001b[1m0s\u001b[0m 4ms/step - accuracy: 0.2387 - loss: 2.1985 - val_accuracy: 0.0950 - val_loss: 2.3548\n",
            "Epoch 11/30\n",
            "\u001b[1m25/25\u001b[0m \u001b[32m━━━━━━━━━━━━━━━━━━━━\u001b[0m\u001b[37m\u001b[0m \u001b[1m0s\u001b[0m 4ms/step - accuracy: 0.1862 - loss: 2.1759 - val_accuracy: 0.0900 - val_loss: 2.3693\n",
            "Epoch 12/30\n",
            "\u001b[1m25/25\u001b[0m \u001b[32m━━━━━━━━━━━━━━━━━━━━\u001b[0m\u001b[37m\u001b[0m \u001b[1m0s\u001b[0m 5ms/step - accuracy: 0.2314 - loss: 2.1772 - val_accuracy: 0.0950 - val_loss: 2.3627\n",
            "Epoch 13/30\n",
            "\u001b[1m25/25\u001b[0m \u001b[32m━━━━━━━━━━━━━━━━━━━━\u001b[0m\u001b[37m\u001b[0m \u001b[1m0s\u001b[0m 4ms/step - accuracy: 0.2261 - loss: 2.1475 - val_accuracy: 0.0950 - val_loss: 2.3686\n",
            "Epoch 14/30\n",
            "\u001b[1m25/25\u001b[0m \u001b[32m━━━━━━━━━━━━━━━━━━━━\u001b[0m\u001b[37m\u001b[0m \u001b[1m0s\u001b[0m 5ms/step - accuracy: 0.2491 - loss: 2.1398 - val_accuracy: 0.1150 - val_loss: 2.3753\n",
            "Epoch 15/30\n",
            "\u001b[1m25/25\u001b[0m \u001b[32m━━━━━━━━━━━━━━━━━━━━\u001b[0m\u001b[37m\u001b[0m \u001b[1m0s\u001b[0m 5ms/step - accuracy: 0.2356 - loss: 2.1140 - val_accuracy: 0.0650 - val_loss: 2.3944\n",
            "Epoch 16/30\n",
            "\u001b[1m25/25\u001b[0m \u001b[32m━━━━━━━━━━━━━━━━━━━━\u001b[0m\u001b[37m\u001b[0m \u001b[1m0s\u001b[0m 5ms/step - accuracy: 0.2694 - loss: 2.0979 - val_accuracy: 0.1300 - val_loss: 2.3613\n",
            "Epoch 17/30\n",
            "\u001b[1m25/25\u001b[0m \u001b[32m━━━━━━━━━━━━━━━━━━━━\u001b[0m\u001b[37m\u001b[0m \u001b[1m0s\u001b[0m 5ms/step - accuracy: 0.2424 - loss: 2.1044 - val_accuracy: 0.1100 - val_loss: 2.3829\n",
            "Epoch 18/30\n",
            "\u001b[1m25/25\u001b[0m \u001b[32m━━━━━━━━━━━━━━━━━━━━\u001b[0m\u001b[37m\u001b[0m \u001b[1m0s\u001b[0m 5ms/step - accuracy: 0.3115 - loss: 2.0673 - val_accuracy: 0.0850 - val_loss: 2.3841\n",
            "Epoch 19/30\n",
            "\u001b[1m25/25\u001b[0m \u001b[32m━━━━━━━━━━━━━━━━━━━━\u001b[0m\u001b[37m\u001b[0m \u001b[1m0s\u001b[0m 7ms/step - accuracy: 0.3101 - loss: 2.0411 - val_accuracy: 0.1200 - val_loss: 2.3678\n",
            "Epoch 20/30\n",
            "\u001b[1m25/25\u001b[0m \u001b[32m━━━━━━━━━━━━━━━━━━━━\u001b[0m\u001b[37m\u001b[0m \u001b[1m0s\u001b[0m 8ms/step - accuracy: 0.2955 - loss: 2.0523 - val_accuracy: 0.0900 - val_loss: 2.4327\n",
            "Epoch 21/30\n",
            "\u001b[1m25/25\u001b[0m \u001b[32m━━━━━━━━━━━━━━━━━━━━\u001b[0m\u001b[37m\u001b[0m \u001b[1m0s\u001b[0m 8ms/step - accuracy: 0.2880 - loss: 2.0437 - val_accuracy: 0.1100 - val_loss: 2.3851\n",
            "Epoch 22/30\n",
            "\u001b[1m25/25\u001b[0m \u001b[32m━━━━━━━━━━━━━━━━━━━━\u001b[0m\u001b[37m\u001b[0m \u001b[1m0s\u001b[0m 7ms/step - accuracy: 0.3375 - loss: 2.0143 - val_accuracy: 0.1400 - val_loss: 2.4007\n",
            "Epoch 23/30\n",
            "\u001b[1m25/25\u001b[0m \u001b[32m━━━━━━━━━━━━━━━━━━━━\u001b[0m\u001b[37m\u001b[0m \u001b[1m0s\u001b[0m 8ms/step - accuracy: 0.3510 - loss: 1.9821 - val_accuracy: 0.0950 - val_loss: 2.4107\n",
            "Epoch 24/30\n",
            "\u001b[1m25/25\u001b[0m \u001b[32m━━━━━━━━━━━━━━━━━━━━\u001b[0m\u001b[37m\u001b[0m \u001b[1m0s\u001b[0m 7ms/step - accuracy: 0.3566 - loss: 1.9803 - val_accuracy: 0.1000 - val_loss: 2.4016\n",
            "Epoch 25/30\n",
            "\u001b[1m25/25\u001b[0m \u001b[32m━━━━━━━━━━━━━━━━━━━━\u001b[0m\u001b[37m\u001b[0m \u001b[1m0s\u001b[0m 8ms/step - accuracy: 0.3665 - loss: 1.9730 - val_accuracy: 0.1100 - val_loss: 2.4086\n",
            "Epoch 26/30\n",
            "\u001b[1m25/25\u001b[0m \u001b[32m━━━━━━━━━━━━━━━━━━━━\u001b[0m\u001b[37m\u001b[0m \u001b[1m0s\u001b[0m 7ms/step - accuracy: 0.3155 - loss: 1.9605 - val_accuracy: 0.1100 - val_loss: 2.4323\n",
            "Epoch 27/30\n",
            "\u001b[1m25/25\u001b[0m \u001b[32m━━━━━━━━━━━━━━━━━━━━\u001b[0m\u001b[37m\u001b[0m \u001b[1m0s\u001b[0m 8ms/step - accuracy: 0.3829 - loss: 1.9290 - val_accuracy: 0.0750 - val_loss: 2.4249\n",
            "Epoch 28/30\n",
            "\u001b[1m25/25\u001b[0m \u001b[32m━━━━━━━━━━━━━━━━━━━━\u001b[0m\u001b[37m\u001b[0m \u001b[1m0s\u001b[0m 5ms/step - accuracy: 0.3837 - loss: 1.9010 - val_accuracy: 0.0950 - val_loss: 2.4264\n",
            "Epoch 29/30\n",
            "\u001b[1m25/25\u001b[0m \u001b[32m━━━━━━━━━━━━━━━━━━━━\u001b[0m\u001b[37m\u001b[0m \u001b[1m0s\u001b[0m 5ms/step - accuracy: 0.3879 - loss: 1.8969 - val_accuracy: 0.1100 - val_loss: 2.4299\n",
            "Epoch 30/30\n",
            "\u001b[1m25/25\u001b[0m \u001b[32m━━━━━━━━━━━━━━━━━━━━\u001b[0m\u001b[37m\u001b[0m \u001b[1m0s\u001b[0m 5ms/step - accuracy: 0.3761 - loss: 1.8817 - val_accuracy: 0.1000 - val_loss: 2.4395\n"
          ]
        },
        {
          "output_type": "execute_result",
          "data": {
            "text/plain": [
              "<keras.src.callbacks.history.History at 0x7eb4b33d7cb0>"
            ]
          },
          "metadata": {},
          "execution_count": 76
        }
      ]
    },
    {
      "cell_type": "markdown",
      "source": [
        "Dane testowe"
      ],
      "metadata": {
        "id": "HK6LYRPsbPFP"
      }
    },
    {
      "cell_type": "code",
      "metadata": {
        "id": "apTq9u_O63vu",
        "outputId": "3981408a-5dc8-4a23-ae76-61df1ae68292",
        "colab": {
          "base_uri": "https://localhost:8080/"
        }
      },
      "source": [
        "test_data = np.random.random((10, 150))\n",
        "\n",
        "model.predict(test_data)"
      ],
      "execution_count": 77,
      "outputs": [
        {
          "output_type": "stream",
          "name": "stdout",
          "text": [
            "\u001b[1m1/1\u001b[0m \u001b[32m━━━━━━━━━━━━━━━━━━━━\u001b[0m\u001b[37m\u001b[0m \u001b[1m0s\u001b[0m 62ms/step\n"
          ]
        },
        {
          "output_type": "execute_result",
          "data": {
            "text/plain": [
              "array([[0.05815345, 0.08133271, 0.14320417, 0.05464633, 0.1271601 ,\n",
              "        0.05287743, 0.23097557, 0.09837051, 0.05306684, 0.10021286],\n",
              "       [0.06219666, 0.09527636, 0.12932554, 0.2121353 , 0.07379572,\n",
              "        0.07013243, 0.08120924, 0.09726053, 0.11742897, 0.06123921],\n",
              "       [0.21198219, 0.05657576, 0.15001357, 0.0360732 , 0.04462072,\n",
              "        0.05966975, 0.27920225, 0.0832799 , 0.05273279, 0.0258498 ],\n",
              "       [0.12898219, 0.19530766, 0.09642724, 0.08289304, 0.09288799,\n",
              "        0.06016622, 0.11242878, 0.09163412, 0.10344229, 0.03583036],\n",
              "       [0.09864382, 0.24783225, 0.12968542, 0.06694315, 0.04425646,\n",
              "        0.06843084, 0.03590531, 0.17740895, 0.10385583, 0.02703793],\n",
              "       [0.21898966, 0.1068857 , 0.13915934, 0.08457888, 0.06119731,\n",
              "        0.16867872, 0.05840245, 0.06767885, 0.07996628, 0.01446269],\n",
              "       [0.11149926, 0.07958712, 0.08203351, 0.05107136, 0.06620679,\n",
              "        0.18020435, 0.0794204 , 0.14264613, 0.19856894, 0.00876211],\n",
              "       [0.15242524, 0.05066007, 0.09753794, 0.10785214, 0.20818008,\n",
              "        0.07583953, 0.06751058, 0.09897333, 0.08354069, 0.05748047],\n",
              "       [0.04069025, 0.13746803, 0.1556832 , 0.21138826, 0.05942271,\n",
              "        0.10374746, 0.10727301, 0.05178525, 0.03957925, 0.09296252],\n",
              "       [0.0706902 , 0.08751408, 0.15857312, 0.10040882, 0.13091402,\n",
              "        0.11476868, 0.11796896, 0.11811736, 0.06241495, 0.03862983]],\n",
              "      dtype=float32)"
            ]
          },
          "metadata": {},
          "execution_count": 77
        }
      ]
    },
    {
      "cell_type": "code",
      "metadata": {
        "id": "Pd6vGftg8SHk",
        "outputId": "d7e5303f-9bb9-4b3e-d663-478f7a144efd",
        "colab": {
          "base_uri": "https://localhost:8080/"
        }
      },
      "source": [
        "# model.predict_classes(test_data) # predict_classes is deprecated\n",
        "\n",
        "# Get predicted probabilities\n",
        "predictions = model.predict(test_data)\n",
        "\n",
        "# Get the predicted class labels by finding the index of the highest probability\n",
        "predicted_classes = np.argmax(predictions, axis=1)\n",
        "\n",
        "print(predicted_classes)"
      ],
      "execution_count": 79,
      "outputs": [
        {
          "output_type": "stream",
          "name": "stdout",
          "text": [
            "\u001b[1m1/1\u001b[0m \u001b[32m━━━━━━━━━━━━━━━━━━━━\u001b[0m\u001b[37m\u001b[0m \u001b[1m0s\u001b[0m 37ms/step\n",
            "[6 3 6 1 1 0 8 4 3 2]\n"
          ]
        }
      ]
    },
    {
      "cell_type": "markdown",
      "metadata": {
        "id": "FZuyR0UW8fP2"
      },
      "source": [
        "### <a name='a6'></a> Przykład - regresja"
      ]
    },
    {
      "cell_type": "code",
      "metadata": {
        "id": "Uj04-RVU8WNh"
      },
      "source": [
        "data = np.random.random((1000, 150))\n",
        "labels = 50 * np.random.random(1000)"
      ],
      "execution_count": 80,
      "outputs": []
    },
    {
      "cell_type": "code",
      "metadata": {
        "id": "nzjtUUE38pj4",
        "outputId": "af34d76f-e244-435b-e3d3-6b730e7f7e7b",
        "colab": {
          "base_uri": "https://localhost:8080/"
        }
      },
      "source": [
        "data[:3]"
      ],
      "execution_count": 81,
      "outputs": [
        {
          "output_type": "execute_result",
          "data": {
            "text/plain": [
              "array([[0.87500375, 0.85362565, 0.10265017, 0.69380837, 0.18081053,\n",
              "        0.92024772, 0.75987666, 0.19506109, 0.13867715, 0.71873954,\n",
              "        0.47710422, 0.99414842, 0.9471718 , 0.17957597, 0.70109177,\n",
              "        0.89574474, 0.16148005, 0.37779441, 0.85623477, 0.99375446,\n",
              "        0.38452624, 0.62368543, 0.08313077, 0.03037528, 0.66202235,\n",
              "        0.28685142, 0.09450833, 0.75837698, 0.41909624, 0.82406012,\n",
              "        0.63762147, 0.03029182, 0.24583735, 0.28299755, 0.18870449,\n",
              "        0.49060221, 0.16223319, 0.85214927, 0.78270317, 0.45493556,\n",
              "        0.23494909, 0.72245033, 0.54503788, 0.02832547, 0.87532829,\n",
              "        0.3370257 , 0.45482307, 0.69696875, 0.41885512, 0.07481555,\n",
              "        0.19744289, 0.84662045, 0.8973841 , 0.29669808, 0.54400636,\n",
              "        0.74636257, 0.62784344, 0.1178968 , 0.78306917, 0.40517936,\n",
              "        0.12540776, 0.63770184, 0.9234519 , 0.8385374 , 0.8899909 ,\n",
              "        0.9407708 , 0.20256365, 0.23389619, 0.18515551, 0.99786748,\n",
              "        0.43662018, 0.83740667, 0.12005191, 0.10214854, 0.42951588,\n",
              "        0.32695971, 0.65118655, 0.29143862, 0.97150502, 0.47237913,\n",
              "        0.22898597, 0.55870851, 0.26768068, 0.78238905, 0.2625393 ,\n",
              "        0.68990556, 0.5630779 , 0.88999339, 0.32482164, 0.66250603,\n",
              "        0.31739275, 0.35728253, 0.54257422, 0.14149871, 0.25729882,\n",
              "        0.59149981, 0.84274759, 0.47583014, 0.75282978, 0.16333271,\n",
              "        0.67296033, 0.98738364, 0.36488907, 0.68344815, 0.30455923,\n",
              "        0.7180899 , 0.9976568 , 0.47060796, 0.04928763, 0.29840905,\n",
              "        0.44088357, 0.68943269, 0.80017503, 0.40394886, 0.26704835,\n",
              "        0.40771425, 0.91092891, 0.96026578, 0.24881343, 0.70278835,\n",
              "        0.11259442, 0.21933018, 0.16461872, 0.98875408, 0.84576913,\n",
              "        0.40991185, 0.18869446, 0.8346119 , 0.27582263, 0.77283193,\n",
              "        0.8607289 , 0.43652319, 0.30487728, 0.64549128, 0.12270287,\n",
              "        0.25429315, 0.35419882, 0.54387244, 0.19897573, 0.77702188,\n",
              "        0.15957083, 0.89615217, 0.21918151, 0.82372481, 0.07636599,\n",
              "        0.02923116, 0.57733686, 0.19353262, 0.24667463, 0.05696253],\n",
              "       [0.21566925, 0.80523984, 0.94737639, 0.08665617, 0.31568858,\n",
              "        0.6449656 , 0.26162084, 0.99365712, 0.90179973, 0.7905011 ,\n",
              "        0.60070426, 0.50991543, 0.71603964, 0.30060356, 0.88710301,\n",
              "        0.32345701, 0.0121678 , 0.37248822, 0.56001081, 0.38379204,\n",
              "        0.03020622, 0.74125017, 0.47133008, 0.98457155, 0.88294389,\n",
              "        0.78568011, 0.09473598, 0.851791  , 0.16527151, 0.57491515,\n",
              "        0.14277651, 0.20907384, 0.28279697, 0.1808377 , 0.24719759,\n",
              "        0.33003378, 0.64018214, 0.68092314, 0.03210053, 0.96710315,\n",
              "        0.26670307, 0.87630099, 0.52481261, 0.99549708, 0.4115097 ,\n",
              "        0.72520451, 0.89444072, 0.16678412, 0.07858662, 0.77765079,\n",
              "        0.33212816, 0.12627447, 0.93926997, 0.4201365 , 0.45318691,\n",
              "        0.72587957, 0.4843124 , 0.12626229, 0.09440824, 0.27385932,\n",
              "        0.82678503, 0.60505739, 0.23991977, 0.78499334, 0.31048057,\n",
              "        0.95325165, 0.46221849, 0.54830487, 0.72525639, 0.5206681 ,\n",
              "        0.38439416, 0.8611767 , 0.29441695, 0.03488429, 0.7201304 ,\n",
              "        0.3365848 , 0.08850618, 0.97687751, 0.92994112, 0.70766661,\n",
              "        0.78886269, 0.9447178 , 0.86971526, 0.92102789, 0.13192893,\n",
              "        0.54852992, 0.85028833, 0.75579967, 0.00497453, 0.56188585,\n",
              "        0.08282101, 0.83333384, 0.91876873, 0.6734821 , 0.79249877,\n",
              "        0.83759852, 0.18563507, 0.2535902 , 0.96314974, 0.99934667,\n",
              "        0.00518985, 0.92475674, 0.08403872, 0.9849081 , 0.65881859,\n",
              "        0.92204183, 0.57944903, 0.71461776, 0.84463874, 0.73392353,\n",
              "        0.43900884, 0.09757312, 0.58827255, 0.49712843, 0.35109547,\n",
              "        0.55056009, 0.68383894, 0.01349441, 0.50677383, 0.46072129,\n",
              "        0.17659314, 0.26979715, 0.06894393, 0.94455782, 0.68633368,\n",
              "        0.62640542, 0.34189246, 0.36727257, 0.47771722, 0.5478461 ,\n",
              "        0.23834731, 0.85231671, 0.42362966, 0.94670292, 0.99735347,\n",
              "        0.80992359, 0.51297588, 0.76781191, 0.24327789, 0.38156099,\n",
              "        0.47903903, 0.12642181, 0.9875053 , 0.28125268, 0.37584283,\n",
              "        0.82835786, 0.16445937, 0.18720116, 0.5204564 , 0.24834882],\n",
              "       [0.5112191 , 0.22462642, 0.46466156, 0.05420293, 0.76321488,\n",
              "        0.33649672, 0.51783673, 0.9608325 , 0.36602431, 0.63392413,\n",
              "        0.70568777, 0.08054695, 0.4425424 , 0.78302944, 0.34183973,\n",
              "        0.60922151, 0.12553268, 0.2891169 , 0.17820027, 0.88181915,\n",
              "        0.96122634, 0.60026813, 0.36387927, 0.5741216 , 0.59398666,\n",
              "        0.06517467, 0.22675416, 0.53878354, 0.64440709, 0.2920605 ,\n",
              "        0.68917908, 0.62401519, 0.72800493, 0.26802338, 0.50720433,\n",
              "        0.09183483, 0.88563321, 0.31125846, 0.54921599, 0.54189252,\n",
              "        0.57398525, 0.80509884, 0.62069459, 0.45273977, 0.63346234,\n",
              "        0.22679744, 0.80698922, 0.33775305, 0.52816779, 0.93036872,\n",
              "        0.74713931, 0.62711388, 0.59331259, 0.30905074, 0.46702593,\n",
              "        0.56612152, 0.5075692 , 0.92267553, 0.26970179, 0.27491714,\n",
              "        0.25561539, 0.54981447, 0.35365009, 0.03909288, 0.03006017,\n",
              "        0.12223776, 0.11372305, 0.01686696, 0.75327522, 0.77996343,\n",
              "        0.92361112, 0.12288384, 0.89124835, 0.77607992, 0.23920896,\n",
              "        0.99150957, 0.05023795, 0.08031803, 0.58817776, 0.58055712,\n",
              "        0.17848184, 0.74096407, 0.92214794, 0.81979489, 0.68057958,\n",
              "        0.07317059, 0.31125588, 0.81281253, 0.68456236, 0.68631779,\n",
              "        0.78943475, 0.50140082, 0.82264474, 0.91271936, 0.70001617,\n",
              "        0.49407245, 0.52001225, 0.68143515, 0.6776975 , 0.80594959,\n",
              "        0.15588107, 0.21271594, 0.88039475, 0.61933393, 0.78272521,\n",
              "        0.26306323, 0.61109699, 0.47552895, 0.35387485, 0.68450449,\n",
              "        0.42103809, 0.04737237, 0.10455971, 0.63242519, 0.47404787,\n",
              "        0.79956331, 0.4741898 , 0.69319043, 0.55304437, 0.04611372,\n",
              "        0.18667856, 0.30945333, 0.12502986, 0.342222  , 0.10641827,\n",
              "        0.86673948, 0.96679867, 0.27069534, 0.07626475, 0.55546572,\n",
              "        0.68192709, 0.16099136, 0.29908636, 0.34559622, 0.33818371,\n",
              "        0.19497151, 0.90007757, 0.92330657, 0.99532983, 0.31667536,\n",
              "        0.08210349, 0.6263789 , 0.29128153, 0.61851746, 0.20471937,\n",
              "        0.48150803, 0.17728985, 0.40968585, 0.2598821 , 0.98210964]])"
            ]
          },
          "metadata": {},
          "execution_count": 81
        }
      ]
    },
    {
      "cell_type": "code",
      "metadata": {
        "id": "G9T_X5kr8qht",
        "outputId": "477e8aeb-f5f3-4697-e5d1-454018e6a434",
        "colab": {
          "base_uri": "https://localhost:8080/"
        }
      },
      "source": [
        "labels[:10]"
      ],
      "execution_count": 82,
      "outputs": [
        {
          "output_type": "execute_result",
          "data": {
            "text/plain": [
              "array([ 4.82692359, 45.77577347, 25.69522374, 48.30110541, 27.51297125,\n",
              "       18.56857368, 22.93770905, 37.61031129,  4.3469478 , 24.62342377])"
            ]
          },
          "metadata": {},
          "execution_count": 82
        }
      ]
    },
    {
      "cell_type": "code",
      "metadata": {
        "id": "M3MEGPvy8rqz",
        "outputId": "0751c8e3-4dbc-4369-8db8-a83557aa56a7",
        "colab": {
          "base_uri": "https://localhost:8080/"
        }
      },
      "source": [
        "model = Sequential()\n",
        "model.add(Dense(units=32, activation='relu', input_shape=(150,))) #spodziewamy się funkcji liniowej, bo relu\n",
        "model.add(Dense(units=1)) #dla regresji w wyjściowej nie podajemy funkcji aktywacji\n",
        "\n",
        "model.compile(optimizer='rmsprop',\n",
        "              loss='mse')\n",
        "\n",
        "model.fit(data, labels, epochs=30, batch_size=32, validation_split=0.2)"
      ],
      "execution_count": 84,
      "outputs": [
        {
          "output_type": "stream",
          "name": "stdout",
          "text": [
            "Epoch 1/30\n",
            "\u001b[1m25/25\u001b[0m \u001b[32m━━━━━━━━━━━━━━━━━━━━\u001b[0m\u001b[37m\u001b[0m \u001b[1m1s\u001b[0m 9ms/step - loss: 695.5246 - val_loss: 349.2230\n",
            "Epoch 2/30\n",
            "\u001b[1m25/25\u001b[0m \u001b[32m━━━━━━━━━━━━━━━━━━━━\u001b[0m\u001b[37m\u001b[0m \u001b[1m0s\u001b[0m 4ms/step - loss: 335.3961 - val_loss: 223.0144\n",
            "Epoch 3/30\n",
            "\u001b[1m25/25\u001b[0m \u001b[32m━━━━━━━━━━━━━━━━━━━━\u001b[0m\u001b[37m\u001b[0m \u001b[1m0s\u001b[0m 5ms/step - loss: 230.7482 - val_loss: 210.2866\n",
            "Epoch 4/30\n",
            "\u001b[1m25/25\u001b[0m \u001b[32m━━━━━━━━━━━━━━━━━━━━\u001b[0m\u001b[37m\u001b[0m \u001b[1m0s\u001b[0m 4ms/step - loss: 211.0244 - val_loss: 212.0442\n",
            "Epoch 5/30\n",
            "\u001b[1m25/25\u001b[0m \u001b[32m━━━━━━━━━━━━━━━━━━━━\u001b[0m\u001b[37m\u001b[0m \u001b[1m0s\u001b[0m 4ms/step - loss: 210.0828 - val_loss: 211.9794\n",
            "Epoch 6/30\n",
            "\u001b[1m25/25\u001b[0m \u001b[32m━━━━━━━━━━━━━━━━━━━━\u001b[0m\u001b[37m\u001b[0m \u001b[1m0s\u001b[0m 4ms/step - loss: 216.7056 - val_loss: 210.5796\n",
            "Epoch 7/30\n",
            "\u001b[1m25/25\u001b[0m \u001b[32m━━━━━━━━━━━━━━━━━━━━\u001b[0m\u001b[37m\u001b[0m \u001b[1m0s\u001b[0m 4ms/step - loss: 210.9875 - val_loss: 210.7250\n",
            "Epoch 8/30\n",
            "\u001b[1m25/25\u001b[0m \u001b[32m━━━━━━━━━━━━━━━━━━━━\u001b[0m\u001b[37m\u001b[0m \u001b[1m0s\u001b[0m 4ms/step - loss: 214.1577 - val_loss: 209.9929\n",
            "Epoch 9/30\n",
            "\u001b[1m25/25\u001b[0m \u001b[32m━━━━━━━━━━━━━━━━━━━━\u001b[0m\u001b[37m\u001b[0m \u001b[1m0s\u001b[0m 4ms/step - loss: 207.1393 - val_loss: 209.6131\n",
            "Epoch 10/30\n",
            "\u001b[1m25/25\u001b[0m \u001b[32m━━━━━━━━━━━━━━━━━━━━\u001b[0m\u001b[37m\u001b[0m \u001b[1m0s\u001b[0m 4ms/step - loss: 214.0628 - val_loss: 209.8303\n",
            "Epoch 11/30\n",
            "\u001b[1m25/25\u001b[0m \u001b[32m━━━━━━━━━━━━━━━━━━━━\u001b[0m\u001b[37m\u001b[0m \u001b[1m0s\u001b[0m 5ms/step - loss: 212.4851 - val_loss: 209.1495\n",
            "Epoch 12/30\n",
            "\u001b[1m25/25\u001b[0m \u001b[32m━━━━━━━━━━━━━━━━━━━━\u001b[0m\u001b[37m\u001b[0m \u001b[1m0s\u001b[0m 4ms/step - loss: 217.4942 - val_loss: 211.9167\n",
            "Epoch 13/30\n",
            "\u001b[1m25/25\u001b[0m \u001b[32m━━━━━━━━━━━━━━━━━━━━\u001b[0m\u001b[37m\u001b[0m \u001b[1m0s\u001b[0m 4ms/step - loss: 205.9856 - val_loss: 209.2263\n",
            "Epoch 14/30\n",
            "\u001b[1m25/25\u001b[0m \u001b[32m━━━━━━━━━━━━━━━━━━━━\u001b[0m\u001b[37m\u001b[0m \u001b[1m0s\u001b[0m 4ms/step - loss: 216.6105 - val_loss: 208.6166\n",
            "Epoch 15/30\n",
            "\u001b[1m25/25\u001b[0m \u001b[32m━━━━━━━━━━━━━━━━━━━━\u001b[0m\u001b[37m\u001b[0m \u001b[1m0s\u001b[0m 4ms/step - loss: 195.8808 - val_loss: 210.5057\n",
            "Epoch 16/30\n",
            "\u001b[1m25/25\u001b[0m \u001b[32m━━━━━━━━━━━━━━━━━━━━\u001b[0m\u001b[37m\u001b[0m \u001b[1m0s\u001b[0m 4ms/step - loss: 214.3596 - val_loss: 208.9684\n",
            "Epoch 17/30\n",
            "\u001b[1m25/25\u001b[0m \u001b[32m━━━━━━━━━━━━━━━━━━━━\u001b[0m\u001b[37m\u001b[0m \u001b[1m0s\u001b[0m 4ms/step - loss: 203.7030 - val_loss: 208.2861\n",
            "Epoch 18/30\n",
            "\u001b[1m25/25\u001b[0m \u001b[32m━━━━━━━━━━━━━━━━━━━━\u001b[0m\u001b[37m\u001b[0m \u001b[1m0s\u001b[0m 5ms/step - loss: 210.9480 - val_loss: 208.5792\n",
            "Epoch 19/30\n",
            "\u001b[1m25/25\u001b[0m \u001b[32m━━━━━━━━━━━━━━━━━━━━\u001b[0m\u001b[37m\u001b[0m \u001b[1m0s\u001b[0m 4ms/step - loss: 207.5950 - val_loss: 209.8641\n",
            "Epoch 20/30\n",
            "\u001b[1m25/25\u001b[0m \u001b[32m━━━━━━━━━━━━━━━━━━━━\u001b[0m\u001b[37m\u001b[0m \u001b[1m0s\u001b[0m 4ms/step - loss: 211.5903 - val_loss: 208.8768\n",
            "Epoch 21/30\n",
            "\u001b[1m25/25\u001b[0m \u001b[32m━━━━━━━━━━━━━━━━━━━━\u001b[0m\u001b[37m\u001b[0m \u001b[1m0s\u001b[0m 4ms/step - loss: 198.9393 - val_loss: 208.0376\n",
            "Epoch 22/30\n",
            "\u001b[1m25/25\u001b[0m \u001b[32m━━━━━━━━━━━━━━━━━━━━\u001b[0m\u001b[37m\u001b[0m \u001b[1m0s\u001b[0m 4ms/step - loss: 212.7188 - val_loss: 207.4758\n",
            "Epoch 23/30\n",
            "\u001b[1m25/25\u001b[0m \u001b[32m━━━━━━━━━━━━━━━━━━━━\u001b[0m\u001b[37m\u001b[0m \u001b[1m0s\u001b[0m 4ms/step - loss: 205.4689 - val_loss: 207.8511\n",
            "Epoch 24/30\n",
            "\u001b[1m25/25\u001b[0m \u001b[32m━━━━━━━━━━━━━━━━━━━━\u001b[0m\u001b[37m\u001b[0m \u001b[1m0s\u001b[0m 4ms/step - loss: 196.3528 - val_loss: 207.3584\n",
            "Epoch 25/30\n",
            "\u001b[1m25/25\u001b[0m \u001b[32m━━━━━━━━━━━━━━━━━━━━\u001b[0m\u001b[37m\u001b[0m \u001b[1m0s\u001b[0m 4ms/step - loss: 206.3411 - val_loss: 208.5291\n",
            "Epoch 26/30\n",
            "\u001b[1m25/25\u001b[0m \u001b[32m━━━━━━━━━━━━━━━━━━━━\u001b[0m\u001b[37m\u001b[0m \u001b[1m0s\u001b[0m 6ms/step - loss: 203.2701 - val_loss: 207.8085\n",
            "Epoch 27/30\n",
            "\u001b[1m25/25\u001b[0m \u001b[32m━━━━━━━━━━━━━━━━━━━━\u001b[0m\u001b[37m\u001b[0m \u001b[1m0s\u001b[0m 5ms/step - loss: 203.4311 - val_loss: 206.9259\n",
            "Epoch 28/30\n",
            "\u001b[1m25/25\u001b[0m \u001b[32m━━━━━━━━━━━━━━━━━━━━\u001b[0m\u001b[37m\u001b[0m \u001b[1m0s\u001b[0m 4ms/step - loss: 194.6771 - val_loss: 207.0318\n",
            "Epoch 29/30\n",
            "\u001b[1m25/25\u001b[0m \u001b[32m━━━━━━━━━━━━━━━━━━━━\u001b[0m\u001b[37m\u001b[0m \u001b[1m0s\u001b[0m 4ms/step - loss: 204.1468 - val_loss: 207.5849\n",
            "Epoch 30/30\n",
            "\u001b[1m25/25\u001b[0m \u001b[32m━━━━━━━━━━━━━━━━━━━━\u001b[0m\u001b[37m\u001b[0m \u001b[1m0s\u001b[0m 5ms/step - loss: 198.0079 - val_loss: 209.4781\n"
          ]
        },
        {
          "output_type": "execute_result",
          "data": {
            "text/plain": [
              "<keras.src.callbacks.history.History at 0x7eb4c197c470>"
            ]
          },
          "metadata": {},
          "execution_count": 84
        }
      ]
    },
    {
      "cell_type": "code",
      "metadata": {
        "id": "jLUGCiun-ePp",
        "outputId": "4aa4aaf5-2474-4ba6-ab8f-4120e17b1051",
        "colab": {
          "base_uri": "https://localhost:8080/"
        }
      },
      "source": [
        "model = Sequential()\n",
        "model.add(Dense(units=32, activation='relu', input_shape=(150,)))\n",
        "model.add(Dense(units=1))\n",
        "\n",
        "model.compile(optimizer='rmsprop',\n",
        "              loss='mae',\n",
        "              metrics=['mse'])\n",
        "\n",
        "model.fit(data, labels, epochs=30, batch_size=32, validation_split=0.2)"
      ],
      "execution_count": 85,
      "outputs": [
        {
          "output_type": "stream",
          "name": "stdout",
          "text": [
            "Epoch 1/30\n",
            "\u001b[1m25/25\u001b[0m \u001b[32m━━━━━━━━━━━━━━━━━━━━\u001b[0m\u001b[37m\u001b[0m \u001b[1m1s\u001b[0m 10ms/step - loss: 23.1731 - mse: 752.5546 - val_loss: 18.2626 - val_mse: 500.6177\n",
            "Epoch 2/30\n",
            "\u001b[1m25/25\u001b[0m \u001b[32m━━━━━━━━━━━━━━━━━━━━\u001b[0m\u001b[37m\u001b[0m \u001b[1m0s\u001b[0m 4ms/step - loss: 18.2240 - mse: 495.2832 - val_loss: 15.2287 - val_mse: 353.3963\n",
            "Epoch 3/30\n",
            "\u001b[1m25/25\u001b[0m \u001b[32m━━━━━━━━━━━━━━━━━━━━\u001b[0m\u001b[37m\u001b[0m \u001b[1m0s\u001b[0m 4ms/step - loss: 15.9454 - mse: 379.2810 - val_loss: 13.3443 - val_mse: 255.8345\n",
            "Epoch 4/30\n",
            "\u001b[1m25/25\u001b[0m \u001b[32m━━━━━━━━━━━━━━━━━━━━\u001b[0m\u001b[37m\u001b[0m \u001b[1m0s\u001b[0m 5ms/step - loss: 13.4922 - mse: 254.5396 - val_loss: 12.7050 - val_mse: 216.6877\n",
            "Epoch 5/30\n",
            "\u001b[1m25/25\u001b[0m \u001b[32m━━━━━━━━━━━━━━━━━━━━\u001b[0m\u001b[37m\u001b[0m \u001b[1m0s\u001b[0m 5ms/step - loss: 12.7198 - mse: 218.5820 - val_loss: 12.6343 - val_mse: 210.8928\n",
            "Epoch 6/30\n",
            "\u001b[1m25/25\u001b[0m \u001b[32m━━━━━━━━━━━━━━━━━━━━\u001b[0m\u001b[37m\u001b[0m \u001b[1m0s\u001b[0m 4ms/step - loss: 12.6978 - mse: 215.9875 - val_loss: 12.6345 - val_mse: 210.9282\n",
            "Epoch 7/30\n",
            "\u001b[1m25/25\u001b[0m \u001b[32m━━━━━━━━━━━━━━━━━━━━\u001b[0m\u001b[37m\u001b[0m \u001b[1m0s\u001b[0m 4ms/step - loss: 12.4832 - mse: 211.0541 - val_loss: 12.6440 - val_mse: 211.4132\n",
            "Epoch 8/30\n",
            "\u001b[1m25/25\u001b[0m \u001b[32m━━━━━━━━━━━━━━━━━━━━\u001b[0m\u001b[37m\u001b[0m \u001b[1m0s\u001b[0m 4ms/step - loss: 12.4943 - mse: 208.1489 - val_loss: 12.6355 - val_mse: 210.9337\n",
            "Epoch 9/30\n",
            "\u001b[1m25/25\u001b[0m \u001b[32m━━━━━━━━━━━━━━━━━━━━\u001b[0m\u001b[37m\u001b[0m \u001b[1m0s\u001b[0m 4ms/step - loss: 12.2970 - mse: 205.8815 - val_loss: 12.6554 - val_mse: 212.3378\n",
            "Epoch 10/30\n",
            "\u001b[1m25/25\u001b[0m \u001b[32m━━━━━━━━━━━━━━━━━━━━\u001b[0m\u001b[37m\u001b[0m \u001b[1m0s\u001b[0m 4ms/step - loss: 12.7356 - mse: 218.9561 - val_loss: 12.6413 - val_mse: 211.3806\n",
            "Epoch 11/30\n",
            "\u001b[1m25/25\u001b[0m \u001b[32m━━━━━━━━━━━━━━━━━━━━\u001b[0m\u001b[37m\u001b[0m \u001b[1m0s\u001b[0m 4ms/step - loss: 12.7530 - mse: 217.0179 - val_loss: 12.6313 - val_mse: 210.8186\n",
            "Epoch 12/30\n",
            "\u001b[1m25/25\u001b[0m \u001b[32m━━━━━━━━━━━━━━━━━━━━\u001b[0m\u001b[37m\u001b[0m \u001b[1m0s\u001b[0m 5ms/step - loss: 12.6218 - mse: 214.3132 - val_loss: 12.6427 - val_mse: 211.5953\n",
            "Epoch 13/30\n",
            "\u001b[1m25/25\u001b[0m \u001b[32m━━━━━━━━━━━━━━━━━━━━\u001b[0m\u001b[37m\u001b[0m \u001b[1m0s\u001b[0m 4ms/step - loss: 12.8551 - mse: 218.6831 - val_loss: 12.6312 - val_mse: 210.8412\n",
            "Epoch 14/30\n",
            "\u001b[1m25/25\u001b[0m \u001b[32m━━━━━━━━━━━━━━━━━━━━\u001b[0m\u001b[37m\u001b[0m \u001b[1m0s\u001b[0m 4ms/step - loss: 12.3786 - mse: 206.3695 - val_loss: 12.6375 - val_mse: 211.3437\n",
            "Epoch 15/30\n",
            "\u001b[1m25/25\u001b[0m \u001b[32m━━━━━━━━━━━━━━━━━━━━\u001b[0m\u001b[37m\u001b[0m \u001b[1m0s\u001b[0m 4ms/step - loss: 12.6729 - mse: 213.0228 - val_loss: 12.6356 - val_mse: 211.3423\n",
            "Epoch 16/30\n",
            "\u001b[1m25/25\u001b[0m \u001b[32m━━━━━━━━━━━━━━━━━━━━\u001b[0m\u001b[37m\u001b[0m \u001b[1m0s\u001b[0m 4ms/step - loss: 12.7949 - mse: 215.8933 - val_loss: 12.6354 - val_mse: 211.4669\n",
            "Epoch 17/30\n",
            "\u001b[1m25/25\u001b[0m \u001b[32m━━━━━━━━━━━━━━━━━━━━\u001b[0m\u001b[37m\u001b[0m \u001b[1m0s\u001b[0m 4ms/step - loss: 12.3123 - mse: 205.3779 - val_loss: 12.6351 - val_mse: 211.5442\n",
            "Epoch 18/30\n",
            "\u001b[1m25/25\u001b[0m \u001b[32m━━━━━━━━━━━━━━━━━━━━\u001b[0m\u001b[37m\u001b[0m \u001b[1m0s\u001b[0m 4ms/step - loss: 12.3262 - mse: 206.7104 - val_loss: 12.6252 - val_mse: 210.9305\n",
            "Epoch 19/30\n",
            "\u001b[1m25/25\u001b[0m \u001b[32m━━━━━━━━━━━━━━━━━━━━\u001b[0m\u001b[37m\u001b[0m \u001b[1m0s\u001b[0m 5ms/step - loss: 12.1686 - mse: 201.3454 - val_loss: 12.6380 - val_mse: 212.0840\n",
            "Epoch 20/30\n",
            "\u001b[1m25/25\u001b[0m \u001b[32m━━━━━━━━━━━━━━━━━━━━\u001b[0m\u001b[37m\u001b[0m \u001b[1m0s\u001b[0m 4ms/step - loss: 12.4610 - mse: 210.6421 - val_loss: 12.6207 - val_mse: 210.7778\n",
            "Epoch 21/30\n",
            "\u001b[1m25/25\u001b[0m \u001b[32m━━━━━━━━━━━━━━━━━━━━\u001b[0m\u001b[37m\u001b[0m \u001b[1m0s\u001b[0m 4ms/step - loss: 12.7084 - mse: 215.7553 - val_loss: 12.6200 - val_mse: 210.9066\n",
            "Epoch 22/30\n",
            "\u001b[1m25/25\u001b[0m \u001b[32m━━━━━━━━━━━━━━━━━━━━\u001b[0m\u001b[37m\u001b[0m \u001b[1m0s\u001b[0m 4ms/step - loss: 12.6142 - mse: 212.0227 - val_loss: 12.6260 - val_mse: 211.4307\n",
            "Epoch 23/30\n",
            "\u001b[1m25/25\u001b[0m \u001b[32m━━━━━━━━━━━━━━━━━━━━\u001b[0m\u001b[37m\u001b[0m \u001b[1m0s\u001b[0m 4ms/step - loss: 12.7372 - mse: 218.3915 - val_loss: 12.6110 - val_mse: 210.3841\n",
            "Epoch 24/30\n",
            "\u001b[1m25/25\u001b[0m \u001b[32m━━━━━━━━━━━━━━━━━━━━\u001b[0m\u001b[37m\u001b[0m \u001b[1m0s\u001b[0m 4ms/step - loss: 12.7243 - mse: 214.2455 - val_loss: 12.6118 - val_mse: 210.4476\n",
            "Epoch 25/30\n",
            "\u001b[1m25/25\u001b[0m \u001b[32m━━━━━━━━━━━━━━━━━━━━\u001b[0m\u001b[37m\u001b[0m \u001b[1m0s\u001b[0m 4ms/step - loss: 12.8716 - mse: 219.1051 - val_loss: 12.6226 - val_mse: 211.3429\n",
            "Epoch 26/30\n",
            "\u001b[1m25/25\u001b[0m \u001b[32m━━━━━━━━━━━━━━━━━━━━\u001b[0m\u001b[37m\u001b[0m \u001b[1m0s\u001b[0m 5ms/step - loss: 12.4825 - mse: 209.8447 - val_loss: 12.5983 - val_mse: 209.9136\n",
            "Epoch 27/30\n",
            "\u001b[1m25/25\u001b[0m \u001b[32m━━━━━━━━━━━━━━━━━━━━\u001b[0m\u001b[37m\u001b[0m \u001b[1m0s\u001b[0m 5ms/step - loss: 12.6615 - mse: 213.7202 - val_loss: 12.6078 - val_mse: 210.6546\n",
            "Epoch 28/30\n",
            "\u001b[1m25/25\u001b[0m \u001b[32m━━━━━━━━━━━━━━━━━━━━\u001b[0m\u001b[37m\u001b[0m \u001b[1m0s\u001b[0m 4ms/step - loss: 12.1278 - mse: 201.7251 - val_loss: 12.5923 - val_mse: 209.8223\n",
            "Epoch 29/30\n",
            "\u001b[1m25/25\u001b[0m \u001b[32m━━━━━━━━━━━━━━━━━━━━\u001b[0m\u001b[37m\u001b[0m \u001b[1m0s\u001b[0m 4ms/step - loss: 12.5384 - mse: 210.1958 - val_loss: 12.6008 - val_mse: 210.3207\n",
            "Epoch 30/30\n",
            "\u001b[1m25/25\u001b[0m \u001b[32m━━━━━━━━━━━━━━━━━━━━\u001b[0m\u001b[37m\u001b[0m \u001b[1m0s\u001b[0m 4ms/step - loss: 12.6038 - mse: 212.5208 - val_loss: 12.5869 - val_mse: 209.6978\n"
          ]
        },
        {
          "output_type": "execute_result",
          "data": {
            "text/plain": [
              "<keras.src.callbacks.history.History at 0x7eb4ad90b200>"
            ]
          },
          "metadata": {},
          "execution_count": 85
        }
      ]
    },
    {
      "cell_type": "code",
      "metadata": {
        "id": "0T9od2mo9KAF",
        "outputId": "a03da07b-1a74-4c99-f759-392ce61085e1",
        "colab": {
          "base_uri": "https://localhost:8080/"
        }
      },
      "source": [
        "test_data = np.random.random((10, 150))\n",
        "\n",
        "model.predict(test_data)"
      ],
      "execution_count": 86,
      "outputs": [
        {
          "output_type": "stream",
          "name": "stderr",
          "text": [
            "WARNING:tensorflow:5 out of the last 12 calls to <function TensorFlowTrainer.make_predict_function.<locals>.one_step_on_data_distributed at 0x7eb4ad982200> triggered tf.function retracing. Tracing is expensive and the excessive number of tracings could be due to (1) creating @tf.function repeatedly in a loop, (2) passing tensors with different shapes, (3) passing Python objects instead of tensors. For (1), please define your @tf.function outside of the loop. For (2), @tf.function has reduce_retracing=True option that can avoid unnecessary retracing. For (3), please refer to https://www.tensorflow.org/guide/function#controlling_retracing and https://www.tensorflow.org/api_docs/python/tf/function for  more details.\n"
          ]
        },
        {
          "output_type": "stream",
          "name": "stdout",
          "text": [
            "\u001b[1m1/1\u001b[0m \u001b[32m━━━━━━━━━━━━━━━━━━━━\u001b[0m\u001b[37m\u001b[0m \u001b[1m0s\u001b[0m 60ms/step\n"
          ]
        },
        {
          "output_type": "execute_result",
          "data": {
            "text/plain": [
              "array([[23.928694],\n",
              "       [24.07701 ],\n",
              "       [23.646593],\n",
              "       [25.301184],\n",
              "       [24.124104],\n",
              "       [23.346907],\n",
              "       [27.087122],\n",
              "       [20.066717],\n",
              "       [23.671719],\n",
              "       [23.288097]], dtype=float32)"
            ]
          },
          "metadata": {},
          "execution_count": 86
        }
      ]
    }
  ]
}