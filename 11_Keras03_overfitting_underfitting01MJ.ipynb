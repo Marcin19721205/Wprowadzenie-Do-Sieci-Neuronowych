{
  "nbformat": 4,
  "nbformat_minor": 0,
  "metadata": {
    "colab": {
      "provenance": [],
      "include_colab_link": true
    },
    "kernelspec": {
      "name": "python3",
      "display_name": "Python 3"
    }
  },
  "cells": [
    {
      "cell_type": "markdown",
      "metadata": {
        "id": "view-in-github",
        "colab_type": "text"
      },
      "source": [
        "<a href=\"https://colab.research.google.com/github/Marcin19721205/Wprowadzenie-Do-Sieci-Neuronowych/blob/main/11_Keras03_overfitting_underfitting01MJ.ipynb\" target=\"_parent\"><img src=\"https://colab.research.google.com/assets/colab-badge.svg\" alt=\"Open In Colab\"/></a>"
      ]
    },
    {
      "cell_type": "markdown",
      "metadata": {
        "id": "5gjFu2l9IMsj"
      },
      "source": [
        "### Główne problemy uczenia maszynowego: przeuczenie (overfitting) oraz niedouczenie (underfitting)\n",
        "\n",
        "#Klasyfikacja Binarna - overfitting & underfitting\n",
        "\n",
        "#Praca z danymi tekstowymi\n",
        "\n",
        ">Celem tego notebook'a jest pokazanie przykładów zbyt dobrego dopasowanie modelu do danych uczących (przeuczenie) oraz zbyt słabego dopasowania modelu do danych uczących (niedouczenie).\n",
        ">\n",
        ">Wykorzystamy zbiór z bilioteki Keras składający się z 50000 recenzji filmów oznaczonych sentymentem: pozytywny/negatywny. Recenzje są wstępnie przetworzone, a każda recenzja jest zakodowana jako sekwencja indeksów słów. Słowa są indeksowane według ogólnej częstotliwości w zbiorze danych. Na przykład liczba 5 oznacza piąte najczęściej pojawiające się słowo w danych. Liczba 0 nie oznacza określonego słowa.\n",
        "\n",
        "### Spis treści\n",
        "1. [Import bibliotek](#a1)\n",
        "2. [Załadowanie i przygotowanie danych](#a2)\n",
        "3. [Budowa modelu bazowego](#a3)\n",
        "4. [Budowa 'mniejszego' modelu](#a4)    \n",
        "5. [Budowa 'większego' modelu](#a5)\n",
        "6. [Porównanie wydajności modeli](#a6)\n",
        "7. [Metody regularyzacji](#a7)"
      ]
    },
    {
      "cell_type": "markdown",
      "metadata": {
        "id": "cri2nNhKnulf"
      },
      "source": [
        "### <a name='a1'></a> 1. Import bibliotek"
      ]
    },
    {
      "cell_type": "code",
      "metadata": {
        "id": "IqX0mhs4EXOo",
        "outputId": "389307ab-687d-47ca-8cd2-80d02f590827",
        "colab": {
          "base_uri": "https://localhost:8080/",
          "height": 55
        }
      },
      "source": [
        "%tensorflow_version 2.x\n",
        "import numpy as np\n",
        "import pandas as pd\n",
        "import matplotlib.pyplot as plt\n",
        "import seaborn as sns\n",
        "import pickle\n",
        "\n",
        "import tensorflow as tf\n",
        "from tensorflow.keras.datasets import imdb #zbiór danych z którego korzystamy\n",
        "from tensorflow.keras.datasets.imdb import get_word_index #mapuje wartrośc liczbową na słowo\n",
        "from tensorflow.keras.utils import get_file\n",
        "from tensorflow.keras.models import Sequential\n",
        "from tensorflow.keras.layers import Dense\n",
        "\n",
        "sns.set()\n",
        "tf.__version__"
      ],
      "execution_count": 2,
      "outputs": [
        {
          "output_type": "stream",
          "name": "stdout",
          "text": [
            "Colab only includes TensorFlow 2.x; %tensorflow_version has no effect.\n"
          ]
        },
        {
          "output_type": "execute_result",
          "data": {
            "text/plain": [
              "'2.19.0'"
            ],
            "application/vnd.google.colaboratory.intrinsic+json": {
              "type": "string"
            }
          },
          "metadata": {},
          "execution_count": 2
        }
      ]
    },
    {
      "cell_type": "markdown",
      "metadata": {
        "id": "i2yxQLXlt1TF"
      },
      "source": [
        "### <a name='a2'></a> 2. Załadowanie i przygotowanie danych"
      ]
    },
    {
      "cell_type": "code",
      "metadata": {
        "id": "vtZaKvwvivjE"
      },
      "source": [
        "NUM_WORDS = 10000   # 10000 najczęściej pojawiających się słów\n",
        "INDEX_FROM = 3\n",
        "\n",
        "(train_data, train_labels), (test_data, test_labels) = imdb.load_data(num_words=NUM_WORDS, index_from=INDEX_FROM)"
      ],
      "execution_count": 3,
      "outputs": []
    },
    {
      "cell_type": "code",
      "metadata": {
        "id": "BcjKpHzUlGmg",
        "outputId": "16296caf-13ac-4194-e975-954eab00faab",
        "colab": {
          "base_uri": "https://localhost:8080/"
        }
      },
      "source": [
        "print(f'train_data shape: {train_data.shape}')\n",
        "print(f'test_data shape: {test_data.shape}')"
      ],
      "execution_count": 4,
      "outputs": [
        {
          "output_type": "stream",
          "name": "stdout",
          "text": [
            "train_data shape: (25000,)\n",
            "test_data shape: (25000,)\n"
          ]
        }
      ]
    },
    {
      "cell_type": "code",
      "metadata": {
        "id": "KMwYNwfFlJqb",
        "outputId": "643bb82b-6f8b-48c7-e497-0a6de1550242",
        "colab": {
          "base_uri": "https://localhost:8080/"
        }
      },
      "source": [
        "print(train_data[0])"
      ],
      "execution_count": 5,
      "outputs": [
        {
          "output_type": "stream",
          "name": "stdout",
          "text": [
            "[1, 14, 22, 16, 43, 530, 973, 1622, 1385, 65, 458, 4468, 66, 3941, 4, 173, 36, 256, 5, 25, 100, 43, 838, 112, 50, 670, 2, 9, 35, 480, 284, 5, 150, 4, 172, 112, 167, 2, 336, 385, 39, 4, 172, 4536, 1111, 17, 546, 38, 13, 447, 4, 192, 50, 16, 6, 147, 2025, 19, 14, 22, 4, 1920, 4613, 469, 4, 22, 71, 87, 12, 16, 43, 530, 38, 76, 15, 13, 1247, 4, 22, 17, 515, 17, 12, 16, 626, 18, 2, 5, 62, 386, 12, 8, 316, 8, 106, 5, 4, 2223, 5244, 16, 480, 66, 3785, 33, 4, 130, 12, 16, 38, 619, 5, 25, 124, 51, 36, 135, 48, 25, 1415, 33, 6, 22, 12, 215, 28, 77, 52, 5, 14, 407, 16, 82, 2, 8, 4, 107, 117, 5952, 15, 256, 4, 2, 7, 3766, 5, 723, 36, 71, 43, 530, 476, 26, 400, 317, 46, 7, 4, 2, 1029, 13, 104, 88, 4, 381, 15, 297, 98, 32, 2071, 56, 26, 141, 6, 194, 7486, 18, 4, 226, 22, 21, 134, 476, 26, 480, 5, 144, 30, 5535, 18, 51, 36, 28, 224, 92, 25, 104, 4, 226, 65, 16, 38, 1334, 88, 12, 16, 283, 5, 16, 4472, 113, 103, 32, 15, 16, 5345, 19, 178, 32]\n"
          ]
        }
      ]
    },
    {
      "cell_type": "markdown",
      "source": [
        "Przekształca powyższą listę numeryczną na słowa\n",
        "\n",
        "np <UNK> wypadło poza 10000 slów rozpoznawanych  "
      ],
      "metadata": {
        "id": "K6ewMC-5tz8G"
      }
    },
    {
      "cell_type": "code",
      "metadata": {
        "id": "oXwGOxCxoctr",
        "outputId": "9287e1f1-ec63-4adb-81f0-665fecb571b6",
        "colab": {
          "base_uri": "https://localhost:8080/"
        }
      },
      "source": [
        "word_to_idx = get_word_index()\n",
        "word_to_idx = {k:(v + INDEX_FROM) for k, v in word_to_idx.items()}\n",
        "word_to_idx['<PAD>'] = 0\n",
        "word_to_idx['<START>'] = 1\n",
        "word_to_idx['<UNK>'] = 2\n",
        "word_to_idx['<UNUSED>'] = 3\n",
        "idx_to_word = {v: k for k, v in word_to_idx.items()}\n",
        "list(idx_to_word.items())[:10]\n",
        "print(' '.join(idx_to_word[idx] for idx in train_data[0]))\n"
      ],
      "execution_count": 6,
      "outputs": [
        {
          "output_type": "stream",
          "name": "stdout",
          "text": [
            "<START> this film was just brilliant casting location scenery story direction everyone's really suited the part they played and you could just imagine being there robert <UNK> is an amazing actor and now the same being director <UNK> father came from the same scottish island as myself so i loved the fact there was a real connection with this film the witty remarks throughout the film were great it was just brilliant so much that i bought the film as soon as it was released for <UNK> and would recommend it to everyone to watch and the fly fishing was amazing really cried at the end it was so sad and you know what they say if you cry at a film it must have been good and this definitely was also <UNK> to the two little boy's that played the <UNK> of norman and paul they were just brilliant children are often left out of the <UNK> list i think because the stars that play them all grown up are such a big profile for the whole film but these children are amazing and should be praised for what they have done don't you think the whole story was so lovely because it was true and was someone's life after all that was shared with us all\n"
          ]
        }
      ]
    },
    {
      "cell_type": "markdown",
      "source": [
        "labele jako klasyfikacja binarna"
      ],
      "metadata": {
        "id": "pwE2P1CvuWBj"
      }
    },
    {
      "cell_type": "code",
      "metadata": {
        "id": "_xk9cposwRLn",
        "outputId": "2e33e1cb-a0b6-4f11-86e0-7f777043a2e5",
        "colab": {
          "base_uri": "https://localhost:8080/"
        }
      },
      "source": [
        "train_labels[:10]"
      ],
      "execution_count": 7,
      "outputs": [
        {
          "output_type": "execute_result",
          "data": {
            "text/plain": [
              "array([1, 0, 0, 1, 0, 0, 1, 0, 1, 0])"
            ]
          },
          "metadata": {},
          "execution_count": 7
        }
      ]
    },
    {
      "cell_type": "code",
      "metadata": {
        "id": "_gfaRdc1lb5t",
        "outputId": "7c1aaf89-eeef-4d35-dd7c-17443fb2c968",
        "colab": {
          "base_uri": "https://localhost:8080/"
        }
      },
      "source": [
        "def multi_hot_sequences(sequences, dimension):\n",
        "    results = np.zeros((len(sequences), dimension))\n",
        "    for i, word_indices in enumerate(sequences):\n",
        "        results[i, word_indices] = 1.0\n",
        "    return results\n",
        "\n",
        "train_data = multi_hot_sequences(train_data, dimension=NUM_WORDS)\n",
        "test_data = multi_hot_sequences(test_data, dimension=NUM_WORDS)\n",
        "train_data.shape"
      ],
      "execution_count": 8,
      "outputs": [
        {
          "output_type": "execute_result",
          "data": {
            "text/plain": [
              "(25000, 10000)"
            ]
          },
          "metadata": {},
          "execution_count": 8
        }
      ]
    },
    {
      "cell_type": "code",
      "metadata": {
        "id": "r-bMuwGogsyR",
        "outputId": "49d534e6-9815-41e3-d09e-8a7f68ff68fb",
        "colab": {
          "base_uri": "https://localhost:8080/"
        }
      },
      "source": [
        "test_data.shape"
      ],
      "execution_count": 9,
      "outputs": [
        {
          "output_type": "execute_result",
          "data": {
            "text/plain": [
              "(25000, 10000)"
            ]
          },
          "metadata": {},
          "execution_count": 9
        }
      ]
    },
    {
      "cell_type": "markdown",
      "metadata": {
        "id": "t_iRWKUpt_-u"
      },
      "source": [
        "### <a name='a3'></a> 3. Budowa modelu bazowego"
      ]
    },
    {
      "cell_type": "markdown",
      "source": [
        "# 16 neuronnów w ukrtytch"
      ],
      "metadata": {
        "id": "_arbqyIVzo2c"
      }
    },
    {
      "cell_type": "code",
      "metadata": {
        "id": "-0OZaNVamj3z",
        "outputId": "755b67b6-6938-445c-a0cb-1ed8643ac6c3",
        "colab": {
          "base_uri": "https://localhost:8080/",
          "height": 291
        }
      },
      "source": [
        "baseline_model = Sequential()\n",
        "baseline_model.add(Dense(16, activation='relu', input_shape=(NUM_WORDS,)))\n",
        "baseline_model.add(Dense(16, activation='relu'))\n",
        "baseline_model.add(Dense(1, activation='sigmoid'))\n",
        "\n",
        "baseline_model.compile(optimizer='adam',\n",
        "                       loss='binary_crossentropy',\n",
        "                       metrics=['accuracy', 'binary_crossentropy'])\n",
        "\n",
        "baseline_model.summary()"
      ],
      "execution_count": 14,
      "outputs": [
        {
          "output_type": "stream",
          "name": "stderr",
          "text": [
            "/usr/local/lib/python3.12/dist-packages/keras/src/layers/core/dense.py:93: UserWarning: Do not pass an `input_shape`/`input_dim` argument to a layer. When using Sequential models, prefer using an `Input(shape)` object as the first layer in the model instead.\n",
            "  super().__init__(activity_regularizer=activity_regularizer, **kwargs)\n"
          ]
        },
        {
          "output_type": "display_data",
          "data": {
            "text/plain": [
              "\u001b[1mModel: \"sequential_1\"\u001b[0m\n"
            ],
            "text/html": [
              "<pre style=\"white-space:pre;overflow-x:auto;line-height:normal;font-family:Menlo,'DejaVu Sans Mono',consolas,'Courier New',monospace\"><span style=\"font-weight: bold\">Model: \"sequential_1\"</span>\n",
              "</pre>\n"
            ]
          },
          "metadata": {}
        },
        {
          "output_type": "display_data",
          "data": {
            "text/plain": [
              "┏━━━━━━━━━━━━━━━━━━━━━━━━━━━━━━━━━┳━━━━━━━━━━━━━━━━━━━━━━━━┳━━━━━━━━━━━━━━━┓\n",
              "┃\u001b[1m \u001b[0m\u001b[1mLayer (type)                   \u001b[0m\u001b[1m \u001b[0m┃\u001b[1m \u001b[0m\u001b[1mOutput Shape          \u001b[0m\u001b[1m \u001b[0m┃\u001b[1m \u001b[0m\u001b[1m      Param #\u001b[0m\u001b[1m \u001b[0m┃\n",
              "┡━━━━━━━━━━━━━━━━━━━━━━━━━━━━━━━━━╇━━━━━━━━━━━━━━━━━━━━━━━━╇━━━━━━━━━━━━━━━┩\n",
              "│ dense_3 (\u001b[38;5;33mDense\u001b[0m)                 │ (\u001b[38;5;45mNone\u001b[0m, \u001b[38;5;34m16\u001b[0m)             │       \u001b[38;5;34m160,016\u001b[0m │\n",
              "├─────────────────────────────────┼────────────────────────┼───────────────┤\n",
              "│ dense_4 (\u001b[38;5;33mDense\u001b[0m)                 │ (\u001b[38;5;45mNone\u001b[0m, \u001b[38;5;34m16\u001b[0m)             │           \u001b[38;5;34m272\u001b[0m │\n",
              "├─────────────────────────────────┼────────────────────────┼───────────────┤\n",
              "│ dense_5 (\u001b[38;5;33mDense\u001b[0m)                 │ (\u001b[38;5;45mNone\u001b[0m, \u001b[38;5;34m1\u001b[0m)              │            \u001b[38;5;34m17\u001b[0m │\n",
              "└─────────────────────────────────┴────────────────────────┴───────────────┘\n"
            ],
            "text/html": [
              "<pre style=\"white-space:pre;overflow-x:auto;line-height:normal;font-family:Menlo,'DejaVu Sans Mono',consolas,'Courier New',monospace\">┏━━━━━━━━━━━━━━━━━━━━━━━━━━━━━━━━━┳━━━━━━━━━━━━━━━━━━━━━━━━┳━━━━━━━━━━━━━━━┓\n",
              "┃<span style=\"font-weight: bold\"> Layer (type)                    </span>┃<span style=\"font-weight: bold\"> Output Shape           </span>┃<span style=\"font-weight: bold\">       Param # </span>┃\n",
              "┡━━━━━━━━━━━━━━━━━━━━━━━━━━━━━━━━━╇━━━━━━━━━━━━━━━━━━━━━━━━╇━━━━━━━━━━━━━━━┩\n",
              "│ dense_3 (<span style=\"color: #0087ff; text-decoration-color: #0087ff\">Dense</span>)                 │ (<span style=\"color: #00d7ff; text-decoration-color: #00d7ff\">None</span>, <span style=\"color: #00af00; text-decoration-color: #00af00\">16</span>)             │       <span style=\"color: #00af00; text-decoration-color: #00af00\">160,016</span> │\n",
              "├─────────────────────────────────┼────────────────────────┼───────────────┤\n",
              "│ dense_4 (<span style=\"color: #0087ff; text-decoration-color: #0087ff\">Dense</span>)                 │ (<span style=\"color: #00d7ff; text-decoration-color: #00d7ff\">None</span>, <span style=\"color: #00af00; text-decoration-color: #00af00\">16</span>)             │           <span style=\"color: #00af00; text-decoration-color: #00af00\">272</span> │\n",
              "├─────────────────────────────────┼────────────────────────┼───────────────┤\n",
              "│ dense_5 (<span style=\"color: #0087ff; text-decoration-color: #0087ff\">Dense</span>)                 │ (<span style=\"color: #00d7ff; text-decoration-color: #00d7ff\">None</span>, <span style=\"color: #00af00; text-decoration-color: #00af00\">1</span>)              │            <span style=\"color: #00af00; text-decoration-color: #00af00\">17</span> │\n",
              "└─────────────────────────────────┴────────────────────────┴───────────────┘\n",
              "</pre>\n"
            ]
          },
          "metadata": {}
        },
        {
          "output_type": "display_data",
          "data": {
            "text/plain": [
              "\u001b[1m Total params: \u001b[0m\u001b[38;5;34m160,305\u001b[0m (626.19 KB)\n"
            ],
            "text/html": [
              "<pre style=\"white-space:pre;overflow-x:auto;line-height:normal;font-family:Menlo,'DejaVu Sans Mono',consolas,'Courier New',monospace\"><span style=\"font-weight: bold\"> Total params: </span><span style=\"color: #00af00; text-decoration-color: #00af00\">160,305</span> (626.19 KB)\n",
              "</pre>\n"
            ]
          },
          "metadata": {}
        },
        {
          "output_type": "display_data",
          "data": {
            "text/plain": [
              "\u001b[1m Trainable params: \u001b[0m\u001b[38;5;34m160,305\u001b[0m (626.19 KB)\n"
            ],
            "text/html": [
              "<pre style=\"white-space:pre;overflow-x:auto;line-height:normal;font-family:Menlo,'DejaVu Sans Mono',consolas,'Courier New',monospace\"><span style=\"font-weight: bold\"> Trainable params: </span><span style=\"color: #00af00; text-decoration-color: #00af00\">160,305</span> (626.19 KB)\n",
              "</pre>\n"
            ]
          },
          "metadata": {}
        },
        {
          "output_type": "display_data",
          "data": {
            "text/plain": [
              "\u001b[1m Non-trainable params: \u001b[0m\u001b[38;5;34m0\u001b[0m (0.00 B)\n"
            ],
            "text/html": [
              "<pre style=\"white-space:pre;overflow-x:auto;line-height:normal;font-family:Menlo,'DejaVu Sans Mono',consolas,'Courier New',monospace\"><span style=\"font-weight: bold\"> Non-trainable params: </span><span style=\"color: #00af00; text-decoration-color: #00af00\">0</span> (0.00 B)\n",
              "</pre>\n"
            ]
          },
          "metadata": {}
        }
      ]
    },
    {
      "cell_type": "code",
      "metadata": {
        "id": "NE2qPSgQn_ss",
        "outputId": "4f145473-d7eb-4354-b0a0-6ac697c6f2b1",
        "colab": {
          "base_uri": "https://localhost:8080/"
        }
      },
      "source": [
        "#dodany kod, bo się wymuiary nie zgadzały\n",
        "# etykiety 0/1 jako kolumna, float32\n",
        "train_labels = np.asarray(train_labels, dtype='float32').reshape(-1, 1)\n",
        "test_labels  = np.asarray(test_labels,  dtype='float32').reshape(-1, 1)\n",
        "\n",
        "baseline_history = baseline_model.fit(\n",
        "    train_data, train_labels,\n",
        "    epochs=20, batch_size=512,\n",
        "    validation_data=(test_data, test_labels)\n",
        ")\n",
        "\n",
        "##################################################################\n",
        "#                   KURS\n",
        "##################################################################\n",
        "\n",
        "baseline_history = baseline_model.fit(train_data, train_labels, epochs=20, batch_size=512, validation_data=(test_data, test_labels))"
      ],
      "execution_count": 24,
      "outputs": [
        {
          "output_type": "stream",
          "name": "stdout",
          "text": [
            "Epoch 1/20\n",
            "\u001b[1m49/49\u001b[0m \u001b[32m━━━━━━━━━━━━━━━━━━━━\u001b[0m\u001b[37m\u001b[0m \u001b[1m5s\u001b[0m 110ms/step - accuracy: 1.0000 - loss: 3.3513e-04 - val_accuracy: 0.8467 - val_loss: 1.4417\n",
            "Epoch 2/20\n",
            "\u001b[1m49/49\u001b[0m \u001b[32m━━━━━━━━━━━━━━━━━━━━\u001b[0m\u001b[37m\u001b[0m \u001b[1m9s\u001b[0m 92ms/step - accuracy: 1.0000 - loss: 3.2196e-04 - val_accuracy: 0.8468 - val_loss: 1.4554\n",
            "Epoch 3/20\n",
            "\u001b[1m49/49\u001b[0m \u001b[32m━━━━━━━━━━━━━━━━━━━━\u001b[0m\u001b[37m\u001b[0m \u001b[1m2s\u001b[0m 38ms/step - accuracy: 1.0000 - loss: 3.0904e-04 - val_accuracy: 0.8471 - val_loss: 1.4696\n",
            "Epoch 4/20\n",
            "\u001b[1m49/49\u001b[0m \u001b[32m━━━━━━━━━━━━━━━━━━━━\u001b[0m\u001b[37m\u001b[0m \u001b[1m3s\u001b[0m 38ms/step - accuracy: 1.0000 - loss: 2.8859e-04 - val_accuracy: 0.8472 - val_loss: 1.4825\n",
            "Epoch 5/20\n",
            "\u001b[1m49/49\u001b[0m \u001b[32m━━━━━━━━━━━━━━━━━━━━\u001b[0m\u001b[37m\u001b[0m \u001b[1m3s\u001b[0m 39ms/step - accuracy: 1.0000 - loss: 2.6516e-04 - val_accuracy: 0.8468 - val_loss: 1.4953\n",
            "Epoch 6/20\n",
            "\u001b[1m49/49\u001b[0m \u001b[32m━━━━━━━━━━━━━━━━━━━━\u001b[0m\u001b[37m\u001b[0m \u001b[1m2s\u001b[0m 38ms/step - accuracy: 1.0000 - loss: 2.4130e-04 - val_accuracy: 0.8465 - val_loss: 1.5079\n",
            "Epoch 7/20\n",
            "\u001b[1m49/49\u001b[0m \u001b[32m━━━━━━━━━━━━━━━━━━━━\u001b[0m\u001b[37m\u001b[0m \u001b[1m3s\u001b[0m 56ms/step - accuracy: 1.0000 - loss: 2.4182e-04 - val_accuracy: 0.8470 - val_loss: 1.5211\n",
            "Epoch 8/20\n",
            "\u001b[1m49/49\u001b[0m \u001b[32m━━━━━━━━━━━━━━━━━━━━\u001b[0m\u001b[37m\u001b[0m \u001b[1m2s\u001b[0m 44ms/step - accuracy: 1.0000 - loss: 2.2244e-04 - val_accuracy: 0.8463 - val_loss: 1.5322\n",
            "Epoch 9/20\n",
            "\u001b[1m49/49\u001b[0m \u001b[32m━━━━━━━━━━━━━━━━━━━━\u001b[0m\u001b[37m\u001b[0m \u001b[1m2s\u001b[0m 38ms/step - accuracy: 1.0000 - loss: 2.1801e-04 - val_accuracy: 0.8461 - val_loss: 1.5438\n",
            "Epoch 10/20\n",
            "\u001b[1m49/49\u001b[0m \u001b[32m━━━━━━━━━━━━━━━━━━━━\u001b[0m\u001b[37m\u001b[0m \u001b[1m2s\u001b[0m 38ms/step - accuracy: 1.0000 - loss: 1.9079e-04 - val_accuracy: 0.8464 - val_loss: 1.5560\n",
            "Epoch 11/20\n",
            "\u001b[1m49/49\u001b[0m \u001b[32m━━━━━━━━━━━━━━━━━━━━\u001b[0m\u001b[37m\u001b[0m \u001b[1m3s\u001b[0m 51ms/step - accuracy: 1.0000 - loss: 1.8649e-04 - val_accuracy: 0.8465 - val_loss: 1.5676\n",
            "Epoch 12/20\n",
            "\u001b[1m49/49\u001b[0m \u001b[32m━━━━━━━━━━━━━━━━━━━━\u001b[0m\u001b[37m\u001b[0m \u001b[1m2s\u001b[0m 37ms/step - accuracy: 1.0000 - loss: 1.8334e-04 - val_accuracy: 0.8466 - val_loss: 1.5795\n",
            "Epoch 13/20\n",
            "\u001b[1m49/49\u001b[0m \u001b[32m━━━━━━━━━━━━━━━━━━━━\u001b[0m\u001b[37m\u001b[0m \u001b[1m3s\u001b[0m 60ms/step - accuracy: 1.0000 - loss: 1.7015e-04 - val_accuracy: 0.8463 - val_loss: 1.5899\n",
            "Epoch 14/20\n",
            "\u001b[1m49/49\u001b[0m \u001b[32m━━━━━━━━━━━━━━━━━━━━\u001b[0m\u001b[37m\u001b[0m \u001b[1m2s\u001b[0m 41ms/step - accuracy: 1.0000 - loss: 1.5891e-04 - val_accuracy: 0.8460 - val_loss: 1.6001\n",
            "Epoch 15/20\n",
            "\u001b[1m49/49\u001b[0m \u001b[32m━━━━━━━━━━━━━━━━━━━━\u001b[0m\u001b[37m\u001b[0m \u001b[1m2s\u001b[0m 38ms/step - accuracy: 1.0000 - loss: 1.5031e-04 - val_accuracy: 0.8462 - val_loss: 1.6114\n",
            "Epoch 16/20\n",
            "\u001b[1m49/49\u001b[0m \u001b[32m━━━━━━━━━━━━━━━━━━━━\u001b[0m\u001b[37m\u001b[0m \u001b[1m2s\u001b[0m 37ms/step - accuracy: 1.0000 - loss: 1.4856e-04 - val_accuracy: 0.8462 - val_loss: 1.6223\n",
            "Epoch 17/20\n",
            "\u001b[1m49/49\u001b[0m \u001b[32m━━━━━━━━━━━━━━━━━━━━\u001b[0m\u001b[37m\u001b[0m \u001b[1m2s\u001b[0m 38ms/step - accuracy: 1.0000 - loss: 1.3364e-04 - val_accuracy: 0.8460 - val_loss: 1.6325\n",
            "Epoch 18/20\n",
            "\u001b[1m49/49\u001b[0m \u001b[32m━━━━━━━━━━━━━━━━━━━━\u001b[0m\u001b[37m\u001b[0m \u001b[1m3s\u001b[0m 52ms/step - accuracy: 1.0000 - loss: 1.2311e-04 - val_accuracy: 0.8458 - val_loss: 1.6421\n",
            "Epoch 19/20\n",
            "\u001b[1m49/49\u001b[0m \u001b[32m━━━━━━━━━━━━━━━━━━━━\u001b[0m\u001b[37m\u001b[0m \u001b[1m2s\u001b[0m 48ms/step - accuracy: 1.0000 - loss: 1.2758e-04 - val_accuracy: 0.8461 - val_loss: 1.6536\n",
            "Epoch 20/20\n",
            "\u001b[1m49/49\u001b[0m \u001b[32m━━━━━━━━━━━━━━━━━━━━\u001b[0m\u001b[37m\u001b[0m \u001b[1m2s\u001b[0m 38ms/step - accuracy: 1.0000 - loss: 1.1751e-04 - val_accuracy: 0.8460 - val_loss: 1.6634\n",
            "Epoch 1/20\n",
            "\u001b[1m49/49\u001b[0m \u001b[32m━━━━━━━━━━━━━━━━━━━━\u001b[0m\u001b[37m\u001b[0m \u001b[1m3s\u001b[0m 69ms/step - accuracy: 1.0000 - loss: 1.0839e-04 - val_accuracy: 0.8455 - val_loss: 1.6723\n",
            "Epoch 2/20\n",
            "\u001b[1m49/49\u001b[0m \u001b[32m━━━━━━━━━━━━━━━━━━━━\u001b[0m\u001b[37m\u001b[0m \u001b[1m3s\u001b[0m 55ms/step - accuracy: 1.0000 - loss: 1.0274e-04 - val_accuracy: 0.8459 - val_loss: 1.6835\n",
            "Epoch 3/20\n",
            "\u001b[1m49/49\u001b[0m \u001b[32m━━━━━━━━━━━━━━━━━━━━\u001b[0m\u001b[37m\u001b[0m \u001b[1m2s\u001b[0m 45ms/step - accuracy: 1.0000 - loss: 9.9982e-05 - val_accuracy: 0.8458 - val_loss: 1.6923\n",
            "Epoch 4/20\n",
            "\u001b[1m49/49\u001b[0m \u001b[32m━━━━━━━━━━━━━━━━━━━━\u001b[0m\u001b[37m\u001b[0m \u001b[1m2s\u001b[0m 37ms/step - accuracy: 1.0000 - loss: 1.0215e-04 - val_accuracy: 0.8458 - val_loss: 1.7023\n",
            "Epoch 5/20\n",
            "\u001b[1m49/49\u001b[0m \u001b[32m━━━━━━━━━━━━━━━━━━━━\u001b[0m\u001b[37m\u001b[0m \u001b[1m3s\u001b[0m 39ms/step - accuracy: 1.0000 - loss: 9.7933e-05 - val_accuracy: 0.8456 - val_loss: 1.7114\n",
            "Epoch 6/20\n",
            "\u001b[1m49/49\u001b[0m \u001b[32m━━━━━━━━━━━━━━━━━━━━\u001b[0m\u001b[37m\u001b[0m \u001b[1m3s\u001b[0m 38ms/step - accuracy: 1.0000 - loss: 8.5173e-05 - val_accuracy: 0.8456 - val_loss: 1.7217\n",
            "Epoch 7/20\n",
            "\u001b[1m49/49\u001b[0m \u001b[32m━━━━━━━━━━━━━━━━━━━━\u001b[0m\u001b[37m\u001b[0m \u001b[1m3s\u001b[0m 51ms/step - accuracy: 1.0000 - loss: 8.4320e-05 - val_accuracy: 0.8458 - val_loss: 1.7299\n",
            "Epoch 8/20\n",
            "\u001b[1m49/49\u001b[0m \u001b[32m━━━━━━━━━━━━━━━━━━━━\u001b[0m\u001b[37m\u001b[0m \u001b[1m3s\u001b[0m 63ms/step - accuracy: 1.0000 - loss: 7.8549e-05 - val_accuracy: 0.8456 - val_loss: 1.7394\n",
            "Epoch 9/20\n",
            "\u001b[1m49/49\u001b[0m \u001b[32m━━━━━━━━━━━━━━━━━━━━\u001b[0m\u001b[37m\u001b[0m \u001b[1m2s\u001b[0m 39ms/step - accuracy: 1.0000 - loss: 7.6334e-05 - val_accuracy: 0.8456 - val_loss: 1.7485\n",
            "Epoch 10/20\n",
            "\u001b[1m49/49\u001b[0m \u001b[32m━━━━━━━━━━━━━━━━━━━━\u001b[0m\u001b[37m\u001b[0m \u001b[1m2s\u001b[0m 39ms/step - accuracy: 1.0000 - loss: 7.2081e-05 - val_accuracy: 0.8454 - val_loss: 1.7578\n",
            "Epoch 11/20\n",
            "\u001b[1m49/49\u001b[0m \u001b[32m━━━━━━━━━━━━━━━━━━━━\u001b[0m\u001b[37m\u001b[0m \u001b[1m3s\u001b[0m 39ms/step - accuracy: 1.0000 - loss: 6.8013e-05 - val_accuracy: 0.8454 - val_loss: 1.7667\n",
            "Epoch 12/20\n",
            "\u001b[1m49/49\u001b[0m \u001b[32m━━━━━━━━━━━━━━━━━━━━\u001b[0m\u001b[37m\u001b[0m \u001b[1m2s\u001b[0m 39ms/step - accuracy: 1.0000 - loss: 6.6522e-05 - val_accuracy: 0.8455 - val_loss: 1.7759\n",
            "Epoch 13/20\n",
            "\u001b[1m49/49\u001b[0m \u001b[32m━━━━━━━━━━━━━━━━━━━━\u001b[0m\u001b[37m\u001b[0m \u001b[1m3s\u001b[0m 55ms/step - accuracy: 1.0000 - loss: 6.4884e-05 - val_accuracy: 0.8454 - val_loss: 1.7847\n",
            "Epoch 14/20\n",
            "\u001b[1m49/49\u001b[0m \u001b[32m━━━━━━━━━━━━━━━━━━━━\u001b[0m\u001b[37m\u001b[0m \u001b[1m4s\u001b[0m 40ms/step - accuracy: 1.0000 - loss: 6.7287e-05 - val_accuracy: 0.8452 - val_loss: 1.7933\n",
            "Epoch 15/20\n",
            "\u001b[1m49/49\u001b[0m \u001b[32m━━━━━━━━━━━━━━━━━━━━\u001b[0m\u001b[37m\u001b[0m \u001b[1m2s\u001b[0m 39ms/step - accuracy: 1.0000 - loss: 5.9565e-05 - val_accuracy: 0.8454 - val_loss: 1.8018\n",
            "Epoch 16/20\n",
            "\u001b[1m49/49\u001b[0m \u001b[32m━━━━━━━━━━━━━━━━━━━━\u001b[0m\u001b[37m\u001b[0m \u001b[1m3s\u001b[0m 38ms/step - accuracy: 1.0000 - loss: 5.5912e-05 - val_accuracy: 0.8452 - val_loss: 1.8101\n",
            "Epoch 17/20\n",
            "\u001b[1m49/49\u001b[0m \u001b[32m━━━━━━━━━━━━━━━━━━━━\u001b[0m\u001b[37m\u001b[0m \u001b[1m2s\u001b[0m 44ms/step - accuracy: 1.0000 - loss: 5.6243e-05 - val_accuracy: 0.8450 - val_loss: 1.8188\n",
            "Epoch 18/20\n",
            "\u001b[1m49/49\u001b[0m \u001b[32m━━━━━━━━━━━━━━━━━━━━\u001b[0m\u001b[37m\u001b[0m \u001b[1m3s\u001b[0m 54ms/step - accuracy: 1.0000 - loss: 5.4360e-05 - val_accuracy: 0.8451 - val_loss: 1.8272\n",
            "Epoch 19/20\n",
            "\u001b[1m49/49\u001b[0m \u001b[32m━━━━━━━━━━━━━━━━━━━━\u001b[0m\u001b[37m\u001b[0m \u001b[1m2s\u001b[0m 38ms/step - accuracy: 1.0000 - loss: 5.2908e-05 - val_accuracy: 0.8450 - val_loss: 1.8355\n",
            "Epoch 20/20\n",
            "\u001b[1m49/49\u001b[0m \u001b[32m━━━━━━━━━━━━━━━━━━━━\u001b[0m\u001b[37m\u001b[0m \u001b[1m3s\u001b[0m 38ms/step - accuracy: 1.0000 - loss: 5.0490e-05 - val_accuracy: 0.8451 - val_loss: 1.8435\n"
          ]
        }
      ]
    },
    {
      "cell_type": "code",
      "metadata": {
        "colab": {
          "base_uri": "https://localhost:8080/"
        },
        "id": "38a38c07",
        "outputId": "20888b8e-e380-4bbe-c44b-760c4a00fab7"
      },
      "source": [
        "train_labels = train_labels.reshape(-1, 1)\n",
        "test_labels = test_labels.reshape(-1, 1)\n",
        "\n",
        "print(f'train_labels shape: {train_labels.shape}')\n",
        "print(f'test_labels shape: {test_labels.shape}')"
      ],
      "execution_count": 28,
      "outputs": [
        {
          "output_type": "stream",
          "name": "stdout",
          "text": [
            "train_labels shape: (25000, 1)\n",
            "test_labels shape: (25000, 1)\n"
          ]
        }
      ]
    },
    {
      "cell_type": "markdown",
      "metadata": {
        "id": "p-m0wWCsuILj"
      },
      "source": [
        "### <a name='a4'></a> 3. Budowa 'mniejszego' modelu"
      ]
    },
    {
      "cell_type": "markdown",
      "source": [
        "# 4 neurony w ukrytych"
      ],
      "metadata": {
        "id": "5yXorg3lzvL6"
      }
    },
    {
      "cell_type": "code",
      "metadata": {
        "id": "vLnLXLxNoQFS",
        "outputId": "b01006e0-ac49-4e3c-f80e-999d4da42af8",
        "colab": {
          "base_uri": "https://localhost:8080/",
          "height": 307
        }
      },
      "source": [
        "smaller_model = Sequential()\n",
        "smaller_model.add(Dense(4, activation='relu', input_shape=(NUM_WORDS,)))\n",
        "smaller_model.add(Dense(4, activation='relu'))\n",
        "smaller_model.add(Dense(1, activation='sigmoid'))\n",
        "\n",
        "smaller_model.compile(optimizer='adam',\n",
        "                       loss='binary_crossentropy',\n",
        "                       metrics=['accuracy', 'binary_crossentropy'])\n",
        "\n",
        "smaller_model.summary()"
      ],
      "execution_count": 29,
      "outputs": [
        {
          "output_type": "stream",
          "name": "stderr",
          "text": [
            "/usr/local/lib/python3.12/dist-packages/keras/src/layers/core/dense.py:93: UserWarning:\n",
            "\n",
            "Do not pass an `input_shape`/`input_dim` argument to a layer. When using Sequential models, prefer using an `Input(shape)` object as the first layer in the model instead.\n",
            "\n"
          ]
        },
        {
          "output_type": "display_data",
          "data": {
            "text/plain": [
              "\u001b[1mModel: \"sequential_4\"\u001b[0m\n"
            ],
            "text/html": [
              "<pre style=\"white-space:pre;overflow-x:auto;line-height:normal;font-family:Menlo,'DejaVu Sans Mono',consolas,'Courier New',monospace\"><span style=\"font-weight: bold\">Model: \"sequential_4\"</span>\n",
              "</pre>\n"
            ]
          },
          "metadata": {}
        },
        {
          "output_type": "display_data",
          "data": {
            "text/plain": [
              "┏━━━━━━━━━━━━━━━━━━━━━━━━━━━━━━━━━┳━━━━━━━━━━━━━━━━━━━━━━━━┳━━━━━━━━━━━━━━━┓\n",
              "┃\u001b[1m \u001b[0m\u001b[1mLayer (type)                   \u001b[0m\u001b[1m \u001b[0m┃\u001b[1m \u001b[0m\u001b[1mOutput Shape          \u001b[0m\u001b[1m \u001b[0m┃\u001b[1m \u001b[0m\u001b[1m      Param #\u001b[0m\u001b[1m \u001b[0m┃\n",
              "┡━━━━━━━━━━━━━━━━━━━━━━━━━━━━━━━━━╇━━━━━━━━━━━━━━━━━━━━━━━━╇━━━━━━━━━━━━━━━┩\n",
              "│ dense_12 (\u001b[38;5;33mDense\u001b[0m)                │ (\u001b[38;5;45mNone\u001b[0m, \u001b[38;5;34m4\u001b[0m)              │        \u001b[38;5;34m40,004\u001b[0m │\n",
              "├─────────────────────────────────┼────────────────────────┼───────────────┤\n",
              "│ dense_13 (\u001b[38;5;33mDense\u001b[0m)                │ (\u001b[38;5;45mNone\u001b[0m, \u001b[38;5;34m4\u001b[0m)              │            \u001b[38;5;34m20\u001b[0m │\n",
              "├─────────────────────────────────┼────────────────────────┼───────────────┤\n",
              "│ dense_14 (\u001b[38;5;33mDense\u001b[0m)                │ (\u001b[38;5;45mNone\u001b[0m, \u001b[38;5;34m1\u001b[0m)              │             \u001b[38;5;34m5\u001b[0m │\n",
              "└─────────────────────────────────┴────────────────────────┴───────────────┘\n"
            ],
            "text/html": [
              "<pre style=\"white-space:pre;overflow-x:auto;line-height:normal;font-family:Menlo,'DejaVu Sans Mono',consolas,'Courier New',monospace\">┏━━━━━━━━━━━━━━━━━━━━━━━━━━━━━━━━━┳━━━━━━━━━━━━━━━━━━━━━━━━┳━━━━━━━━━━━━━━━┓\n",
              "┃<span style=\"font-weight: bold\"> Layer (type)                    </span>┃<span style=\"font-weight: bold\"> Output Shape           </span>┃<span style=\"font-weight: bold\">       Param # </span>┃\n",
              "┡━━━━━━━━━━━━━━━━━━━━━━━━━━━━━━━━━╇━━━━━━━━━━━━━━━━━━━━━━━━╇━━━━━━━━━━━━━━━┩\n",
              "│ dense_12 (<span style=\"color: #0087ff; text-decoration-color: #0087ff\">Dense</span>)                │ (<span style=\"color: #00d7ff; text-decoration-color: #00d7ff\">None</span>, <span style=\"color: #00af00; text-decoration-color: #00af00\">4</span>)              │        <span style=\"color: #00af00; text-decoration-color: #00af00\">40,004</span> │\n",
              "├─────────────────────────────────┼────────────────────────┼───────────────┤\n",
              "│ dense_13 (<span style=\"color: #0087ff; text-decoration-color: #0087ff\">Dense</span>)                │ (<span style=\"color: #00d7ff; text-decoration-color: #00d7ff\">None</span>, <span style=\"color: #00af00; text-decoration-color: #00af00\">4</span>)              │            <span style=\"color: #00af00; text-decoration-color: #00af00\">20</span> │\n",
              "├─────────────────────────────────┼────────────────────────┼───────────────┤\n",
              "│ dense_14 (<span style=\"color: #0087ff; text-decoration-color: #0087ff\">Dense</span>)                │ (<span style=\"color: #00d7ff; text-decoration-color: #00d7ff\">None</span>, <span style=\"color: #00af00; text-decoration-color: #00af00\">1</span>)              │             <span style=\"color: #00af00; text-decoration-color: #00af00\">5</span> │\n",
              "└─────────────────────────────────┴────────────────────────┴───────────────┘\n",
              "</pre>\n"
            ]
          },
          "metadata": {}
        },
        {
          "output_type": "display_data",
          "data": {
            "text/plain": [
              "\u001b[1m Total params: \u001b[0m\u001b[38;5;34m40,029\u001b[0m (156.36 KB)\n"
            ],
            "text/html": [
              "<pre style=\"white-space:pre;overflow-x:auto;line-height:normal;font-family:Menlo,'DejaVu Sans Mono',consolas,'Courier New',monospace\"><span style=\"font-weight: bold\"> Total params: </span><span style=\"color: #00af00; text-decoration-color: #00af00\">40,029</span> (156.36 KB)\n",
              "</pre>\n"
            ]
          },
          "metadata": {}
        },
        {
          "output_type": "display_data",
          "data": {
            "text/plain": [
              "\u001b[1m Trainable params: \u001b[0m\u001b[38;5;34m40,029\u001b[0m (156.36 KB)\n"
            ],
            "text/html": [
              "<pre style=\"white-space:pre;overflow-x:auto;line-height:normal;font-family:Menlo,'DejaVu Sans Mono',consolas,'Courier New',monospace\"><span style=\"font-weight: bold\"> Trainable params: </span><span style=\"color: #00af00; text-decoration-color: #00af00\">40,029</span> (156.36 KB)\n",
              "</pre>\n"
            ]
          },
          "metadata": {}
        },
        {
          "output_type": "display_data",
          "data": {
            "text/plain": [
              "\u001b[1m Non-trainable params: \u001b[0m\u001b[38;5;34m0\u001b[0m (0.00 B)\n"
            ],
            "text/html": [
              "<pre style=\"white-space:pre;overflow-x:auto;line-height:normal;font-family:Menlo,'DejaVu Sans Mono',consolas,'Courier New',monospace\"><span style=\"font-weight: bold\"> Non-trainable params: </span><span style=\"color: #00af00; text-decoration-color: #00af00\">0</span> (0.00 B)\n",
              "</pre>\n"
            ]
          },
          "metadata": {}
        }
      ]
    },
    {
      "cell_type": "code",
      "metadata": {
        "id": "l-VmkwMXpcUj",
        "outputId": "33345b5e-e6c2-4a04-8a8b-937390a88b8e",
        "colab": {
          "base_uri": "https://localhost:8080/"
        }
      },
      "source": [
        "smaller_history = smaller_model.fit(train_data, train_labels, epochs=20, batch_size=512, validation_data=(test_data, test_labels))"
      ],
      "execution_count": 30,
      "outputs": [
        {
          "output_type": "stream",
          "name": "stdout",
          "text": [
            "Epoch 1/20\n",
            "\u001b[1m49/49\u001b[0m \u001b[32m━━━━━━━━━━━━━━━━━━━━\u001b[0m\u001b[37m\u001b[0m \u001b[1m6s\u001b[0m 90ms/step - accuracy: 0.6254 - binary_crossentropy: 0.6745 - loss: 0.6745 - val_accuracy: 0.8049 - val_binary_crossentropy: 0.5957 - val_loss: 0.5957\n",
            "Epoch 2/20\n",
            "\u001b[1m49/49\u001b[0m \u001b[32m━━━━━━━━━━━━━━━━━━━━\u001b[0m\u001b[37m\u001b[0m \u001b[1m2s\u001b[0m 38ms/step - accuracy: 0.8171 - binary_crossentropy: 0.5561 - loss: 0.5561 - val_accuracy: 0.8474 - val_binary_crossentropy: 0.5021 - val_loss: 0.5021\n",
            "Epoch 3/20\n",
            "\u001b[1m49/49\u001b[0m \u001b[32m━━━━━━━━━━━━━━━━━━━━\u001b[0m\u001b[37m\u001b[0m \u001b[1m2s\u001b[0m 36ms/step - accuracy: 0.8874 - binary_crossentropy: 0.4476 - loss: 0.4476 - val_accuracy: 0.8813 - val_binary_crossentropy: 0.4009 - val_loss: 0.4009\n",
            "Epoch 4/20\n",
            "\u001b[1m49/49\u001b[0m \u001b[32m━━━━━━━━━━━━━━━━━━━━\u001b[0m\u001b[37m\u001b[0m \u001b[1m4s\u001b[0m 59ms/step - accuracy: 0.9148 - binary_crossentropy: 0.3277 - loss: 0.3277 - val_accuracy: 0.8872 - val_binary_crossentropy: 0.3156 - val_loss: 0.3156\n",
            "Epoch 5/20\n",
            "\u001b[1m49/49\u001b[0m \u001b[32m━━━━━━━━━━━━━━━━━━━━\u001b[0m\u001b[37m\u001b[0m \u001b[1m2s\u001b[0m 36ms/step - accuracy: 0.9289 - binary_crossentropy: 0.2379 - loss: 0.2379 - val_accuracy: 0.8887 - val_binary_crossentropy: 0.2906 - val_loss: 0.2906\n",
            "Epoch 6/20\n",
            "\u001b[1m49/49\u001b[0m \u001b[32m━━━━━━━━━━━━━━━━━━━━\u001b[0m\u001b[37m\u001b[0m \u001b[1m2s\u001b[0m 37ms/step - accuracy: 0.9390 - binary_crossentropy: 0.1986 - loss: 0.1986 - val_accuracy: 0.8875 - val_binary_crossentropy: 0.2855 - val_loss: 0.2855\n",
            "Epoch 7/20\n",
            "\u001b[1m49/49\u001b[0m \u001b[32m━━━━━━━━━━━━━━━━━━━━\u001b[0m\u001b[37m\u001b[0m \u001b[1m2s\u001b[0m 35ms/step - accuracy: 0.9466 - binary_crossentropy: 0.1710 - loss: 0.1710 - val_accuracy: 0.8854 - val_binary_crossentropy: 0.2866 - val_loss: 0.2866\n",
            "Epoch 8/20\n",
            "\u001b[1m49/49\u001b[0m \u001b[32m━━━━━━━━━━━━━━━━━━━━\u001b[0m\u001b[37m\u001b[0m \u001b[1m2s\u001b[0m 34ms/step - accuracy: 0.9533 - binary_crossentropy: 0.1553 - loss: 0.1553 - val_accuracy: 0.8864 - val_binary_crossentropy: 0.2883 - val_loss: 0.2883\n",
            "Epoch 9/20\n",
            "\u001b[1m49/49\u001b[0m \u001b[32m━━━━━━━━━━━━━━━━━━━━\u001b[0m\u001b[37m\u001b[0m \u001b[1m3s\u001b[0m 40ms/step - accuracy: 0.9607 - binary_crossentropy: 0.1367 - loss: 0.1367 - val_accuracy: 0.8848 - val_binary_crossentropy: 0.2946 - val_loss: 0.2946\n",
            "Epoch 10/20\n",
            "\u001b[1m49/49\u001b[0m \u001b[32m━━━━━━━━━━━━━━━━━━━━\u001b[0m\u001b[37m\u001b[0m \u001b[1m2s\u001b[0m 47ms/step - accuracy: 0.9617 - binary_crossentropy: 0.1282 - loss: 0.1282 - val_accuracy: 0.8812 - val_binary_crossentropy: 0.3040 - val_loss: 0.3040\n",
            "Epoch 11/20\n",
            "\u001b[1m49/49\u001b[0m \u001b[32m━━━━━━━━━━━━━━━━━━━━\u001b[0m\u001b[37m\u001b[0m \u001b[1m2s\u001b[0m 37ms/step - accuracy: 0.9656 - binary_crossentropy: 0.1179 - loss: 0.1179 - val_accuracy: 0.8807 - val_binary_crossentropy: 0.3124 - val_loss: 0.3124\n",
            "Epoch 12/20\n",
            "\u001b[1m49/49\u001b[0m \u001b[32m━━━━━━━━━━━━━━━━━━━━\u001b[0m\u001b[37m\u001b[0m \u001b[1m2s\u001b[0m 36ms/step - accuracy: 0.9697 - binary_crossentropy: 0.1085 - loss: 0.1085 - val_accuracy: 0.8769 - val_binary_crossentropy: 0.3264 - val_loss: 0.3264\n",
            "Epoch 13/20\n",
            "\u001b[1m49/49\u001b[0m \u001b[32m━━━━━━━━━━━━━━━━━━━━\u001b[0m\u001b[37m\u001b[0m \u001b[1m2s\u001b[0m 34ms/step - accuracy: 0.9732 - binary_crossentropy: 0.0999 - loss: 0.0999 - val_accuracy: 0.8756 - val_binary_crossentropy: 0.3350 - val_loss: 0.3350\n",
            "Epoch 14/20\n",
            "\u001b[1m49/49\u001b[0m \u001b[32m━━━━━━━━━━━━━━━━━━━━\u001b[0m\u001b[37m\u001b[0m \u001b[1m2s\u001b[0m 36ms/step - accuracy: 0.9741 - binary_crossentropy: 0.0939 - loss: 0.0939 - val_accuracy: 0.8736 - val_binary_crossentropy: 0.3487 - val_loss: 0.3487\n",
            "Epoch 15/20\n",
            "\u001b[1m49/49\u001b[0m \u001b[32m━━━━━━━━━━━━━━━━━━━━\u001b[0m\u001b[37m\u001b[0m \u001b[1m2s\u001b[0m 35ms/step - accuracy: 0.9781 - binary_crossentropy: 0.0843 - loss: 0.0843 - val_accuracy: 0.8722 - val_binary_crossentropy: 0.3599 - val_loss: 0.3599\n",
            "Epoch 16/20\n",
            "\u001b[1m49/49\u001b[0m \u001b[32m━━━━━━━━━━━━━━━━━━━━\u001b[0m\u001b[37m\u001b[0m \u001b[1m3s\u001b[0m 47ms/step - accuracy: 0.9818 - binary_crossentropy: 0.0803 - loss: 0.0803 - val_accuracy: 0.8713 - val_binary_crossentropy: 0.3714 - val_loss: 0.3714\n",
            "Epoch 17/20\n",
            "\u001b[1m49/49\u001b[0m \u001b[32m━━━━━━━━━━━━━━━━━━━━\u001b[0m\u001b[37m\u001b[0m \u001b[1m2s\u001b[0m 36ms/step - accuracy: 0.9824 - binary_crossentropy: 0.0759 - loss: 0.0759 - val_accuracy: 0.8683 - val_binary_crossentropy: 0.3868 - val_loss: 0.3868\n",
            "Epoch 18/20\n",
            "\u001b[1m49/49\u001b[0m \u001b[32m━━━━━━━━━━━━━━━━━━━━\u001b[0m\u001b[37m\u001b[0m \u001b[1m3s\u001b[0m 36ms/step - accuracy: 0.9841 - binary_crossentropy: 0.0715 - loss: 0.0715 - val_accuracy: 0.8670 - val_binary_crossentropy: 0.3995 - val_loss: 0.3995\n",
            "Epoch 19/20\n",
            "\u001b[1m49/49\u001b[0m \u001b[32m━━━━━━━━━━━━━━━━━━━━\u001b[0m\u001b[37m\u001b[0m \u001b[1m2s\u001b[0m 34ms/step - accuracy: 0.9859 - binary_crossentropy: 0.0680 - loss: 0.0680 - val_accuracy: 0.8666 - val_binary_crossentropy: 0.4131 - val_loss: 0.4131\n",
            "Epoch 20/20\n",
            "\u001b[1m49/49\u001b[0m \u001b[32m━━━━━━━━━━━━━━━━━━━━\u001b[0m\u001b[37m\u001b[0m \u001b[1m2s\u001b[0m 34ms/step - accuracy: 0.9892 - binary_crossentropy: 0.0606 - loss: 0.0606 - val_accuracy: 0.8649 - val_binary_crossentropy: 0.4268 - val_loss: 0.4268\n"
          ]
        }
      ]
    },
    {
      "cell_type": "markdown",
      "metadata": {
        "id": "syavjQj1uQ5l"
      },
      "source": [
        "### <a name='a5'></a> 4. Budowa 'większego' modelu"
      ]
    },
    {
      "cell_type": "markdown",
      "source": [
        "# 512 neuronów w ukrytych"
      ],
      "metadata": {
        "id": "gjliDaSTzzqO"
      }
    },
    {
      "cell_type": "code",
      "metadata": {
        "id": "B8ye7dUApiAt",
        "outputId": "8aac60ca-29a8-4d74-853a-97edf736cfbb",
        "colab": {
          "base_uri": "https://localhost:8080/",
          "height": 234
        }
      },
      "source": [
        "bigger_model = Sequential()\n",
        "bigger_model.add(Dense(512, activation='relu', input_shape=(NUM_WORDS,)))\n",
        "bigger_model.add(Dense(512, activation='relu'))\n",
        "bigger_model.add(Dense(1, activation='sigmoid'))\n",
        "\n",
        "bigger_model.compile(optimizer='adam',\n",
        "                       loss='binary_crossentropy',\n",
        "                       metrics=['accuracy', 'binary_crossentropy'])\n",
        "\n",
        "bigger_model.summary()"
      ],
      "execution_count": 31,
      "outputs": [
        {
          "output_type": "display_data",
          "data": {
            "text/plain": [
              "\u001b[1mModel: \"sequential_5\"\u001b[0m\n"
            ],
            "text/html": [
              "<pre style=\"white-space:pre;overflow-x:auto;line-height:normal;font-family:Menlo,'DejaVu Sans Mono',consolas,'Courier New',monospace\"><span style=\"font-weight: bold\">Model: \"sequential_5\"</span>\n",
              "</pre>\n"
            ]
          },
          "metadata": {}
        },
        {
          "output_type": "display_data",
          "data": {
            "text/plain": [
              "┏━━━━━━━━━━━━━━━━━━━━━━━━━━━━━━━━━┳━━━━━━━━━━━━━━━━━━━━━━━━┳━━━━━━━━━━━━━━━┓\n",
              "┃\u001b[1m \u001b[0m\u001b[1mLayer (type)                   \u001b[0m\u001b[1m \u001b[0m┃\u001b[1m \u001b[0m\u001b[1mOutput Shape          \u001b[0m\u001b[1m \u001b[0m┃\u001b[1m \u001b[0m\u001b[1m      Param #\u001b[0m\u001b[1m \u001b[0m┃\n",
              "┡━━━━━━━━━━━━━━━━━━━━━━━━━━━━━━━━━╇━━━━━━━━━━━━━━━━━━━━━━━━╇━━━━━━━━━━━━━━━┩\n",
              "│ dense_15 (\u001b[38;5;33mDense\u001b[0m)                │ (\u001b[38;5;45mNone\u001b[0m, \u001b[38;5;34m512\u001b[0m)            │     \u001b[38;5;34m5,120,512\u001b[0m │\n",
              "├─────────────────────────────────┼────────────────────────┼───────────────┤\n",
              "│ dense_16 (\u001b[38;5;33mDense\u001b[0m)                │ (\u001b[38;5;45mNone\u001b[0m, \u001b[38;5;34m512\u001b[0m)            │       \u001b[38;5;34m262,656\u001b[0m │\n",
              "├─────────────────────────────────┼────────────────────────┼───────────────┤\n",
              "│ dense_17 (\u001b[38;5;33mDense\u001b[0m)                │ (\u001b[38;5;45mNone\u001b[0m, \u001b[38;5;34m1\u001b[0m)              │           \u001b[38;5;34m513\u001b[0m │\n",
              "└─────────────────────────────────┴────────────────────────┴───────────────┘\n"
            ],
            "text/html": [
              "<pre style=\"white-space:pre;overflow-x:auto;line-height:normal;font-family:Menlo,'DejaVu Sans Mono',consolas,'Courier New',monospace\">┏━━━━━━━━━━━━━━━━━━━━━━━━━━━━━━━━━┳━━━━━━━━━━━━━━━━━━━━━━━━┳━━━━━━━━━━━━━━━┓\n",
              "┃<span style=\"font-weight: bold\"> Layer (type)                    </span>┃<span style=\"font-weight: bold\"> Output Shape           </span>┃<span style=\"font-weight: bold\">       Param # </span>┃\n",
              "┡━━━━━━━━━━━━━━━━━━━━━━━━━━━━━━━━━╇━━━━━━━━━━━━━━━━━━━━━━━━╇━━━━━━━━━━━━━━━┩\n",
              "│ dense_15 (<span style=\"color: #0087ff; text-decoration-color: #0087ff\">Dense</span>)                │ (<span style=\"color: #00d7ff; text-decoration-color: #00d7ff\">None</span>, <span style=\"color: #00af00; text-decoration-color: #00af00\">512</span>)            │     <span style=\"color: #00af00; text-decoration-color: #00af00\">5,120,512</span> │\n",
              "├─────────────────────────────────┼────────────────────────┼───────────────┤\n",
              "│ dense_16 (<span style=\"color: #0087ff; text-decoration-color: #0087ff\">Dense</span>)                │ (<span style=\"color: #00d7ff; text-decoration-color: #00d7ff\">None</span>, <span style=\"color: #00af00; text-decoration-color: #00af00\">512</span>)            │       <span style=\"color: #00af00; text-decoration-color: #00af00\">262,656</span> │\n",
              "├─────────────────────────────────┼────────────────────────┼───────────────┤\n",
              "│ dense_17 (<span style=\"color: #0087ff; text-decoration-color: #0087ff\">Dense</span>)                │ (<span style=\"color: #00d7ff; text-decoration-color: #00d7ff\">None</span>, <span style=\"color: #00af00; text-decoration-color: #00af00\">1</span>)              │           <span style=\"color: #00af00; text-decoration-color: #00af00\">513</span> │\n",
              "└─────────────────────────────────┴────────────────────────┴───────────────┘\n",
              "</pre>\n"
            ]
          },
          "metadata": {}
        },
        {
          "output_type": "display_data",
          "data": {
            "text/plain": [
              "\u001b[1m Total params: \u001b[0m\u001b[38;5;34m5,383,681\u001b[0m (20.54 MB)\n"
            ],
            "text/html": [
              "<pre style=\"white-space:pre;overflow-x:auto;line-height:normal;font-family:Menlo,'DejaVu Sans Mono',consolas,'Courier New',monospace\"><span style=\"font-weight: bold\"> Total params: </span><span style=\"color: #00af00; text-decoration-color: #00af00\">5,383,681</span> (20.54 MB)\n",
              "</pre>\n"
            ]
          },
          "metadata": {}
        },
        {
          "output_type": "display_data",
          "data": {
            "text/plain": [
              "\u001b[1m Trainable params: \u001b[0m\u001b[38;5;34m5,383,681\u001b[0m (20.54 MB)\n"
            ],
            "text/html": [
              "<pre style=\"white-space:pre;overflow-x:auto;line-height:normal;font-family:Menlo,'DejaVu Sans Mono',consolas,'Courier New',monospace\"><span style=\"font-weight: bold\"> Trainable params: </span><span style=\"color: #00af00; text-decoration-color: #00af00\">5,383,681</span> (20.54 MB)\n",
              "</pre>\n"
            ]
          },
          "metadata": {}
        },
        {
          "output_type": "display_data",
          "data": {
            "text/plain": [
              "\u001b[1m Non-trainable params: \u001b[0m\u001b[38;5;34m0\u001b[0m (0.00 B)\n"
            ],
            "text/html": [
              "<pre style=\"white-space:pre;overflow-x:auto;line-height:normal;font-family:Menlo,'DejaVu Sans Mono',consolas,'Courier New',monospace\"><span style=\"font-weight: bold\"> Non-trainable params: </span><span style=\"color: #00af00; text-decoration-color: #00af00\">0</span> (0.00 B)\n",
              "</pre>\n"
            ]
          },
          "metadata": {}
        }
      ]
    },
    {
      "cell_type": "code",
      "metadata": {
        "id": "n9v8QJMEpqGT",
        "outputId": "a0ec71cb-4591-4d32-b508-1fa342afa191",
        "colab": {
          "base_uri": "https://localhost:8080/"
        }
      },
      "source": [
        "bigger_history = bigger_model.fit(train_data, train_labels, epochs=20, batch_size=512, validation_data=(test_data, test_labels))"
      ],
      "execution_count": 32,
      "outputs": [
        {
          "output_type": "stream",
          "name": "stdout",
          "text": [
            "Epoch 1/20\n",
            "\u001b[1m49/49\u001b[0m \u001b[32m━━━━━━━━━━━━━━━━━━━━\u001b[0m\u001b[37m\u001b[0m \u001b[1m22s\u001b[0m 430ms/step - accuracy: 0.7738 - binary_crossentropy: 0.4619 - loss: 0.4619 - val_accuracy: 0.8776 - val_binary_crossentropy: 0.2957 - val_loss: 0.2957\n",
            "Epoch 2/20\n",
            "\u001b[1m49/49\u001b[0m \u001b[32m━━━━━━━━━━━━━━━━━━━━\u001b[0m\u001b[37m\u001b[0m \u001b[1m18s\u001b[0m 373ms/step - accuracy: 0.9475 - binary_crossentropy: 0.1475 - loss: 0.1475 - val_accuracy: 0.8719 - val_binary_crossentropy: 0.3361 - val_loss: 0.3361\n",
            "Epoch 3/20\n",
            "\u001b[1m49/49\u001b[0m \u001b[32m━━━━━━━━━━━━━━━━━━━━\u001b[0m\u001b[37m\u001b[0m \u001b[1m19s\u001b[0m 394ms/step - accuracy: 0.9854 - binary_crossentropy: 0.0549 - loss: 0.0549 - val_accuracy: 0.8687 - val_binary_crossentropy: 0.4277 - val_loss: 0.4277\n",
            "Epoch 4/20\n",
            "\u001b[1m49/49\u001b[0m \u001b[32m━━━━━━━━━━━━━━━━━━━━\u001b[0m\u001b[37m\u001b[0m \u001b[1m18s\u001b[0m 370ms/step - accuracy: 0.9986 - binary_crossentropy: 0.0110 - loss: 0.0110 - val_accuracy: 0.8686 - val_binary_crossentropy: 0.5691 - val_loss: 0.5691\n",
            "Epoch 5/20\n",
            "\u001b[1m49/49\u001b[0m \u001b[32m━━━━━━━━━━━━━━━━━━━━\u001b[0m\u001b[37m\u001b[0m \u001b[1m26s\u001b[0m 480ms/step - accuracy: 1.0000 - binary_crossentropy: 0.0015 - loss: 0.0015 - val_accuracy: 0.8698 - val_binary_crossentropy: 0.6592 - val_loss: 0.6592\n",
            "Epoch 6/20\n",
            "\u001b[1m49/49\u001b[0m \u001b[32m━━━━━━━━━━━━━━━━━━━━\u001b[0m\u001b[37m\u001b[0m \u001b[1m18s\u001b[0m 369ms/step - accuracy: 1.0000 - binary_crossentropy: 9.6332e-04 - loss: 9.6332e-04 - val_accuracy: 0.8696 - val_binary_crossentropy: 0.6849 - val_loss: 0.6849\n",
            "Epoch 7/20\n",
            "\u001b[1m49/49\u001b[0m \u001b[32m━━━━━━━━━━━━━━━━━━━━\u001b[0m\u001b[37m\u001b[0m \u001b[1m19s\u001b[0m 395ms/step - accuracy: 1.0000 - binary_crossentropy: 2.6683e-04 - loss: 2.6683e-04 - val_accuracy: 0.8710 - val_binary_crossentropy: 0.7246 - val_loss: 0.7246\n",
            "Epoch 8/20\n",
            "\u001b[1m49/49\u001b[0m \u001b[32m━━━━━━━━━━━━━━━━━━━━\u001b[0m\u001b[37m\u001b[0m \u001b[1m18s\u001b[0m 371ms/step - accuracy: 1.0000 - binary_crossentropy: 1.6084e-04 - loss: 1.6084e-04 - val_accuracy: 0.8708 - val_binary_crossentropy: 0.7496 - val_loss: 0.7496\n",
            "Epoch 9/20\n",
            "\u001b[1m49/49\u001b[0m \u001b[32m━━━━━━━━━━━━━━━━━━━━\u001b[0m\u001b[37m\u001b[0m \u001b[1m26s\u001b[0m 478ms/step - accuracy: 1.0000 - binary_crossentropy: 1.1685e-04 - loss: 1.1685e-04 - val_accuracy: 0.8704 - val_binary_crossentropy: 0.7690 - val_loss: 0.7690\n",
            "Epoch 10/20\n",
            "\u001b[1m49/49\u001b[0m \u001b[32m━━━━━━━━━━━━━━━━━━━━\u001b[0m\u001b[37m\u001b[0m \u001b[1m18s\u001b[0m 372ms/step - accuracy: 1.0000 - binary_crossentropy: 8.6946e-05 - loss: 8.6946e-05 - val_accuracy: 0.8707 - val_binary_crossentropy: 0.7878 - val_loss: 0.7878\n",
            "Epoch 11/20\n",
            "\u001b[1m49/49\u001b[0m \u001b[32m━━━━━━━━━━━━━━━━━━━━\u001b[0m\u001b[37m\u001b[0m \u001b[1m23s\u001b[0m 476ms/step - accuracy: 1.0000 - binary_crossentropy: 6.9463e-05 - loss: 6.9463e-05 - val_accuracy: 0.8708 - val_binary_crossentropy: 0.8038 - val_loss: 0.8038\n",
            "Epoch 12/20\n",
            "\u001b[1m49/49\u001b[0m \u001b[32m━━━━━━━━━━━━━━━━━━━━\u001b[0m\u001b[37m\u001b[0m \u001b[1m19s\u001b[0m 395ms/step - accuracy: 1.0000 - binary_crossentropy: 5.5753e-05 - loss: 5.5753e-05 - val_accuracy: 0.8710 - val_binary_crossentropy: 0.8176 - val_loss: 0.8176\n",
            "Epoch 13/20\n",
            "\u001b[1m49/49\u001b[0m \u001b[32m━━━━━━━━━━━━━━━━━━━━\u001b[0m\u001b[37m\u001b[0m \u001b[1m19s\u001b[0m 373ms/step - accuracy: 1.0000 - binary_crossentropy: 4.8500e-05 - loss: 4.8500e-05 - val_accuracy: 0.8711 - val_binary_crossentropy: 0.8302 - val_loss: 0.8302\n",
            "Epoch 14/20\n",
            "\u001b[1m49/49\u001b[0m \u001b[32m━━━━━━━━━━━━━━━━━━━━\u001b[0m\u001b[37m\u001b[0m \u001b[1m18s\u001b[0m 376ms/step - accuracy: 1.0000 - binary_crossentropy: 4.1266e-05 - loss: 4.1266e-05 - val_accuracy: 0.8710 - val_binary_crossentropy: 0.8413 - val_loss: 0.8413\n",
            "Epoch 15/20\n",
            "\u001b[1m49/49\u001b[0m \u001b[32m━━━━━━━━━━━━━━━━━━━━\u001b[0m\u001b[37m\u001b[0m \u001b[1m20s\u001b[0m 366ms/step - accuracy: 1.0000 - binary_crossentropy: 3.5742e-05 - loss: 3.5742e-05 - val_accuracy: 0.8710 - val_binary_crossentropy: 0.8514 - val_loss: 0.8514\n",
            "Epoch 16/20\n",
            "\u001b[1m49/49\u001b[0m \u001b[32m━━━━━━━━━━━━━━━━━━━━\u001b[0m\u001b[37m\u001b[0m \u001b[1m18s\u001b[0m 372ms/step - accuracy: 1.0000 - binary_crossentropy: 3.0324e-05 - loss: 3.0324e-05 - val_accuracy: 0.8708 - val_binary_crossentropy: 0.8615 - val_loss: 0.8615\n",
            "Epoch 17/20\n",
            "\u001b[1m49/49\u001b[0m \u001b[32m━━━━━━━━━━━━━━━━━━━━\u001b[0m\u001b[37m\u001b[0m \u001b[1m21s\u001b[0m 377ms/step - accuracy: 1.0000 - binary_crossentropy: 2.5757e-05 - loss: 2.5757e-05 - val_accuracy: 0.8709 - val_binary_crossentropy: 0.8704 - val_loss: 0.8704\n",
            "Epoch 18/20\n",
            "\u001b[1m49/49\u001b[0m \u001b[32m━━━━━━━━━━━━━━━━━━━━\u001b[0m\u001b[37m\u001b[0m \u001b[1m25s\u001b[0m 480ms/step - accuracy: 1.0000 - binary_crossentropy: 2.3534e-05 - loss: 2.3534e-05 - val_accuracy: 0.8708 - val_binary_crossentropy: 0.8792 - val_loss: 0.8792\n",
            "Epoch 19/20\n",
            "\u001b[1m49/49\u001b[0m \u001b[32m━━━━━━━━━━━━━━━━━━━━\u001b[0m\u001b[37m\u001b[0m \u001b[1m25s\u001b[0m 511ms/step - accuracy: 1.0000 - binary_crossentropy: 2.0309e-05 - loss: 2.0309e-05 - val_accuracy: 0.8708 - val_binary_crossentropy: 0.8876 - val_loss: 0.8876\n",
            "Epoch 20/20\n",
            "\u001b[1m49/49\u001b[0m \u001b[32m━━━━━━━━━━━━━━━━━━━━\u001b[0m\u001b[37m\u001b[0m \u001b[1m18s\u001b[0m 373ms/step - accuracy: 1.0000 - binary_crossentropy: 1.8419e-05 - loss: 1.8419e-05 - val_accuracy: 0.8708 - val_binary_crossentropy: 0.8956 - val_loss: 0.8956\n"
          ]
        }
      ]
    },
    {
      "cell_type": "code",
      "metadata": {
        "id": "JyVN8AuFqJn1",
        "outputId": "4fa226d9-0564-4c3f-8978-0daa9fc43f3b",
        "colab": {
          "base_uri": "https://localhost:8080/",
          "height": 206
        }
      },
      "source": [
        "hist = pd.DataFrame(baseline_history.history)\n",
        "hist['epoch'] = baseline_history.epoch\n",
        "hist.head()"
      ],
      "execution_count": 33,
      "outputs": [
        {
          "output_type": "execute_result",
          "data": {
            "text/plain": [
              "   accuracy      loss  val_accuracy  val_loss  epoch\n",
              "0       1.0  0.000113       0.84552  1.672322      0\n",
              "1       1.0  0.000108       0.84588  1.683549      1\n",
              "2       1.0  0.000103       0.84576  1.692345      2\n",
              "3       1.0  0.000098       0.84576  1.702273      3\n",
              "4       1.0  0.000094       0.84556  1.711423      4"
            ],
            "text/html": [
              "\n",
              "  <div id=\"df-a3118de2-3f35-4c98-a202-9f7a116a11c3\" class=\"colab-df-container\">\n",
              "    <div>\n",
              "<style scoped>\n",
              "    .dataframe tbody tr th:only-of-type {\n",
              "        vertical-align: middle;\n",
              "    }\n",
              "\n",
              "    .dataframe tbody tr th {\n",
              "        vertical-align: top;\n",
              "    }\n",
              "\n",
              "    .dataframe thead th {\n",
              "        text-align: right;\n",
              "    }\n",
              "</style>\n",
              "<table border=\"1\" class=\"dataframe\">\n",
              "  <thead>\n",
              "    <tr style=\"text-align: right;\">\n",
              "      <th></th>\n",
              "      <th>accuracy</th>\n",
              "      <th>loss</th>\n",
              "      <th>val_accuracy</th>\n",
              "      <th>val_loss</th>\n",
              "      <th>epoch</th>\n",
              "    </tr>\n",
              "  </thead>\n",
              "  <tbody>\n",
              "    <tr>\n",
              "      <th>0</th>\n",
              "      <td>1.0</td>\n",
              "      <td>0.000113</td>\n",
              "      <td>0.84552</td>\n",
              "      <td>1.672322</td>\n",
              "      <td>0</td>\n",
              "    </tr>\n",
              "    <tr>\n",
              "      <th>1</th>\n",
              "      <td>1.0</td>\n",
              "      <td>0.000108</td>\n",
              "      <td>0.84588</td>\n",
              "      <td>1.683549</td>\n",
              "      <td>1</td>\n",
              "    </tr>\n",
              "    <tr>\n",
              "      <th>2</th>\n",
              "      <td>1.0</td>\n",
              "      <td>0.000103</td>\n",
              "      <td>0.84576</td>\n",
              "      <td>1.692345</td>\n",
              "      <td>2</td>\n",
              "    </tr>\n",
              "    <tr>\n",
              "      <th>3</th>\n",
              "      <td>1.0</td>\n",
              "      <td>0.000098</td>\n",
              "      <td>0.84576</td>\n",
              "      <td>1.702273</td>\n",
              "      <td>3</td>\n",
              "    </tr>\n",
              "    <tr>\n",
              "      <th>4</th>\n",
              "      <td>1.0</td>\n",
              "      <td>0.000094</td>\n",
              "      <td>0.84556</td>\n",
              "      <td>1.711423</td>\n",
              "      <td>4</td>\n",
              "    </tr>\n",
              "  </tbody>\n",
              "</table>\n",
              "</div>\n",
              "    <div class=\"colab-df-buttons\">\n",
              "\n",
              "  <div class=\"colab-df-container\">\n",
              "    <button class=\"colab-df-convert\" onclick=\"convertToInteractive('df-a3118de2-3f35-4c98-a202-9f7a116a11c3')\"\n",
              "            title=\"Convert this dataframe to an interactive table.\"\n",
              "            style=\"display:none;\">\n",
              "\n",
              "  <svg xmlns=\"http://www.w3.org/2000/svg\" height=\"24px\" viewBox=\"0 -960 960 960\">\n",
              "    <path d=\"M120-120v-720h720v720H120Zm60-500h600v-160H180v160Zm220 220h160v-160H400v160Zm0 220h160v-160H400v160ZM180-400h160v-160H180v160Zm440 0h160v-160H620v160ZM180-180h160v-160H180v160Zm440 0h160v-160H620v160Z\"/>\n",
              "  </svg>\n",
              "    </button>\n",
              "\n",
              "  <style>\n",
              "    .colab-df-container {\n",
              "      display:flex;\n",
              "      gap: 12px;\n",
              "    }\n",
              "\n",
              "    .colab-df-convert {\n",
              "      background-color: #E8F0FE;\n",
              "      border: none;\n",
              "      border-radius: 50%;\n",
              "      cursor: pointer;\n",
              "      display: none;\n",
              "      fill: #1967D2;\n",
              "      height: 32px;\n",
              "      padding: 0 0 0 0;\n",
              "      width: 32px;\n",
              "    }\n",
              "\n",
              "    .colab-df-convert:hover {\n",
              "      background-color: #E2EBFA;\n",
              "      box-shadow: 0px 1px 2px rgba(60, 64, 67, 0.3), 0px 1px 3px 1px rgba(60, 64, 67, 0.15);\n",
              "      fill: #174EA6;\n",
              "    }\n",
              "\n",
              "    .colab-df-buttons div {\n",
              "      margin-bottom: 4px;\n",
              "    }\n",
              "\n",
              "    [theme=dark] .colab-df-convert {\n",
              "      background-color: #3B4455;\n",
              "      fill: #D2E3FC;\n",
              "    }\n",
              "\n",
              "    [theme=dark] .colab-df-convert:hover {\n",
              "      background-color: #434B5C;\n",
              "      box-shadow: 0px 1px 3px 1px rgba(0, 0, 0, 0.15);\n",
              "      filter: drop-shadow(0px 1px 2px rgba(0, 0, 0, 0.3));\n",
              "      fill: #FFFFFF;\n",
              "    }\n",
              "  </style>\n",
              "\n",
              "    <script>\n",
              "      const buttonEl =\n",
              "        document.querySelector('#df-a3118de2-3f35-4c98-a202-9f7a116a11c3 button.colab-df-convert');\n",
              "      buttonEl.style.display =\n",
              "        google.colab.kernel.accessAllowed ? 'block' : 'none';\n",
              "\n",
              "      async function convertToInteractive(key) {\n",
              "        const element = document.querySelector('#df-a3118de2-3f35-4c98-a202-9f7a116a11c3');\n",
              "        const dataTable =\n",
              "          await google.colab.kernel.invokeFunction('convertToInteractive',\n",
              "                                                    [key], {});\n",
              "        if (!dataTable) return;\n",
              "\n",
              "        const docLinkHtml = 'Like what you see? Visit the ' +\n",
              "          '<a target=\"_blank\" href=https://colab.research.google.com/notebooks/data_table.ipynb>data table notebook</a>'\n",
              "          + ' to learn more about interactive tables.';\n",
              "        element.innerHTML = '';\n",
              "        dataTable['output_type'] = 'display_data';\n",
              "        await google.colab.output.renderOutput(dataTable, element);\n",
              "        const docLink = document.createElement('div');\n",
              "        docLink.innerHTML = docLinkHtml;\n",
              "        element.appendChild(docLink);\n",
              "      }\n",
              "    </script>\n",
              "  </div>\n",
              "\n",
              "\n",
              "    <div id=\"df-9514ce6f-1bbe-4835-92b2-75cb5bf30587\">\n",
              "      <button class=\"colab-df-quickchart\" onclick=\"quickchart('df-9514ce6f-1bbe-4835-92b2-75cb5bf30587')\"\n",
              "                title=\"Suggest charts\"\n",
              "                style=\"display:none;\">\n",
              "\n",
              "<svg xmlns=\"http://www.w3.org/2000/svg\" height=\"24px\"viewBox=\"0 0 24 24\"\n",
              "     width=\"24px\">\n",
              "    <g>\n",
              "        <path d=\"M19 3H5c-1.1 0-2 .9-2 2v14c0 1.1.9 2 2 2h14c1.1 0 2-.9 2-2V5c0-1.1-.9-2-2-2zM9 17H7v-7h2v7zm4 0h-2V7h2v10zm4 0h-2v-4h2v4z\"/>\n",
              "    </g>\n",
              "</svg>\n",
              "      </button>\n",
              "\n",
              "<style>\n",
              "  .colab-df-quickchart {\n",
              "      --bg-color: #E8F0FE;\n",
              "      --fill-color: #1967D2;\n",
              "      --hover-bg-color: #E2EBFA;\n",
              "      --hover-fill-color: #174EA6;\n",
              "      --disabled-fill-color: #AAA;\n",
              "      --disabled-bg-color: #DDD;\n",
              "  }\n",
              "\n",
              "  [theme=dark] .colab-df-quickchart {\n",
              "      --bg-color: #3B4455;\n",
              "      --fill-color: #D2E3FC;\n",
              "      --hover-bg-color: #434B5C;\n",
              "      --hover-fill-color: #FFFFFF;\n",
              "      --disabled-bg-color: #3B4455;\n",
              "      --disabled-fill-color: #666;\n",
              "  }\n",
              "\n",
              "  .colab-df-quickchart {\n",
              "    background-color: var(--bg-color);\n",
              "    border: none;\n",
              "    border-radius: 50%;\n",
              "    cursor: pointer;\n",
              "    display: none;\n",
              "    fill: var(--fill-color);\n",
              "    height: 32px;\n",
              "    padding: 0;\n",
              "    width: 32px;\n",
              "  }\n",
              "\n",
              "  .colab-df-quickchart:hover {\n",
              "    background-color: var(--hover-bg-color);\n",
              "    box-shadow: 0 1px 2px rgba(60, 64, 67, 0.3), 0 1px 3px 1px rgba(60, 64, 67, 0.15);\n",
              "    fill: var(--button-hover-fill-color);\n",
              "  }\n",
              "\n",
              "  .colab-df-quickchart-complete:disabled,\n",
              "  .colab-df-quickchart-complete:disabled:hover {\n",
              "    background-color: var(--disabled-bg-color);\n",
              "    fill: var(--disabled-fill-color);\n",
              "    box-shadow: none;\n",
              "  }\n",
              "\n",
              "  .colab-df-spinner {\n",
              "    border: 2px solid var(--fill-color);\n",
              "    border-color: transparent;\n",
              "    border-bottom-color: var(--fill-color);\n",
              "    animation:\n",
              "      spin 1s steps(1) infinite;\n",
              "  }\n",
              "\n",
              "  @keyframes spin {\n",
              "    0% {\n",
              "      border-color: transparent;\n",
              "      border-bottom-color: var(--fill-color);\n",
              "      border-left-color: var(--fill-color);\n",
              "    }\n",
              "    20% {\n",
              "      border-color: transparent;\n",
              "      border-left-color: var(--fill-color);\n",
              "      border-top-color: var(--fill-color);\n",
              "    }\n",
              "    30% {\n",
              "      border-color: transparent;\n",
              "      border-left-color: var(--fill-color);\n",
              "      border-top-color: var(--fill-color);\n",
              "      border-right-color: var(--fill-color);\n",
              "    }\n",
              "    40% {\n",
              "      border-color: transparent;\n",
              "      border-right-color: var(--fill-color);\n",
              "      border-top-color: var(--fill-color);\n",
              "    }\n",
              "    60% {\n",
              "      border-color: transparent;\n",
              "      border-right-color: var(--fill-color);\n",
              "    }\n",
              "    80% {\n",
              "      border-color: transparent;\n",
              "      border-right-color: var(--fill-color);\n",
              "      border-bottom-color: var(--fill-color);\n",
              "    }\n",
              "    90% {\n",
              "      border-color: transparent;\n",
              "      border-bottom-color: var(--fill-color);\n",
              "    }\n",
              "  }\n",
              "</style>\n",
              "\n",
              "      <script>\n",
              "        async function quickchart(key) {\n",
              "          const quickchartButtonEl =\n",
              "            document.querySelector('#' + key + ' button');\n",
              "          quickchartButtonEl.disabled = true;  // To prevent multiple clicks.\n",
              "          quickchartButtonEl.classList.add('colab-df-spinner');\n",
              "          try {\n",
              "            const charts = await google.colab.kernel.invokeFunction(\n",
              "                'suggestCharts', [key], {});\n",
              "          } catch (error) {\n",
              "            console.error('Error during call to suggestCharts:', error);\n",
              "          }\n",
              "          quickchartButtonEl.classList.remove('colab-df-spinner');\n",
              "          quickchartButtonEl.classList.add('colab-df-quickchart-complete');\n",
              "        }\n",
              "        (() => {\n",
              "          let quickchartButtonEl =\n",
              "            document.querySelector('#df-9514ce6f-1bbe-4835-92b2-75cb5bf30587 button');\n",
              "          quickchartButtonEl.style.display =\n",
              "            google.colab.kernel.accessAllowed ? 'block' : 'none';\n",
              "        })();\n",
              "      </script>\n",
              "    </div>\n",
              "\n",
              "    </div>\n",
              "  </div>\n"
            ],
            "application/vnd.google.colaboratory.intrinsic+json": {
              "type": "dataframe",
              "variable_name": "hist",
              "summary": "{\n  \"name\": \"hist\",\n  \"rows\": 20,\n  \"fields\": [\n    {\n      \"column\": \"accuracy\",\n      \"properties\": {\n        \"dtype\": \"number\",\n        \"std\": 0.0,\n        \"min\": 1.0,\n        \"max\": 1.0,\n        \"num_unique_values\": 1,\n        \"samples\": [\n          1.0\n        ],\n        \"semantic_type\": \"\",\n        \"description\": \"\"\n      }\n    },\n    {\n      \"column\": \"loss\",\n      \"properties\": {\n        \"dtype\": \"number\",\n        \"std\": 1.951213075386484e-05,\n        \"min\": 5.010519817005843e-05,\n        \"max\": 0.00011320877820253372,\n        \"num_unique_values\": 20,\n        \"samples\": [\n          0.00011320877820253372\n        ],\n        \"semantic_type\": \"\",\n        \"description\": \"\"\n      }\n    },\n    {\n      \"column\": \"val_accuracy\",\n      \"properties\": {\n        \"dtype\": \"number\",\n        \"std\": 0.00026328139742603775,\n        \"min\": 0.8450400233268738,\n        \"max\": 0.8458799719810486,\n        \"num_unique_values\": 14,\n        \"samples\": [\n          0.8451600074768066\n        ],\n        \"semantic_type\": \"\",\n        \"description\": \"\"\n      }\n    },\n    {\n      \"column\": \"val_loss\",\n      \"properties\": {\n        \"dtype\": \"number\",\n        \"std\": 0.053130583316043416,\n        \"min\": 1.6723215579986572,\n        \"max\": 1.843502163887024,\n        \"num_unique_values\": 20,\n        \"samples\": [\n          1.6723215579986572\n        ],\n        \"semantic_type\": \"\",\n        \"description\": \"\"\n      }\n    },\n    {\n      \"column\": \"epoch\",\n      \"properties\": {\n        \"dtype\": \"number\",\n        \"std\": 5,\n        \"min\": 0,\n        \"max\": 19,\n        \"num_unique_values\": 20,\n        \"samples\": [\n          0\n        ],\n        \"semantic_type\": \"\",\n        \"description\": \"\"\n      }\n    }\n  ]\n}"
            }
          },
          "metadata": {},
          "execution_count": 33
        }
      ]
    },
    {
      "cell_type": "markdown",
      "metadata": {
        "id": "qrOXVS70ujJz"
      },
      "source": [
        "### <a name='a6'></a> 5. Porównanie wydajności modeli"
      ]
    },
    {
      "cell_type": "code",
      "source": [
        "import plotly.graph_objects as go\n",
        "import pandas as pd\n",
        "\n",
        "fig = go.Figure()\n",
        "for name, history in zip(['smaller', 'baseline', 'bigger'], [smaller_history, baseline_history, bigger_history]):\n",
        "    hist = pd.DataFrame(history.history)\n",
        "    hist['epoch'] = history.epoch\n",
        "\n",
        "    # najpierw loss\n",
        "    for key in ['loss', 'val_loss']:\n",
        "        if key in hist:\n",
        "            fig.add_trace(go.Scatter(x=hist['epoch'], y=hist[key],\n",
        "                                     name=f'{name}_{key}', mode='lines+markers'))\n",
        "\n",
        "    # potem wszystkie pozostałe metryki (np. accuracy, binary_accuracy, auc, itp.)\n",
        "    metrics = [k for k in hist.columns if k not in ['epoch', 'loss', 'val_loss'] and not k.startswith('val_')]\n",
        "    for m in metrics:\n",
        "        fig.add_trace(go.Scatter(x=hist['epoch'], y=hist[m],\n",
        "                                 name=f'{name}_{m}', mode='lines+markers'))\n",
        "        vm = f'val_{m}'\n",
        "        if vm in hist:\n",
        "            fig.add_trace(go.Scatter(x=hist['epoch'], y=hist[vm],\n",
        "                                     name=f'{name}_{vm}', mode='lines+markers'))\n",
        "\n",
        "fig.update_layout(xaxis_title='Epoki', yaxis_title='wartość', legend_title='Serie')\n",
        "fig.show()\n"
      ],
      "metadata": {
        "id": "ZGMaa9s38IBY",
        "outputId": "00304dc7-099a-42be-b656-e9d80c36eebe",
        "colab": {
          "base_uri": "https://localhost:8080/",
          "height": 542
        }
      },
      "execution_count": 36,
      "outputs": [
        {
          "output_type": "display_data",
          "data": {
            "text/html": [
              "<html>\n",
              "<head><meta charset=\"utf-8\" /></head>\n",
              "<body>\n",
              "    <div>            <script src=\"https://cdnjs.cloudflare.com/ajax/libs/mathjax/2.7.5/MathJax.js?config=TeX-AMS-MML_SVG\"></script><script type=\"text/javascript\">if (window.MathJax && window.MathJax.Hub && window.MathJax.Hub.Config) {window.MathJax.Hub.Config({SVG: {font: \"STIX-Web\"}});}</script>                <script type=\"text/javascript\">window.PlotlyConfig = {MathJaxConfig: 'local'};</script>\n",
              "        <script charset=\"utf-8\" src=\"https://cdn.plot.ly/plotly-2.35.2.min.js\"></script>                <div id=\"f312be36-f14c-4e33-93a1-2ca76aaabd20\" class=\"plotly-graph-div\" style=\"height:525px; width:100%;\"></div>            <script type=\"text/javascript\">                                    window.PLOTLYENV=window.PLOTLYENV || {};                                    if (document.getElementById(\"f312be36-f14c-4e33-93a1-2ca76aaabd20\")) {                    Plotly.newPlot(                        \"f312be36-f14c-4e33-93a1-2ca76aaabd20\",                        [{\"mode\":\"lines+markers\",\"name\":\"smaller_loss\",\"x\":[0,1,2,3,4,5,6,7,8,9,10,11,12,13,14,15,16,17,18,19],\"y\":[0.6482158303260803,0.5341416597366333,0.4223634898662567,0.3056747317314148,0.2317921221256256,0.19646437466144562,0.17293065786361694,0.15554951131343842,0.14131681621074677,0.13032203912734985,0.11986789107322693,0.11069837212562561,0.10328676551580429,0.0961298942565918,0.08892776072025299,0.08302556723356247,0.07762546837329865,0.07250422984361649,0.06775818020105362,0.06365025043487549],\"type\":\"scatter\"},{\"mode\":\"lines+markers\",\"name\":\"smaller_val_loss\",\"x\":[0,1,2,3,4,5,6,7,8,9,10,11,12,13,14,15,16,17,18,19],\"y\":[0.5956722497940063,0.5021257400512695,0.4008757174015045,0.31555572152137756,0.2906194031238556,0.28552645444869995,0.2865542769432068,0.2882573902606964,0.29456594586372375,0.3040256202220917,0.3124338388442993,0.32644474506378174,0.33503270149230957,0.34868523478507996,0.3599068820476532,0.371417373418808,0.38681864738464355,0.3994823098182678,0.4131348729133606,0.42680951952934265],\"type\":\"scatter\"},{\"mode\":\"lines+markers\",\"name\":\"smaller_accuracy\",\"x\":[0,1,2,3,4,5,6,7,8,9,10,11,12,13,14,15,16,17,18,19],\"y\":[0.6962400078773499,0.8258399963378906,0.8906800150871277,0.9121599793434143,0.927839994430542,0.9380000233650208,0.9455599784851074,0.9513999819755554,0.9575600028038025,0.9606000185012817,0.9635999798774719,0.9682400226593018,0.9704800248146057,0.9729200005531311,0.9764000177383423,0.9793199896812439,0.9812399744987488,0.9828799962997437,0.9854400157928467,0.9868000149726868],\"type\":\"scatter\"},{\"mode\":\"lines+markers\",\"name\":\"smaller_val_accuracy\",\"x\":[0,1,2,3,4,5,6,7,8,9,10,11,12,13,14,15,16,17,18,19],\"y\":[0.8048800230026245,0.8473600149154663,0.8812800049781799,0.8871600031852722,0.8886799812316895,0.8875200152397156,0.8853999972343445,0.8863599896430969,0.8847600221633911,0.8812400102615356,0.8806800246238708,0.8769199848175049,0.8755999803543091,0.8736400008201599,0.872160017490387,0.8713200092315674,0.8682799935340881,0.8670399785041809,0.866599977016449,0.8648800253868103],\"type\":\"scatter\"},{\"mode\":\"lines+markers\",\"name\":\"smaller_binary_crossentropy\",\"x\":[0,1,2,3,4,5,6,7,8,9,10,11,12,13,14,15,16,17,18,19],\"y\":[0.6482158303260803,0.5341416597366333,0.4223634898662567,0.3056747317314148,0.2317921221256256,0.19646437466144562,0.17293065786361694,0.15554951131343842,0.14131681621074677,0.13032203912734985,0.11986789107322693,0.11069837212562561,0.10328676551580429,0.0961298942565918,0.08892776072025299,0.08302556723356247,0.07762546837329865,0.07250422984361649,0.06775818020105362,0.06365025043487549],\"type\":\"scatter\"},{\"mode\":\"lines+markers\",\"name\":\"smaller_val_binary_crossentropy\",\"x\":[0,1,2,3,4,5,6,7,8,9,10,11,12,13,14,15,16,17,18,19],\"y\":[0.5956722497940063,0.5021257400512695,0.4008757174015045,0.31555572152137756,0.2906194031238556,0.28552645444869995,0.2865542769432068,0.2882573902606964,0.29456594586372375,0.3040256202220917,0.3124338388442993,0.32644474506378174,0.33503270149230957,0.34868523478507996,0.3599068820476532,0.371417373418808,0.38681864738464355,0.3994823098182678,0.4131348729133606,0.42680951952934265],\"type\":\"scatter\"},{\"mode\":\"lines+markers\",\"name\":\"baseline_loss\",\"x\":[0,1,2,3,4,5,6,7,8,9,10,11,12,13,14,15,16,17,18,19],\"y\":[0.00011320877820253372,0.00010794988338602707,0.00010312422091374174,0.00009846192551776767,0.00009399065311299637,0.00008997738041216508,0.00008595044346293435,0.00008221730240620673,0.00007872011337894946,0.00007532568270107731,0.00007215136429294944,0.00006915823905728757,0.00006649657007073984,0.00006368133472278714,0.0000611354480497539,0.00005871244502486661,0.00005635290654026903,0.00005416662315838039,0.00005201627209316939,0.00005010519817005843],\"type\":\"scatter\"},{\"mode\":\"lines+markers\",\"name\":\"baseline_val_loss\",\"x\":[0,1,2,3,4,5,6,7,8,9,10,11,12,13,14,15,16,17,18,19],\"y\":[1.6723215579986572,1.683549165725708,1.6923445463180542,1.7022730112075806,1.7114226818084717,1.721658706665039,1.7299307584762573,1.7394312620162964,1.7485237121582031,1.7577887773513794,1.7667447328567505,1.7758644819259644,1.78466796875,1.7933154106140137,1.8018015623092651,1.8101192712783813,1.8188087940216064,1.8271681070327759,1.8354663848876953,1.843502163887024],\"type\":\"scatter\"},{\"mode\":\"lines+markers\",\"name\":\"baseline_accuracy\",\"x\":[0,1,2,3,4,5,6,7,8,9,10,11,12,13,14,15,16,17,18,19],\"y\":[1.0,1.0,1.0,1.0,1.0,1.0,1.0,1.0,1.0,1.0,1.0,1.0,1.0,1.0,1.0,1.0,1.0,1.0,1.0,1.0],\"type\":\"scatter\"},{\"mode\":\"lines+markers\",\"name\":\"baseline_val_accuracy\",\"x\":[0,1,2,3,4,5,6,7,8,9,10,11,12,13,14,15,16,17,18,19],\"y\":[0.84552001953125,0.8458799719810486,0.8457599878311157,0.8457599878311157,0.8455600142478943,0.8456400036811829,0.84579998254776,0.8456400036811829,0.8455600142478943,0.8454399704933167,0.8453999757766724,0.8454800248146057,0.8454399704933167,0.8451600074768066,0.8453999757766724,0.8452399969100952,0.8450400233268738,0.8450800180435181,0.8450400233268738,0.8451200127601624],\"type\":\"scatter\"},{\"mode\":\"lines+markers\",\"name\":\"bigger_loss\",\"x\":[0,1,2,3,4,5,6,7,8,9,10,11,12,13,14,15,16,17,18,19],\"y\":[0.35706859827041626,0.14687703549861908,0.054990917444229126,0.008422426879405975,0.0012838084949180484,0.00117429718375206,0.00026037244242616,0.00016501544450875372,0.00011195167462574318,0.00008442605030722916,0.00006738286901963875,0.00005535606396733783,0.00004649822221836075,0.0000396040704799816,0.00003414874663576484,0.000029763414204353467,0.000026174257072852924,0.000023156260795076378,0.00002061423765553627,0.00001848160900408402],\"type\":\"scatter\"},{\"mode\":\"lines+markers\",\"name\":\"bigger_val_loss\",\"x\":[0,1,2,3,4,5,6,7,8,9,10,11,12,13,14,15,16,17,18,19],\"y\":[0.2956896424293518,0.33607664704322815,0.4277347922325134,0.5690757036209106,0.6592351794242859,0.6849135160446167,0.7245638370513916,0.7496216893196106,0.7689622640609741,0.787764310836792,0.8038256764411926,0.8175958395004272,0.830150306224823,0.8412736654281616,0.8514053821563721,0.8614833354949951,0.8703879117965698,0.879245936870575,0.8876004815101624,0.8955559134483337],\"type\":\"scatter\"},{\"mode\":\"lines+markers\",\"name\":\"bigger_accuracy\",\"x\":[0,1,2,3,4,5,6,7,8,9,10,11,12,13,14,15,16,17,18,19],\"y\":[0.8459600210189819,0.9450799822807312,0.9834399819374084,0.9987999796867371,0.9999600052833557,0.9999600052833557,0.9999600052833557,1.0,1.0,1.0,1.0,1.0,1.0,1.0,1.0,1.0,1.0,1.0,1.0,1.0],\"type\":\"scatter\"},{\"mode\":\"lines+markers\",\"name\":\"bigger_val_accuracy\",\"x\":[0,1,2,3,4,5,6,7,8,9,10,11,12,13,14,15,16,17,18,19],\"y\":[0.8776000142097473,0.8719199895858765,0.8687199950218201,0.8685600161552429,0.8698400259017944,0.8695999979972839,0.8710399866104126,0.8707600235939026,0.8704400062561035,0.8706799745559692,0.8708400130271912,0.8710399866104126,0.8711199760437012,0.870959997177124,0.8709999918937683,0.8707600235939026,0.8709200024604797,0.8708400130271912,0.8707600235939026,0.8708000183105469],\"type\":\"scatter\"},{\"mode\":\"lines+markers\",\"name\":\"bigger_binary_crossentropy\",\"x\":[0,1,2,3,4,5,6,7,8,9,10,11,12,13,14,15,16,17,18,19],\"y\":[0.35706859827041626,0.14687703549861908,0.054990917444229126,0.008422426879405975,0.0012838084949180484,0.00117429718375206,0.00026037244242616,0.00016501544450875372,0.00011195167462574318,0.00008442605030722916,0.00006738286901963875,0.00005535606396733783,0.00004649822221836075,0.0000396040704799816,0.00003414874663576484,0.000029763414204353467,0.000026174257072852924,0.000023156260795076378,0.00002061423765553627,0.00001848160900408402],\"type\":\"scatter\"},{\"mode\":\"lines+markers\",\"name\":\"bigger_val_binary_crossentropy\",\"x\":[0,1,2,3,4,5,6,7,8,9,10,11,12,13,14,15,16,17,18,19],\"y\":[0.2956896424293518,0.33607664704322815,0.4277347922325134,0.5690757036209106,0.6592351794242859,0.6849135160446167,0.7245638370513916,0.7496216893196106,0.7689622640609741,0.787764310836792,0.8038256764411926,0.8175958395004272,0.830150306224823,0.8412736654281616,0.8514053821563721,0.8614833354949951,0.8703879117965698,0.879245936870575,0.8876004815101624,0.8955559134483337],\"type\":\"scatter\"}],                        {\"template\":{\"data\":{\"histogram2dcontour\":[{\"type\":\"histogram2dcontour\",\"colorbar\":{\"outlinewidth\":0,\"ticks\":\"\"},\"colorscale\":[[0.0,\"#0d0887\"],[0.1111111111111111,\"#46039f\"],[0.2222222222222222,\"#7201a8\"],[0.3333333333333333,\"#9c179e\"],[0.4444444444444444,\"#bd3786\"],[0.5555555555555556,\"#d8576b\"],[0.6666666666666666,\"#ed7953\"],[0.7777777777777778,\"#fb9f3a\"],[0.8888888888888888,\"#fdca26\"],[1.0,\"#f0f921\"]]}],\"choropleth\":[{\"type\":\"choropleth\",\"colorbar\":{\"outlinewidth\":0,\"ticks\":\"\"}}],\"histogram2d\":[{\"type\":\"histogram2d\",\"colorbar\":{\"outlinewidth\":0,\"ticks\":\"\"},\"colorscale\":[[0.0,\"#0d0887\"],[0.1111111111111111,\"#46039f\"],[0.2222222222222222,\"#7201a8\"],[0.3333333333333333,\"#9c179e\"],[0.4444444444444444,\"#bd3786\"],[0.5555555555555556,\"#d8576b\"],[0.6666666666666666,\"#ed7953\"],[0.7777777777777778,\"#fb9f3a\"],[0.8888888888888888,\"#fdca26\"],[1.0,\"#f0f921\"]]}],\"heatmap\":[{\"type\":\"heatmap\",\"colorbar\":{\"outlinewidth\":0,\"ticks\":\"\"},\"colorscale\":[[0.0,\"#0d0887\"],[0.1111111111111111,\"#46039f\"],[0.2222222222222222,\"#7201a8\"],[0.3333333333333333,\"#9c179e\"],[0.4444444444444444,\"#bd3786\"],[0.5555555555555556,\"#d8576b\"],[0.6666666666666666,\"#ed7953\"],[0.7777777777777778,\"#fb9f3a\"],[0.8888888888888888,\"#fdca26\"],[1.0,\"#f0f921\"]]}],\"heatmapgl\":[{\"type\":\"heatmapgl\",\"colorbar\":{\"outlinewidth\":0,\"ticks\":\"\"},\"colorscale\":[[0.0,\"#0d0887\"],[0.1111111111111111,\"#46039f\"],[0.2222222222222222,\"#7201a8\"],[0.3333333333333333,\"#9c179e\"],[0.4444444444444444,\"#bd3786\"],[0.5555555555555556,\"#d8576b\"],[0.6666666666666666,\"#ed7953\"],[0.7777777777777778,\"#fb9f3a\"],[0.8888888888888888,\"#fdca26\"],[1.0,\"#f0f921\"]]}],\"contourcarpet\":[{\"type\":\"contourcarpet\",\"colorbar\":{\"outlinewidth\":0,\"ticks\":\"\"}}],\"contour\":[{\"type\":\"contour\",\"colorbar\":{\"outlinewidth\":0,\"ticks\":\"\"},\"colorscale\":[[0.0,\"#0d0887\"],[0.1111111111111111,\"#46039f\"],[0.2222222222222222,\"#7201a8\"],[0.3333333333333333,\"#9c179e\"],[0.4444444444444444,\"#bd3786\"],[0.5555555555555556,\"#d8576b\"],[0.6666666666666666,\"#ed7953\"],[0.7777777777777778,\"#fb9f3a\"],[0.8888888888888888,\"#fdca26\"],[1.0,\"#f0f921\"]]}],\"surface\":[{\"type\":\"surface\",\"colorbar\":{\"outlinewidth\":0,\"ticks\":\"\"},\"colorscale\":[[0.0,\"#0d0887\"],[0.1111111111111111,\"#46039f\"],[0.2222222222222222,\"#7201a8\"],[0.3333333333333333,\"#9c179e\"],[0.4444444444444444,\"#bd3786\"],[0.5555555555555556,\"#d8576b\"],[0.6666666666666666,\"#ed7953\"],[0.7777777777777778,\"#fb9f3a\"],[0.8888888888888888,\"#fdca26\"],[1.0,\"#f0f921\"]]}],\"mesh3d\":[{\"type\":\"mesh3d\",\"colorbar\":{\"outlinewidth\":0,\"ticks\":\"\"}}],\"scatter\":[{\"fillpattern\":{\"fillmode\":\"overlay\",\"size\":10,\"solidity\":0.2},\"type\":\"scatter\"}],\"parcoords\":[{\"type\":\"parcoords\",\"line\":{\"colorbar\":{\"outlinewidth\":0,\"ticks\":\"\"}}}],\"scatterpolargl\":[{\"type\":\"scatterpolargl\",\"marker\":{\"colorbar\":{\"outlinewidth\":0,\"ticks\":\"\"}}}],\"bar\":[{\"error_x\":{\"color\":\"#2a3f5f\"},\"error_y\":{\"color\":\"#2a3f5f\"},\"marker\":{\"line\":{\"color\":\"#E5ECF6\",\"width\":0.5},\"pattern\":{\"fillmode\":\"overlay\",\"size\":10,\"solidity\":0.2}},\"type\":\"bar\"}],\"scattergeo\":[{\"type\":\"scattergeo\",\"marker\":{\"colorbar\":{\"outlinewidth\":0,\"ticks\":\"\"}}}],\"scatterpolar\":[{\"type\":\"scatterpolar\",\"marker\":{\"colorbar\":{\"outlinewidth\":0,\"ticks\":\"\"}}}],\"histogram\":[{\"marker\":{\"pattern\":{\"fillmode\":\"overlay\",\"size\":10,\"solidity\":0.2}},\"type\":\"histogram\"}],\"scattergl\":[{\"type\":\"scattergl\",\"marker\":{\"colorbar\":{\"outlinewidth\":0,\"ticks\":\"\"}}}],\"scatter3d\":[{\"type\":\"scatter3d\",\"line\":{\"colorbar\":{\"outlinewidth\":0,\"ticks\":\"\"}},\"marker\":{\"colorbar\":{\"outlinewidth\":0,\"ticks\":\"\"}}}],\"scattermapbox\":[{\"type\":\"scattermapbox\",\"marker\":{\"colorbar\":{\"outlinewidth\":0,\"ticks\":\"\"}}}],\"scatterternary\":[{\"type\":\"scatterternary\",\"marker\":{\"colorbar\":{\"outlinewidth\":0,\"ticks\":\"\"}}}],\"scattercarpet\":[{\"type\":\"scattercarpet\",\"marker\":{\"colorbar\":{\"outlinewidth\":0,\"ticks\":\"\"}}}],\"carpet\":[{\"aaxis\":{\"endlinecolor\":\"#2a3f5f\",\"gridcolor\":\"white\",\"linecolor\":\"white\",\"minorgridcolor\":\"white\",\"startlinecolor\":\"#2a3f5f\"},\"baxis\":{\"endlinecolor\":\"#2a3f5f\",\"gridcolor\":\"white\",\"linecolor\":\"white\",\"minorgridcolor\":\"white\",\"startlinecolor\":\"#2a3f5f\"},\"type\":\"carpet\"}],\"table\":[{\"cells\":{\"fill\":{\"color\":\"#EBF0F8\"},\"line\":{\"color\":\"white\"}},\"header\":{\"fill\":{\"color\":\"#C8D4E3\"},\"line\":{\"color\":\"white\"}},\"type\":\"table\"}],\"barpolar\":[{\"marker\":{\"line\":{\"color\":\"#E5ECF6\",\"width\":0.5},\"pattern\":{\"fillmode\":\"overlay\",\"size\":10,\"solidity\":0.2}},\"type\":\"barpolar\"}],\"pie\":[{\"automargin\":true,\"type\":\"pie\"}]},\"layout\":{\"autotypenumbers\":\"strict\",\"colorway\":[\"#636efa\",\"#EF553B\",\"#00cc96\",\"#ab63fa\",\"#FFA15A\",\"#19d3f3\",\"#FF6692\",\"#B6E880\",\"#FF97FF\",\"#FECB52\"],\"font\":{\"color\":\"#2a3f5f\"},\"hovermode\":\"closest\",\"hoverlabel\":{\"align\":\"left\"},\"paper_bgcolor\":\"white\",\"plot_bgcolor\":\"#E5ECF6\",\"polar\":{\"bgcolor\":\"#E5ECF6\",\"angularaxis\":{\"gridcolor\":\"white\",\"linecolor\":\"white\",\"ticks\":\"\"},\"radialaxis\":{\"gridcolor\":\"white\",\"linecolor\":\"white\",\"ticks\":\"\"}},\"ternary\":{\"bgcolor\":\"#E5ECF6\",\"aaxis\":{\"gridcolor\":\"white\",\"linecolor\":\"white\",\"ticks\":\"\"},\"baxis\":{\"gridcolor\":\"white\",\"linecolor\":\"white\",\"ticks\":\"\"},\"caxis\":{\"gridcolor\":\"white\",\"linecolor\":\"white\",\"ticks\":\"\"}},\"coloraxis\":{\"colorbar\":{\"outlinewidth\":0,\"ticks\":\"\"}},\"colorscale\":{\"sequential\":[[0.0,\"#0d0887\"],[0.1111111111111111,\"#46039f\"],[0.2222222222222222,\"#7201a8\"],[0.3333333333333333,\"#9c179e\"],[0.4444444444444444,\"#bd3786\"],[0.5555555555555556,\"#d8576b\"],[0.6666666666666666,\"#ed7953\"],[0.7777777777777778,\"#fb9f3a\"],[0.8888888888888888,\"#fdca26\"],[1.0,\"#f0f921\"]],\"sequentialminus\":[[0.0,\"#0d0887\"],[0.1111111111111111,\"#46039f\"],[0.2222222222222222,\"#7201a8\"],[0.3333333333333333,\"#9c179e\"],[0.4444444444444444,\"#bd3786\"],[0.5555555555555556,\"#d8576b\"],[0.6666666666666666,\"#ed7953\"],[0.7777777777777778,\"#fb9f3a\"],[0.8888888888888888,\"#fdca26\"],[1.0,\"#f0f921\"]],\"diverging\":[[0,\"#8e0152\"],[0.1,\"#c51b7d\"],[0.2,\"#de77ae\"],[0.3,\"#f1b6da\"],[0.4,\"#fde0ef\"],[0.5,\"#f7f7f7\"],[0.6,\"#e6f5d0\"],[0.7,\"#b8e186\"],[0.8,\"#7fbc41\"],[0.9,\"#4d9221\"],[1,\"#276419\"]]},\"xaxis\":{\"gridcolor\":\"white\",\"linecolor\":\"white\",\"ticks\":\"\",\"title\":{\"standoff\":15},\"zerolinecolor\":\"white\",\"automargin\":true,\"zerolinewidth\":2},\"yaxis\":{\"gridcolor\":\"white\",\"linecolor\":\"white\",\"ticks\":\"\",\"title\":{\"standoff\":15},\"zerolinecolor\":\"white\",\"automargin\":true,\"zerolinewidth\":2},\"scene\":{\"xaxis\":{\"backgroundcolor\":\"#E5ECF6\",\"gridcolor\":\"white\",\"linecolor\":\"white\",\"showbackground\":true,\"ticks\":\"\",\"zerolinecolor\":\"white\",\"gridwidth\":2},\"yaxis\":{\"backgroundcolor\":\"#E5ECF6\",\"gridcolor\":\"white\",\"linecolor\":\"white\",\"showbackground\":true,\"ticks\":\"\",\"zerolinecolor\":\"white\",\"gridwidth\":2},\"zaxis\":{\"backgroundcolor\":\"#E5ECF6\",\"gridcolor\":\"white\",\"linecolor\":\"white\",\"showbackground\":true,\"ticks\":\"\",\"zerolinecolor\":\"white\",\"gridwidth\":2}},\"shapedefaults\":{\"line\":{\"color\":\"#2a3f5f\"}},\"annotationdefaults\":{\"arrowcolor\":\"#2a3f5f\",\"arrowhead\":0,\"arrowwidth\":1},\"geo\":{\"bgcolor\":\"white\",\"landcolor\":\"#E5ECF6\",\"subunitcolor\":\"white\",\"showland\":true,\"showlakes\":true,\"lakecolor\":\"white\"},\"title\":{\"x\":0.05},\"mapbox\":{\"style\":\"light\"}}},\"xaxis\":{\"title\":{\"text\":\"Epoki\"}},\"yaxis\":{\"title\":{\"text\":\"wartość\"}},\"legend\":{\"title\":{\"text\":\"Serie\"}}},                        {\"responsive\": true}                    ).then(function(){\n",
              "                            \n",
              "var gd = document.getElementById('f312be36-f14c-4e33-93a1-2ca76aaabd20');\n",
              "var x = new MutationObserver(function (mutations, observer) {{\n",
              "        var display = window.getComputedStyle(gd).display;\n",
              "        if (!display || display === 'none') {{\n",
              "            console.log([gd, 'removed!']);\n",
              "            Plotly.purge(gd);\n",
              "            observer.disconnect();\n",
              "        }}\n",
              "}});\n",
              "\n",
              "// Listen for the removal of the full notebook cells\n",
              "var notebookContainer = gd.closest('#notebook-container');\n",
              "if (notebookContainer) {{\n",
              "    x.observe(notebookContainer, {childList: true});\n",
              "}}\n",
              "\n",
              "// Listen for the clearing of the current output cell\n",
              "var outputEl = gd.closest('.output');\n",
              "if (outputEl) {{\n",
              "    x.observe(outputEl, {childList: true});\n",
              "}}\n",
              "\n",
              "                        })                };                            </script>        </div>\n",
              "</body>\n",
              "</html>"
            ]
          },
          "metadata": {}
        }
      ]
    },
    {
      "cell_type": "markdown",
      "metadata": {
        "id": "mFFZaviHuyUh"
      },
      "source": [
        "### <a name='a7'></a> 6. Metody regularyzacji"
      ]
    },
    {
      "cell_type": "code",
      "metadata": {
        "id": "wgv455fqqsFz",
        "outputId": "18a69d19-aac1-4944-cc4f-74651c93cdb5",
        "colab": {
          "base_uri": "https://localhost:8080/",
          "height": 257
        }
      },
      "source": [
        "from tensorflow.keras.regularizers import l2\n",
        "\n",
        "l2_model = Sequential()\n",
        "l2_model.add(Dense(16, kernel_regularizer=l2(0.001), activation='relu', input_shape=(NUM_WORDS,)))\n",
        "l2_model.add(Dense(16, kernel_regularizer=l2(0.01), activation='relu'))\n",
        "l2_model.add(Dense(1, activation='sigmoid'))\n",
        "\n",
        "l2_model.compile(optimizer='adam',\n",
        "                 loss='binary_crossentropy',\n",
        "                 metrics=['accuracy', 'binary_crossentropy'])\n",
        "\n",
        "l2_model.summary()"
      ],
      "execution_count": null,
      "outputs": [
        {
          "output_type": "stream",
          "text": [
            "Model: \"sequential_3\"\n",
            "_________________________________________________________________\n",
            "Layer (type)                 Output Shape              Param #   \n",
            "=================================================================\n",
            "dense_9 (Dense)              (None, 16)                160016    \n",
            "_________________________________________________________________\n",
            "dense_10 (Dense)             (None, 16)                272       \n",
            "_________________________________________________________________\n",
            "dense_11 (Dense)             (None, 1)                 17        \n",
            "=================================================================\n",
            "Total params: 160,305\n",
            "Trainable params: 160,305\n",
            "Non-trainable params: 0\n",
            "_________________________________________________________________\n"
          ],
          "name": "stdout"
        }
      ]
    },
    {
      "cell_type": "code",
      "metadata": {
        "id": "8N5Cw0JcwNA0",
        "outputId": "f84554c3-b3e5-431c-da7d-4899ded2194f",
        "colab": {
          "base_uri": "https://localhost:8080/",
          "height": 740
        }
      },
      "source": [
        "l2_model_history = l2_model.fit(train_data, train_labels, epochs=20, batch_size=512, validation_data=(test_data, test_labels))"
      ],
      "execution_count": null,
      "outputs": [
        {
          "output_type": "stream",
          "text": [
            "Train on 25000 samples, validate on 25000 samples\n",
            "Epoch 1/20\n",
            "25000/25000 [==============================] - 6s 247us/sample - loss: 0.6659 - accuracy: 0.7930 - binary_crossentropy: 0.5133 - val_loss: 0.5164 - val_accuracy: 0.8678 - val_binary_crossentropy: 0.3760\n",
            "Epoch 2/20\n",
            "25000/25000 [==============================] - 4s 142us/sample - loss: 0.4263 - accuracy: 0.8990 - binary_crossentropy: 0.2894 - val_loss: 0.4301 - val_accuracy: 0.8856 - val_binary_crossentropy: 0.2985\n",
            "Epoch 3/20\n",
            "25000/25000 [==============================] - 4s 141us/sample - loss: 0.3523 - accuracy: 0.9217 - binary_crossentropy: 0.2253 - val_loss: 0.4065 - val_accuracy: 0.8878 - val_binary_crossentropy: 0.2849\n",
            "Epoch 4/20\n",
            "25000/25000 [==============================] - 4s 142us/sample - loss: 0.3143 - accuracy: 0.9334 - binary_crossentropy: 0.1967 - val_loss: 0.3959 - val_accuracy: 0.8871 - val_binary_crossentropy: 0.2828\n",
            "Epoch 5/20\n",
            "25000/25000 [==============================] - 4s 144us/sample - loss: 0.2904 - accuracy: 0.9413 - binary_crossentropy: 0.1803 - val_loss: 0.3982 - val_accuracy: 0.8831 - val_binary_crossentropy: 0.2914\n",
            "Epoch 6/20\n",
            "25000/25000 [==============================] - 4s 142us/sample - loss: 0.2750 - accuracy: 0.9431 - binary_crossentropy: 0.1705 - val_loss: 0.3940 - val_accuracy: 0.8827 - val_binary_crossentropy: 0.2920\n",
            "Epoch 7/20\n",
            "25000/25000 [==============================] - 4s 142us/sample - loss: 0.2595 - accuracy: 0.9482 - binary_crossentropy: 0.1595 - val_loss: 0.3947 - val_accuracy: 0.8803 - val_binary_crossentropy: 0.2968\n",
            "Epoch 8/20\n",
            "25000/25000 [==============================] - 4s 140us/sample - loss: 0.2501 - accuracy: 0.9504 - binary_crossentropy: 0.1535 - val_loss: 0.3956 - val_accuracy: 0.8792 - val_binary_crossentropy: 0.3006\n",
            "Epoch 9/20\n",
            "25000/25000 [==============================] - 3s 139us/sample - loss: 0.2413 - accuracy: 0.9524 - binary_crossentropy: 0.1468 - val_loss: 0.3981 - val_accuracy: 0.8778 - val_binary_crossentropy: 0.3049\n",
            "Epoch 10/20\n",
            "25000/25000 [==============================] - 4s 144us/sample - loss: 0.2347 - accuracy: 0.9542 - binary_crossentropy: 0.1422 - val_loss: 0.4015 - val_accuracy: 0.8758 - val_binary_crossentropy: 0.3100\n",
            "Epoch 11/20\n",
            "25000/25000 [==============================] - 4s 145us/sample - loss: 0.2293 - accuracy: 0.9557 - binary_crossentropy: 0.1379 - val_loss: 0.4077 - val_accuracy: 0.8749 - val_binary_crossentropy: 0.3170\n",
            "Epoch 12/20\n",
            "25000/25000 [==============================] - 4s 143us/sample - loss: 0.2229 - accuracy: 0.9572 - binary_crossentropy: 0.1326 - val_loss: 0.4124 - val_accuracy: 0.8732 - val_binary_crossentropy: 0.3229\n",
            "Epoch 13/20\n",
            "25000/25000 [==============================] - 4s 145us/sample - loss: 0.2197 - accuracy: 0.9572 - binary_crossentropy: 0.1302 - val_loss: 0.4148 - val_accuracy: 0.8722 - val_binary_crossentropy: 0.3260\n",
            "Epoch 14/20\n",
            "25000/25000 [==============================] - 4s 145us/sample - loss: 0.2156 - accuracy: 0.9601 - binary_crossentropy: 0.1271 - val_loss: 0.4217 - val_accuracy: 0.8702 - val_binary_crossentropy: 0.3336\n",
            "Epoch 15/20\n",
            "25000/25000 [==============================] - 4s 142us/sample - loss: 0.2110 - accuracy: 0.9614 - binary_crossentropy: 0.1230 - val_loss: 0.4239 - val_accuracy: 0.8699 - val_binary_crossentropy: 0.3365\n",
            "Epoch 16/20\n",
            "25000/25000 [==============================] - 4s 142us/sample - loss: 0.2063 - accuracy: 0.9624 - binary_crossentropy: 0.1190 - val_loss: 0.4274 - val_accuracy: 0.8700 - val_binary_crossentropy: 0.3405\n",
            "Epoch 17/20\n",
            "25000/25000 [==============================] - 4s 142us/sample - loss: 0.2032 - accuracy: 0.9644 - binary_crossentropy: 0.1165 - val_loss: 0.4305 - val_accuracy: 0.8696 - val_binary_crossentropy: 0.3441\n",
            "Epoch 18/20\n",
            "25000/25000 [==============================] - 4s 141us/sample - loss: 0.2009 - accuracy: 0.9640 - binary_crossentropy: 0.1146 - val_loss: 0.4361 - val_accuracy: 0.8689 - val_binary_crossentropy: 0.3502\n",
            "Epoch 19/20\n",
            "25000/25000 [==============================] - 4s 144us/sample - loss: 0.1983 - accuracy: 0.9652 - binary_crossentropy: 0.1126 - val_loss: 0.4391 - val_accuracy: 0.8677 - val_binary_crossentropy: 0.3537\n",
            "Epoch 20/20\n",
            "25000/25000 [==============================] - 4s 143us/sample - loss: 0.1964 - accuracy: 0.9651 - binary_crossentropy: 0.1111 - val_loss: 0.4441 - val_accuracy: 0.8659 - val_binary_crossentropy: 0.3590\n"
          ],
          "name": "stdout"
        }
      ]
    },
    {
      "cell_type": "code",
      "metadata": {
        "id": "nmrr_vzHwSJP",
        "outputId": "52e1744e-fccb-4672-cf06-6ce35f173109",
        "colab": {
          "base_uri": "https://localhost:8080/",
          "height": 542
        }
      },
      "source": [
        "fig = go.Figure()\n",
        "for name, history in zip(['baseline', 'l2'], [baseline_history, l2_model_history]):\n",
        "    hist = pd.DataFrame(history.history)\n",
        "    hist['epoch'] = history.epoch\n",
        "    fig.add_trace(go.Scatter(x=hist['epoch'], y=hist['binary_crossentropy'], name=name + '_binary_crossentropy', mode='lines+markers'))\n",
        "    fig.add_trace(go.Scatter(x=hist['epoch'], y=hist['val_binary_crossentropy'], name=name + '_val_binary_crossentropy', mode='lines+markers'))\n",
        "    fig.update_layout(xaxis_title='Epoki', yaxis_title='binary_crossentropy')\n",
        "fig.show()"
      ],
      "execution_count": null,
      "outputs": [
        {
          "output_type": "display_data",
          "data": {
            "text/html": [
              "<html>\n",
              "<head><meta charset=\"utf-8\" /></head>\n",
              "<body>\n",
              "    <div>\n",
              "            <script src=\"https://cdnjs.cloudflare.com/ajax/libs/mathjax/2.7.5/MathJax.js?config=TeX-AMS-MML_SVG\"></script><script type=\"text/javascript\">if (window.MathJax) {MathJax.Hub.Config({SVG: {font: \"STIX-Web\"}});}</script>\n",
              "                <script type=\"text/javascript\">window.PlotlyConfig = {MathJaxConfig: 'local'};</script>\n",
              "        <script src=\"https://cdn.plot.ly/plotly-latest.min.js\"></script>    \n",
              "            <div id=\"d32cdd43-b3e7-47f3-b1b0-25bd7ecf5899\" class=\"plotly-graph-div\" style=\"height:525px; width:100%;\"></div>\n",
              "            <script type=\"text/javascript\">\n",
              "                \n",
              "                    window.PLOTLYENV=window.PLOTLYENV || {};\n",
              "                    \n",
              "                if (document.getElementById(\"d32cdd43-b3e7-47f3-b1b0-25bd7ecf5899\")) {\n",
              "                    Plotly.newPlot(\n",
              "                        'd32cdd43-b3e7-47f3-b1b0-25bd7ecf5899',\n",
              "                        [{\"mode\": \"lines+markers\", \"name\": \"baseline_binary_crossentropy\", \"type\": \"scatter\", \"x\": [0, 1, 2, 3, 4, 5, 6, 7, 8, 9, 10, 11, 12, 13, 14, 15, 16, 17, 18, 19], \"y\": [0.5458354949951172, 0.26826393604278564, 0.1822649985551834, 0.1414341777563095, 0.11278166621923447, 0.0911192074418068, 0.07160792499780655, 0.0546804741024971, 0.041487645357847214, 0.030638523399829865, 0.02204114757478237, 0.01638774201273918, 0.012271338142454624, 0.009571004658937454, 0.0075669861398637295, 0.006049825344234705, 0.004959026351571083, 0.004168597981333733, 0.0035497217904776335, 0.003055641194805503]}, {\"mode\": \"lines+markers\", \"name\": \"baseline_val_binary_crossentropy\", \"type\": \"scatter\", \"x\": [0, 1, 2, 3, 4, 5, 6, 7, 8, 9, 10, 11, 12, 13, 14, 15, 16, 17, 18, 19], \"y\": [0.38350436091423035, 0.28784722089767456, 0.2973597049713135, 0.31806132197380066, 0.3485700488090515, 0.3848962187767029, 0.4256404638290405, 0.46835967898368835, 0.5109506845474243, 0.5542826056480408, 0.5933274030685425, 0.6333171725273132, 0.6727849841117859, 0.7060239315032959, 0.7309925556182861, 0.7605109214782715, 0.7825473546981812, 0.807994544506073, 0.8294788002967834, 0.8493474125862122]}, {\"mode\": \"lines+markers\", \"name\": \"l2_binary_crossentropy\", \"type\": \"scatter\", \"x\": [0, 1, 2, 3, 4, 5, 6, 7, 8, 9, 10, 11, 12, 13, 14, 15, 16, 17, 18, 19], \"y\": [0.5133035182952881, 0.2893822193145752, 0.22527724504470825, 0.1966918706893921, 0.1802876889705658, 0.1705113798379898, 0.15949998795986176, 0.1534968912601471, 0.14681807160377502, 0.14217594265937805, 0.13794510066509247, 0.13257832825183868, 0.1302383840084076, 0.12711159884929657, 0.12299340963363647, 0.11901065707206726, 0.1164788156747818, 0.11457639932632446, 0.11255297064781189, 0.11113090068101883]}, {\"mode\": \"lines+markers\", \"name\": \"l2_val_binary_crossentropy\", \"type\": \"scatter\", \"x\": [0, 1, 2, 3, 4, 5, 6, 7, 8, 9, 10, 11, 12, 13, 14, 15, 16, 17, 18, 19], \"y\": [0.37600472569465637, 0.2984785735607147, 0.28486087918281555, 0.28277066349983215, 0.29143911600112915, 0.2920430600643158, 0.2967972755432129, 0.30059802532196045, 0.3049454391002655, 0.30997177958488464, 0.31695640087127686, 0.3228829503059387, 0.32597047090530396, 0.33361613750457764, 0.33646777272224426, 0.34052157402038574, 0.34413066506385803, 0.35022711753845215, 0.35371336340904236, 0.3590225279331207]}],\n",
              "                        {\"template\": {\"data\": {\"bar\": [{\"error_x\": {\"color\": \"#2a3f5f\"}, \"error_y\": {\"color\": \"#2a3f5f\"}, \"marker\": {\"line\": {\"color\": \"#E5ECF6\", \"width\": 0.5}}, \"type\": \"bar\"}], \"barpolar\": [{\"marker\": {\"line\": {\"color\": \"#E5ECF6\", \"width\": 0.5}}, \"type\": \"barpolar\"}], \"carpet\": [{\"aaxis\": {\"endlinecolor\": \"#2a3f5f\", \"gridcolor\": \"white\", \"linecolor\": \"white\", \"minorgridcolor\": \"white\", \"startlinecolor\": \"#2a3f5f\"}, \"baxis\": {\"endlinecolor\": \"#2a3f5f\", \"gridcolor\": \"white\", \"linecolor\": \"white\", \"minorgridcolor\": \"white\", \"startlinecolor\": \"#2a3f5f\"}, \"type\": \"carpet\"}], \"choropleth\": [{\"colorbar\": {\"outlinewidth\": 0, \"ticks\": \"\"}, \"type\": \"choropleth\"}], \"contour\": [{\"colorbar\": {\"outlinewidth\": 0, \"ticks\": \"\"}, \"colorscale\": [[0.0, \"#0d0887\"], [0.1111111111111111, \"#46039f\"], [0.2222222222222222, \"#7201a8\"], [0.3333333333333333, \"#9c179e\"], [0.4444444444444444, \"#bd3786\"], [0.5555555555555556, \"#d8576b\"], [0.6666666666666666, \"#ed7953\"], [0.7777777777777778, \"#fb9f3a\"], [0.8888888888888888, \"#fdca26\"], [1.0, \"#f0f921\"]], \"type\": \"contour\"}], \"contourcarpet\": [{\"colorbar\": {\"outlinewidth\": 0, \"ticks\": \"\"}, \"type\": \"contourcarpet\"}], \"heatmap\": [{\"colorbar\": {\"outlinewidth\": 0, \"ticks\": \"\"}, \"colorscale\": [[0.0, \"#0d0887\"], [0.1111111111111111, \"#46039f\"], [0.2222222222222222, \"#7201a8\"], [0.3333333333333333, \"#9c179e\"], [0.4444444444444444, \"#bd3786\"], [0.5555555555555556, \"#d8576b\"], [0.6666666666666666, \"#ed7953\"], [0.7777777777777778, \"#fb9f3a\"], [0.8888888888888888, \"#fdca26\"], [1.0, \"#f0f921\"]], \"type\": \"heatmap\"}], \"heatmapgl\": [{\"colorbar\": {\"outlinewidth\": 0, \"ticks\": \"\"}, \"colorscale\": [[0.0, \"#0d0887\"], [0.1111111111111111, \"#46039f\"], [0.2222222222222222, \"#7201a8\"], [0.3333333333333333, \"#9c179e\"], [0.4444444444444444, \"#bd3786\"], [0.5555555555555556, \"#d8576b\"], [0.6666666666666666, \"#ed7953\"], [0.7777777777777778, \"#fb9f3a\"], [0.8888888888888888, \"#fdca26\"], [1.0, \"#f0f921\"]], \"type\": \"heatmapgl\"}], \"histogram\": [{\"marker\": {\"colorbar\": {\"outlinewidth\": 0, \"ticks\": \"\"}}, \"type\": \"histogram\"}], \"histogram2d\": [{\"colorbar\": {\"outlinewidth\": 0, \"ticks\": \"\"}, \"colorscale\": [[0.0, \"#0d0887\"], [0.1111111111111111, \"#46039f\"], [0.2222222222222222, \"#7201a8\"], [0.3333333333333333, \"#9c179e\"], [0.4444444444444444, \"#bd3786\"], [0.5555555555555556, \"#d8576b\"], [0.6666666666666666, \"#ed7953\"], [0.7777777777777778, \"#fb9f3a\"], [0.8888888888888888, \"#fdca26\"], [1.0, \"#f0f921\"]], \"type\": \"histogram2d\"}], \"histogram2dcontour\": [{\"colorbar\": {\"outlinewidth\": 0, \"ticks\": \"\"}, \"colorscale\": [[0.0, \"#0d0887\"], [0.1111111111111111, \"#46039f\"], [0.2222222222222222, \"#7201a8\"], [0.3333333333333333, \"#9c179e\"], [0.4444444444444444, \"#bd3786\"], [0.5555555555555556, \"#d8576b\"], [0.6666666666666666, \"#ed7953\"], [0.7777777777777778, \"#fb9f3a\"], [0.8888888888888888, \"#fdca26\"], [1.0, \"#f0f921\"]], \"type\": \"histogram2dcontour\"}], \"mesh3d\": [{\"colorbar\": {\"outlinewidth\": 0, \"ticks\": \"\"}, \"type\": \"mesh3d\"}], \"parcoords\": [{\"line\": {\"colorbar\": {\"outlinewidth\": 0, \"ticks\": \"\"}}, \"type\": \"parcoords\"}], \"scatter\": [{\"marker\": {\"colorbar\": {\"outlinewidth\": 0, \"ticks\": \"\"}}, \"type\": \"scatter\"}], \"scatter3d\": [{\"line\": {\"colorbar\": {\"outlinewidth\": 0, \"ticks\": \"\"}}, \"marker\": {\"colorbar\": {\"outlinewidth\": 0, \"ticks\": \"\"}}, \"type\": \"scatter3d\"}], \"scattercarpet\": [{\"marker\": {\"colorbar\": {\"outlinewidth\": 0, \"ticks\": \"\"}}, \"type\": \"scattercarpet\"}], \"scattergeo\": [{\"marker\": {\"colorbar\": {\"outlinewidth\": 0, \"ticks\": \"\"}}, \"type\": \"scattergeo\"}], \"scattergl\": [{\"marker\": {\"colorbar\": {\"outlinewidth\": 0, \"ticks\": \"\"}}, \"type\": \"scattergl\"}], \"scattermapbox\": [{\"marker\": {\"colorbar\": {\"outlinewidth\": 0, \"ticks\": \"\"}}, \"type\": \"scattermapbox\"}], \"scatterpolar\": [{\"marker\": {\"colorbar\": {\"outlinewidth\": 0, \"ticks\": \"\"}}, \"type\": \"scatterpolar\"}], \"scatterpolargl\": [{\"marker\": {\"colorbar\": {\"outlinewidth\": 0, \"ticks\": \"\"}}, \"type\": \"scatterpolargl\"}], \"scatterternary\": [{\"marker\": {\"colorbar\": {\"outlinewidth\": 0, \"ticks\": \"\"}}, \"type\": \"scatterternary\"}], \"surface\": [{\"colorbar\": {\"outlinewidth\": 0, \"ticks\": \"\"}, \"colorscale\": [[0.0, \"#0d0887\"], [0.1111111111111111, \"#46039f\"], [0.2222222222222222, \"#7201a8\"], [0.3333333333333333, \"#9c179e\"], [0.4444444444444444, \"#bd3786\"], [0.5555555555555556, \"#d8576b\"], [0.6666666666666666, \"#ed7953\"], [0.7777777777777778, \"#fb9f3a\"], [0.8888888888888888, \"#fdca26\"], [1.0, \"#f0f921\"]], \"type\": \"surface\"}], \"table\": [{\"cells\": {\"fill\": {\"color\": \"#EBF0F8\"}, \"line\": {\"color\": \"white\"}}, \"header\": {\"fill\": {\"color\": \"#C8D4E3\"}, \"line\": {\"color\": \"white\"}}, \"type\": \"table\"}]}, \"layout\": {\"annotationdefaults\": {\"arrowcolor\": \"#2a3f5f\", \"arrowhead\": 0, \"arrowwidth\": 1}, \"colorscale\": {\"diverging\": [[0, \"#8e0152\"], [0.1, \"#c51b7d\"], [0.2, \"#de77ae\"], [0.3, \"#f1b6da\"], [0.4, \"#fde0ef\"], [0.5, \"#f7f7f7\"], [0.6, \"#e6f5d0\"], [0.7, \"#b8e186\"], [0.8, \"#7fbc41\"], [0.9, \"#4d9221\"], [1, \"#276419\"]], \"sequential\": [[0.0, \"#0d0887\"], [0.1111111111111111, \"#46039f\"], [0.2222222222222222, \"#7201a8\"], [0.3333333333333333, \"#9c179e\"], [0.4444444444444444, \"#bd3786\"], [0.5555555555555556, \"#d8576b\"], [0.6666666666666666, \"#ed7953\"], [0.7777777777777778, \"#fb9f3a\"], [0.8888888888888888, \"#fdca26\"], [1.0, \"#f0f921\"]], \"sequentialminus\": [[0.0, \"#0d0887\"], [0.1111111111111111, \"#46039f\"], [0.2222222222222222, \"#7201a8\"], [0.3333333333333333, \"#9c179e\"], [0.4444444444444444, \"#bd3786\"], [0.5555555555555556, \"#d8576b\"], [0.6666666666666666, \"#ed7953\"], [0.7777777777777778, \"#fb9f3a\"], [0.8888888888888888, \"#fdca26\"], [1.0, \"#f0f921\"]]}, \"colorway\": [\"#636efa\", \"#EF553B\", \"#00cc96\", \"#ab63fa\", \"#FFA15A\", \"#19d3f3\", \"#FF6692\", \"#B6E880\", \"#FF97FF\", \"#FECB52\"], \"font\": {\"color\": \"#2a3f5f\"}, \"geo\": {\"bgcolor\": \"white\", \"lakecolor\": \"white\", \"landcolor\": \"#E5ECF6\", \"showlakes\": true, \"showland\": true, \"subunitcolor\": \"white\"}, \"hoverlabel\": {\"align\": \"left\"}, \"hovermode\": \"closest\", \"mapbox\": {\"style\": \"light\"}, \"paper_bgcolor\": \"white\", \"plot_bgcolor\": \"#E5ECF6\", \"polar\": {\"angularaxis\": {\"gridcolor\": \"white\", \"linecolor\": \"white\", \"ticks\": \"\"}, \"bgcolor\": \"#E5ECF6\", \"radialaxis\": {\"gridcolor\": \"white\", \"linecolor\": \"white\", \"ticks\": \"\"}}, \"scene\": {\"xaxis\": {\"backgroundcolor\": \"#E5ECF6\", \"gridcolor\": \"white\", \"gridwidth\": 2, \"linecolor\": \"white\", \"showbackground\": true, \"ticks\": \"\", \"zerolinecolor\": \"white\"}, \"yaxis\": {\"backgroundcolor\": \"#E5ECF6\", \"gridcolor\": \"white\", \"gridwidth\": 2, \"linecolor\": \"white\", \"showbackground\": true, \"ticks\": \"\", \"zerolinecolor\": \"white\"}, \"zaxis\": {\"backgroundcolor\": \"#E5ECF6\", \"gridcolor\": \"white\", \"gridwidth\": 2, \"linecolor\": \"white\", \"showbackground\": true, \"ticks\": \"\", \"zerolinecolor\": \"white\"}}, \"shapedefaults\": {\"line\": {\"color\": \"#2a3f5f\"}}, \"ternary\": {\"aaxis\": {\"gridcolor\": \"white\", \"linecolor\": \"white\", \"ticks\": \"\"}, \"baxis\": {\"gridcolor\": \"white\", \"linecolor\": \"white\", \"ticks\": \"\"}, \"bgcolor\": \"#E5ECF6\", \"caxis\": {\"gridcolor\": \"white\", \"linecolor\": \"white\", \"ticks\": \"\"}}, \"title\": {\"x\": 0.05}, \"xaxis\": {\"automargin\": true, \"gridcolor\": \"white\", \"linecolor\": \"white\", \"ticks\": \"\", \"zerolinecolor\": \"white\", \"zerolinewidth\": 2}, \"yaxis\": {\"automargin\": true, \"gridcolor\": \"white\", \"linecolor\": \"white\", \"ticks\": \"\", \"zerolinecolor\": \"white\", \"zerolinewidth\": 2}}}, \"xaxis\": {\"title\": {\"text\": \"Epoki\"}}, \"yaxis\": {\"title\": {\"text\": \"binary_crossentropy\"}}},\n",
              "                        {\"responsive\": true}\n",
              "                    ).then(function(){\n",
              "                            \n",
              "var gd = document.getElementById('d32cdd43-b3e7-47f3-b1b0-25bd7ecf5899');\n",
              "var x = new MutationObserver(function (mutations, observer) {{\n",
              "        var display = window.getComputedStyle(gd).display;\n",
              "        if (!display || display === 'none') {{\n",
              "            console.log([gd, 'removed!']);\n",
              "            Plotly.purge(gd);\n",
              "            observer.disconnect();\n",
              "        }}\n",
              "}});\n",
              "\n",
              "// Listen for the removal of the full notebook cells\n",
              "var notebookContainer = gd.closest('#notebook-container');\n",
              "if (notebookContainer) {{\n",
              "    x.observe(notebookContainer, {childList: true});\n",
              "}}\n",
              "\n",
              "// Listen for the clearing of the current output cell\n",
              "var outputEl = gd.closest('.output');\n",
              "if (outputEl) {{\n",
              "    x.observe(outputEl, {childList: true});\n",
              "}}\n",
              "\n",
              "                        })\n",
              "                };\n",
              "                \n",
              "            </script>\n",
              "        </div>\n",
              "</body>\n",
              "</html>"
            ]
          },
          "metadata": {
            "tags": []
          }
        }
      ]
    },
    {
      "cell_type": "code",
      "metadata": {
        "id": "gIQnJCzQxD4P",
        "outputId": "1a69a80e-f308-4351-988f-0873290c6994",
        "colab": {
          "base_uri": "https://localhost:8080/",
          "height": 326
        }
      },
      "source": [
        "from tensorflow.keras.layers import Dropout\n",
        "\n",
        "dropout_model = Sequential()\n",
        "dropout_model.add(Dense(16, activation='relu', input_shape=(NUM_WORDS,)))\n",
        "dropout_model.add(Dropout(0.5))\n",
        "dropout_model.add(Dense(16, activation='relu'))\n",
        "dropout_model.add(Dropout(0.5))\n",
        "dropout_model.add(Dense(1, activation='sigmoid'))\n",
        "\n",
        "dropout_model.compile(optimizer='adam',\n",
        "                 loss='binary_crossentropy',\n",
        "                 metrics=['accuracy', 'binary_crossentropy'])\n",
        "\n",
        "dropout_model.summary()"
      ],
      "execution_count": null,
      "outputs": [
        {
          "output_type": "stream",
          "text": [
            "Model: \"sequential_4\"\n",
            "_________________________________________________________________\n",
            "Layer (type)                 Output Shape              Param #   \n",
            "=================================================================\n",
            "dense_12 (Dense)             (None, 16)                160016    \n",
            "_________________________________________________________________\n",
            "dropout (Dropout)            (None, 16)                0         \n",
            "_________________________________________________________________\n",
            "dense_13 (Dense)             (None, 16)                272       \n",
            "_________________________________________________________________\n",
            "dropout_1 (Dropout)          (None, 16)                0         \n",
            "_________________________________________________________________\n",
            "dense_14 (Dense)             (None, 1)                 17        \n",
            "=================================================================\n",
            "Total params: 160,305\n",
            "Trainable params: 160,305\n",
            "Non-trainable params: 0\n",
            "_________________________________________________________________\n"
          ],
          "name": "stdout"
        }
      ]
    },
    {
      "cell_type": "code",
      "metadata": {
        "id": "tvBinOCuyMu_",
        "outputId": "74dafa48-b8c0-44db-e9aa-b3e139f1643f",
        "colab": {
          "base_uri": "https://localhost:8080/",
          "height": 740
        }
      },
      "source": [
        "dropout_history = dropout_model.fit(train_data, train_labels, epochs=20, batch_size=512, validation_data=(test_data, test_labels))"
      ],
      "execution_count": null,
      "outputs": [
        {
          "output_type": "stream",
          "text": [
            "Train on 25000 samples, validate on 25000 samples\n",
            "Epoch 1/20\n",
            "25000/25000 [==============================] - 4s 180us/sample - loss: 0.6474 - accuracy: 0.6074 - binary_crossentropy: 0.6474 - val_loss: 0.5360 - val_accuracy: 0.8468 - val_binary_crossentropy: 0.5360\n",
            "Epoch 2/20\n",
            "25000/25000 [==============================] - 4s 147us/sample - loss: 0.5059 - accuracy: 0.7613 - binary_crossentropy: 0.5059 - val_loss: 0.3876 - val_accuracy: 0.8795 - val_binary_crossentropy: 0.3876\n",
            "Epoch 3/20\n",
            "25000/25000 [==============================] - 4s 144us/sample - loss: 0.3983 - accuracy: 0.8305 - binary_crossentropy: 0.3983 - val_loss: 0.3133 - val_accuracy: 0.8870 - val_binary_crossentropy: 0.3133\n",
            "Epoch 4/20\n",
            "25000/25000 [==============================] - 4s 144us/sample - loss: 0.3263 - accuracy: 0.8754 - binary_crossentropy: 0.3263 - val_loss: 0.2823 - val_accuracy: 0.8890 - val_binary_crossentropy: 0.2823\n",
            "Epoch 5/20\n",
            "25000/25000 [==============================] - 4s 144us/sample - loss: 0.2748 - accuracy: 0.8985 - binary_crossentropy: 0.2748 - val_loss: 0.2747 - val_accuracy: 0.8875 - val_binary_crossentropy: 0.2747\n",
            "Epoch 6/20\n",
            "25000/25000 [==============================] - 4s 143us/sample - loss: 0.2338 - accuracy: 0.9139 - binary_crossentropy: 0.2338 - val_loss: 0.2799 - val_accuracy: 0.8872 - val_binary_crossentropy: 0.2799\n",
            "Epoch 7/20\n",
            "25000/25000 [==============================] - 4s 142us/sample - loss: 0.2098 - accuracy: 0.9258 - binary_crossentropy: 0.2098 - val_loss: 0.2927 - val_accuracy: 0.8868 - val_binary_crossentropy: 0.2927\n",
            "Epoch 8/20\n",
            "25000/25000 [==============================] - 4s 144us/sample - loss: 0.1848 - accuracy: 0.9328 - binary_crossentropy: 0.1848 - val_loss: 0.3068 - val_accuracy: 0.8846 - val_binary_crossentropy: 0.3068\n",
            "Epoch 9/20\n",
            "25000/25000 [==============================] - 4s 144us/sample - loss: 0.1692 - accuracy: 0.9385 - binary_crossentropy: 0.1692 - val_loss: 0.3322 - val_accuracy: 0.8832 - val_binary_crossentropy: 0.3322\n",
            "Epoch 10/20\n",
            "25000/25000 [==============================] - 4s 143us/sample - loss: 0.1533 - accuracy: 0.9414 - binary_crossentropy: 0.1533 - val_loss: 0.3398 - val_accuracy: 0.8838 - val_binary_crossentropy: 0.3398\n",
            "Epoch 11/20\n",
            "25000/25000 [==============================] - 4s 144us/sample - loss: 0.1417 - accuracy: 0.9466 - binary_crossentropy: 0.1417 - val_loss: 0.3605 - val_accuracy: 0.8812 - val_binary_crossentropy: 0.3605\n",
            "Epoch 12/20\n",
            "25000/25000 [==============================] - 4s 142us/sample - loss: 0.1288 - accuracy: 0.9507 - binary_crossentropy: 0.1288 - val_loss: 0.3746 - val_accuracy: 0.8803 - val_binary_crossentropy: 0.3746\n",
            "Epoch 13/20\n",
            "25000/25000 [==============================] - 4s 143us/sample - loss: 0.1199 - accuracy: 0.9534 - binary_crossentropy: 0.1199 - val_loss: 0.4058 - val_accuracy: 0.8802 - val_binary_crossentropy: 0.4058\n",
            "Epoch 14/20\n",
            "25000/25000 [==============================] - 5s 205us/sample - loss: 0.1102 - accuracy: 0.9560 - binary_crossentropy: 0.1102 - val_loss: 0.4180 - val_accuracy: 0.8788 - val_binary_crossentropy: 0.4180\n",
            "Epoch 15/20\n",
            "25000/25000 [==============================] - 4s 145us/sample - loss: 0.1035 - accuracy: 0.9581 - binary_crossentropy: 0.1035 - val_loss: 0.4347 - val_accuracy: 0.8794 - val_binary_crossentropy: 0.4347\n",
            "Epoch 16/20\n",
            "25000/25000 [==============================] - 4s 144us/sample - loss: 0.0979 - accuracy: 0.9589 - binary_crossentropy: 0.0979 - val_loss: 0.4669 - val_accuracy: 0.8775 - val_binary_crossentropy: 0.4669\n",
            "Epoch 17/20\n",
            "25000/25000 [==============================] - 4s 144us/sample - loss: 0.0926 - accuracy: 0.9613 - binary_crossentropy: 0.0926 - val_loss: 0.4953 - val_accuracy: 0.8756 - val_binary_crossentropy: 0.4953\n",
            "Epoch 18/20\n",
            "25000/25000 [==============================] - 4s 142us/sample - loss: 0.0895 - accuracy: 0.9603 - binary_crossentropy: 0.0895 - val_loss: 0.5101 - val_accuracy: 0.8764 - val_binary_crossentropy: 0.5101\n",
            "Epoch 19/20\n",
            "25000/25000 [==============================] - 4s 143us/sample - loss: 0.0841 - accuracy: 0.9640 - binary_crossentropy: 0.0841 - val_loss: 0.5254 - val_accuracy: 0.8751 - val_binary_crossentropy: 0.5254\n",
            "Epoch 20/20\n",
            "25000/25000 [==============================] - 4s 141us/sample - loss: 0.0802 - accuracy: 0.9654 - binary_crossentropy: 0.0802 - val_loss: 0.5328 - val_accuracy: 0.8760 - val_binary_crossentropy: 0.5328\n"
          ],
          "name": "stdout"
        }
      ]
    },
    {
      "cell_type": "code",
      "metadata": {
        "id": "sZ9nYw_SyXt7",
        "outputId": "a0e028e5-370a-46ec-e797-e0ed9267e7e8",
        "colab": {
          "base_uri": "https://localhost:8080/",
          "height": 542
        }
      },
      "source": [
        "fig = go.Figure()\n",
        "for name, history in zip(['baseline', 'dropout'], [baseline_history, dropout_history]):\n",
        "    hist = pd.DataFrame(history.history)\n",
        "    hist['epoch'] = history.epoch\n",
        "    fig.add_trace(go.Scatter(x=hist['epoch'], y=hist['binary_crossentropy'], name=name + '_binary_crossentropy', mode='lines+markers'))\n",
        "    fig.add_trace(go.Scatter(x=hist['epoch'], y=hist['val_binary_crossentropy'], name=name + '_val_binary_crossentropy', mode='lines+markers'))\n",
        "    fig.update_layout(xaxis_title='Epoki', yaxis_title='binary_crossentropy')\n",
        "fig.show()"
      ],
      "execution_count": null,
      "outputs": [
        {
          "output_type": "display_data",
          "data": {
            "text/html": [
              "<html>\n",
              "<head><meta charset=\"utf-8\" /></head>\n",
              "<body>\n",
              "    <div>\n",
              "            <script src=\"https://cdnjs.cloudflare.com/ajax/libs/mathjax/2.7.5/MathJax.js?config=TeX-AMS-MML_SVG\"></script><script type=\"text/javascript\">if (window.MathJax) {MathJax.Hub.Config({SVG: {font: \"STIX-Web\"}});}</script>\n",
              "                <script type=\"text/javascript\">window.PlotlyConfig = {MathJaxConfig: 'local'};</script>\n",
              "        <script src=\"https://cdn.plot.ly/plotly-latest.min.js\"></script>    \n",
              "            <div id=\"87a2119c-1633-4453-b14f-f75e51f38fb4\" class=\"plotly-graph-div\" style=\"height:525px; width:100%;\"></div>\n",
              "            <script type=\"text/javascript\">\n",
              "                \n",
              "                    window.PLOTLYENV=window.PLOTLYENV || {};\n",
              "                    \n",
              "                if (document.getElementById(\"87a2119c-1633-4453-b14f-f75e51f38fb4\")) {\n",
              "                    Plotly.newPlot(\n",
              "                        '87a2119c-1633-4453-b14f-f75e51f38fb4',\n",
              "                        [{\"mode\": \"lines+markers\", \"name\": \"baseline_binary_crossentropy\", \"type\": \"scatter\", \"x\": [0, 1, 2, 3, 4, 5, 6, 7, 8, 9, 10, 11, 12, 13, 14, 15, 16, 17, 18, 19], \"y\": [0.5458354949951172, 0.26826393604278564, 0.1822649985551834, 0.1414341777563095, 0.11278166621923447, 0.0911192074418068, 0.07160792499780655, 0.0546804741024971, 0.041487645357847214, 0.030638523399829865, 0.02204114757478237, 0.01638774201273918, 0.012271338142454624, 0.009571004658937454, 0.0075669861398637295, 0.006049825344234705, 0.004959026351571083, 0.004168597981333733, 0.0035497217904776335, 0.003055641194805503]}, {\"mode\": \"lines+markers\", \"name\": \"baseline_val_binary_crossentropy\", \"type\": \"scatter\", \"x\": [0, 1, 2, 3, 4, 5, 6, 7, 8, 9, 10, 11, 12, 13, 14, 15, 16, 17, 18, 19], \"y\": [0.38350436091423035, 0.28784722089767456, 0.2973597049713135, 0.31806132197380066, 0.3485700488090515, 0.3848962187767029, 0.4256404638290405, 0.46835967898368835, 0.5109506845474243, 0.5542826056480408, 0.5933274030685425, 0.6333171725273132, 0.6727849841117859, 0.7060239315032959, 0.7309925556182861, 0.7605109214782715, 0.7825473546981812, 0.807994544506073, 0.8294788002967834, 0.8493474125862122]}, {\"mode\": \"lines+markers\", \"name\": \"dropout_binary_crossentropy\", \"type\": \"scatter\", \"x\": [0, 1, 2, 3, 4, 5, 6, 7, 8, 9, 10, 11, 12, 13, 14, 15, 16, 17, 18, 19], \"y\": [0.6474226713180542, 0.5058692693710327, 0.39829421043395996, 0.3262723684310913, 0.27484768629074097, 0.2337951511144638, 0.20981785655021667, 0.18475422263145447, 0.16921262443065643, 0.1532551497220993, 0.1416701376438141, 0.12879148125648499, 0.11994066089391708, 0.1101873517036438, 0.10347431898117065, 0.0978517159819603, 0.09257112443447113, 0.0895041823387146, 0.08406064659357071, 0.0802173912525177]}, {\"mode\": \"lines+markers\", \"name\": \"dropout_val_binary_crossentropy\", \"type\": \"scatter\", \"x\": [0, 1, 2, 3, 4, 5, 6, 7, 8, 9, 10, 11, 12, 13, 14, 15, 16, 17, 18, 19], \"y\": [0.5359538793563843, 0.3876365125179291, 0.3132653832435608, 0.28228527307510376, 0.27470260858535767, 0.27987515926361084, 0.29267165064811707, 0.3068305552005768, 0.3321928381919861, 0.3398299515247345, 0.3604758083820343, 0.3746115267276764, 0.40576937794685364, 0.4179780185222626, 0.4346765875816345, 0.4669313132762909, 0.4953078627586365, 0.5100575685501099, 0.5253541469573975, 0.5327937602996826]}],\n",
              "                        {\"template\": {\"data\": {\"bar\": [{\"error_x\": {\"color\": \"#2a3f5f\"}, \"error_y\": {\"color\": \"#2a3f5f\"}, \"marker\": {\"line\": {\"color\": \"#E5ECF6\", \"width\": 0.5}}, \"type\": \"bar\"}], \"barpolar\": [{\"marker\": {\"line\": {\"color\": \"#E5ECF6\", \"width\": 0.5}}, \"type\": \"barpolar\"}], \"carpet\": [{\"aaxis\": {\"endlinecolor\": \"#2a3f5f\", \"gridcolor\": \"white\", \"linecolor\": \"white\", \"minorgridcolor\": \"white\", \"startlinecolor\": \"#2a3f5f\"}, \"baxis\": {\"endlinecolor\": \"#2a3f5f\", \"gridcolor\": \"white\", \"linecolor\": \"white\", \"minorgridcolor\": \"white\", \"startlinecolor\": \"#2a3f5f\"}, \"type\": \"carpet\"}], \"choropleth\": [{\"colorbar\": {\"outlinewidth\": 0, \"ticks\": \"\"}, \"type\": \"choropleth\"}], \"contour\": [{\"colorbar\": {\"outlinewidth\": 0, \"ticks\": \"\"}, \"colorscale\": [[0.0, \"#0d0887\"], [0.1111111111111111, \"#46039f\"], [0.2222222222222222, \"#7201a8\"], [0.3333333333333333, \"#9c179e\"], [0.4444444444444444, \"#bd3786\"], [0.5555555555555556, \"#d8576b\"], [0.6666666666666666, \"#ed7953\"], [0.7777777777777778, \"#fb9f3a\"], [0.8888888888888888, \"#fdca26\"], [1.0, \"#f0f921\"]], \"type\": \"contour\"}], \"contourcarpet\": [{\"colorbar\": {\"outlinewidth\": 0, \"ticks\": \"\"}, \"type\": \"contourcarpet\"}], \"heatmap\": [{\"colorbar\": {\"outlinewidth\": 0, \"ticks\": \"\"}, \"colorscale\": [[0.0, \"#0d0887\"], [0.1111111111111111, \"#46039f\"], [0.2222222222222222, \"#7201a8\"], [0.3333333333333333, \"#9c179e\"], [0.4444444444444444, \"#bd3786\"], [0.5555555555555556, \"#d8576b\"], [0.6666666666666666, \"#ed7953\"], [0.7777777777777778, \"#fb9f3a\"], [0.8888888888888888, \"#fdca26\"], [1.0, \"#f0f921\"]], \"type\": \"heatmap\"}], \"heatmapgl\": [{\"colorbar\": {\"outlinewidth\": 0, \"ticks\": \"\"}, \"colorscale\": [[0.0, \"#0d0887\"], [0.1111111111111111, \"#46039f\"], [0.2222222222222222, \"#7201a8\"], [0.3333333333333333, \"#9c179e\"], [0.4444444444444444, \"#bd3786\"], [0.5555555555555556, \"#d8576b\"], [0.6666666666666666, \"#ed7953\"], [0.7777777777777778, \"#fb9f3a\"], [0.8888888888888888, \"#fdca26\"], [1.0, \"#f0f921\"]], \"type\": \"heatmapgl\"}], \"histogram\": [{\"marker\": {\"colorbar\": {\"outlinewidth\": 0, \"ticks\": \"\"}}, \"type\": \"histogram\"}], \"histogram2d\": [{\"colorbar\": {\"outlinewidth\": 0, \"ticks\": \"\"}, \"colorscale\": [[0.0, \"#0d0887\"], [0.1111111111111111, \"#46039f\"], [0.2222222222222222, \"#7201a8\"], [0.3333333333333333, \"#9c179e\"], [0.4444444444444444, \"#bd3786\"], [0.5555555555555556, \"#d8576b\"], [0.6666666666666666, \"#ed7953\"], [0.7777777777777778, \"#fb9f3a\"], [0.8888888888888888, \"#fdca26\"], [1.0, \"#f0f921\"]], \"type\": \"histogram2d\"}], \"histogram2dcontour\": [{\"colorbar\": {\"outlinewidth\": 0, \"ticks\": \"\"}, \"colorscale\": [[0.0, \"#0d0887\"], [0.1111111111111111, \"#46039f\"], [0.2222222222222222, \"#7201a8\"], [0.3333333333333333, \"#9c179e\"], [0.4444444444444444, \"#bd3786\"], [0.5555555555555556, \"#d8576b\"], [0.6666666666666666, \"#ed7953\"], [0.7777777777777778, \"#fb9f3a\"], [0.8888888888888888, \"#fdca26\"], [1.0, \"#f0f921\"]], \"type\": \"histogram2dcontour\"}], \"mesh3d\": [{\"colorbar\": {\"outlinewidth\": 0, \"ticks\": \"\"}, \"type\": \"mesh3d\"}], \"parcoords\": [{\"line\": {\"colorbar\": {\"outlinewidth\": 0, \"ticks\": \"\"}}, \"type\": \"parcoords\"}], \"scatter\": [{\"marker\": {\"colorbar\": {\"outlinewidth\": 0, \"ticks\": \"\"}}, \"type\": \"scatter\"}], \"scatter3d\": [{\"line\": {\"colorbar\": {\"outlinewidth\": 0, \"ticks\": \"\"}}, \"marker\": {\"colorbar\": {\"outlinewidth\": 0, \"ticks\": \"\"}}, \"type\": \"scatter3d\"}], \"scattercarpet\": [{\"marker\": {\"colorbar\": {\"outlinewidth\": 0, \"ticks\": \"\"}}, \"type\": \"scattercarpet\"}], \"scattergeo\": [{\"marker\": {\"colorbar\": {\"outlinewidth\": 0, \"ticks\": \"\"}}, \"type\": \"scattergeo\"}], \"scattergl\": [{\"marker\": {\"colorbar\": {\"outlinewidth\": 0, \"ticks\": \"\"}}, \"type\": \"scattergl\"}], \"scattermapbox\": [{\"marker\": {\"colorbar\": {\"outlinewidth\": 0, \"ticks\": \"\"}}, \"type\": \"scattermapbox\"}], \"scatterpolar\": [{\"marker\": {\"colorbar\": {\"outlinewidth\": 0, \"ticks\": \"\"}}, \"type\": \"scatterpolar\"}], \"scatterpolargl\": [{\"marker\": {\"colorbar\": {\"outlinewidth\": 0, \"ticks\": \"\"}}, \"type\": \"scatterpolargl\"}], \"scatterternary\": [{\"marker\": {\"colorbar\": {\"outlinewidth\": 0, \"ticks\": \"\"}}, \"type\": \"scatterternary\"}], \"surface\": [{\"colorbar\": {\"outlinewidth\": 0, \"ticks\": \"\"}, \"colorscale\": [[0.0, \"#0d0887\"], [0.1111111111111111, \"#46039f\"], [0.2222222222222222, \"#7201a8\"], [0.3333333333333333, \"#9c179e\"], [0.4444444444444444, \"#bd3786\"], [0.5555555555555556, \"#d8576b\"], [0.6666666666666666, \"#ed7953\"], [0.7777777777777778, \"#fb9f3a\"], [0.8888888888888888, \"#fdca26\"], [1.0, \"#f0f921\"]], \"type\": \"surface\"}], \"table\": [{\"cells\": {\"fill\": {\"color\": \"#EBF0F8\"}, \"line\": {\"color\": \"white\"}}, \"header\": {\"fill\": {\"color\": \"#C8D4E3\"}, \"line\": {\"color\": \"white\"}}, \"type\": \"table\"}]}, \"layout\": {\"annotationdefaults\": {\"arrowcolor\": \"#2a3f5f\", \"arrowhead\": 0, \"arrowwidth\": 1}, \"colorscale\": {\"diverging\": [[0, \"#8e0152\"], [0.1, \"#c51b7d\"], [0.2, \"#de77ae\"], [0.3, \"#f1b6da\"], [0.4, \"#fde0ef\"], [0.5, \"#f7f7f7\"], [0.6, \"#e6f5d0\"], [0.7, \"#b8e186\"], [0.8, \"#7fbc41\"], [0.9, \"#4d9221\"], [1, \"#276419\"]], \"sequential\": [[0.0, \"#0d0887\"], [0.1111111111111111, \"#46039f\"], [0.2222222222222222, \"#7201a8\"], [0.3333333333333333, \"#9c179e\"], [0.4444444444444444, \"#bd3786\"], [0.5555555555555556, \"#d8576b\"], [0.6666666666666666, \"#ed7953\"], [0.7777777777777778, \"#fb9f3a\"], [0.8888888888888888, \"#fdca26\"], [1.0, \"#f0f921\"]], \"sequentialminus\": [[0.0, \"#0d0887\"], [0.1111111111111111, \"#46039f\"], [0.2222222222222222, \"#7201a8\"], [0.3333333333333333, \"#9c179e\"], [0.4444444444444444, \"#bd3786\"], [0.5555555555555556, \"#d8576b\"], [0.6666666666666666, \"#ed7953\"], [0.7777777777777778, \"#fb9f3a\"], [0.8888888888888888, \"#fdca26\"], [1.0, \"#f0f921\"]]}, \"colorway\": [\"#636efa\", \"#EF553B\", \"#00cc96\", \"#ab63fa\", \"#FFA15A\", \"#19d3f3\", \"#FF6692\", \"#B6E880\", \"#FF97FF\", \"#FECB52\"], \"font\": {\"color\": \"#2a3f5f\"}, \"geo\": {\"bgcolor\": \"white\", \"lakecolor\": \"white\", \"landcolor\": \"#E5ECF6\", \"showlakes\": true, \"showland\": true, \"subunitcolor\": \"white\"}, \"hoverlabel\": {\"align\": \"left\"}, \"hovermode\": \"closest\", \"mapbox\": {\"style\": \"light\"}, \"paper_bgcolor\": \"white\", \"plot_bgcolor\": \"#E5ECF6\", \"polar\": {\"angularaxis\": {\"gridcolor\": \"white\", \"linecolor\": \"white\", \"ticks\": \"\"}, \"bgcolor\": \"#E5ECF6\", \"radialaxis\": {\"gridcolor\": \"white\", \"linecolor\": \"white\", \"ticks\": \"\"}}, \"scene\": {\"xaxis\": {\"backgroundcolor\": \"#E5ECF6\", \"gridcolor\": \"white\", \"gridwidth\": 2, \"linecolor\": \"white\", \"showbackground\": true, \"ticks\": \"\", \"zerolinecolor\": \"white\"}, \"yaxis\": {\"backgroundcolor\": \"#E5ECF6\", \"gridcolor\": \"white\", \"gridwidth\": 2, \"linecolor\": \"white\", \"showbackground\": true, \"ticks\": \"\", \"zerolinecolor\": \"white\"}, \"zaxis\": {\"backgroundcolor\": \"#E5ECF6\", \"gridcolor\": \"white\", \"gridwidth\": 2, \"linecolor\": \"white\", \"showbackground\": true, \"ticks\": \"\", \"zerolinecolor\": \"white\"}}, \"shapedefaults\": {\"line\": {\"color\": \"#2a3f5f\"}}, \"ternary\": {\"aaxis\": {\"gridcolor\": \"white\", \"linecolor\": \"white\", \"ticks\": \"\"}, \"baxis\": {\"gridcolor\": \"white\", \"linecolor\": \"white\", \"ticks\": \"\"}, \"bgcolor\": \"#E5ECF6\", \"caxis\": {\"gridcolor\": \"white\", \"linecolor\": \"white\", \"ticks\": \"\"}}, \"title\": {\"x\": 0.05}, \"xaxis\": {\"automargin\": true, \"gridcolor\": \"white\", \"linecolor\": \"white\", \"ticks\": \"\", \"zerolinecolor\": \"white\", \"zerolinewidth\": 2}, \"yaxis\": {\"automargin\": true, \"gridcolor\": \"white\", \"linecolor\": \"white\", \"ticks\": \"\", \"zerolinecolor\": \"white\", \"zerolinewidth\": 2}}}, \"xaxis\": {\"title\": {\"text\": \"Epoki\"}}, \"yaxis\": {\"title\": {\"text\": \"binary_crossentropy\"}}},\n",
              "                        {\"responsive\": true}\n",
              "                    ).then(function(){\n",
              "                            \n",
              "var gd = document.getElementById('87a2119c-1633-4453-b14f-f75e51f38fb4');\n",
              "var x = new MutationObserver(function (mutations, observer) {{\n",
              "        var display = window.getComputedStyle(gd).display;\n",
              "        if (!display || display === 'none') {{\n",
              "            console.log([gd, 'removed!']);\n",
              "            Plotly.purge(gd);\n",
              "            observer.disconnect();\n",
              "        }}\n",
              "}});\n",
              "\n",
              "// Listen for the removal of the full notebook cells\n",
              "var notebookContainer = gd.closest('#notebook-container');\n",
              "if (notebookContainer) {{\n",
              "    x.observe(notebookContainer, {childList: true});\n",
              "}}\n",
              "\n",
              "// Listen for the clearing of the current output cell\n",
              "var outputEl = gd.closest('.output');\n",
              "if (outputEl) {{\n",
              "    x.observe(outputEl, {childList: true});\n",
              "}}\n",
              "\n",
              "                        })\n",
              "                };\n",
              "                \n",
              "            </script>\n",
              "        </div>\n",
              "</body>\n",
              "</html>"
            ]
          },
          "metadata": {
            "tags": []
          }
        }
      ]
    },
    {
      "cell_type": "code",
      "metadata": {
        "id": "yu_trUxhyrK-"
      },
      "source": [],
      "execution_count": null,
      "outputs": []
    }
  ]
}